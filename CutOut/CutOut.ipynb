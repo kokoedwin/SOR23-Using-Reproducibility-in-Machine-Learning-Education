{
 "cells": [
  {
   "cell_type": "markdown",
   "metadata": {},
   "source": [
    "# Cutout data augmentation\n",
    "\n",
    "In this notebook, we will reproduce the results of the paper\n",
    "\n",
    "> DeVries, T. and Taylor, G.W., 2017. Improved regularization of convolutional neural networks with Cutout. arXiv preprint [arXiv:1708.04552](https://arxiv.org/abs/1708.04552).\n",
    "\n",
    "We will use the author’s implementation of their technique, from <https://github.com/uoguelph-mlrg/Cutout>, which is licensed under an Educational Community License version 2.0."
   ],
   "id": "fc638fed-a999-444f-956a-56259ca448c5"
  },
  {
   "cell_type": "markdown",
   "metadata": {},
   "source": [
    "## 1. Learning outcomes\n",
    "\n",
    "After working through this notebook, you should be able to:\n",
    "\n",
    "-   Describe how Cutout works as a regularization technique,\n",
    "-   Enumerate specific claims (both quantitative claims, qualitative claims, and claims about the underlying mechanism behind a result) from the Cutout paper,\n",
    "-   Execute experiments (following the given procedure) to try and validate each claim about Cutout data augmentation,\n",
    "-   Evaluate whether your own result matches quantitative claims in the Cutout paper (i.e. whether it is within the confidence intervals for each reported numeric result),\n",
    "-   Evaluate whether your own result validates qualitative claims in the Cutout paper,\n",
    "-   Evaluate whether your own results support the author’s claim about the underlying mechanism behind the result."
   ],
   "id": "7723ac28-e8b4-43a5-a2cf-26f6873672fc"
  },
  {
   "cell_type": "markdown",
   "metadata": {},
   "source": [
    "Note: for faster training, use Runtime \\> Change Runtime Type to run this notebook on a GPU."
   ],
   "id": "d753d154-c84f-485f-a79b-32a40e9d534d"
  },
  {
   "cell_type": "code",
   "execution_count": null,
   "metadata": {},
   "outputs": [],
   "source": [
    "import torch\n",
    "import torchvision\n",
    "import torchvision.transforms as transforms\n",
    "import torch.nn as nn\n",
    "import torch.nn.functional as F\n",
    "from torch.autograd import Variable\n",
    "import torch.backends.cudnn as cudnn\n",
    "from torch.optim.lr_scheduler import MultiStepLR\n",
    "from torchvision.utils import make_grid\n",
    "from torchvision import datasets, transforms\n",
    "\n",
    "\n",
    "import math\n",
    "import numpy as np\n",
    "import csv\n",
    "from PIL import Image\n",
    "import matplotlib.pyplot as plt\n",
    "import pdb\n",
    "import argparse\n",
    "from tqdm import tqdm\n",
    "import os"
   ],
   "id": "3cf35ac0-b804-45f9-8803-c8eecc1695de"
  },
  {
   "cell_type": "code",
   "execution_count": null,
   "metadata": {},
   "outputs": [],
   "source": [
    "# note: This notebook has been developed and tested for pytorch \n",
    "print(torch. __version__)"
   ],
   "id": "58039f5c-49ac-4ad8-bfb7-3b26528903c3"
  },
  {
   "cell_type": "markdown",
   "metadata": {},
   "source": [
    "## 2. Cutout as a regularization technique\n",
    "\n",
    "This Jupyter notebook is designed to illustrate the implementation and usage of the Cutout data augmentation technique in deep learning, specifically in the context of Convolutional Neural Networks (CNNs)."
   ],
   "id": "4dab7981-6879-4bfc-abf8-b07d8fe2a420"
  },
  {
   "cell_type": "markdown",
   "metadata": {},
   "source": [
    "Cutout is a regularization and data augmentation technique for convolutional neural networks (CNNs). It involves randomly masking out square regions of input during training. This helps to improve the robustness and overall performance of CNNs by encouraging the network to better utilize the full context of the image, rather than relying on the presence of a small set of specific visual features.\n",
    "\n",
    "Cutout is computationally efficient as it can be applied during data loading in parallel with the main training task. It can be used in conjunction with existing forms of data augmentation and other regularizers to further improve model performance.\n",
    "\n",
    "The technique has been evaluated with state-of-the-art architectures on popular image recognition datasets such as CIFAR-10, CIFAR-100, and SVHN, often achieving state-of-the-art or near state-of-the-art results."
   ],
   "id": "3ecef522-922b-48aa-8b12-ca5d9b0e9bcc"
  },
  {
   "cell_type": "markdown",
   "metadata": {},
   "source": [
    "In the following cells, we will see how Cutout works when applied to a sample image.\n",
    "\n",
    "<!-- To do: explain the code with reference to section 3.2. Implementation Details -->\n",
    "\n",
    "In the code provided above, we see a Python class named Cutout defined. This class is designed to apply the Cutout data augmentation technique to an image. Below is an explanation of the class and its methods:\n",
    "\n",
    "-   The Cutout class is initialized with two parameters:\n",
    "\n",
    "    -   `n_holes`: the number of patches to cut out of each image.\n",
    "    -   `length`: the length (in pixels) of each square patch.\n",
    "\n",
    "-   The `__call__` method implements the Cutout technique. This method takes as input a tensor `img` representing an image, and returns the same image with `n_holes` number of patches of dimension `length` x `length` cut out of it.\n",
    "\n",
    "Here’s a step-by-step explanation of what’s happening inside the `__call__` method:\n",
    "\n",
    "1.  The method first retrieves the height h and width w of the input image.\n",
    "\n",
    "2.  A mask is then initialized as a 2D numpy array of ones with the same dimensions as the input image.\n",
    "\n",
    "3.  The method then enters a loop which runs for n_holes iterations. In each iteration:\n",
    "\n",
    "    -   A pair of coordinates y and x are randomly selected within the height and width of the image.\n",
    "\n",
    "    -   The method then calculates the coordinates of a square patch around the (y, x) coordinate. The patch has a length of length pixels, and the method ensures that the patch doesn’t fall outside the image by using the np.clip function.\n",
    "\n",
    "    -   The corresponding area in the mask is set to zero.\n",
    "\n",
    "4.  The mask is then converted to a PyTorch tensor and expanded to the same number of channels as the input image.\n",
    "\n",
    "5.  Finally, the method applies the mask to the input image, effectively setting the pixels in the masked regions to zero, and returns the result.\n",
    "\n",
    "Remember to import necessary libraries like numpy (np) and PyTorch (torch) before running this class definition. The class Cutout can then be used as part of your data augmentation pipeline when training your models.\n",
    "\n",
    "The Cutout code we are using comes from this specific file in the original GitHub repository: \\[https://github.com/uoguelph-mlrg/Cutout/blob/master/util/cutout.py\\]."
   ],
   "id": "712a0897-d124-4c01-9d6b-e8ae69ff39bc"
  },
  {
   "cell_type": "code",
   "execution_count": null,
   "metadata": {},
   "outputs": [],
   "source": [
    "# to do: link to the file in the original repo that this comes from\n",
    "# Source Code from https://github.com/uoguelph-mlrg/Cutout/blob/master/util/cutout.py\n",
    "class Cutout(object):\n",
    "    \"\"\"Randomly mask out one or more patches from an image.\n",
    "\n",
    "    Args:\n",
    "        n_holes (int): Number of patches to cut out of each image.\n",
    "        length (int): The length (in pixels) of each square patch.\n",
    "    \"\"\"\n",
    "    def __init__(self, n_holes, length):\n",
    "        self.n_holes = n_holes\n",
    "        self.length = length\n",
    "\n",
    "    def __call__(self, img):\n",
    "        \"\"\"\n",
    "        Args:\n",
    "            img (Tensor): Tensor image of size (C, H, W).\n",
    "        Returns:\n",
    "            Tensor: Image with n_holes of dimension length x length cut out of it.\n",
    "        \"\"\"\n",
    "        h = img.size(1)\n",
    "        w = img.size(2)\n",
    "\n",
    "        mask = np.ones((h, w), np.float32)\n",
    "\n",
    "        for n in range(self.n_holes):\n",
    "            y = np.random.randint(h)\n",
    "            x = np.random.randint(w)\n",
    "\n",
    "            y1 = np.clip(y - self.length // 2, 0, h)\n",
    "            y2 = np.clip(y + self.length // 2, 0, h)\n",
    "            x1 = np.clip(x - self.length // 2, 0, w)\n",
    "            x2 = np.clip(x + self.length // 2, 0, w)\n",
    "\n",
    "            mask[y1: y2, x1: x2] = 0.\n",
    "\n",
    "        mask = torch.from_numpy(mask)\n",
    "        mask = mask.expand_as(img)\n",
    "        img = img * mask\n",
    "\n",
    "        return img"
   ],
   "id": "f61c39e8-3609-4f34-9617-19ab1a0652c9"
  },
  {
   "cell_type": "markdown",
   "metadata": {},
   "source": [
    "To see how it works, in the following cell, you will upload an image of your choice to this workspace. To prevent any distortion due to resizing, it is advised to use an image that is approximately square in shape, as we will be resizing the image to a square format (100x100 pixels) later on:\n",
    "\n",
    "<!-- to do - add instructions for uploading image on Colab, or on Chameleon -->\n",
    "\n",
    "To see how Cutout works, let’s upload an image and apply Cutout to it. Follow these steps to upload an image in this Google Colab notebook:\n",
    "\n",
    "1.  Click on the folder icon in the left sidebar to open the ‘Files’ tab.\n",
    "2.  Click the ‘Upload to session storage’ button (the icon looks like a file with an up arrow).\n",
    "3.  Select the image file from your local machine that you want to upload.\n",
    "4.  Wait for the upload to finish. The uploaded file should now appear in the ‘Files’ tab. After the image is uploaded, we can use Python code to load it into our notebook and apply the Cutout augmentation\n",
    "\n",
    "If you are using Chameleon, here are the steps: <!-- to do - add instructions for uploading image on Chameleon -->\n",
    "\n",
    "1.  Click on the upload icon in the left sidebar.\n",
    "2.  Select the image file from your local machine that you want to upload.\n",
    "3.  Wait for the upload to finish. The uploaded file should now appear in the ‘Files’ tab. After the image is uploaded, we can use Python code to load it into our notebook and apply the Cutout augmentation to the image."
   ],
   "id": "6823bf6b-02c5-4225-99a8-285acf9d30a5"
  },
  {
   "cell_type": "code",
   "execution_count": null,
   "metadata": {},
   "outputs": [],
   "source": [
    "# TODO: Replace 'sample.png' with the filename of your own image. \n",
    "# If your image is inside a directory, include the directory's name in the path.\n",
    "img = Image.open('./sample.png')\n",
    "\n",
    "# Resize the image to 100x100\n",
    "img = img.resize((100, 100))"
   ],
   "id": "7751b4a6-5a2c-4fef-8bc1-0c29c3d80a41"
  },
  {
   "cell_type": "markdown",
   "metadata": {},
   "source": [
    "Then, the following cell will display your image directly, without any data augmentation:"
   ],
   "id": "61aba7a8-8fbb-436a-9534-a5c689a942f9"
  },
  {
   "cell_type": "code",
   "execution_count": null,
   "metadata": {},
   "outputs": [],
   "source": [
    "# Convert the image to a PyTorch tensor\n",
    "img_tensor = transforms.ToTensor()(img)\n",
    "\n",
    "# Display the original image\n",
    "plt.figure(figsize=(6,6))\n",
    "plt.imshow(img_tensor.permute(1, 2, 0))\n",
    "plt.show()"
   ],
   "id": "cd53cd8f-4b54-4d42-beec-d411ce9b26e9"
  },
  {
   "cell_type": "markdown",
   "metadata": {},
   "source": [
    "and the next cell will display your image with Cutout applied:"
   ],
   "id": "0bac5767-35b9-4c8b-bb29-1862387ebc46"
  },
  {
   "cell_type": "code",
   "execution_count": null,
   "metadata": {},
   "outputs": [],
   "source": [
    "# Create a Cutout object\n",
    "cutout_obj = Cutout(n_holes=1, length=50)\n",
    "\n",
    "# Apply Cutout to the image\n",
    "img_tensor_Cutout = cutout_obj(img_tensor)\n",
    "\n",
    "# Convert the tensor back to an image for visualization\n",
    "img_Cutout = transforms.ToPILImage()(img_tensor_Cutout)\n",
    "\n",
    "# Display the image with Cutout applied\n",
    "plt.figure(figsize=(6,6))\n",
    "plt.imshow(img_tensor_Cutout.permute(1, 2, 0))\n",
    "plt.show()"
   ],
   "id": "f36180d9-230d-42f9-8ab6-501681ceb1c4"
  },
  {
   "cell_type": "markdown",
   "metadata": {},
   "source": [
    "Things to try:\n",
    "\n",
    "-   You can re-run the cell above several times to see how the occlusion is randomly placed in a different position each time.\n",
    "-   You can try changing the `length` parameter in the cell above, and re-running, to see how the size of the occlusion can change.\n",
    "-   You can try changing the `n_holes` parameter in the cell above, and re-running, to see how the number of occlusions can change."
   ],
   "id": "e4b392b3-030b-4891-807a-0a391d125d9e"
  },
  {
   "cell_type": "code",
   "execution_count": null,
   "metadata": {},
   "outputs": [],
   "source": [
    " #TODO: Set the number of patches (\"holes\") to cut out of the image.\n",
    "n_holes = \n",
    "\n",
    "#TODO: Set the size (length of a side) of each patch.\n",
    "length = \n",
    "\n",
    "\n",
    "# Create a Cutout object\n",
    "Cutout = Cutout(n_holes, length)\n",
    "\n",
    "# Apply Cutout to the image\n",
    "img_tensor_Cutout = Cutout(img_tensor)\n",
    "\n",
    "# Convert the tensor back to an image for visualization\n",
    "img_Cutout = transforms.ToPILImage()(img_tensor_Cutout)\n",
    "\n",
    "# Display the image with Cutout applied\n",
    "plt.figure(figsize=(6,6))\n",
    "plt.imshow(img_tensor_Cutout.permute(1, 2, 0))\n",
    "plt.show()"
   ],
   "id": "8730ca4e-263c-48a2-b088-22b8ef104205"
  },
  {
   "cell_type": "markdown",
   "metadata": {},
   "source": [
    "Cutout was introduced as an alternative to two closely related techniques:\n",
    "\n",
    "-   Data Augmentation for Images: Data augmentation is a strategy used to increase the diversity of the data available for training models, without actually collecting new data. For image data, this could include operations like rotation, scaling, cropping, flipping, and adding noise. The goal is to make the model more robust by allowing it to see more variations of the data.\n",
    "\n",
    "-   Dropout in Convolutional Neural Networks: Dropout is a regularization technique for reducing overfitting in neural networks. During training, some number of layer outputs are randomly ignored or “dropped out”. This has the effect of making the layer look-like and be treated-like a layer with a different number of nodes and connectivity to the prior layer. In effect, dropout simulates ensembling a large number of neural networks with different architectures, which makes the model more robust.\n",
    "\n",
    "<!-- to do - expand on these -->"
   ],
   "id": "5602ae22-da48-4d67-92b1-008bc92b838b"
  },
  {
   "cell_type": "markdown",
   "metadata": {},
   "source": [
    "In the following code snippet, we demonstrate some “standard” data augmentation techniques commonly used in image preprocessing. These techniques include random horizontal flipping, random cropping, and color jittering (random variation in brightness, contrast, saturation, and hue). The augmented image is then displayed alongside the original image for comparison."
   ],
   "id": "c9d2f986-d329-42c5-b7a3-c13709a34d13"
  },
  {
   "cell_type": "code",
   "execution_count": null,
   "metadata": {},
   "outputs": [],
   "source": [
    "# to do - show the same image with \"standard\" data augmentation techniques\n",
    "# discussed in the related work section of the paper\n",
    "\n",
    "# Import necessary libraries\n",
    "from torchvision.transforms import RandomHorizontalFlip, RandomCrop, ColorJitter\n",
    "\n",
    "# Define standard data augmentation techniques\n",
    "transforms_data_augmentation = transforms.Compose([\n",
    "    RandomHorizontalFlip(),\n",
    "    RandomCrop(size=(100, 100), padding=4),  # assuming input image is size 100x100\n",
    "    ColorJitter(brightness=0.2, contrast=0.2, saturation=0.2, hue=0.1),\n",
    "])\n",
    "\n",
    "# Apply transformations to the image\n",
    "augmented_img = transforms_data_augmentation(img)\n",
    "\n",
    "# Display the original and augmented image\n",
    "fig, ax = plt.subplots(1, 2, figsize=(10, 5))\n",
    "ax[0].imshow(img)\n",
    "ax[0].set_title('Original Image')\n",
    "ax[1].imshow(augmented_img)\n",
    "ax[1].set_title('Augmented Image')\n",
    "plt.show()\n"
   ],
   "id": "50a8a3bc-235e-49f6-8439-63d93ad78c7c"
  },
  {
   "cell_type": "markdown",
   "metadata": {},
   "source": [
    "## 3. Identifying claims from the Cutout paper\n",
    "\n",
    "To reproduce the results from the original Cutout paper, we will first need to identify the specific, falsifiable claims in that paper, by reading it very carefully. Then, we will design experiments to validate each claim.\n",
    "\n",
    "These claims may be quantitative (i.e. describe a specific numeric result), qualitative (i.e. describe a general characteristic of the result), or they may relate to the mechanism behind a result (i.e. describe *why* a particular result occurs).\n",
    "\n",
    "<!-- to do - go through the paper, quote little snippets and explain each claim and organize them -->\n",
    "\n",
    "### 3.1 Claims\n",
    "\n",
    "1.  Cutout can be used in conjunction with existing forms of data augmentation and other regularizers to further improve model performance.\n",
    "2.  This technique improves the robustness and overall performance of convolutional neural networks.\n",
    "3.  Cutout aimed to remove maximally activated features in order to encourage the network to consider less prominent features\n",
    "\n",
    "### 3.2 Quantitative Claims\n",
    "\n",
    "#### 3.2.1 ResNet18\n",
    "\n",
    "Test error (%, flip/translation augmentation, mean/std normalization, mean of 5 runs) and “+” indicates standard data augmentation (mirror + crop)\n",
    "\n",
    "| **Network**       | **CIFAR-10** | **CIFAR-10+** | **CIFAR-100** | **CIFAR-100+** |\n",
    "|-------------|--------------|----------------|--------------|----------------|\n",
    "| ResNet18          | 10.63        | 4.72          | 36.68         | 22.46          |\n",
    "| ResNet18 + cutout | 9.31         | 3.99          | 34.98         | 21.96          |\n",
    "\n",
    "The provided table displays the results of experiments conducted on the CIFAR-10 and CIFAR-100 datasets using the ResNet18 architecture, revealing the impact of standard and cutout data augmentation techniques. The “CIFAR-10+” and “CIFAR-100+” labels indicate the use of standard data augmentation, which involves mirror and crop techniques.\n",
    "\n",
    "With the use of standard data augmentation on CIFAR-10, the ResNet18 model’s test error is significantly reduced from 14.04% to 5.72%. Further enhancement is achieved when cutout augmentation is applied, bringing down the error to 4.86%. A similar pattern is observed in the case of the CIFAR-100 dataset, where standard augmentation reduces the ResNet18 model’s test error from 40.13% to 24.36%. Upon applying cutout augmentation, a slight further reduction in error to 23.9% is noted.\n",
    "\n",
    "These findings emphasize the efficacy of both standard and cutout data augmentation techniques in enhancing the model’s performance, evidenced by the reduction in test error rates on both CIFAR-10 and CIFAR-100 datasets. The results also highlight that the impact of data augmentation can vary based on the complexity of the dataset, illustrated by the differing rates of error reduction between CIFAR-10 and CIFAR-100.\n",
    "\n",
    "#### 3.2.2 WideResNet\n",
    "\n",
    "WideResNet model implementation from https://github.com/xternalz/WideResNet-pytorch\n",
    "\n",
    "Test error (%, flip/translation augmentation, mean/std normalization, mean of 5 runs) and “+” indicates standard data augmentation (mirror + crop)\n",
    "\n",
    "| **Network**         | **CIFAR-10** | **CIFAR-10+** | **CIFAR-100** | **CIFAR-100+** | **SVHN** |\n",
    "|------------|-------------|--------------|-------------|--------------|---------|\n",
    "| WideResNet          | 6.97         | 3.87          | 26.06         | 18.8           | 1.60     |\n",
    "| WideResNet + cutout | 5.54         | 3.08          | 23.94         | 18.41          | **1.30** |\n",
    "\n",
    "In this table, the effectiveness of standard and cutout data augmentation techniques is evaluated using the WideResNet architecture on the CIFAR-10, CIFAR-100, and SVHN datasets. The “+”, as before, indicates the use of standard data augmentation (mirror and crop).\n",
    "\n",
    "For CIFAR-10, utilizing the WideResNet model with standard augmentation significantly reduces the test error from 6.97% to 3.87%. When cutout augmentation is added, the error drops even further to 3.08%.\n",
    "\n",
    "A comparable trend is seen with the CIFAR-100 dataset. Standard augmentation reduces the WideResNet model’s test error from 26.06% to 18.8%. With the application of cutout augmentation, the error rate decreases slightly more to 18.41%.\n",
    "\n",
    "Lastly, the SVHN dataset shows the smallest error rates. With standard augmentation, the error is 1.60% which further reduces to 1.30% with the addition of cutout augmentation.\n",
    "\n",
    "These results demonstrate the robust effectiveness of both standard and cutout augmentation techniques in lowering test error rates across all tested datasets when used with the WideResNet model. As with the previous findings, the effect of augmentation appears to be influenced by the complexity of the dataset.\n",
    "\n",
    "#### 3.3.3 Shake-shake Regularization Network\n",
    "\n",
    "Shake-shake regularization model implementation from https://github.com/xgastaldi/shake-shake\n",
    "\n",
    "Test error (%, flip/translation augmentation, mean/std normalization, mean of 3 runs) and “+” indicates standard data augmentation (mirror + crop)\n",
    "\n",
    "| **Network**          | **CIFAR-10+** | **CIFAR-100+** |\n",
    "|----------------------|---------------|----------------|\n",
    "| Shake-shake          | 2.86          | 15.58          |\n",
    "| Shake-shake + cutout | 2.56          | 15.20          |\n",
    "\n",
    "In the given table, the test errors of the Shake-shake regularization model implemented from a GitHub source on CIFAR-10+ and CIFAR-100+ datasets are presented. The “+” indicates the use of standard data augmentation techniques like mirror and crop.\n",
    "\n",
    "On the CIFAR-10+ dataset, the use of the Shake-shake regularization model results in a test error of 2.86%. With the application of the cutout augmentation, this error decreases slightly to 2.56%. A similar pattern is noticed with the CIFAR-100+ dataset, where the Shake-shake model results in a test error of 15.58% which gets reduced to 15.20% when cutout augmentation is applied.\n",
    "\n",
    "These results again underline the effectiveness of cutout augmentation in improving model performance, as indicated by the reduced test error rates. The Shake-shake model with both standard and cutout augmentation techniques performs exceptionally well, particularly on the CIFAR-10+ dataset."
   ],
   "id": "564654ea-a8ee-43ab-b86e-3f4b012e4556"
  },
  {
   "cell_type": "markdown",
   "metadata": {},
   "source": [
    "## 4. Execute experiments to validate quantitative and qualitative claims"
   ],
   "id": "c29dfa68-0e7b-42df-bc30-c183db447d27"
  },
  {
   "cell_type": "markdown",
   "metadata": {},
   "source": [
    "### 4.1 Implement Cutout on CIFAR10 Dataset"
   ],
   "id": "2cf35aaa-27a1-477f-8fc7-868eedb7f0f0"
  },
  {
   "cell_type": "markdown",
   "metadata": {},
   "source": [
    "This code block is used for creating a directory named ‘checkpoints’. This directory will be used to store the weights of our models, which are crucial for both preserving our progress during model training and for future use of the trained models.\n",
    "\n",
    "There are two versions of the directory path - one is for those who are running this code in a Jupyter Notebook environment, and the other (currently commented out) is for those who are using the Chameleon cloud computing platform.\n",
    "\n",
    "Creating such a directory and regularly saving model weights is a good practice in machine learning, as it ensures that you can resume your work from where you left off, should the training process be interrupted."
   ],
   "id": "7beaf46f-07df-4471-94b2-681e560d46fa"
  },
  {
   "cell_type": "code",
   "execution_count": null,
   "metadata": {},
   "outputs": [],
   "source": [
    "# Create file names 'checkpoints' to save the weight of the models\n",
    "if not os.path.exists('./checkpoints'):\n",
    "    os.makedirs('./checkpoints')"
   ],
   "id": "495932e5-0fe3-4874-8bf2-e239fc31ecb8"
  },
  {
   "cell_type": "code",
   "execution_count": null,
   "metadata": {},
   "outputs": [],
   "source": [
    "# Define your transformations\n",
    "transforms_image = transforms.Compose([\n",
    "    transforms.ToTensor(),\n",
    "    transforms.Normalize((0.5, 0.5, 0.5), (0.5, 0.5, 0.5))\n",
    "])\n",
    "\n",
    "# Function to show an image\n",
    "def imshow(img):\n",
    "    img = img / 2 + 0.5  # unnormalize\n",
    "    npimg = img.numpy()\n",
    "    plt.imshow(np.transpose(npimg, (1, 2, 0)))\n",
    "    plt.show()"
   ],
   "id": "faa1a7c9-2799-4347-9d15-33c85d72cf15"
  },
  {
   "cell_type": "markdown",
   "metadata": {},
   "source": [
    "Here, we’re loading the CIFAR-10 dataset and setting up data loaders. Afterward, we’ll display some images from the dataset both in their original form and with Cutout augmentation applied, so you can see the effect of this technique firsthand."
   ],
   "id": "2253f650-263d-4c0e-b32a-d2bc37057548"
  },
  {
   "cell_type": "code",
   "execution_count": null,
   "metadata": {},
   "outputs": [],
   "source": [
    "# Load the CIFAR-10 dataset with transformations applied\n",
    "trainset = torchvision.datasets.CIFAR10(root='./data', train=True, download=True, transform=transform)\n",
    "trainloader = torch.utils.data.DataLoader(trainset, batch_size=4, shuffle=True, num_workers=2)\n",
    "\n",
    "testset = torchvision.datasets.CIFAR10(root='./data', train=False, download=True, transform=transform)\n",
    "testloader = torch.utils.data.DataLoader(testset, batch_size=4, shuffle=False, num_workers=2)"
   ],
   "id": "d4c1e9b2-2865-4698-8ba1-a3c28b03056b"
  },
  {
   "cell_type": "code",
   "execution_count": null,
   "metadata": {},
   "outputs": [],
   "source": [
    "# Get some random training images\n",
    "dataiter = iter(trainloader)\n",
    "images, labels = next(dataiter)\n",
    "\n",
    "# Show images before Cutout\n",
    "imshow(torchvision.utils.make_grid(images))"
   ],
   "id": "3b27bcea-1bf1-49a9-90b5-beb9e242a9ef"
  },
  {
   "cell_type": "code",
   "execution_count": null,
   "metadata": {},
   "outputs": [],
   "source": [
    "# Apply Cutout and show images after\n",
    "Cutout_images = torch.stack([Cutout(n_holes=1, length=16)(img) for img in images])\n",
    "imshow(torchvision.utils.make_grid(Cutout_images))"
   ],
   "id": "584b8ae1-c091-4551-bb17-efe6db569a1c"
  },
  {
   "cell_type": "markdown",
   "metadata": {},
   "source": [
    "### 4.2 Methods and Implementation"
   ],
   "id": "dd2346ae-7a50-4524-af6b-0614435055c9"
  },
  {
   "cell_type": "markdown",
   "metadata": {},
   "source": [
    "### 4.2.1 ResNet Code"
   ],
   "id": "cb4eb436-13b6-4ac8-9c13-8ab3e15e1e1b"
  },
  {
   "cell_type": "code",
   "execution_count": null,
   "metadata": {},
   "outputs": [],
   "source": [
    "# ResNet\n",
    "# From https://github.com/uoguelph-mlrg/Cutout/blob/master/model/resnet.py\n",
    "\n",
    "'''ResNet18/34/50/101/152 in Pytorch.'''\n",
    "import torch\n",
    "import torch.nn as nn\n",
    "import torch.nn.functional as F\n",
    "\n",
    "from torch.autograd import Variable\n",
    "\n",
    "def conv3x3(in_planes, out_planes, stride=1):\n",
    "    return nn.Conv2d(in_planes, out_planes, kernel_size=3, stride=stride, padding=1, bias=False)\n",
    "\n",
    "\n",
    "class BasicBlock(nn.Module):\n",
    "    expansion = 1\n",
    "\n",
    "    def __init__(self, in_planes, planes, stride=1):\n",
    "        super(BasicBlock, self).__init__()\n",
    "        self.conv1 = conv3x3(in_planes, planes, stride)\n",
    "        self.bn1 = nn.BatchNorm2d(planes)\n",
    "        self.conv2 = conv3x3(planes, planes)\n",
    "        self.bn2 = nn.BatchNorm2d(planes)\n",
    "\n",
    "        self.shortcut = nn.Sequential()\n",
    "        if stride != 1 or in_planes != self.expansion*planes:\n",
    "            self.shortcut = nn.Sequential(\n",
    "                nn.Conv2d(in_planes, self.expansion*planes, kernel_size=1, stride=stride, bias=False),\n",
    "                nn.BatchNorm2d(self.expansion*planes)\n",
    "            )\n",
    "\n",
    "    def forward(self, x):\n",
    "        out = F.relu(self.bn1(self.conv1(x)))\n",
    "        out = self.bn2(self.conv2(out))\n",
    "        out += self.shortcut(x)\n",
    "        out = F.relu(out)\n",
    "        return out\n",
    "\n",
    "\n",
    "class Bottleneck(nn.Module):\n",
    "    expansion = 4\n",
    "\n",
    "    def __init__(self, in_planes, planes, stride=1):\n",
    "        super(Bottleneck, self).__init__()\n",
    "        self.conv1 = nn.Conv2d(in_planes, planes, kernel_size=1, bias=False)\n",
    "        self.bn1 = nn.BatchNorm2d(planes)\n",
    "        self.conv2 = nn.Conv2d(planes, planes, kernel_size=3, stride=stride, padding=1, bias=False)\n",
    "        self.bn2 = nn.BatchNorm2d(planes)\n",
    "        self.conv3 = nn.Conv2d(planes, self.expansion*planes, kernel_size=1, bias=False)\n",
    "        self.bn3 = nn.BatchNorm2d(self.expansion*planes)\n",
    "\n",
    "        self.shortcut = nn.Sequential()\n",
    "        if stride != 1 or in_planes != self.expansion*planes:\n",
    "            self.shortcut = nn.Sequential(\n",
    "                nn.Conv2d(in_planes, self.expansion*planes, kernel_size=1, stride=stride, bias=False),\n",
    "                nn.BatchNorm2d(self.expansion*planes)\n",
    "            )\n",
    "\n",
    "    def forward(self, x):\n",
    "        out = F.relu(self.bn1(self.conv1(x)))\n",
    "        out = F.relu(self.bn2(self.conv2(out)))\n",
    "        out = self.bn3(self.conv3(out))\n",
    "        out += self.shortcut(x)\n",
    "        out = F.relu(out)\n",
    "        return out\n",
    "\n",
    "\n",
    "class ResNet(nn.Module):\n",
    "    def __init__(self, block, num_blocks, num_classes=10):\n",
    "        super(ResNet, self).__init__()\n",
    "        self.in_planes = 64\n",
    "\n",
    "        self.conv1 = conv3x3(3,64)\n",
    "        self.bn1 = nn.BatchNorm2d(64)\n",
    "        self.layer1 = self._make_layer(block, 64, num_blocks[0], stride=1)\n",
    "        self.layer2 = self._make_layer(block, 128, num_blocks[1], stride=2)\n",
    "        self.layer3 = self._make_layer(block, 256, num_blocks[2], stride=2)\n",
    "        self.layer4 = self._make_layer(block, 512, num_blocks[3], stride=2)\n",
    "        self.linear = nn.Linear(512*block.expansion, num_classes)\n",
    "\n",
    "    def _make_layer(self, block, planes, num_blocks, stride):\n",
    "        strides = [stride] + [1]*(num_blocks-1)\n",
    "        layers = []\n",
    "        for stride in strides:\n",
    "            layers.append(block(self.in_planes, planes, stride))\n",
    "            self.in_planes = planes * block.expansion\n",
    "        return nn.Sequential(*layers)\n",
    "\n",
    "    def forward(self, x):\n",
    "        out = F.relu(self.bn1(self.conv1(x)))\n",
    "        out = self.layer1(out)\n",
    "        out = self.layer2(out)\n",
    "        out = self.layer3(out)\n",
    "        out = self.layer4(out)\n",
    "        out = F.avg_pool2d(out, 4)\n",
    "        out = out.view(out.size(0), -1)\n",
    "        out = self.linear(out)\n",
    "        return out\n",
    "\n",
    "\n",
    "def ResNet18(num_classes=10):\n",
    "    return ResNet(BasicBlock, [2,2,2,2], num_classes)\n",
    "\n",
    "def test_resnet():\n",
    "    net = ResNet18()\n",
    "    y = net(Variable(torch.randn(1,3,32,32)))\n",
    "    print(y.size())\n",
    "\n",
    "# test_resnet()"
   ],
   "id": "5c22fdb3-65b9-4dc9-8d4e-26c7fd37bee8"
  },
  {
   "cell_type": "markdown",
   "metadata": {},
   "source": [
    "### 4.2.2 WideResNet Code"
   ],
   "id": "e7326b4d-4359-4992-9c12-5759a031703e"
  },
  {
   "cell_type": "code",
   "execution_count": null,
   "metadata": {},
   "outputs": [],
   "source": [
    "# WideResNet\n",
    "\n",
    "# From https://github.com/uoguelph-mlrg/Cutout/blob/master/model/wide_resnet.py\n",
    "\n",
    "import math\n",
    "import torch\n",
    "import torch.nn as nn\n",
    "import torch.nn.functional as F\n",
    "\n",
    "\n",
    "class BasicBlock(nn.Module):\n",
    "    def __init__(self, in_planes, out_planes, stride, dropRate=0.0):\n",
    "        super(BasicBlock, self).__init__()\n",
    "        self.bn1 = nn.BatchNorm2d(in_planes)\n",
    "        self.relu1 = nn.ReLU(inplace=True)\n",
    "        self.conv1 = nn.Conv2d(in_planes, out_planes, kernel_size=3, stride=stride,\n",
    "                               padding=1, bias=False)\n",
    "        self.bn2 = nn.BatchNorm2d(out_planes)\n",
    "        self.relu2 = nn.ReLU(inplace=True)\n",
    "        self.conv2 = nn.Conv2d(out_planes, out_planes, kernel_size=3, stride=1,\n",
    "                               padding=1, bias=False)\n",
    "        self.droprate = dropRate\n",
    "        self.equalInOut = (in_planes == out_planes)\n",
    "        self.convShortcut = (not self.equalInOut) and nn.Conv2d(in_planes, out_planes, kernel_size=1, stride=stride,\n",
    "                               padding=0, bias=False) or None\n",
    "    def forward(self, x):\n",
    "        if not self.equalInOut:\n",
    "            x = self.relu1(self.bn1(x))\n",
    "        else:\n",
    "            out = self.relu1(self.bn1(x))\n",
    "        out = self.relu2(self.bn2(self.conv1(out if self.equalInOut else x)))\n",
    "        if self.droprate > 0:\n",
    "            out = F.dropout(out, p=self.droprate, training=self.training)\n",
    "        out = self.conv2(out)\n",
    "        return torch.add(x if self.equalInOut else self.convShortcut(x), out)\n",
    "\n",
    "class NetworkBlock(nn.Module):\n",
    "    def __init__(self, nb_layers, in_planes, out_planes, block, stride, dropRate=0.0):\n",
    "        super(NetworkBlock, self).__init__()\n",
    "        self.layer = self._make_layer(block, in_planes, out_planes, nb_layers, stride, dropRate)\n",
    "    def _make_layer(self, block, in_planes, out_planes, nb_layers, stride, dropRate):\n",
    "        layers = []\n",
    "        for i in range(nb_layers):\n",
    "            layers.append(block(i == 0 and in_planes or out_planes, out_planes, i == 0 and stride or 1, dropRate))\n",
    "        return nn.Sequential(*layers)\n",
    "    def forward(self, x):\n",
    "        return self.layer(x)\n",
    "\n",
    "class WideResNet(nn.Module):\n",
    "    def __init__(self, depth, num_classes, widen_factor=1, dropRate=0.0):\n",
    "        super(WideResNet, self).__init__()\n",
    "        nChannels = [16, 16*widen_factor, 32*widen_factor, 64*widen_factor]\n",
    "        assert((depth - 4) % 6 == 0)\n",
    "        n = (depth - 4) // 6\n",
    "        block = BasicBlock\n",
    "        # 1st conv before any network block\n",
    "        self.conv1 = nn.Conv2d(3, nChannels[0], kernel_size=3, stride=1,\n",
    "                               padding=1, bias=False)\n",
    "        # 1st block\n",
    "        self.block1 = NetworkBlock(n, nChannels[0], nChannels[1], block, 1, dropRate)\n",
    "        # 2nd block\n",
    "        self.block2 = NetworkBlock(n, nChannels[1], nChannels[2], block, 2, dropRate)\n",
    "        # 3rd block\n",
    "        self.block3 = NetworkBlock(n, nChannels[2], nChannels[3], block, 2, dropRate)\n",
    "        # global average pooling and classifier\n",
    "        self.bn1 = nn.BatchNorm2d(nChannels[3])\n",
    "        self.relu = nn.ReLU(inplace=True)\n",
    "        self.fc = nn.Linear(nChannels[3], num_classes)\n",
    "        self.nChannels = nChannels[3]\n",
    "\n",
    "        for m in self.modules():\n",
    "            if isinstance(m, nn.Conv2d):\n",
    "                n = m.kernel_size[0] * m.kernel_size[1] * m.out_channels\n",
    "                m.weight.data.normal_(0, math.sqrt(2. / n))\n",
    "            elif isinstance(m, nn.BatchNorm2d):\n",
    "                m.weight.data.fill_(1)\n",
    "                m.bias.data.zero_()\n",
    "            elif isinstance(m, nn.Linear):\n",
    "                m.bias.data.zero_()\n",
    "    def forward(self, x):\n",
    "        out = self.conv1(x)\n",
    "        out = self.block1(out)\n",
    "        out = self.block2(out)\n",
    "        out = self.block3(out)\n",
    "        out = self.relu(self.bn1(out))\n",
    "\n",
    "        out = F.avg_pool2d(out, 8)\n",
    "        out = out.view(-1, self.nChannels)\n",
    "        out = self.fc(out)\n",
    "        return out"
   ],
   "id": "1b995d5a-ec69-4c3f-929c-498f9919157d"
  },
  {
   "cell_type": "markdown",
   "metadata": {},
   "source": [
    "### 4.2.3 Model Evaluate Test Code\n",
    "\n",
    "This function evaluates the performance of the model on a given data loader (loader). It sets the model to evaluation mode (eval), calculates the accuracy on the dataset, and returns the validation accuracy. It then switches the model back to training mode (train) before returning the validation accuracy."
   ],
   "id": "cedd326e-4c55-4530-bd64-80b581ffe953"
  },
  {
   "cell_type": "code",
   "execution_count": null,
   "metadata": {},
   "outputs": [],
   "source": [
    "def test(loader):\n",
    "    cnn.eval()    # Change model to 'eval' mode (BN uses moving mean/var).\n",
    "    correct = 0.\n",
    "    total = 0.\n",
    "    for images, labels in loader:\n",
    "        images = images.cuda()\n",
    "        labels = labels.cuda()\n",
    "\n",
    "        with torch.no_grad():\n",
    "            pred = cnn(images)\n",
    "\n",
    "        pred = torch.max(pred.data, 1)[1]\n",
    "        total += labels.size(0)\n",
    "        correct += (pred == labels).sum().item()\n",
    "\n",
    "    val_acc = correct / total\n",
    "    cnn.train()\n",
    "    return val_acc"
   ],
   "id": "8a677955-f319-4f62-8990-2336b1fd7d49"
  },
  {
   "cell_type": "markdown",
   "metadata": {},
   "source": [
    "### 4.2.4 CSVLogger (Save the result to a CSV) Code\n",
    "\n",
    "The `CSVLogger` class logs training progress to a CSV file, with each row representing an epoch and columns representing metrics such as training and testing accuracy."
   ],
   "id": "b74454b0-2830-4fb4-a704-a8d51a27a87a"
  },
  {
   "cell_type": "code",
   "execution_count": null,
   "metadata": {},
   "outputs": [],
   "source": [
    "# From: https://github.com/uoguelph-mlrg/Cutout/blob/master/util/misc.py\n",
    "class CSVLogger():\n",
    "    def __init__(self, args, fieldnames, filename='log.csv'):\n",
    "\n",
    "        self.filename = filename\n",
    "        self.csv_file = open(filename, 'w')\n",
    "\n",
    "        # Write model configuration at top of csv\n",
    "        writer = csv.writer(self.csv_file)\n",
    "        for arg in vars(args):\n",
    "            writer.writerow([arg, getattr(args, arg)])\n",
    "        writer.writerow([''])\n",
    "\n",
    "        self.writer = csv.DictWriter(self.csv_file, fieldnames=fieldnames)\n",
    "        self.writer.writeheader()\n",
    "\n",
    "        self.csv_file.flush()\n",
    "\n",
    "    def writerow(self, row):\n",
    "        self.writer.writerow(row)\n",
    "        self.csv_file.flush()\n",
    "\n",
    "    def close(self):\n",
    "        self.csv_file.close()"
   ],
   "id": "ac9ab280-e4a0-4ea1-a680-7f0d164bb77a"
  },
  {
   "cell_type": "markdown",
   "metadata": {},
   "source": [
    "### 4.3 Model Training and Evaluation"
   ],
   "id": "318f420b-16db-4497-8342-91b694d23947"
  },
  {
   "cell_type": "markdown",
   "metadata": {},
   "source": [
    "#### 4.3.1 Experiment using ResNet with CIFAR-10 Dataset Without Cutout vs With Cutout"
   ],
   "id": "189e6e5e-32bb-457c-a22e-d49cc9385cf9"
  },
  {
   "cell_type": "markdown",
   "metadata": {},
   "source": [
    "##### 4.3.1.1. Training ResNet-18 in CF10 without Cutout"
   ],
   "id": "8225a707-0adf-4613-aa3f-2ed108c61fb8"
  },
  {
   "cell_type": "markdown",
   "metadata": {},
   "source": [
    "Import the library"
   ],
   "id": "45896154-4525-4c94-9503-86355e2945f4"
  },
  {
   "cell_type": "code",
   "execution_count": null,
   "metadata": {},
   "outputs": [],
   "source": [
    "import torch\n",
    "import torch.nn as nn\n",
    "from torch.autograd import Variable\n",
    "import torch.backends.cudnn as cudnn\n",
    "from torch.optim.lr_scheduler import MultiStepLR\n",
    "\n",
    "from torchvision.utils import make_grid\n",
    "from torchvision import datasets, transforms"
   ],
   "id": "11f705e6-3aa9-4e1b-97d9-cbf6d15438cc"
  },
  {
   "cell_type": "markdown",
   "metadata": {},
   "source": [
    "Check Cuda GPU availability and set seed number"
   ],
   "id": "6b00f89c-a52c-4c61-a466-90d76fe6e500"
  },
  {
   "cell_type": "code",
   "execution_count": null,
   "metadata": {},
   "outputs": [],
   "source": [
    "cuda = torch.cuda.is_available()\n",
    "cudnn.benchmark = True  # Should make training should go faster for large models\n",
    "\n",
    "seed = 1\n",
    "torch.manual_seed(seed)"
   ],
   "id": "64bc2746-95b1-4068-bd3c-b0c0e53019ca"
  },
  {
   "cell_type": "markdown",
   "metadata": {},
   "source": [
    "Image Processing for CIFAR-10"
   ],
   "id": "38a9a937-df18-4b9a-9a7e-2083b406b746"
  },
  {
   "cell_type": "code",
   "execution_count": null,
   "metadata": {},
   "outputs": [],
   "source": [
    "\n",
    "# Image Preprocessing\n",
    "\n",
    "normalize_image = transforms.Normalize(mean=[x / 255.0 for x in [125.3, 123.0, 113.9]], std=[x / 255.0 for x in [63.0, 62.1, 66.7]])\n",
    "\n",
    "train_transform = transforms.Compose([])\n",
    "\n",
    "train_transform.transforms.append(transforms.ToTensor())\n",
    "train_transform.transforms.append(normalize_image)\n",
    "\n",
    "\n",
    "\n",
    "test_transform = transforms.Compose([\n",
    "    transforms.ToTensor(),\n",
    "    normalize_image])"
   ],
   "id": "35415c3f-c5dd-4da4-93fd-013deb44d3fb"
  },
  {
   "cell_type": "markdown",
   "metadata": {},
   "source": [
    "Import the dataset of CIFAR-10"
   ],
   "id": "6490ce3e-d817-4754-92a1-724186000425"
  },
  {
   "cell_type": "code",
   "execution_count": null,
   "metadata": {},
   "outputs": [],
   "source": [
    "train_dataset = datasets.CIFAR10(root='data/',\n",
    "                                     train=True,\n",
    "                                     transform=train_transform,\n",
    "                                     download=True)\n",
    "\n",
    "test_dataset = datasets.CIFAR10(root='data/',\n",
    "                                    train=False,\n",
    "                                    transform=test_transform,\n",
    "                                    download=True)"
   ],
   "id": "00055542-0973-4160-9be1-576cd63d815d"
  },
  {
   "cell_type": "markdown",
   "metadata": {},
   "source": [
    "Create Dataset as Dataloader"
   ],
   "id": "12324596-c500-4d15-84d2-8ef0360ac496"
  },
  {
   "cell_type": "code",
   "execution_count": null,
   "metadata": {},
   "outputs": [],
   "source": [
    "# Data Loader (Input Pipeline)\n",
    "batch_size = 128\n",
    "train_loader = torch.utils.data.DataLoader(dataset=train_dataset,\n",
    "                                           batch_size=batch_size,\n",
    "                                           shuffle=True,\n",
    "                                           pin_memory=True,\n",
    "                                           num_workers=2)\n",
    "\n",
    "test_loader = torch.utils.data.DataLoader(dataset=test_dataset,\n",
    "                                          batch_size=batch_size,\n",
    "                                          shuffle=False,\n",
    "                                          pin_memory=True,\n",
    "                                          num_workers=2)"
   ],
   "id": "b6c5db85-18a1-486b-8118-91b64b256f87"
  },
  {
   "cell_type": "markdown",
   "metadata": {},
   "source": [
    "Define the model"
   ],
   "id": "8a74f2e9-b0d8-44e3-b4e9-bad027fd4735"
  },
  {
   "cell_type": "markdown",
   "metadata": {},
   "source": [
    "This code block sets up the machine learning model, loss function, optimizer, and learning rate scheduler."
   ],
   "id": "4d0c3f20-70ec-49d6-82bd-e599a62cbc9e"
  },
  {
   "cell_type": "code",
   "execution_count": null,
   "metadata": {},
   "outputs": [],
   "source": [
    "#file_name will be the used for the name of the file of weight of the model and also the result\n",
    "file_name = \"cifar10_resnet18\"\n",
    "\n",
    "num_classes = 10\n",
    "cnn = ResNet18(num_classes=num_classes)\n",
    "\n",
    "\n",
    "cnn = cnn.cuda()\n",
    "learning_rate = 0.1\n",
    "criterion = nn.CrossEntropyLoss().cuda()\n",
    "cnn_optimizer = torch.optim.SGD(cnn.parameters(), lr=learning_rate,\n",
    "                                momentum=0.9, nesterov=True, weight_decay=5e-4)\n",
    "scheduler = MultiStepLR(cnn_optimizer, milestones=[60, 120, 160], gamma=0.2)\n",
    "\n",
    "filename = 'logs/' + file_name + '.csv'\n",
    "csv_logger = CSVLogger(args=args, fieldnames=['epoch', 'train_acc', 'test_acc'], filename=filename)"
   ],
   "id": "0163c962-1c62-4620-9224-2bf27fc33fc3"
  },
  {
   "cell_type": "markdown",
   "metadata": {},
   "source": [
    "Training ResNet-18 withuout Cutout"
   ],
   "id": "e5ed7e69-4105-41e5-9b2d-eec81f5eedaf"
  },
  {
   "cell_type": "markdown",
   "metadata": {},
   "source": [
    "This code runs the training loop for the chosen machine learning model over a specified number of epochs. Each epoch involves a forward pass, loss computation, backpropagation, and parameter updates. It also calculates and displays the training accuracy and cross-entropy loss. At the end of each epoch, the model’s performance is evaluated on the test set, and the results are logged and saved."
   ],
   "id": "b6ab15da-265b-4739-b523-df19f6cc2a80"
  },
  {
   "cell_type": "code",
   "execution_count": null,
   "metadata": {},
   "outputs": [],
   "source": [
    "epochs = 200\n",
    "for epoch in range(epochs):\n",
    "\n",
    "    xentropy_loss_avg = 0.\n",
    "    correct = 0.\n",
    "    total = 0.\n",
    "\n",
    "    progress_bar = tqdm(train_loader)\n",
    "    for i, (images, labels) in enumerate(progress_bar):\n",
    "        progress_bar.set_description('Epoch ' + str(epoch))\n",
    "\n",
    "        images = images.cuda()\n",
    "        labels = labels.cuda()\n",
    "\n",
    "        cnn.zero_grad()\n",
    "        pred = cnn(images)\n",
    "\n",
    "        xentropy_loss = criterion(pred, labels)\n",
    "        xentropy_loss.backward()\n",
    "        cnn_optimizer.step()\n",
    "\n",
    "        xentropy_loss_avg += xentropy_loss.item()\n",
    "\n",
    "        # Calculate running average of accuracy\n",
    "        pred = torch.max(pred.data, 1)[1]\n",
    "        total += labels.size(0)\n",
    "        correct += (pred == labels.data).sum().item()\n",
    "        accuracy = correct / total\n",
    "\n",
    "        progress_bar.set_postfix(\n",
    "            xentropy='%.3f' % (xentropy_loss_avg / (i + 1)),\n",
    "            acc='%.3f' % accuracy)\n",
    "\n",
    "    test_acc = test(test_loader)\n",
    "    tqdm.write('test_acc: %.3f' % (test_acc))\n",
    "\n",
    "    #scheduler.step(epoch)  # Use this line for PyTorch <1.4\n",
    "    scheduler.step()     # Use this line for PyTorch >=1.4\n",
    "\n",
    "    row = {'epoch': str(epoch), 'train_acc': str(accuracy), 'test_acc': str(test_acc)}\n",
    "    csv_logger.writerow(row)\n",
    "\n",
    "torch.save(cnn.state_dict(), 'checkpoints/' + file_name + '.pt')\n",
    "csv_logger.close()"
   ],
   "id": "08df0426-410c-4670-be1d-a9c341de6450"
  },
  {
   "cell_type": "markdown",
   "metadata": {},
   "source": [
    "##### 4.3.1.2. Training ResNet-18 in CF10 with Cutout"
   ],
   "id": "73670210-de70-486a-bbfd-ec5c37d7330f"
  },
  {
   "cell_type": "markdown",
   "metadata": {},
   "source": [
    "Import the library"
   ],
   "id": "5ae353db-03b2-4b4e-bc78-d4621c582e86"
  },
  {
   "cell_type": "code",
   "execution_count": null,
   "metadata": {},
   "outputs": [],
   "source": [
    "import torch\n",
    "import torch.nn as nn\n",
    "from torch.autograd import Variable\n",
    "import torch.backends.cudnn as cudnn\n",
    "from torch.optim.lr_scheduler import MultiStepLR\n",
    "\n",
    "from torchvision.utils import make_grid\n",
    "from torchvision import datasets, transforms"
   ],
   "id": "a1fa18c6-cfa9-4d63-9288-fb936e06a365"
  },
  {
   "cell_type": "markdown",
   "metadata": {},
   "source": [
    "Check Cuda GPU availability and set seed number"
   ],
   "id": "b98f8add-95ca-4662-a0f8-b02f114bda26"
  },
  {
   "cell_type": "code",
   "execution_count": null,
   "metadata": {},
   "outputs": [],
   "source": [
    "cuda = torch.cuda.is_available()\n",
    "cudnn.benchmark = True  # Should make training should go faster for large models\n",
    "\n",
    "seed = 1\n",
    "torch.manual_seed(seed)"
   ],
   "id": "94bd4e8f-d2bd-46d2-bb61-c3833eb15abe"
  },
  {
   "cell_type": "markdown",
   "metadata": {},
   "source": [
    "Image Processing for CIFAR-10"
   ],
   "id": "6c384c56-35e1-420e-898e-2a9a7296dba7"
  },
  {
   "cell_type": "code",
   "execution_count": null,
   "metadata": {},
   "outputs": [],
   "source": [
    "\n",
    "# Image Preprocessing\n",
    "\n",
    "normalize = transforms.Normalize(mean=[x / 255.0 for x in [125.3, 123.0, 113.9]], std=[x / 255.0 for x in [63.0, 62.1, 66.7]])\n",
    "\n",
    "train_transform = transforms.Compose([])\n",
    "\n",
    "train_transform.transforms.append(transforms.ToTensor())\n",
    "train_transform.transforms.append(normalize)\n",
    "\n",
    "#Add Cutout to the image transformer piepeline\n",
    "n_holes = 1\n",
    "length = 16\n",
    "train_transform.transforms.append(Cutout(n_holes=n_holes, length=length))\n",
    "\n",
    "\n",
    "test_transform = transforms.Compose([\n",
    "    transforms.ToTensor(),\n",
    "    normalize])"
   ],
   "id": "fe53e305-3818-43fd-a0ab-90133b3eb0a1"
  },
  {
   "cell_type": "markdown",
   "metadata": {},
   "source": [
    "Import the dataset of CIFAR-10"
   ],
   "id": "b44deda1-c1fa-49f8-8313-c553d5f6c55e"
  },
  {
   "cell_type": "code",
   "execution_count": null,
   "metadata": {},
   "outputs": [],
   "source": [
    "train_dataset = datasets.CIFAR10(root='data/',\n",
    "                                     train=True,\n",
    "                                     transform=train_transform,\n",
    "                                     download=True)\n",
    "\n",
    "test_dataset = datasets.CIFAR10(root='data/',\n",
    "                                    train=False,\n",
    "                                    transform=test_transform,\n",
    "                                    download=True)"
   ],
   "id": "d47bdfb3-893c-4bad-a9d1-a183b7b90887"
  },
  {
   "cell_type": "markdown",
   "metadata": {},
   "source": [
    "Create Dataset as Dataloader"
   ],
   "id": "c25bcaba-f7f9-4fb0-b4dd-533230d829a1"
  },
  {
   "cell_type": "code",
   "execution_count": null,
   "metadata": {},
   "outputs": [],
   "source": [
    "# Data Loader (Input Pipeline)\n",
    "batch_size = 128\n",
    "train_loader = torch.utils.data.DataLoader(dataset=train_dataset,\n",
    "                                           batch_size=batch_size,\n",
    "                                           shuffle=True,\n",
    "                                           pin_memory=True,\n",
    "                                           num_workers=2)\n",
    "\n",
    "test_loader = torch.utils.data.DataLoader(dataset=test_dataset,\n",
    "                                          batch_size=batch_size,\n",
    "                                          shuffle=False,\n",
    "                                          pin_memory=True,\n",
    "                                          num_workers=2)"
   ],
   "id": "e8ba89e6-c5bf-4f01-99f4-daf3939c830c"
  },
  {
   "cell_type": "markdown",
   "metadata": {},
   "source": [
    "Define the model"
   ],
   "id": "ba2d79ca-33bc-4688-93ca-56b4313602e5"
  },
  {
   "cell_type": "markdown",
   "metadata": {},
   "source": [
    "This code block sets up the machine learning model, loss function, optimizer, and learning rate scheduler."
   ],
   "id": "7c29fa0e-f977-43a8-bd66-b07c7e4db110"
  },
  {
   "cell_type": "code",
   "execution_count": null,
   "metadata": {},
   "outputs": [],
   "source": [
    "#file_name will be the used for the name of the file of weight of the model and also the result\n",
    "file_name = \"cifar10_resnet18_Cutout\"\n",
    "\n",
    "num_classes = 10\n",
    "cnn = ResNet18(num_classes=num_classes)\n",
    "\n",
    "\n",
    "cnn = cnn.cuda()\n",
    "learning_rate = 0.1\n",
    "criterion = nn.CrossEntropyLoss().cuda()\n",
    "cnn_optimizer = torch.optim.SGD(cnn.parameters(), lr=learning_rate,\n",
    "                                momentum=0.9, nesterov=True, weight_decay=5e-4)\n",
    "scheduler = MultiStepLR(cnn_optimizer, milestones=[60, 120, 160], gamma=0.2)\n",
    "\n",
    "filename = 'logs/' + file_name + '.csv'\n",
    "csv_logger = CSVLogger(args=args, fieldnames=['epoch', 'train_acc', 'test_acc'], filename=filename)"
   ],
   "id": "346420f9-c270-4b86-92d5-031f07de3678"
  },
  {
   "cell_type": "markdown",
   "metadata": {},
   "source": [
    "Training ResNet-18 with Cutout"
   ],
   "id": "683866ca-8f1c-422c-b9e7-878ed0e82601"
  },
  {
   "cell_type": "markdown",
   "metadata": {},
   "source": [
    "This code runs the training loop for the chosen machine learning model over a specified number of epochs. Each epoch involves a forward pass, loss computation, backpropagation, and parameter updates. It also calculates and displays the training accuracy and cross-entropy loss. At the end of each epoch, the model’s performance is evaluated on the test set, and the results are logged and saved."
   ],
   "id": "59a7c274-f53f-4667-8479-cb640ff5fdab"
  },
  {
   "cell_type": "code",
   "execution_count": null,
   "metadata": {},
   "outputs": [],
   "source": [
    "epochs = 200\n",
    "for epoch in range(epochs):\n",
    "\n",
    "    xentropy_loss_avg = 0.\n",
    "    correct = 0.\n",
    "    total = 0.\n",
    "\n",
    "    progress_bar = tqdm(train_loader)\n",
    "    for i, (images, labels) in enumerate(progress_bar):\n",
    "        progress_bar.set_description('Epoch ' + str(epoch))\n",
    "\n",
    "        images = images.cuda()\n",
    "        labels = labels.cuda()\n",
    "\n",
    "        cnn.zero_grad()\n",
    "        pred = cnn(images)\n",
    "\n",
    "        xentropy_loss = criterion(pred, labels)\n",
    "        xentropy_loss.backward()\n",
    "        cnn_optimizer.step()\n",
    "\n",
    "        xentropy_loss_avg += xentropy_loss.item()\n",
    "\n",
    "        # Calculate running average of accuracy\n",
    "        pred = torch.max(pred.data, 1)[1]\n",
    "        total += labels.size(0)\n",
    "        correct += (pred == labels.data).sum().item()\n",
    "        accuracy = correct / total\n",
    "\n",
    "        progress_bar.set_postfix(\n",
    "            xentropy='%.3f' % (xentropy_loss_avg / (i + 1)),\n",
    "            acc='%.3f' % accuracy)\n",
    "\n",
    "    test_acc = test(test_loader)\n",
    "    tqdm.write('test_acc: %.3f' % (test_acc))\n",
    "\n",
    "    #scheduler.step(epoch)  # Use this line for PyTorch <1.4\n",
    "    scheduler.step()     # Use this line for PyTorch >=1.4\n",
    "\n",
    "    row = {'epoch': str(epoch), 'train_acc': str(accuracy), 'test_acc': str(test_acc)}\n",
    "    csv_logger.writerow(row)\n",
    "\n",
    "torch.save(cnn.state_dict(), 'checkpoints/' + file_name + '.pt')\n",
    "csv_logger.close()"
   ],
   "id": "13a2bc74-5b33-4820-963c-52558127ee81"
  },
  {
   "cell_type": "markdown",
   "metadata": {},
   "source": [
    "##### 4.3.1.3. Compare the Result and match with the claims"
   ],
   "id": "a0d8ce9a-e27b-47d5-8407-c25885eb527b"
  },
  {
   "cell_type": "markdown",
   "metadata": {},
   "source": [
    "##### 4.3.1.3.1. Compare the Quantitative Claims"
   ],
   "id": "2b46be70-6ac9-49be-b202-9076280db1a6"
  },
  {
   "cell_type": "code",
   "execution_count": null,
   "metadata": {},
   "outputs": [],
   "source": [
    "test_acc_without_cutout = test(test_loader)\n",
    "test_acc_with_cutout = test(test_loader)\n",
    "print(\"Result ResNet-18 without Cutout for Test Dataset\" + str(1- test_acc_without_cutout ))\n",
    "print(\"Result ResNet-18 with Cutout for Test Dataset\" + str(1- test_acc_with_cutout ))"
   ],
   "id": "e3fbfc00-0601-4643-97a3-7609c87fad92"
  },
  {
   "cell_type": "markdown",
   "metadata": {},
   "source": [
    "| **Network**       | **From Paper** | **Your Result** |\n",
    "|-------------------|----------------|-----------------|\n",
    "| ResNet18          | 10.63          |                 |\n",
    "| ResNet18 + cutout | 9.31           |                 |"
   ],
   "id": "e327b6c7-21ec-4423-9c02-5c10ae41e11f"
  },
  {
   "cell_type": "markdown",
   "metadata": {},
   "source": [
    "##### 4.3.1.3.2. Compare the Qualitative Claims usinng Grad-CAM\n",
    "\n",
    "###### What is Grad-CAM?\n",
    "\n",
    "Grad-CAM (Gradient-weighted Class Activation Mapping) is a technique that provides visual explanations for decisions made by Convolutional Neural Network (CNN) models. It uses the gradients of any target concept, flowing into the final convolutional layer to produce a coarse localization map highlighting the important regions in the image for predicting the concept.\n",
    "\n",
    "Grad-CAM is not limited to a specific architecture, it can be applied to a wide range of CNN models without any changes to their existing structure or requiring re-training. It’s also class-discriminative, allowing it to effectively manage multi-label scenarios.\n",
    "\n",
    "By visualizing the model’s focus areas with Grad-CAM, we can assess how effectively Cutout is encouraging the model to use a broader range of features. For example, if a model trained with Cutout still primarily focuses on a single region, that might suggest the Cutout squares are too small, or not numerous enough. Conversely, if the focus areas are well spread across the image, it would confirm that Cutout is indeed pushing the model to generalize better.\n",
    "\n",
    "If you want to understand more about Grad-CAM? Check this paper (https://arxiv.org/abs/1610.02391)"
   ],
   "id": "fa8125f4-9f70-4fbd-a93e-6c8aa9279ee0"
  },
  {
   "cell_type": "code",
   "execution_count": null,
   "metadata": {},
   "outputs": [],
   "source": [
    "class ResNet(nn.Module):\n",
    "    def __init__(self, block, num_blocks, num_classes=10):\n",
    "        super(ResNet, self).__init__()\n",
    "        self.in_planes = 64\n",
    "\n",
    "        self.conv1 = conv3x3(3,64)\n",
    "        self.bn1 = nn.BatchNorm2d(64)\n",
    "        self.layer1 = self._make_layer(block, 64, num_blocks[0], stride=1)\n",
    "        self.layer2 = self._make_layer(block, 128, num_blocks[1], stride=2)\n",
    "        self.layer3 = self._make_layer(block, 256, num_blocks[2], stride=2)\n",
    "        self.layer4 = self._make_layer(block, 512, num_blocks[3], stride=2)\n",
    "        self.linear = nn.Linear(512*block.expansion, num_classes)\n",
    "\n",
    "        # Register hooks for Grad-CAM\n",
    "        self.gradients = None\n",
    "        self.activations = None\n",
    "        self.layer4.register_forward_hook(self._store_activations_hook)\n",
    "        self.layer4.register_backward_hook(self._store_gradients_hook)\n",
    "\n",
    "    def _store_activations_hook(self, module, input, output):\n",
    "        self.activations = output\n",
    "\n",
    "    def _store_gradients_hook(self, module, grad_input, grad_output):\n",
    "        self.gradients = grad_output[0]\n",
    "\n",
    "    def _make_layer(self, block, planes, num_blocks, stride):\n",
    "        strides = [stride] + [1]*(num_blocks-1)\n",
    "        layers = []\n",
    "        for stride in strides:\n",
    "            layers.append(block(self.in_planes, planes, stride))\n",
    "            self.in_planes = planes * block.expansion\n",
    "        return nn.Sequential(*layers)\n",
    "\n",
    "    def forward(self, x):\n",
    "        out = F.relu(self.bn1(self.conv1(x)))\n",
    "        out = self.layer1(out)\n",
    "        out = self.layer2(out)\n",
    "        out = self.layer3(out)\n",
    "        out = self.layer4(out) \n",
    "        out = F.avg_pool2d(out, 4)\n",
    "        out = out.view(out.size(0), -1)\n",
    "        out = self.linear(out)\n",
    "        return out\n"
   ],
   "id": "6ea4c84c-ec7e-4e5a-af02-861df8f6f19c"
  },
  {
   "cell_type": "code",
   "execution_count": null,
   "metadata": {},
   "outputs": [],
   "source": [
    "\n",
    "model = ResNet18(num_classes=10)\n",
    "model.load_state_dict(torch.load(\"checkpoints/cifar10_resnet18.pt\"))\n",
    "model.eval()\n",
    "\n",
    "model_co = ResNet18(num_classes=10)\n",
    "model_co.load_state_dict(torch.load(\"checkpoints/cifar10_resnet18_Cutout.pt\"))\n",
    "model_co.eval()"
   ],
   "id": "4e411744-8076-4d9e-b173-630e59a0896c"
  },
  {
   "cell_type": "markdown",
   "metadata": {},
   "source": [
    "Let’s try to see the result from the testloader of CIFAR-10 dataset"
   ],
   "id": "8d00262f-aa0a-4894-8981-bdfda4015416"
  },
  {
   "cell_type": "code",
   "execution_count": null,
   "metadata": {},
   "outputs": [],
   "source": [
    "import torchvision\n",
    "\n",
    "transform_dataset = transforms.Compose([\n",
    "    transforms.Resize((32, 32)),\n",
    "    transforms.ToTensor(),\n",
    "    transforms.Normalize(mean=[0.485, 0.456, 0.406], std=[0.229, 0.224, 0.225])\n",
    "])\n",
    "\n",
    "testset = torchvision.datasets.CIFAR10(root='./data', train=False, download=True, transform=transform)\n",
    "testloader = torch.utils.data.DataLoader(testset, batch_size=1, shuffle=True, num_workers=2)\n"
   ],
   "id": "ef7da572-f69f-4af4-b5a9-a9bb8b0fbb40"
  },
  {
   "cell_type": "code",
   "execution_count": null,
   "metadata": {},
   "outputs": [],
   "source": [
    "cifar_classes = [\n",
    "    \"Airplane\", \"Automobile\", \"Bird\", \"Cat\", \"Deer\",\n",
    "    \"Dog\", \"Frog\", \"Horse\", \"Ship\", \"Truck\"\n",
    "]"
   ],
   "id": "8ebc53f0-d29b-4a63-be37-e8acfa9828d3"
  },
  {
   "cell_type": "code",
   "execution_count": null,
   "metadata": {},
   "outputs": [],
   "source": [
    "# Get a batch from the testloader\n",
    "images, labels = next(iter(testloader))\n",
    "input_tensor = images  # As your batch_size is 1, you will have a single image here\n",
    "\n",
    "# Forward pass\n",
    "model.zero_grad()\n",
    "output = model(input_tensor)\n",
    "\n",
    "model_co.zero_grad()\n",
    "output_co = model_co(input_tensor)\n",
    "\n",
    "# Get the index of the max log-probability\n",
    "target = output.argmax(1)\n",
    "output.max().backward()\n",
    "\n",
    "target_co = output_co.argmax(1)\n",
    "output_co.max().backward()\n",
    "\n",
    "# Map the predicted class indices to the class labels\n",
    "predicted_class = cifar_classes[target.item()]\n",
    "predicted_class_co = cifar_classes[target_co.item()]\n",
    "\n",
    "\n",
    "# Get the gradients and activations\n",
    "gradients = model.gradients.detach().cpu()\n",
    "activations = model.activations.detach().cpu()\n",
    "\n",
    "gradients_co = model_co.gradients.detach().cpu()\n",
    "activations_co = model_co.activations.detach().cpu()\n",
    "\n",
    "\n",
    "# Calculate the weights\n",
    "weights = gradients.mean(dim=(2, 3), keepdim=True)\n",
    "\n",
    "weights_co = gradients_co.mean(dim=(2, 3), keepdim=True)\n",
    "\n",
    "# Calculate the weighted sum of activations (Grad-CAM)\n",
    "cam = (weights * activations).sum(dim=1, keepdim=True)\n",
    "cam = F.relu(cam)  # apply ReLU to the heatmap\n",
    "cam = F.interpolate(cam, size=(32, 32), mode='bilinear', align_corners=False)\n",
    "cam = cam.squeeze().numpy()\n",
    "\n",
    "cam_co = (weights_co * activations_co).sum(dim=1, keepdim=True)\n",
    "cam_co = F.relu(cam_co)  # apply ReLU to the heatmap\n",
    "cam_co = F.interpolate(cam_co, size=(32, 32), mode='bilinear', align_corners=False)\n",
    "cam_co = cam_co.squeeze().numpy()\n",
    "\n",
    "\n",
    "# Normalize the heatmap\n",
    "cam -= cam.min()\n",
    "cam /= cam.max()\n",
    "\n",
    "cam_co -= cam_co.min()\n",
    "cam_co /= cam_co.max()\n",
    "\n",
    "# Since the images from the dataloader are normalized, you have to denormalize them before plotting\n",
    "mean = torch.tensor([0.485, 0.456, 0.406])\n",
    "std = torch.tensor([0.229, 0.224, 0.225])\n",
    "img = images.squeeze().detach().cpu() * std[..., None, None] + mean[..., None, None]\n",
    "img = img.permute(1, 2, 0).numpy()\n",
    "\n",
    "# Superimpose the heatmap onto the original image\n",
    "heatmap = cv2.applyColorMap(np.uint8(255 * cam), cv2.COLORMAP_JET)\n",
    "heatmap = cv2.cvtColor(heatmap, cv2.COLOR_BGR2RGB)\n",
    "superimposed_img = heatmap * 0.4 + img * 255\n",
    "\n",
    "heatmap_co = cv2.applyColorMap(np.uint8(255 * cam_co), cv2.COLORMAP_JET)\n",
    "heatmap_co = cv2.cvtColor(heatmap_co, cv2.COLOR_BGR2RGB)\n",
    "superimposed_img_co = heatmap_co * 0.4 + img * 255\n",
    "\n",
    "class_label = str(labels.item())\n",
    "\n",
    "# Display the original image and the Grad-CAM\n",
    "fig, ax = plt.subplots(nrows=1, ncols=3)\n",
    "\n",
    "ax[0].imshow(img)\n",
    "ax[0].set_title('Original Image (Class: ' + cifar_classes[int(class_label)] + ')')\n",
    "ax[0].axis('off')\n",
    "ax[1].imshow(superimposed_img / 255)\n",
    "ax[1].set_title('Grad-CAM: ' + predicted_class)\n",
    "ax[1].axis('off')\n",
    "ax[2].imshow(superimposed_img_co / 255)\n",
    "ax[2].set_title('Grad-CAM with Cutout:'+  predicted_class_co)\n",
    "ax[2].axis('off')\n",
    "plt.show()\n"
   ],
   "id": "c5d45d4e-9838-4fda-88da-85751b468812"
  },
  {
   "cell_type": "code",
   "execution_count": null,
   "metadata": {},
   "outputs": [],
   "source": [],
   "id": "d50d74e1-7bed-459a-a5f9-3803ee83d200"
  },
  {
   "cell_type": "markdown",
   "metadata": {},
   "source": [
    "Now you can try to load your image, preprocess it and convert it into a PyTorch tensor. Choose an image that is in the CIFAR-10 classes (airplanes, cars, birds, cats, deer, dogs, frogs, horses, ships, and trucks). The preprocessing steps should be the same as the ones you used for training your model. Let’s say you have an image `image.jpg`:"
   ],
   "id": "44c50097-2678-4687-85d7-0739d6379fa4"
  },
  {
   "cell_type": "code",
   "execution_count": null,
   "metadata": {},
   "outputs": [],
   "source": [
    "from PIL import Image\n",
    "from torchvision import transforms\n",
    "\n",
    "# Load the image\n",
    "image_path = \"image.jpg\"\n",
    "image = Image.open(image_path)\n",
    "\n",
    "# Define the transformations: resize, to tensor, normalize (replace the mean and std with values you used for training)\n",
    "preprocess = transforms.Compose([\n",
    "    transforms.Resize((32, 32)),\n",
    "    transforms.ToTensor(),\n",
    "    transforms.Normalize(mean=[0.485, 0.456, 0.406], std=[0.229, 0.224, 0.225])\n",
    "])\n",
    "\n",
    "# Preprocess the image\n",
    "input_tensor = preprocess(image)\n",
    "input_tensor = input_tensor.unsqueeze(0)  # add batch dimension.  C,H,W => B,C,H,W\n"
   ],
   "id": "820a605e-6577-4548-b65c-305940349625"
  },
  {
   "cell_type": "markdown",
   "metadata": {},
   "source": [
    "Apply Grad-CAM"
   ],
   "id": "908b166e-1043-4e32-adb1-fd05c6aca6f6"
  },
  {
   "cell_type": "code",
   "execution_count": null,
   "metadata": {},
   "outputs": [],
   "source": [
    "# Forward pass\n",
    "model.zero_grad()\n",
    "output = model(input_tensor)\n",
    "\n",
    "model_co.zero_grad()\n",
    "output_co = model_co(input_tensor)\n",
    "\n",
    "# Get the index of the max log-probability\n",
    "target = output.argmax(1)\n",
    "output.max().backward()\n",
    "\n",
    "target_co  = output_co .argmax(1)\n",
    "output_co .max().backward()\n",
    "\n",
    "# Get the gradients and activations\n",
    "gradients = model.gradients.detach().cpu()\n",
    "activations = model.activations.detach().cpu()\n",
    "\n",
    "gradients_co  = model_co.gradients.detach().cpu()\n",
    "activations_co  = model_co.activations.detach().cpu()\n",
    "\n",
    "# Calculate the weights\n",
    "weights = gradients.mean(dim=(2, 3), keepdim=True)\n",
    "\n",
    "weights_co = gradients_co.mean(dim=(2, 3), keepdim=True)\n",
    "\n",
    "# Calculate the weighted sum of activations (Grad-CAM)\n",
    "cam = (weights * activations).sum(dim=1, keepdim=True)\n",
    "cam = F.relu(cam)  # apply ReLU to the heatmap\n",
    "cam = F.interpolate(cam, size=(32, 32), mode='bilinear', align_corners=False)\n",
    "cam = cam.squeeze().numpy()\n",
    "\n",
    "cam_co = (weights_co * activations_co).sum(dim=1, keepdim=True)\n",
    "cam_co = F.relu(cam_co)  # apply ReLU to the heatmap\n",
    "cam_co = F.interpolate(cam_co, size=(32, 32), mode='bilinear', align_corners=False)\n",
    "cam_co = cam_co.squeeze().numpy()\n",
    "\n",
    "# Normalize the heatmap\n",
    "cam -= cam.min()\n",
    "cam /= cam.max()\n",
    "\n",
    "cam_co -= cam_co.min()\n",
    "cam_co /= cam_co.max()\n"
   ],
   "id": "d3cf2f0a-5393-4118-ad1f-ebf3f1ebd8f7"
  },
  {
   "cell_type": "markdown",
   "metadata": {},
   "source": [
    "Visualize the image and the Grad-CAM heatmap"
   ],
   "id": "409738fd-7f5d-4bf6-a0c4-ee09111f489e"
  },
  {
   "cell_type": "code",
   "execution_count": null,
   "metadata": {},
   "outputs": [],
   "source": [
    "import matplotlib.pyplot as plt\n",
    "import cv2\n",
    "\n",
    "# Load the original image\n",
    "img = cv2.imread(image_path)\n",
    "img = cv2.resize(img, (32, 32))\n",
    "img = cv2.cvtColor(img, cv2.COLOR_BGR2RGB)\n",
    "\n",
    "# Superimpose the heatmap onto the original image\n",
    "heatmap_co = cv2.applyColorMap(np.uint8(255 * cam_co), cv2.COLORMAP_JET)\n",
    "heatmap_co = cv2.cvtColor(heatmap_co, cv2.COLOR_BGR2RGB)\n",
    "superimposed_img_co = heatmap_co * 0.4 + img\n",
    "\n",
    "# Display the original image and the Grad-CAM\n",
    "fig, ax = plt.subplots(nrows=1, ncols=3)\n",
    "ax[0].imshow(img)\n",
    "ax[0].set_title('Original Image')\n",
    "ax[0].axis(\"off\")\n",
    "ax[1].imshow(superimposed_img / 255)\n",
    "ax[1].set_title('Grad-CAM')\n",
    "ax[1].axis(\"off\")\n",
    "ax[2].imshow(superimposed_img_co / 255)\n",
    "ax[2].set_title('Grad-CAM with Cutout')\n",
    "ax[2].axis(\"off\")\n",
    "plt.show()\n"
   ],
   "id": "8f861c4c-dbe5-4e8b-a1be-5da9f96339d5"
  },
  {
   "cell_type": "markdown",
   "metadata": {},
   "source": [
    "## Evaluate your results for qualitative and quantitative claims"
   ],
   "id": "e6b2949c-907b-4370-ac8b-39f65a50fb76"
  },
  {
   "cell_type": "markdown",
   "metadata": {},
   "source": [
    "#### ResNet18\n",
    "\n",
    "Test error from our own experiments (%, flip/translation augmentation, mean/std normalization, mean of 5 runs) and “+” indicates standard data augmentation (mirror + crop)\n",
    "\n",
    "| **Network**       | **CIFAR-10** | **CIFAR-10+** | **CIFAR-100** | **CIFAR-100+** |\n",
    "|-------------|--------------|----------------|--------------|----------------|\n",
    "| ResNet18          | 14.04        | 5.72          | 40.13         | 24.36          |\n",
    "| ResNet18 + cutout | 10.98        | 4.86          | 36.5          | 23.9           |\n",
    "\n",
    "<!-- to do - fINISH THIS-->\n",
    "\n",
    "#### WideResNet\n",
    "\n",
    "WideResNet model implementation from https://github.com/xternalz/WideResNet-pytorch\n",
    "\n",
    "Test error (%, flip/translation augmentation, mean/std normalization, mean of 5 runs)\n",
    "\n",
    "| **Network**         | **CIFAR-10** | **CIFAR-10+** | **CIFAR-100** | **CIFAR-100+** | **SVHN** |\n",
    "|------------|-------------|--------------|-------------|--------------|---------|\n",
    "| WideResNet          | 6.99         | 4.00          | 24.5          | 18.9           | \\-       |\n",
    "| WideResNet + cutout | 5.45         | 3.20          | 22.8          | 18.8           | \\-       |\n",
    "\n",
    "#### Shake-shake Regularization Network\n",
    "\n",
    "Shake-shake regularization model implementation from https://github.com/xgastaldi/shake-shake\n",
    "\n",
    "Test error (%, flip/translation augmentation, mean/std normalization, mean of 3 runs)\n",
    "\n",
    "| **Network**          | **CIFAR-10** | **CIFAR-100** |\n",
    "|----------------------|--------------|---------------|\n",
    "| Shake-shake          | \\-           | \\-            |\n",
    "| Shake-shake + cutout | \\-           | \\-            |"
   ],
   "id": "cb04397e-b8dc-44da-9ba9-2ffe9ca4296b"
  },
  {
   "cell_type": "markdown",
   "metadata": {},
   "source": [],
   "id": "6d3aee11-e39c-47cd-a675-d7308fb88910"
  },
  {
   "cell_type": "code",
   "execution_count": null,
   "metadata": {},
   "outputs": [],
   "source": [],
   "id": "82f25837-1c54-426d-8b07-26d0a8097254"
  },
  {
   "cell_type": "markdown",
   "metadata": {},
   "source": [
    ":::"
   ],
   "id": "f1faf974-cac9-4438-ba55-11cad42d6b55"
  },
  {
   "cell_type": "code",
   "execution_count": null,
   "metadata": {},
   "outputs": [],
   "source": [],
   "id": "669b56fe-6d74-4380-a16b-075e90aec8ad"
  },
  {
   "cell_type": "markdown",
   "metadata": {},
   "source": [],
   "id": "a7d779cb-ac1a-459b-b36b-8068fd4a9168"
  },
  {
   "cell_type": "code",
   "execution_count": null,
   "metadata": {},
   "outputs": [],
   "source": [],
   "id": "d3e9c482-d4bd-430d-98e4-c66b53743bfd"
  },
  {
   "cell_type": "code",
   "execution_count": null,
   "metadata": {},
   "outputs": [],
   "source": [],
   "id": "ae58014d-e6cc-448b-968b-1b9a9931def2"
  }
 ],
 "nbformat": 4,
 "nbformat_minor": 5,
 "metadata": {}
}

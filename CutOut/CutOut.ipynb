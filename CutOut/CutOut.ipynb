{
 "cells": [
  {
   "cell_type": "code",
   "execution_count": null,
   "metadata": {},
   "outputs": [],
   "source": [
    "import torch\n",
    "import torchvision\n",
    "import torchvision.transforms as transforms\n",
    "import torch.nn as nn\n",
    "import torch.nn.functional as F\n",
    "from torch.autograd import Variable\n",
    "import torch.backends.cudnn as cudnn\n",
    "from torch.optim.lr_scheduler import MultiStepLR\n",
    "from torchvision.utils import make_grid\n",
    "from torchvision import datasets, transforms\n",
    "import cv2\n",
    "\n",
    "\n",
    "import math\n",
    "import numpy as np\n",
    "import csv\n",
    "from PIL import Image\n",
    "import matplotlib.pyplot as plt\n",
    "import pdb\n",
    "import argparse\n",
    "from tqdm import tqdm\n",
    "import os\n"
   ],
   "id": "af21fa9f-d5e8-4ce1-9731-1e5d7b54e1ca"
  },
  {
   "cell_type": "code",
   "execution_count": null,
   "metadata": {},
   "outputs": [],
   "source": [
    "# note: This notebook has been developed and tested for pytorch \n",
    "print(torch. __version__)"
   ],
   "id": "f420e775-f5c2-43a6-b79f-7ebcd5fead9d"
  },
  {
   "cell_type": "markdown",
   "metadata": {},
   "source": [
    "# Cutout data augmentation\n",
    "\n",
    "In this notebook, we will reproduce the results of the paper\n",
    "\n",
    "> DeVries, T. and Taylor, G.W., 2017. Improved regularization of convolutional neural networks with Cutout. arXiv preprint [arXiv:1708.04552](https://arxiv.org/abs/1708.04552).\n",
    "\n",
    "We will use the author’s implementation of their technique, from <https://github.com/uoguelph-mlrg/Cutout>, which is licensed under an Educational Community License version 2.0."
   ],
   "id": "62085e0e-cf62-41e8-b6e9-09e53a81493f"
  },
  {
   "cell_type": "markdown",
   "metadata": {},
   "source": [
    "## 1. Learning outcomes\n",
    "\n",
    "After working through this notebook, you should be able to:\n",
    "\n",
    "-   Describe how Cutout works as a regularization technique,\n",
    "-   Enumerate specific claims (both quantitative claims, qualitative claims, and claims about the underlying mechanism behind a result) from the Cutout paper,\n",
    "-   Execute experiments (following the given procedure) to try and validate each claim about Cutout data augmentation,\n",
    "-   Evaluate whether your own result matches quantitative claims in the Cutout paper (i.e. whether it is within the confidence intervals for each reported numeric result),\n",
    "-   Evaluate whether your own result validates qualitative claims in the Cutout paper,\n",
    "-   Evaluate whether your own results support the author’s claim about the underlying mechanism behind the result."
   ],
   "id": "83fe7330-4e7c-4d47-8916-3748b024fad7"
  },
  {
   "cell_type": "markdown",
   "metadata": {},
   "source": [
    "In the sections that follow, we will identify and evaluate claims from the original Cutout paper:\n",
    "\n",
    "1.  Cutout improves the robustness and overall performance of convolutional neural networks.\n",
    "2.  Cutout can be used in conjunction with existing forms of data augmentation and other regularizers to further improve model performance.\n",
    "3.  Cutout aimed to remove maximally activated features in order to encourage the network to consider less prominent features"
   ],
   "id": "1eb30ff8-e769-4f2e-9521-3c3fd88d59a0"
  },
  {
   "cell_type": "markdown",
   "metadata": {},
   "source": [
    "## 2. Cutout as a regularization technique\n",
    "\n",
    "This Jupyter notebook is designed to illustrate the implementation and usage of the Cutout data augmentation technique in deep learning, specifically in the context of Convolutional Neural Networks (CNNs)."
   ],
   "id": "b4aeec3a-bd04-4b63-bd90-db0a015aa142"
  },
  {
   "cell_type": "markdown",
   "metadata": {},
   "source": [
    "Cutout is a regularization and data augmentation technique for convolutional neural networks (CNNs). It involves randomly masking out square regions of input during training. This helps to improve the robustness and overall performance of CNNs by encouraging the network to better utilize the full context of the image, rather than relying on the presence of a small set of specific visual features.\n",
    "\n",
    "Cutout is computationally efficient as it can be applied during data loading in parallel with the main training task. It can be used in conjunction with existing forms of data augmentation and other regularizers to further improve model performance.\n",
    "\n",
    "The technique has been evaluated with state-of-the-art architectures on popular image recognition datasets such as CIFAR-10, CIFAR-100, and SVHN, often achieving state-of-the-art or near state-of-the-art results."
   ],
   "id": "bbce2bf5-a366-47cb-bba0-86b65fa9714c"
  },
  {
   "cell_type": "markdown",
   "metadata": {},
   "source": [
    "### Implementation of Cutout"
   ],
   "id": "75495b9c-9e81-4c44-a192-2127ee09897a"
  },
  {
   "cell_type": "code",
   "execution_count": null,
   "metadata": {},
   "outputs": [],
   "source": [
    "# Import necessary libraries\n",
    "from torchvision.transforms import RandomHorizontalFlip, RandomCrop, ColorJitter\n",
    "import numpy as np\n",
    "import torch\n",
    "from PIL import Image\n",
    "from torchvision import transforms\n",
    "import matplotlib.pyplot as plt"
   ],
   "id": "56008532-0173-49ec-9b31-3f8097e8972e"
  },
  {
   "cell_type": "markdown",
   "metadata": {},
   "source": [
    "In the following cells, we will see how Cutout works when applied to a sample image.\n",
    "\n",
    "<!-- To do: explain the code with reference to section 3.2. Implementation Details -->\n",
    "\n",
    "In the code provided above, we see a Python class named Cutout defined. This class is designed to apply the Cutout data augmentation technique to an image. Below is an explanation of the class and its methods:\n",
    "\n",
    "-   The Cutout class is initialized with two parameters:\n",
    "\n",
    "    -   `n_holes`: the number of patches to cut out of each image.\n",
    "    -   `length`: the length (in pixels) of each square patch.\n",
    "\n",
    "-   The `__call__` method implements the Cutout technique. This method takes as input a tensor `img` representing an image, and returns the same image with `n_holes` number of patches of dimension `length` x `length` cut out of it.\n",
    "\n",
    "Here’s a step-by-step explanation of what’s happening inside the `__call__` method:\n",
    "\n",
    "1.  The method first retrieves the height h and width w of the input image.\n",
    "\n",
    "2.  A mask is then initialized as a 2D numpy array of ones with the same dimensions as the input image.\n",
    "\n",
    "3.  The method then enters a loop which runs for n_holes iterations. In each iteration:\n",
    "\n",
    "    -   A pair of coordinates y and x are randomly selected within the height and width of the image.\n",
    "\n",
    "    -   The method then calculates the coordinates of a square patch around the (y, x) coordinate. The patch has a length of length pixels, and the method ensures that the patch doesn’t fall outside the image by using the np.clip function.\n",
    "\n",
    "    -   The corresponding area in the mask is set to zero.\n",
    "\n",
    "4.  The mask is then converted to a PyTorch tensor and expanded to the same number of channels as the input image.\n",
    "\n",
    "5.  Finally, the method applies the mask to the input image, effectively setting the pixels in the masked regions to zero, and returns the result.\n",
    "\n",
    "Remember to import necessary libraries like numpy (np) and PyTorch (torch) before running this class definition. The class Cutout can then be used as part of your data augmentation pipeline when training your models.\n",
    "\n",
    "The Cutout code we are using comes from this specific file in the original GitHub repository: \\[https://github.com/uoguelph-mlrg/Cutout/blob/master/util/cutout.py\\]."
   ],
   "id": "d1bb3246-c10c-4eb7-9cd3-b7fef89a6ee1"
  },
  {
   "cell_type": "code",
   "execution_count": null,
   "metadata": {},
   "outputs": [],
   "source": [
    "# to do: link to the file in the original repo that this comes from\n",
    "# Source Code from https://github.com/uoguelph-mlrg/Cutout/blob/master/util/cutout.py\n",
    "class Cutout(object):\n",
    "    \"\"\"Randomly mask out one or more patches from an image.\n",
    "\n",
    "    Args:\n",
    "        n_holes (int): Number of patches to cut out of each image.\n",
    "        length (int): The length (in pixels) of each square patch.\n",
    "    \"\"\"\n",
    "    def __init__(self, n_holes, length):\n",
    "        self.n_holes = n_holes\n",
    "        self.length = length\n",
    "\n",
    "    def __call__(self, img):\n",
    "        \"\"\"\n",
    "        Args:\n",
    "            img (Tensor): Tensor image of size (C, H, W).\n",
    "        Returns:\n",
    "            Tensor: Image with n_holes of dimension length x length cut out of it.\n",
    "        \"\"\"\n",
    "        h = img.size(1)\n",
    "        w = img.size(2)\n",
    "\n",
    "        mask = np.ones((h, w), np.float32)\n",
    "\n",
    "        for n in range(self.n_holes):\n",
    "            y = np.random.randint(h)\n",
    "            x = np.random.randint(w)\n",
    "\n",
    "            y1 = np.clip(y - self.length // 2, 0, h)\n",
    "            y2 = np.clip(y + self.length // 2, 0, h)\n",
    "            x1 = np.clip(x - self.length // 2, 0, w)\n",
    "            x2 = np.clip(x + self.length // 2, 0, w)\n",
    "\n",
    "            mask[y1: y2, x1: x2] = 0.\n",
    "\n",
    "        mask = torch.from_numpy(mask)\n",
    "        mask = mask.expand_as(img)\n",
    "        img = img * mask\n",
    "\n",
    "        return img"
   ],
   "id": "9bc4be07-82d0-440a-b626-1df47396a96c"
  },
  {
   "cell_type": "markdown",
   "metadata": {},
   "source": [
    "To see how it works, in the following cell, you will upload an image of your choice to this workspace. To prevent any distortion due to resizing, it is advised to use an image that is approximately square in shape, as we will be resizing the image to a square format (100x100 pixels) later on:\n",
    "\n",
    "<!-- to do - add instructions for uploading image on Colab, or on Chameleon -->\n",
    "\n",
    "To see how Cutout works, let’s upload an image and apply Cutout to it. Follow these steps to upload an image in this Google Colab notebook:\n",
    "\n",
    "1.  Click on the folder icon in the left sidebar to open the ‘Files’ tab.\n",
    "2.  Click the ‘Upload to session storage’ button (the icon looks like a file with an up arrow).\n",
    "3.  Select the image file from your local machine that you want to upload.\n",
    "4.  Wait for the upload to finish. The uploaded file should now appear in the ‘Files’ tab. After the image is uploaded, we can use Python code to load it into our notebook and apply the Cutout augmentation\n",
    "\n",
    "If you are using Chameleon, here are the steps: <!-- to do - add instructions for uploading image on Chameleon -->\n",
    "\n",
    "1.  Click on the upload icon in the left sidebar.\n",
    "2.  Select the image file from your local machine that you want to upload.\n",
    "3.  Wait for the upload to finish. The uploaded file should now appear in the ‘Files’ tab. After the image is uploaded, we can use Python code to load it into our notebook and apply the Cutout augmentation to the image."
   ],
   "id": "2b795376-f894-4a67-a9c3-e247f76d11e6"
  },
  {
   "cell_type": "code",
   "execution_count": null,
   "metadata": {},
   "outputs": [],
   "source": [
    "# TODO: Replace 'sample.png' with the filename of your own image. \n",
    "# If your image is inside a directory, include the directory's name in the path.\n",
    "img = Image.open('./sample.png')\n",
    "\n",
    "# Resize the image to 100x100\n",
    "img = img.resize((100, 100))"
   ],
   "id": "7554d531-260c-4dc0-8878-3b08eaa20d18"
  },
  {
   "cell_type": "markdown",
   "metadata": {},
   "source": [
    "Then, the following cell will display your image directly, without any data augmentation:"
   ],
   "id": "487dc4ba-e238-4098-b027-6f69e7f75521"
  },
  {
   "cell_type": "code",
   "execution_count": null,
   "metadata": {},
   "outputs": [],
   "source": [
    "# Convert the image to a PyTorch tensor\n",
    "img_tensor = transforms.ToTensor()(img)\n",
    "\n",
    "# Display the original image\n",
    "plt.figure(figsize=(6,6))\n",
    "plt.imshow(img_tensor.permute(1, 2, 0))\n",
    "plt.show()"
   ],
   "id": "6a8d9753-bf7d-46ba-b0a2-827130998ab9"
  },
  {
   "cell_type": "markdown",
   "metadata": {},
   "source": [
    "and the next cell will display your image with Cutout applied:"
   ],
   "id": "980b651a-5c7d-4845-a3f7-c7d73590a732"
  },
  {
   "cell_type": "code",
   "execution_count": null,
   "metadata": {},
   "outputs": [],
   "source": [
    "# Create a Cutout object\n",
    "cutout_obj = Cutout(n_holes=1, length=50)\n",
    "\n",
    "# Apply Cutout to the image\n",
    "img_tensor_Cutout = cutout_obj(img_tensor)\n",
    "\n",
    "# Convert the tensor back to an image for visualization\n",
    "img_Cutout = transforms.ToPILImage()(img_tensor_Cutout)\n",
    "\n",
    "# Display the image with Cutout applied\n",
    "plt.figure(figsize=(6,6))\n",
    "plt.imshow(img_tensor_Cutout.permute(1, 2, 0))\n",
    "plt.show()"
   ],
   "id": "2ae84ca2-8901-454b-b142-2be7699d8387"
  },
  {
   "cell_type": "markdown",
   "metadata": {},
   "source": [
    "Things to try:\n",
    "\n",
    "-   You can re-run the cell above several times to see how the occlusion is randomly placed in a different position each time.\n",
    "-   You can try changing the `length` parameter in the cell above, and re-running, to see how the size of the occlusion can change.\n",
    "-   You can try changing the `n_holes` parameter in the cell above, and re-running, to see how the number of occlusions can change."
   ],
   "id": "ff0c0d91-7955-433d-b03e-25624a641a1e"
  },
  {
   "cell_type": "code",
   "execution_count": null,
   "metadata": {},
   "outputs": [],
   "source": [
    " #TODO: Set the number of patches (\"holes\") to cut out of the image.\n",
    "n_holes = \n",
    "\n",
    "#TODO: Set the size (length of a side) of each patch.\n",
    "length = \n",
    "\n",
    "\n",
    "# Create a Cutout object\n",
    "Cutout = Cutout(n_holes, length)\n",
    "\n",
    "# Apply Cutout to the image\n",
    "img_tensor_Cutout = Cutout(img_tensor)\n",
    "\n",
    "# Convert the tensor back to an image for visualization\n",
    "img_Cutout = transforms.ToPILImage()(img_tensor_Cutout)\n",
    "\n",
    "# Display the image with Cutout applied\n",
    "plt.figure(figsize=(6,6))\n",
    "plt.imshow(img_tensor_Cutout.permute(1, 2, 0))\n",
    "plt.show()"
   ],
   "id": "9a795e05-443a-44c2-ad2f-40e1851e046d"
  },
  {
   "cell_type": "markdown",
   "metadata": {},
   "source": [
    "Cutout was introduced as an alternative to two closely related techniques:\n",
    "\n",
    "-   Data Augmentation for Images: Data augmentation is a strategy used to increase the diversity of the data available for training models, without actually collecting new data. For image data, this could include operations like rotation, scaling, cropping, flipping, and adding noise. The goal is to make the model more robust by allowing it to see more variations of the data.\n",
    "\n",
    "-   Dropout in Convolutional Neural Networks: Dropout is a regularization technique for reducing overfitting in neural networks. During training, some number of layer outputs are randomly ignored or “dropped out”. This has the effect of making the layer look-like and be treated-like a layer with a different number of nodes and connectivity to the prior layer. In effect, dropout simulates ensembling a large number of neural networks with different architectures, which makes the model more robust.\n",
    "\n",
    "<!-- to do - expand on these -->"
   ],
   "id": "ae9101c0-cb02-45d5-be4e-7473d54dbf50"
  },
  {
   "cell_type": "markdown",
   "metadata": {},
   "source": [
    "In the following code snippet, we demonstrate some “standard” data augmentation techniques commonly used in image preprocessing. These techniques include random horizontal flipping, random cropping, and color jittering (random variation in brightness, contrast, saturation, and hue). The augmented image is then displayed alongside the original image for comparison."
   ],
   "id": "e004607c-5fe2-4163-a63a-62dcff35198f"
  },
  {
   "cell_type": "code",
   "execution_count": null,
   "metadata": {},
   "outputs": [],
   "source": [
    "# to do - show the same image with \"standard\" data augmentation techniques\n",
    "# discussed in the related work section of the paper\n",
    "\n",
    "# Define standard data augmentation techniques\n",
    "transforms_data_augmentation = transforms.Compose([\n",
    "    RandomHorizontalFlip(),\n",
    "    RandomCrop(size=(100, 100), padding=4),  # assuming input image is size 100x100\n",
    "    ColorJitter(brightness=0.2, contrast=0.2, saturation=0.2, hue=0.1),\n",
    "])\n",
    "\n",
    "# Apply transformations to the image\n",
    "augmented_img = transforms_data_augmentation(img)\n",
    "\n",
    "# Display the original and augmented image\n",
    "fig, ax = plt.subplots(1, 2, figsize=(10, 5))\n",
    "ax[0].imshow(img)\n",
    "ax[0].set_title('Original Image')\n",
    "ax[1].imshow(augmented_img)\n",
    "ax[1].set_title('Augmented Image')\n",
    "plt.show()\n"
   ],
   "id": "0392112e-76c2-49d8-8729-13d9056ba6e6"
  },
  {
   "cell_type": "markdown",
   "metadata": {},
   "source": [
    "### 02. ResNet"
   ],
   "id": "932381f9-2a28-4cf0-a36c-4bc0415fdc41"
  },
  {
   "cell_type": "markdown",
   "metadata": {},
   "source": [
    "Note: for faster training, use Runtime \\> Change Runtime Type to run this notebook on a GPU."
   ],
   "id": "8ccd8c77-a5c0-4100-953d-0b55ce19b1eb"
  },
  {
   "cell_type": "markdown",
   "metadata": {},
   "source": [
    "In the Cutout paper, the authors claim that:\n",
    "\n",
    "1.  Cutout improves the robustness and overall performance of convolutional neural networks.\n",
    "2.  Cutout can be used in conjunction with existing forms of data augmentation and other regularizers to further improve model performance.\n",
    "\n",
    "In this section, we will evaluate these claims using a ResNet model. For the ResNet model, the specific quantitative claims are given in the following table:\n",
    "\n",
    "Test error (%, flip/translation augmentation, mean/std normalization, mean of 5 runs) and “+” indicates standard data augmentation (mirror + crop)\n",
    "\n",
    "| **Network**       | **CIFAR-10** | **CIFAR-10+** | **CIFAR-100** | **CIFAR-100+** |\n",
    "|-------------|--------------|----------------|--------------|----------------|\n",
    "| ResNet18          | 10.63        | 4.72          | 36.68         | 22.46          |\n",
    "| ResNet18 + cutout | 9.31         | 3.99          | 34.98         | 21.96          |\n",
    "\n",
    "The provided table displays the results of experiments conducted on the CIFAR-10 and CIFAR-100 datasets using the ResNet18 architecture, revealing the impact of standard and cutout data augmentation techniques. The “CIFAR-10+” and “CIFAR-100+” labels indicate the use of standard data augmentation, which involves mirror and crop techniques.\n",
    "\n",
    "With the use of standard data augmentation on CIFAR-10, the ResNet18 model’s test error is significantly reduced from 14.04% to 5.72%. Further enhancement is achieved when cutout augmentation is applied, bringing down the error to 4.86%. A similar pattern is observed in the case of the CIFAR-100 dataset, where standard augmentation reduces the ResNet18 model’s test error from 40.13% to 24.36%. Upon applying cutout augmentation, a slight further reduction in error to 23.9% is noted.\n",
    "\n",
    "These findings emphasize the efficacy of both standard and cutout data augmentation techniques in enhancing the model’s performance, evidenced by the reduction in test error rates on both CIFAR-10 and CIFAR-100 datasets. The results also highlight that the impact of data augmentation can vary based on the complexity of the dataset, illustrated by the differing rates of error reduction between CIFAR-10 and CIFAR-100."
   ],
   "id": "9b012c17-cd93-463a-89fe-bcc72d9776a7"
  },
  {
   "cell_type": "markdown",
   "metadata": {},
   "source": [
    "### Import Library"
   ],
   "id": "377ed7d0-776b-4dda-ae72-6a2a6d448f55"
  },
  {
   "cell_type": "code",
   "execution_count": null,
   "metadata": {},
   "outputs": [],
   "source": [
    "import torch\n",
    "import torch.nn as nn\n",
    "import torch.nn.functional as F\n",
    "from torch.autograd import Variable\n",
    "import torch.backends.cudnn as cudnn\n",
    "from torch.optim.lr_scheduler import MultiStepLR\n",
    "from torchvision import datasets, transforms\n",
    "import numpy as np\n",
    "import os\n",
    "from tqdm import tqdm"
   ],
   "id": "cc6eff62-8d5b-4ff4-86e9-9ad0e616e078"
  },
  {
   "cell_type": "markdown",
   "metadata": {},
   "source": [
    "Check Cuda GPU availability and set seed number"
   ],
   "id": "c5943930-1545-464a-a0cc-54899585a320"
  },
  {
   "cell_type": "code",
   "execution_count": null,
   "metadata": {},
   "outputs": [],
   "source": [
    "cuda = torch.cuda.is_available()\n",
    "cudnn.benchmark = True  # Should make training should go faster for large models\n",
    "\n",
    "seed = 1\n",
    "torch.manual_seed(seed)"
   ],
   "id": "cb0b49d3-9078-40cb-878d-24ef9a84d085"
  },
  {
   "cell_type": "markdown",
   "metadata": {},
   "source": [
    "This code block is used for creating a directory named ‘checkpoints’. This directory will be used to store the weights of our models, which are crucial for both preserving our progress during model training and for future use of the trained models.\n",
    "\n",
    "Creating such a directory and regularly saving model weights is a good practice in machine learning, as it ensures that you can resume your work from where you left off, should the training process be interrupted."
   ],
   "id": "b328a370-6642-4ca2-b4f3-811abc9f01a0"
  },
  {
   "cell_type": "code",
   "execution_count": null,
   "metadata": {},
   "outputs": [],
   "source": [
    "# Create file names 'checkpoints' to save the weight of the models\n",
    "if not os.path.exists('./checkpoints'):\n",
    "    os.makedirs('./checkpoints')"
   ],
   "id": "df6c7360-6aa3-473f-980a-449a8b8455c1"
  },
  {
   "cell_type": "markdown",
   "metadata": {},
   "source": [
    "### 2.1.1 ResNet Code"
   ],
   "id": "59eee15d-f4f9-409b-9229-7ffd9ec72296"
  },
  {
   "cell_type": "code",
   "execution_count": null,
   "metadata": {},
   "outputs": [],
   "source": [
    "# ResNet\n",
    "# From https://github.com/uoguelph-mlrg/Cutout/blob/master/model/resnet.py\n",
    "\n",
    "def conv3x3(in_planes, out_planes, stride=1):\n",
    "    return nn.Conv2d(in_planes, out_planes, kernel_size=3, stride=stride, padding=1, bias=False)\n",
    "\n",
    "\n",
    "class BasicBlock(nn.Module):\n",
    "    expansion = 1\n",
    "\n",
    "    def __init__(self, in_planes, planes, stride=1):\n",
    "        super(BasicBlock, self).__init__()\n",
    "        self.conv1 = conv3x3(in_planes, planes, stride)\n",
    "        self.bn1 = nn.BatchNorm2d(planes)\n",
    "        self.conv2 = conv3x3(planes, planes)\n",
    "        self.bn2 = nn.BatchNorm2d(planes)\n",
    "\n",
    "        self.shortcut = nn.Sequential()\n",
    "        if stride != 1 or in_planes != self.expansion*planes:\n",
    "            self.shortcut = nn.Sequential(\n",
    "                nn.Conv2d(in_planes, self.expansion*planes, kernel_size=1, stride=stride, bias=False),\n",
    "                nn.BatchNorm2d(self.expansion*planes)\n",
    "            )\n",
    "\n",
    "    def forward(self, x):\n",
    "        out = F.relu(self.bn1(self.conv1(x)))\n",
    "        out = self.bn2(self.conv2(out))\n",
    "        out += self.shortcut(x)\n",
    "        out = F.relu(out)\n",
    "        return out\n",
    "\n",
    "\n",
    "class Bottleneck(nn.Module):\n",
    "    expansion = 4\n",
    "\n",
    "    def __init__(self, in_planes, planes, stride=1):\n",
    "        super(Bottleneck, self).__init__()\n",
    "        self.conv1 = nn.Conv2d(in_planes, planes, kernel_size=1, bias=False)\n",
    "        self.bn1 = nn.BatchNorm2d(planes)\n",
    "        self.conv2 = nn.Conv2d(planes, planes, kernel_size=3, stride=stride, padding=1, bias=False)\n",
    "        self.bn2 = nn.BatchNorm2d(planes)\n",
    "        self.conv3 = nn.Conv2d(planes, self.expansion*planes, kernel_size=1, bias=False)\n",
    "        self.bn3 = nn.BatchNorm2d(self.expansion*planes)\n",
    "\n",
    "        self.shortcut = nn.Sequential()\n",
    "        if stride != 1 or in_planes != self.expansion*planes:\n",
    "            self.shortcut = nn.Sequential(\n",
    "                nn.Conv2d(in_planes, self.expansion*planes, kernel_size=1, stride=stride, bias=False),\n",
    "                nn.BatchNorm2d(self.expansion*planes)\n",
    "            )\n",
    "\n",
    "    def forward(self, x):\n",
    "        out = F.relu(self.bn1(self.conv1(x)))\n",
    "        out = F.relu(self.bn2(self.conv2(out)))\n",
    "        out = self.bn3(self.conv3(out))\n",
    "        out += self.shortcut(x)\n",
    "        out = F.relu(out)\n",
    "        return out\n",
    "\n",
    "\n",
    "class ResNet(nn.Module):\n",
    "    def __init__(self, block, num_blocks, num_classes=10):\n",
    "        super(ResNet, self).__init__()\n",
    "        self.in_planes = 64\n",
    "\n",
    "        self.conv1 = conv3x3(3,64)\n",
    "        self.bn1 = nn.BatchNorm2d(64)\n",
    "        self.layer1 = self._make_layer(block, 64, num_blocks[0], stride=1)\n",
    "        self.layer2 = self._make_layer(block, 128, num_blocks[1], stride=2)\n",
    "        self.layer3 = self._make_layer(block, 256, num_blocks[2], stride=2)\n",
    "        self.layer4 = self._make_layer(block, 512, num_blocks[3], stride=2)\n",
    "        self.linear = nn.Linear(512*block.expansion, num_classes)\n",
    "\n",
    "    def _make_layer(self, block, planes, num_blocks, stride):\n",
    "        strides = [stride] + [1]*(num_blocks-1)\n",
    "        layers = []\n",
    "        for stride in strides:\n",
    "            layers.append(block(self.in_planes, planes, stride))\n",
    "            self.in_planes = planes * block.expansion\n",
    "        return nn.Sequential(*layers)\n",
    "\n",
    "    def forward(self, x):\n",
    "        out = F.relu(self.bn1(self.conv1(x)))\n",
    "        out = self.layer1(out)\n",
    "        out = self.layer2(out)\n",
    "        out = self.layer3(out)\n",
    "        out = self.layer4(out)\n",
    "        out = F.avg_pool2d(out, 4)\n",
    "        out = out.view(out.size(0), -1)\n",
    "        out = self.linear(out)\n",
    "        return out\n",
    "\n",
    "\n",
    "def ResNet18(num_classes=10):\n",
    "    return ResNet(BasicBlock, [2,2,2,2], num_classes)"
   ],
   "id": "6a0ba984-9796-461a-b373-369d22dc33a5"
  },
  {
   "cell_type": "markdown",
   "metadata": {},
   "source": [
    "### 2.1.2. Model Evaluate Test Code\n",
    "\n",
    "This function evaluates the performance of the model on a given data loader (loader). It sets the model to evaluation mode (eval), calculates the accuracy on the dataset, and returns the validation accuracy. It then switches the model back to training mode (train) before returning the validation accuracy."
   ],
   "id": "9c9b7997-6ce2-4638-bfbe-829b629474b5"
  },
  {
   "cell_type": "code",
   "execution_count": null,
   "metadata": {},
   "outputs": [],
   "source": [
    "def test(loader, cnn):\n",
    "    cnn.eval()    # Change model to 'eval' mode (BN uses moving mean/var).\n",
    "    correct = 0.\n",
    "    total = 0.\n",
    "    for images, labels in loader:\n",
    "        images = images.cuda()\n",
    "        labels = labels.cuda()\n",
    "\n",
    "        with torch.no_grad():\n",
    "            pred = cnn(images)\n",
    "\n",
    "        pred = torch.max(pred.data, 1)[1]\n",
    "        total += labels.size(0)\n",
    "        correct += (pred == labels).sum().item()\n",
    "\n",
    "    val_acc = correct / total\n",
    "    cnn.train()\n",
    "    return val_acc"
   ],
   "id": "7b6e8aba-5cf4-46dc-8693-19df79b03336"
  },
  {
   "cell_type": "markdown",
   "metadata": {},
   "source": [
    "### 2.2.1. Training ResNet-18 in CF10 without Cutout"
   ],
   "id": "fb86297f-4c0f-433f-bd5b-267e2376c4c3"
  },
  {
   "cell_type": "markdown",
   "metadata": {},
   "source": [
    "Image Processing for CIFAR-10"
   ],
   "id": "a1669b24-2c90-4dab-aebc-2dae38e34f82"
  },
  {
   "cell_type": "code",
   "execution_count": null,
   "metadata": {},
   "outputs": [],
   "source": [
    "# Image Preprocessing\n",
    "\n",
    "normalize_image_cifar10 = transforms.Normalize(mean=[x / 255.0 for x in [125.3, 123.0, 113.9]], std=[x / 255.0 for x in [63.0, 62.1, 66.7]])\n",
    "\n",
    "train_transform_cifar10 = transforms.Compose([])\n",
    "\n",
    "train_transform_cifar10.transforms.append(transforms.ToTensor())\n",
    "train_transform_cifar10.transforms.append(normalize_image_cifar10)\n",
    "\n",
    "\n",
    "\n",
    "test_transform_cifar10 = transforms.Compose([\n",
    "    transforms.ToTensor(),\n",
    "    normalize_image_cifar10])"
   ],
   "id": "9a8ae975-99fa-418e-8930-1d9c30ae326e"
  },
  {
   "cell_type": "markdown",
   "metadata": {},
   "source": [
    "Import the dataset of CIFAR-10"
   ],
   "id": "089bb995-6a83-4683-b77c-e1dc0528ab58"
  },
  {
   "cell_type": "code",
   "execution_count": null,
   "metadata": {},
   "outputs": [],
   "source": [
    "train_dataset_cifar10 = datasets.CIFAR10(root='data/',\n",
    "                                     train=True,\n",
    "                                     transform=train_transform_cifar10,\n",
    "                                     download=True)\n",
    "\n",
    "test_dataset_cifar10 = datasets.CIFAR10(root='data/',\n",
    "                                    train=False,\n",
    "                                    transform=test_transform_cifar10,\n",
    "                                    download=True)"
   ],
   "id": "a65906b6-61c5-4ffc-824c-0f4ba079e953"
  },
  {
   "cell_type": "markdown",
   "metadata": {},
   "source": [
    "Create Dataset as Dataloader"
   ],
   "id": "191c27f3-6f8a-46af-80a4-be2b45df4738"
  },
  {
   "cell_type": "code",
   "execution_count": null,
   "metadata": {},
   "outputs": [],
   "source": [
    "# Data Loader (Input Pipeline)\n",
    "batch_size_cifar10 = 128\n",
    "train_loader_cifar10 = torch.utils.data.DataLoader(dataset=train_dataset_cifar10,\n",
    "                                           batch_size=batch_size_cifar10,\n",
    "                                           shuffle=True,\n",
    "                                           pin_memory=True,\n",
    "                                           num_workers=2)\n",
    "\n",
    "test_loader_cifar10 = torch.utils.data.DataLoader(dataset=test_dataset_cifar10,\n",
    "                                          batch_size=batch_size_cifar10,\n",
    "                                          shuffle=False,\n",
    "                                          pin_memory=True,\n",
    "                                          num_workers=2)"
   ],
   "id": "85e1652e-2612-4044-8b71-e9a21ef11073"
  },
  {
   "cell_type": "markdown",
   "metadata": {},
   "source": [
    "Define the model"
   ],
   "id": "d7cc2a78-8041-4a91-8764-a021d6de53ac"
  },
  {
   "cell_type": "markdown",
   "metadata": {},
   "source": [
    "This code block sets up the machine learning model, loss function, optimizer, and learning rate scheduler."
   ],
   "id": "6ae7e683-882a-4aaf-8310-f76d0a8863fc"
  },
  {
   "cell_type": "code",
   "execution_count": null,
   "metadata": {},
   "outputs": [],
   "source": [
    "#file_name will be the used for the name of the file of weight of the model and also the result\n",
    "file_name_resnet18_cifar10 = \"resnet18_cifar10\"\n",
    "\n",
    "num_classes_cifar10 = 10\n",
    "resnet18_cifar10 = ResNet18(num_classes=num_classes_cifar10)\n",
    "\n",
    "\n",
    "resnet18_cifar10 = resnet18_cifar10.cuda()\n",
    "learning_rate_resnet18_cifar10 = 0.1\n",
    "criterion_resnet18_cifar10 = nn.CrossEntropyLoss().cuda()\n",
    "cnn_optimizer_resnet18_cifar10 = torch.optim.SGD(resnet18_cifar10.parameters(), lr=learning_rate_resnet18_cifar10,\n",
    "                                momentum=0.9, nesterov=True, weight_decay=5e-4)\n",
    "scheduler_resnet18_cifar10 = MultiStepLR(cnn_optimizer_resnet18_cifar10, milestones=[60, 120, 160], gamma=0.2)"
   ],
   "id": "232bde13-8647-4a7e-b27e-20306e0c6625"
  },
  {
   "cell_type": "markdown",
   "metadata": {},
   "source": [
    "Training ResNet-18 withuout Cutout"
   ],
   "id": "e0a3d6c2-6876-4eb3-bfdb-8aba37e04f26"
  },
  {
   "cell_type": "markdown",
   "metadata": {},
   "source": [
    "This code runs the training loop for the chosen machine learning model over a specified number of epochs. Each epoch involves a forward pass, loss computation, backpropagation, and parameter updates. It also calculates and displays the training accuracy and cross-entropy loss. At the end of each epoch, the model’s performance is evaluated on the test set, and the results are logged and saved."
   ],
   "id": "e4889a36-97e8-41f6-8c4c-c37a192395cf"
  },
  {
   "cell_type": "code",
   "execution_count": null,
   "metadata": {},
   "outputs": [],
   "source": [
    "epochs = 200\n",
    "for epoch in range(epochs):\n",
    "\n",
    "    xentropy_loss_avg = 0.\n",
    "    correct = 0.\n",
    "    total = 0.\n",
    "\n",
    "    progress_bar = tqdm(train_loader_cifar10)\n",
    "    for i, (images, labels) in enumerate(progress_bar):\n",
    "        progress_bar.set_description('Epoch ' + str(epoch))\n",
    "\n",
    "        images = images.cuda()\n",
    "        labels = labels.cuda()\n",
    "\n",
    "        resnet18_cifar10.zero_grad()\n",
    "        pred = resnet18_cifar10(images)\n",
    "\n",
    "        xentropy_loss = criterion_resnet18_cifar10(pred, labels)\n",
    "        xentropy_loss.backward()\n",
    "        cnn_optimizer_resnet18_cifar10.step()\n",
    "\n",
    "        xentropy_loss_avg += xentropy_loss.item()\n",
    "\n",
    "        # Calculate running average of accuracy\n",
    "        pred = torch.max(pred.data, 1)[1]\n",
    "        total += labels.size(0)\n",
    "        correct += (pred == labels.data).sum().item()\n",
    "        accuracy = correct / total\n",
    "\n",
    "        progress_bar.set_postfix(\n",
    "            xentropy='%.3f' % (xentropy_loss_avg / (i + 1)),\n",
    "            acc='%.3f' % accuracy)\n",
    "\n",
    "    test_accr_resnet18_cifar10 = test(test_loader_cifar10, resnet18_cifar10)\n",
    "    tqdm.write('test_acc: %.3f' % (test_accr_resnet18_cifar10))\n",
    "\n",
    "    #scheduler.step(epoch)  # Use this line for PyTorch <1.4\n",
    "    scheduler_resnet18_cifar10.step()     # Use this line for PyTorch >=1.4\n",
    "\n",
    "    \n",
    "torch.save(resnet18_cifar10.state_dict(), 'checkpoints/' + file_name_resnet18_cifar10 + '.pt')\n",
    "\n",
    "\n",
    "final_test_acc_resnet18_cifar10 = (1 - test(test_loader_cifar10, resnet18_cifar10))*100\n",
    "print('Final Result ResNet-18 without Cutout for Test CIFAR-10 Dataset: %.3f' % (final_test_acc_resnet18_cifar10))"
   ],
   "id": "78bc0b60-b550-470b-a2d8-a7c28bf36250"
  },
  {
   "cell_type": "markdown",
   "metadata": {},
   "source": [
    "### 2.2.2. Training ResNet-18 in CF10 with Cutout"
   ],
   "id": "0ae37bf4-cf28-4fff-983b-0c7fcc82dc39"
  },
  {
   "cell_type": "markdown",
   "metadata": {},
   "source": [
    "Cutout Code"
   ],
   "id": "8dd8300c-64c0-44a3-b22d-083865b84eb4"
  },
  {
   "cell_type": "code",
   "execution_count": null,
   "metadata": {},
   "outputs": [],
   "source": [
    "# to do: link to the file in the original repo that this comes from\n",
    "# Source Code from https://github.com/uoguelph-mlrg/Cutout/blob/master/util/cutout.py\n",
    "class Cutout(object):\n",
    "    \"\"\"Randomly mask out one or more patches from an image.\n",
    "\n",
    "    Args:\n",
    "        n_holes (int): Number of patches to cut out of each image.\n",
    "        length (int): The length (in pixels) of each square patch.\n",
    "    \"\"\"\n",
    "    def __init__(self, n_holes, length):\n",
    "        self.n_holes = n_holes\n",
    "        self.length = length\n",
    "\n",
    "    def __call__(self, img):\n",
    "        \"\"\"\n",
    "        Args:\n",
    "            img (Tensor): Tensor image of size (C, H, W).\n",
    "        Returns:\n",
    "            Tensor: Image with n_holes of dimension length x length cut out of it.\n",
    "        \"\"\"\n",
    "        h = img.size(1)\n",
    "        w = img.size(2)\n",
    "\n",
    "        mask = np.ones((h, w), np.float32)\n",
    "\n",
    "        for n in range(self.n_holes):\n",
    "            y = np.random.randint(h)\n",
    "            x = np.random.randint(w)\n",
    "\n",
    "            y1 = np.clip(y - self.length // 2, 0, h)\n",
    "            y2 = np.clip(y + self.length // 2, 0, h)\n",
    "            x1 = np.clip(x - self.length // 2, 0, w)\n",
    "            x2 = np.clip(x + self.length // 2, 0, w)\n",
    "\n",
    "            mask[y1: y2, x1: x2] = 0.\n",
    "\n",
    "        mask = torch.from_numpy(mask)\n",
    "        mask = mask.expand_as(img)\n",
    "        img = img * mask\n",
    "\n",
    "        return img"
   ],
   "id": "4766bc5a-749d-4b77-850a-dd3d5909467d"
  },
  {
   "cell_type": "markdown",
   "metadata": {},
   "source": [
    "Image Processing for CIFAR-10"
   ],
   "id": "daf09d29-e0ad-4c53-9b9d-f388ad7604d6"
  },
  {
   "cell_type": "code",
   "execution_count": null,
   "metadata": {},
   "outputs": [],
   "source": [
    "# Image Preprocessing\n",
    "\n",
    "normalize_image_cifar10 = transforms.Normalize(mean=[x / 255.0 for x in [125.3, 123.0, 113.9]], std=[x / 255.0 for x in [63.0, 62.1, 66.7]])\n",
    "\n",
    "train_transform_cifar10_cutout = transforms.Compose([])\n",
    "\n",
    "train_transform_cifar10_cutout.transforms.append(transforms.ToTensor())\n",
    "train_transform_cifar10_cutout.transforms.append(normalize_image_cifar10)\n",
    "\n",
    "#Add Cutout to the image transformer piepeline\n",
    "n_holes_cifar10 = 1\n",
    "length_cifar10 = 16\n",
    "train_transform_cifar10_cutout.transforms.append(Cutout(n_holes=n_holes_cifar10, length=length_cifar10))\n",
    "\n",
    "\n",
    "test_transform_cifar10 = transforms.Compose([\n",
    "    transforms.ToTensor(),\n",
    "    normalize_image_cifar10])"
   ],
   "id": "524668c4-8a5f-4b0a-8198-7981912959c5"
  },
  {
   "cell_type": "markdown",
   "metadata": {},
   "source": [
    "Import the dataset of CIFAR-10"
   ],
   "id": "2c645390-0850-4e24-895f-861591c1ccec"
  },
  {
   "cell_type": "code",
   "execution_count": null,
   "metadata": {},
   "outputs": [],
   "source": [
    "train_dataset_cifar10_cutout = datasets.CIFAR10(root='data/',\n",
    "                                     train=True,\n",
    "                                     transform=train_transform_cifar10_cutout,\n",
    "                                     download=True)\n",
    "\n",
    "test_dataset_cifar10 = datasets.CIFAR10(root='data/',\n",
    "                                    train=False,\n",
    "                                    transform=test_transform_cifar10,\n",
    "                                    download=True)"
   ],
   "id": "737402a4-d0c4-4ef6-89d0-73ca12285202"
  },
  {
   "cell_type": "markdown",
   "metadata": {},
   "source": [
    "Create Dataset as Dataloader"
   ],
   "id": "e1de324d-5711-4c55-80c3-6ed82c7033e8"
  },
  {
   "cell_type": "code",
   "execution_count": null,
   "metadata": {},
   "outputs": [],
   "source": [
    "# Data Loader (Input Pipeline)\n",
    "batch_size_cifar10_cutout = 128\n",
    "train_loader_cifar10_cutout = torch.utils.data.DataLoader(dataset=train_dataset_cifar10_cutout,\n",
    "                                           batch_size=batch_size_cifar10_cutout,\n",
    "                                           shuffle=True,\n",
    "                                           pin_memory=True,\n",
    "                                           num_workers=2)\n",
    "\n",
    "test_loader_cifar10 = torch.utils.data.DataLoader(dataset=test_dataset_cifar10,\n",
    "                                          batch_size=batch_size_cifar10_cutout,\n",
    "                                          shuffle=False,\n",
    "                                          pin_memory=True,\n",
    "                                          num_workers=2)"
   ],
   "id": "51b7b4a3-7e21-423c-8000-bc26debc2f6e"
  },
  {
   "cell_type": "markdown",
   "metadata": {},
   "source": [
    "Define the model"
   ],
   "id": "8da6384e-a3c4-4cec-abc4-53089b91b02e"
  },
  {
   "cell_type": "markdown",
   "metadata": {},
   "source": [
    "This code block sets up the machine learning model, loss function, optimizer, and learning rate scheduler."
   ],
   "id": "190c0db1-eb01-4695-90bb-290af2626e10"
  },
  {
   "cell_type": "code",
   "execution_count": null,
   "metadata": {},
   "outputs": [],
   "source": [
    "#file_name will be the used for the name of the file of weight of the model and also the result\n",
    "file_name_resnet18_cifar10_cutout = \"resnet18_cifar10_cutout\"\n",
    "\n",
    "num_classes_cifar10 = 10\n",
    "resnet18_cifar10_cutout = ResNet18(num_classes=num_classes_cifar10)\n",
    "\n",
    "\n",
    "resnet18_cifar10_cutout = resnet18_cifar10_cutout.cuda()\n",
    "learning_rate_resnet18_cifar10_cutout = 0.1\n",
    "criterion_resnet18_cifar10_cutout = nn.CrossEntropyLoss().cuda()\n",
    "cnn_optimizer_resnet18_cifar10_cutout = torch.optim.SGD(resnet18_cifar10_cutout.parameters(), lr=learning_rate_resnet18_cifar10_cutout,\n",
    "                                momentum=0.9, nesterov=True, weight_decay=5e-4)\n",
    "scheduler_resnet18_cifar10_cutout = MultiStepLR(cnn_optimizer_resnet18_cifar10_cutout, milestones=[60, 120, 160], gamma=0.2)"
   ],
   "id": "231e69a0-fbb7-4fcc-8e57-30cc6bad2632"
  },
  {
   "cell_type": "markdown",
   "metadata": {},
   "source": [
    "Training ResNet-18 with Cutout"
   ],
   "id": "942f9d5a-195e-496b-8380-99897183b5eb"
  },
  {
   "cell_type": "markdown",
   "metadata": {},
   "source": [
    "This code runs the training loop for the chosen machine learning model over a specified number of epochs. Each epoch involves a forward pass, loss computation, backpropagation, and parameter updates. It also calculates and displays the training accuracy and cross-entropy loss. At the end of each epoch, the model’s performance is evaluated on the test set, and the results are logged and saved."
   ],
   "id": "22d8bcf0-9387-45d2-9229-d6a307608666"
  },
  {
   "cell_type": "code",
   "execution_count": null,
   "metadata": {},
   "outputs": [],
   "source": [
    "epochs = 200\n",
    "for epoch in range(epochs):\n",
    "\n",
    "    xentropy_loss_avg = 0.\n",
    "    correct = 0.\n",
    "    total = 0.\n",
    "\n",
    "    progress_bar = tqdm(train_loader_cifar10_cutout)\n",
    "    for i, (images, labels) in enumerate(progress_bar):\n",
    "        progress_bar.set_description('Epoch ' + str(epoch))\n",
    "\n",
    "        images = images.cuda()\n",
    "        labels = labels.cuda()\n",
    "\n",
    "        resnet18_cifar10_cutout.zero_grad()\n",
    "        pred = resnet18_cifar10_cutout(images)\n",
    "\n",
    "        xentropy_loss = criterion_resnet18_cifar10_cutout(pred, labels)\n",
    "        xentropy_loss.backward()\n",
    "        cnn_optimizer_resnet18_cifar10_cutout.step()\n",
    "\n",
    "        xentropy_loss_avg += xentropy_loss.item()\n",
    "\n",
    "        # Calculate running average of accuracy\n",
    "        pred = torch.max(pred.data, 1)[1]\n",
    "        total += labels.size(0)\n",
    "        correct += (pred == labels.data).sum().item()\n",
    "        accuracy = correct / total\n",
    "\n",
    "        progress_bar.set_postfix(\n",
    "            xentropy='%.3f' % (xentropy_loss_avg / (i + 1)),\n",
    "            acc='%.3f' % accuracy)\n",
    "\n",
    "    test_acc_cifar10 = test(test_loader_cifar10,resnet18_cifar10_cutout)\n",
    "    tqdm.write('test_acc: %.3f' % (test_acc_cifar10))\n",
    "    scheduler_resnet18_cifar10_cutout.step()     \n",
    "torch.save(resnet18_cifar10_cutout.state_dict(), 'checkpoints/' + file_name_resnet18_cifar10_cutout + '.pt')\n",
    "\n",
    "\n",
    "final_test_acc_resnet18_cifar10_cutout = (1 - test(test_loader_cifar10_cutout,resnet18_cifar10_cutout))*100\n",
    "print('Final Result ResNet-18 using Cutout for CIFAR-10 Test Dataset: %.3f' % (final_test_acc_resnet18_cifar10_cutout))"
   ],
   "id": "4643da1d-9292-4b23-99cd-db7aac346767"
  },
  {
   "cell_type": "markdown",
   "metadata": {},
   "source": [
    "### 2.2.3. Training ResNet-18 in CF10 with Data Augmentation"
   ],
   "id": "d8587cbb-5ecd-43a9-bea9-d200fd466946"
  },
  {
   "cell_type": "markdown",
   "metadata": {},
   "source": [
    "Image Processing for CIFAR-10"
   ],
   "id": "0960a81f-e394-4dab-88bb-bc00f2ed089a"
  },
  {
   "cell_type": "code",
   "execution_count": null,
   "metadata": {},
   "outputs": [],
   "source": [
    "# Image Preprocessing\n",
    "\n",
    "normalize_image_cifar10 = transforms.Normalize(mean=[x / 255.0 for x in [125.3, 123.0, 113.9]], std=[x / 255.0 for x in [63.0, 62.1, 66.7]])\n",
    "\n",
    "train_transform_cifar10_da = transforms.Compose([])\n",
    "train_transform_cifar10_da.transforms.append(transforms.RandomCrop(32, padding=4))\n",
    "train_transform_cifar10_da.transforms.append(transforms.RandomHorizontalFlip())\n",
    "train_transform_cifar10_da.transforms.append(transforms.ToTensor())\n",
    "train_transform_cifar10_da.transforms.append(normalize_image_cifar10)\n",
    "\n",
    "\n",
    "test_transform_cifar10 = transforms.Compose([\n",
    "    transforms.ToTensor(),\n",
    "    normalize_image_cifar10])"
   ],
   "id": "77778a6c-ff63-4a52-882f-0ff095a3fdbd"
  },
  {
   "cell_type": "markdown",
   "metadata": {},
   "source": [
    "Import the dataset of CIFAR-10"
   ],
   "id": "61af0b03-a710-48c3-9936-0a1be496d27d"
  },
  {
   "cell_type": "code",
   "execution_count": null,
   "metadata": {},
   "outputs": [],
   "source": [
    "train_dataset_cifar10_da = datasets.CIFAR10(root='data/',\n",
    "                                     train=True,\n",
    "                                     transform=train_transform_cifar10_da,\n",
    "                                     download=True)\n",
    "\n",
    "test_dataset_cifar10 = datasets.CIFAR10(root='data/',\n",
    "                                    train=False,\n",
    "                                    transform=test_transform_cifar10,\n",
    "                                    download=True)"
   ],
   "id": "59c8c7dc-69f8-4a58-ab48-e5949707eeba"
  },
  {
   "cell_type": "markdown",
   "metadata": {},
   "source": [
    "Create Dataset as Dataloader"
   ],
   "id": "fc69968e-5bd7-41ba-8773-a1551cc12247"
  },
  {
   "cell_type": "code",
   "execution_count": null,
   "metadata": {},
   "outputs": [],
   "source": [
    "# Data Loader (Input Pipeline)\n",
    "batch_size_cifar10_da = 128\n",
    "train_loader_cifar10_da = torch.utils.data.DataLoader(dataset=train_dataset_cifar10_da,\n",
    "                                           batch_size=batch_size_cifar10_da,\n",
    "                                           shuffle=True,\n",
    "                                           pin_memory=True,\n",
    "                                           num_workers=2)\n",
    "\n",
    "test_loader_cifar10 = torch.utils.data.DataLoader(dataset=test_dataset_cifar10,\n",
    "                                          batch_size=batch_size_cifar10_da,\n",
    "                                          shuffle=False,\n",
    "                                          pin_memory=True,\n",
    "                                          num_workers=2)"
   ],
   "id": "ec8ce9c3-8163-43d8-a1f6-8913096c0529"
  },
  {
   "cell_type": "markdown",
   "metadata": {},
   "source": [
    "Define the model"
   ],
   "id": "0c720514-b51e-45cf-a363-3f91c0b531c2"
  },
  {
   "cell_type": "markdown",
   "metadata": {},
   "source": [
    "This code block sets up the machine learning model, loss function, optimizer, and learning rate scheduler."
   ],
   "id": "27313736-d05a-40cc-94c0-a3a0d33b59ea"
  },
  {
   "cell_type": "code",
   "execution_count": null,
   "metadata": {},
   "outputs": [],
   "source": [
    "#file_name will be the used for the name of the file of weight of the model and also the result\n",
    "file_name_resnet18_cifar10_da = \"resnet18_cifar10_da\"\n",
    "\n",
    "num_classes_cifar10 = 10\n",
    "resnet18_cifar10_da = ResNet18(num_classes=num_classes_cifar10)\n",
    "\n",
    "\n",
    "resnet18_cifar10_da = resnet18_cifar10_da.cuda()\n",
    "learning_rate_resnet18_cifar10_da = 0.1\n",
    "criterion_resnet18_cifar10_da = nn.CrossEntropyLoss().cuda()\n",
    "cnn_optimizer_resnet18_cifar10_da = torch.optim.SGD(resnet18_cifar10_da.parameters(), lr=learning_rate_resnet18_cifar10_da,\n",
    "                                momentum=0.9, nesterov=True, weight_decay=5e-4)\n",
    "scheduler_resnet18_cifar10_da = MultiStepLR(cnn_optimizer_resnet18_cifar10_da, milestones=[60, 120, 160], gamma=0.2)"
   ],
   "id": "7bae636b-881e-414e-8e43-c06f7babdcf6"
  },
  {
   "cell_type": "markdown",
   "metadata": {},
   "source": [
    "Training ResNet-18 with Data Augmentation"
   ],
   "id": "d8c452fb-3250-44c2-a8e2-cdbc9c745799"
  },
  {
   "cell_type": "markdown",
   "metadata": {},
   "source": [
    "This code runs the training loop for the chosen machine learning model over a specified number of epochs. Each epoch involves a forward pass, loss computation, backpropagation, and parameter updates. It also calculates and displays the training accuracy and cross-entropy loss. At the end of each epoch, the model’s performance is evaluated on the test set, and the results are logged and saved."
   ],
   "id": "a2218216-857a-4f1b-a62f-156298287138"
  },
  {
   "cell_type": "code",
   "execution_count": null,
   "metadata": {},
   "outputs": [],
   "source": [
    "epochs = 200\n",
    "for epoch in range(epochs):\n",
    "\n",
    "    xentropy_loss_avg = 0.\n",
    "    correct = 0.\n",
    "    total = 0.\n",
    "\n",
    "    progress_bar = tqdm(train_loader_cifar10_da)\n",
    "    for i, (images, labels) in enumerate(progress_bar):\n",
    "        progress_bar.set_description('Epoch ' + str(epoch))\n",
    "\n",
    "        images = images.cuda()\n",
    "        labels = labels.cuda()\n",
    "\n",
    "        resnet18_cifar10_da.zero_grad()\n",
    "        pred = resnet18_cifar10_da(images)\n",
    "\n",
    "        xentropy_loss = criterion_resnet18_cifar10_da(pred, labels)\n",
    "        xentropy_loss.backward()\n",
    "        cnn_optimizer_resnet18_cifar10_da.step()\n",
    "\n",
    "        xentropy_loss_avg += xentropy_loss.item()\n",
    "\n",
    "        # Calculate running average of accuracy\n",
    "        pred = torch.max(pred.data, 1)[1]\n",
    "        total += labels.size(0)\n",
    "        correct += (pred == labels.data).sum().item()\n",
    "        accuracy = correct / total\n",
    "\n",
    "        progress_bar.set_postfix(\n",
    "            xentropy='%.3f' % (xentropy_loss_avg / (i + 1)),\n",
    "            acc='%.3f' % accuracy)\n",
    "\n",
    "    test_acc_resnet18_cifar10_da = test(test_loader_cifar10,resnet18_cifar10_da)\n",
    "    tqdm.write('test_acc: %.3f' % (test_acc_resnet18_cifar10_da))\n",
    "    scheduler_resnet18_cifar10_da.step()     \n",
    "torch.save(resnet18_cifar10_da.state_dict(), 'checkpoints/' + file_name_resnet18_cifar10_da + '.pt')\n",
    "\n",
    "\n",
    "final_test_acc_resnet18_cifar10_da = (1 - test(test_loader_cifar10,resnet18_cifar10_da))*100\n",
    "print('Final Result ResNet-18 using Data Augmentation for CIFAR-10 Test Dataset: %.3f' % (final_test_acc_resnet18_cifar10_da))"
   ],
   "id": "dffd05e8-e181-48bb-950a-2752f78189c5"
  },
  {
   "cell_type": "markdown",
   "metadata": {},
   "source": [
    "### 2.2.4. Training ResNet-18 in CF10 with Data Augmentation with Cutout"
   ],
   "id": "bb2b3d16-7178-40d4-a0af-c0c616f4bff1"
  },
  {
   "cell_type": "markdown",
   "metadata": {},
   "source": [
    "Image Processing for CIFAR-10"
   ],
   "id": "2c8a6bd5-4002-4a24-a24e-8a2e4f6a3338"
  },
  {
   "cell_type": "code",
   "execution_count": null,
   "metadata": {},
   "outputs": [],
   "source": [
    "# Image Preprocessing\n",
    "\n",
    "normalize_image_cifar10 = transforms.Normalize(mean=[x / 255.0 for x in [125.3, 123.0, 113.9]], std=[x / 255.0 for x in [63.0, 62.1, 66.7]])\n",
    "\n",
    "train_transform_cifar10_da_co = transforms.Compose([])\n",
    "train_transform_cifar10_da_co.transforms.append(transforms.RandomCrop(32, padding=4))\n",
    "train_transform_cifar10_da_co.transforms.append(transforms.RandomHorizontalFlip())\n",
    "train_transform_cifar10_da_co.transforms.append(transforms.ToTensor())\n",
    "train_transform_cifar10_da_co.transforms.append(normalize_image_cifar10)\n",
    "\n",
    "#Add Cutout to the image transformer piepeline\n",
    "n_holes_cifar10_da_co = 1\n",
    "length_cifar10_da_co = 16\n",
    "train_transform_cifar10_da_co.transforms.append(Cutout(n_holes=n_holes_cifar10_da_co, length=length_cifar10_da_co))\n",
    "\n",
    "\n",
    "test_transform_cifar10 = transforms.Compose([\n",
    "    transforms.ToTensor(),\n",
    "    normalize_image_cifar10])"
   ],
   "id": "e211ff02-9f6e-48f7-af8e-3b4b6ad2844e"
  },
  {
   "cell_type": "markdown",
   "metadata": {},
   "source": [
    "Import the dataset of CIFAR-10"
   ],
   "id": "c92da145-d019-46fb-be3d-d62233d3941c"
  },
  {
   "cell_type": "code",
   "execution_count": null,
   "metadata": {},
   "outputs": [],
   "source": [
    "train_dataset_cifar10_da_co = datasets.CIFAR10(root='data/',\n",
    "                                     train=True,\n",
    "                                     transform=train_transform_cifar10_da_co,\n",
    "                                     download=True)\n",
    "\n",
    "test_dataset_cifar10 = datasets.CIFAR10(root='data/',\n",
    "                                    train=False,\n",
    "                                    transform=test_transform_cifar10,\n",
    "                                    download=True)"
   ],
   "id": "78d6f26b-39f3-4230-a4fc-970be3af1897"
  },
  {
   "cell_type": "markdown",
   "metadata": {},
   "source": [
    "Create Dataset as Dataloader"
   ],
   "id": "83db0b19-36a3-4a98-bfd9-37e868208122"
  },
  {
   "cell_type": "code",
   "execution_count": null,
   "metadata": {},
   "outputs": [],
   "source": [
    "# Data Loader (Input Pipeline)\n",
    "batch_size_cifar10_da_co = 128\n",
    "train_loader_cifar10_da_co = torch.utils.data.DataLoader(dataset=train_dataset_cifar10_da_co,\n",
    "                                           batch_size=batch_size_cifar10_da_co,\n",
    "                                           shuffle=True,\n",
    "                                           pin_memory=True,\n",
    "                                           num_workers=2)\n",
    "\n",
    "test_loader_cifar10 = torch.utils.data.DataLoader(dataset=test_dataset_cifar10,\n",
    "                                          batch_size=batch_size_cifar10_da_co,\n",
    "                                          shuffle=False,\n",
    "                                          pin_memory=True,\n",
    "                                          num_workers=2)"
   ],
   "id": "2bfb86d4-cfdf-405b-9fa0-7a59b25d44ec"
  },
  {
   "cell_type": "markdown",
   "metadata": {},
   "source": [
    "Define the model"
   ],
   "id": "9c7b02c7-4a7c-4f98-8a03-9e7223b507c0"
  },
  {
   "cell_type": "markdown",
   "metadata": {},
   "source": [
    "This code block sets up the machine learning model, loss function, optimizer, and learning rate scheduler."
   ],
   "id": "2ad4e9a5-b6c5-415a-a19a-aa0cb750849c"
  },
  {
   "cell_type": "code",
   "execution_count": null,
   "metadata": {},
   "outputs": [],
   "source": [
    "#file_name will be the used for the name of the file of weight of the model and also the result\n",
    "file_name_resnet18_cifar10_da_cutout = \"resnet18_cifar10_da_cutout\"\n",
    "\n",
    "num_classes_cifar10 = 10\n",
    "resnet18_cifar10_da_cutout = ResNet18(num_classes=num_classes_cifar10)\n",
    "\n",
    "\n",
    "resnet18_cifar10_da_cutout = resnet18_cifar10_da_cutout.cuda()\n",
    "learning_rate_cifar10_da_cutout = 0.1\n",
    "criterion_cifar10_da_cutout = nn.CrossEntropyLoss().cuda()\n",
    "cnn_optimizer_cifar10_da_cutout = torch.optim.SGD(resnet18_cifar10_da_cutout.parameters(), lr=learning_rate_cifar10_da_cutout,\n",
    "                                momentum=0.9, nesterov=True, weight_decay=5e-4)\n",
    "scheduler_cifar10_da_cutout = MultiStepLR(cnn_optimizer_cifar10_da_cutout, milestones=[60, 120, 160], gamma=0.2)"
   ],
   "id": "f122cfee-733f-45bb-87d2-de6f7ba4eb67"
  },
  {
   "cell_type": "markdown",
   "metadata": {},
   "source": [
    "Training ResNet-18 with Cutout"
   ],
   "id": "dd6663b9-0123-4c0c-a5ac-ddb15d703e0f"
  },
  {
   "cell_type": "markdown",
   "metadata": {},
   "source": [
    "This code runs the training loop for the chosen machine learning model over a specified number of epochs. Each epoch involves a forward pass, loss computation, backpropagation, and parameter updates. It also calculates and displays the training accuracy and cross-entropy loss. At the end of each epoch, the model’s performance is evaluated on the test set, and the results are logged and saved."
   ],
   "id": "1713223f-153e-47c3-a47f-cb3079d5d1b8"
  },
  {
   "cell_type": "code",
   "execution_count": null,
   "metadata": {},
   "outputs": [],
   "source": [
    "epochs = 200\n",
    "for epoch in range(epochs):\n",
    "\n",
    "    xentropy_loss_avg = 0.\n",
    "    correct = 0.\n",
    "    total = 0.\n",
    "\n",
    "    progress_bar = tqdm(train_loader_cifar10_da_co)\n",
    "    for i, (images, labels) in enumerate(progress_bar):\n",
    "        progress_bar.set_description('Epoch ' + str(epoch))\n",
    "\n",
    "        images = images.cuda()\n",
    "        labels = labels.cuda()\n",
    "\n",
    "        resnet18_cifar10_da_cutout.zero_grad()\n",
    "        pred = resnet18_cifar10_da_cutout(images)\n",
    "\n",
    "        xentropy_loss = criterion_cifar10_da_cutout(pred, labels)\n",
    "        xentropy_loss.backward()\n",
    "        cnn_optimizer_cifar10_da_cutout.step()\n",
    "\n",
    "        xentropy_loss_avg += xentropy_loss.item()\n",
    "\n",
    "        # Calculate running average of accuracy\n",
    "        pred = torch.max(pred.data, 1)[1]\n",
    "        total += labels.size(0)\n",
    "        correct += (pred == labels.data).sum().item()\n",
    "        accuracy = correct / total\n",
    "\n",
    "        progress_bar.set_postfix(\n",
    "            xentropy='%.3f' % (xentropy_loss_avg / (i + 1)),\n",
    "            acc='%.3f' % accuracy)\n",
    "\n",
    "    test_acc_cifar10_da_cutout = test(test_loader_cifar10,resnet18_cifar10_da_cutout)\n",
    "    tqdm.write('test_acc: %.3f' % (test_acc_cifar10_da_cutout))\n",
    "    scheduler_cifar10_da_cutout.step()     \n",
    "torch.save(resnet18_cifar10_da_cutout.state_dict(), 'checkpoints/' + file_name_resnet18_cifar10_da_cutout + '.pt')\n",
    "\n",
    "\n",
    "final_test_acc_resnet18_cifar10_da_cutout = (1 - test(test_loader_cifar10,resnet18_cifar10_da_cutout))*100\n",
    "print('Final Result ResNet-18 using Data Augmentation and  Cutout for CIFAR-10 Test Dataset: %.3f' % (final_test_acc_resnet18_cifar10_da_cutout))"
   ],
   "id": "f21dd4c8-f25f-49c0-a541-1a6ccb06aef6"
  },
  {
   "cell_type": "code",
   "execution_count": null,
   "metadata": {},
   "outputs": [],
   "source": [
    "print('Final Result ResNet-18 without Cutout for Test CIFAR-10 Dataset: %.3f' % (final_test_acc_resnet18_cifar10))\n",
    "print('Final Result ResNet-18 using Cutout for CIFAR-10 Test Dataset: %.3f' % (final_test_acc_resnet18_cifar10_cutout))\n",
    "print('Final Result ResNet-18 using Data Augmentation for CIFAR-10 Test Dataset: %.3f' % (final_test_acc_resnet18_cifar10_da))\n",
    "print('Final Result ResNet-18 using Data Augmentation and  Cutout for CIFAR-10 Test Dataset: %.3f' % (final_test_acc_resnet_cifar10_da_cutout))"
   ],
   "id": "23feff8f-500c-42a2-a75b-9ca6dd1c5c5c"
  },
  {
   "cell_type": "markdown",
   "metadata": {},
   "source": [
    "### 2.3.1. Training ResNet-18 in CF100 without Cutout"
   ],
   "id": "87710133-904c-483b-b3c3-57a9bfbda2ce"
  },
  {
   "cell_type": "markdown",
   "metadata": {},
   "source": [
    "Image Processing for CIFAR-100"
   ],
   "id": "0fc6cb6b-b856-42ce-bbdc-d57dc0237d64"
  },
  {
   "cell_type": "code",
   "execution_count": null,
   "metadata": {},
   "outputs": [],
   "source": [
    "# Image Preprocessing\n",
    "\n",
    "normalize_image_cifar100 = transforms.Normalize(mean=[x / 255.0 for x in [125.3, 123.0, 113.9]], std=[x / 255.0 for x in [63.0, 62.1, 66.7]])\n",
    "\n",
    "train_transform_cifar100 = transforms.Compose([])\n",
    "\n",
    "train_transform_cifar100.transforms.append(transforms.ToTensor())\n",
    "train_transform_cifar100.transforms.append(normalize_image_cifar100)\n",
    "\n",
    "\n",
    "\n",
    "test_transform_cifar100 = transforms.Compose([\n",
    "    transforms.ToTensor(),\n",
    "    normalize_image_cifar100])"
   ],
   "id": "72d95ddf-5b0b-41d8-a47d-43625a9efa21"
  },
  {
   "cell_type": "markdown",
   "metadata": {},
   "source": [
    "Import the dataset of CIFAR-100"
   ],
   "id": "efd2311a-e54c-4dee-ac7f-6eeea9728566"
  },
  {
   "cell_type": "code",
   "execution_count": null,
   "metadata": {},
   "outputs": [],
   "source": [
    "train_dataset_cifar100 = datasets.CIFAR10(root='data/',\n",
    "                                     train=True,\n",
    "                                     transform=train_transform_cifar100,\n",
    "                                     download=True)\n",
    "\n",
    "test_dataset_cifar100 = datasets.CIFAR10(root='data/',\n",
    "                                    train=False,\n",
    "                                    transform=test_transform_cifar100,\n",
    "                                    download=True)"
   ],
   "id": "7bebe9b9-091d-4ee1-8b9b-f6d0970e4e01"
  },
  {
   "cell_type": "markdown",
   "metadata": {},
   "source": [
    "Create Dataset as Dataloader"
   ],
   "id": "b0124299-c401-48ef-8d0e-8396f56efd20"
  },
  {
   "cell_type": "code",
   "execution_count": null,
   "metadata": {},
   "outputs": [],
   "source": [
    "# Data Loader (Input Pipeline)\n",
    "batch_size_cifar100 = 128\n",
    "train_loader_cifar100 = torch.utils.data.DataLoader(dataset=train_dataset_cifar100,\n",
    "                                           batch_size=batch_size_cifar100,\n",
    "                                           shuffle=True,\n",
    "                                           pin_memory=True,\n",
    "                                           num_workers=2)\n",
    "\n",
    "test_loader_cifar100 = torch.utils.data.DataLoader(dataset=test_dataset_cifar100,\n",
    "                                          batch_size=batch_size_cifar100,\n",
    "                                          shuffle=False,\n",
    "                                          pin_memory=True,\n",
    "                                          num_workers=2)"
   ],
   "id": "26975b1e-f828-47bb-97c6-b45f23a5a53d"
  },
  {
   "cell_type": "markdown",
   "metadata": {},
   "source": [
    "Define the model"
   ],
   "id": "de1821d8-41c6-4810-98f8-ea3cbf15158b"
  },
  {
   "cell_type": "markdown",
   "metadata": {},
   "source": [
    "This code block sets up the machine learning model, loss function, optimizer, and learning rate scheduler."
   ],
   "id": "b0ab4bb3-da3d-4419-9df9-8c8f54d17d89"
  },
  {
   "cell_type": "code",
   "execution_count": null,
   "metadata": {},
   "outputs": [],
   "source": [
    "#file_name will be the used for the name of the file of weight of the model and also the result\n",
    "file_name_resnet18_cifar100 = \"resnet18_cifar100\"\n",
    "\n",
    "num_classes_cifar100 = 100\n",
    "resnet18_cifar100 = ResNet18(num_classes=num_classes_cifar100)\n",
    "\n",
    "\n",
    "resnet18_cifar100 = resnet18_cifar100.cuda()\n",
    "learning_rate_resnet18_cifar100 = 0.1\n",
    "criterion_resnet18_cifar100 = nn.CrossEntropyLoss().cuda()\n",
    "cnn_optimizer_resnet18_cifar100 = torch.optim.SGD(resnet18_cifar100.parameters(), lr=learning_rate_resnet18_cifar100,\n",
    "                                momentum=0.9, nesterov=True, weight_decay=5e-4)\n",
    "scheduler_resnet18_cifar100 = MultiStepLR(cnn_optimizer_resnet18_cifar100, milestones=[60, 120, 160], gamma=0.2)"
   ],
   "id": "24459dc2-992e-4b95-958a-f8671aa3e35f"
  },
  {
   "cell_type": "markdown",
   "metadata": {},
   "source": [
    "Training ResNet-18 withuout Cutout"
   ],
   "id": "b0f0aa2b-6e2f-4d57-8bd0-9efe33a5e87a"
  },
  {
   "cell_type": "markdown",
   "metadata": {},
   "source": [
    "This code runs the training loop for the chosen machine learning model over a specified number of epochs. Each epoch involves a forward pass, loss computation, backpropagation, and parameter updates. It also calculates and displays the training accuracy and cross-entropy loss. At the end of each epoch, the model’s performance is evaluated on the test set, and the results are logged and saved."
   ],
   "id": "49c7bfb3-6f30-4580-985e-aca874d3bded"
  },
  {
   "cell_type": "code",
   "execution_count": null,
   "metadata": {},
   "outputs": [],
   "source": [
    "epochs = 200\n",
    "for epoch in range(epochs):\n",
    "\n",
    "    xentropy_loss_avg = 0.\n",
    "    correct = 0.\n",
    "    total = 0.\n",
    "\n",
    "    progress_bar = tqdm(train_loader_cifar100)\n",
    "    for i, (images, labels) in enumerate(progress_bar):\n",
    "        progress_bar.set_description('Epoch ' + str(epoch))\n",
    "\n",
    "        images = images.cuda()\n",
    "        labels = labels.cuda()\n",
    "\n",
    "        resnet18_cifar100.zero_grad()\n",
    "        pred = resnet18_cifar100(images)\n",
    "\n",
    "        xentropy_loss = criterion_resnet18_cifar100(pred, labels)\n",
    "        xentropy_loss.backward()\n",
    "        cnn_optimizer_resnet18_cifar100.step()\n",
    "\n",
    "        xentropy_loss_avg += xentropy_loss.item()\n",
    "\n",
    "        # Calculate running average of accuracy\n",
    "        pred = torch.max(pred.data, 1)[1]\n",
    "        total += labels.size(0)\n",
    "        correct += (pred == labels.data).sum().item()\n",
    "        accuracy = correct / total\n",
    "\n",
    "        progress_bar.set_postfix(\n",
    "            xentropy='%.3f' % (xentropy_loss_avg / (i + 1)),\n",
    "            acc='%.3f' % accuracy)\n",
    "\n",
    "    test_accr_resnet18_cifar100 = test(test_loader_cifar100, resnet18_cifar100)\n",
    "    tqdm.write('test_acc: %.3f' % (test_accr_resnet18_cifar100))\n",
    "\n",
    "    #scheduler.step(epoch)  # Use this line for PyTorch <1.4\n",
    "    scheduler_resnet18_cifar100.step()     # Use this line for PyTorch >=1.4\n",
    "\n",
    "    \n",
    "torch.save(resnet18_cifar100.state_dict(), 'checkpoints/' + file_name_resnet18_cifar100 + '.pt')\n",
    "\n",
    "\n",
    "final_test_acc_resnet18_cifar100 = (1 - test(test_loader_cifar100, resnet18_cifar100))*100\n",
    "print('Final Result ResNet-18 without Cutout for Test CIFAR-100 Dataset: %.3f' % (final_test_acc_resnet18_cifar100))"
   ],
   "id": "c7f4298b-bc84-47f3-949f-e194f790fc52"
  },
  {
   "cell_type": "markdown",
   "metadata": {},
   "source": [
    "### 2.2.2. Training ResNet-18 in CF100 with Cutout"
   ],
   "id": "8879d91a-580d-49df-81aa-e1f5c8a227fe"
  },
  {
   "cell_type": "markdown",
   "metadata": {},
   "source": [
    "Image Processing for CIFAR-100"
   ],
   "id": "105697a7-9575-445d-ba2f-92c137dcdf81"
  },
  {
   "cell_type": "code",
   "execution_count": null,
   "metadata": {},
   "outputs": [],
   "source": [
    "# Image Preprocessing\n",
    "\n",
    "normalize_image_cifar100 = transforms.Normalize(mean=[x / 255.0 for x in [125.3, 123.0, 113.9]], std=[x / 255.0 for x in [63.0, 62.1, 66.7]])\n",
    "\n",
    "train_transform_cifar100_cutout = transforms.Compose([])\n",
    "\n",
    "train_transform_cifar100_cutout.transforms.append(transforms.ToTensor())\n",
    "train_transform_cifar100_cutout.transforms.append(normalize_image_cifar100)\n",
    "\n",
    "#Add Cutout to the image transformer piepeline\n",
    "n_holes_cifar100 = 1\n",
    "length_cifar100 = 16\n",
    "train_transform_cifar100_cutout.transforms.append(Cutout(n_holes=n_holes_cifar100, length=length_cifar100))\n",
    "\n",
    "\n",
    "test_transform_cifar100 = transforms.Compose([\n",
    "    transforms.ToTensor(),\n",
    "    normalize_image_cifar100])"
   ],
   "id": "6ebc2900-7292-4a55-ba12-4a4950d76818"
  },
  {
   "cell_type": "markdown",
   "metadata": {},
   "source": [
    "Import the dataset of CIFAR-0"
   ],
   "id": "c1e179ba-fd98-4846-a1f0-f7489c90b0eb"
  },
  {
   "cell_type": "code",
   "execution_count": null,
   "metadata": {},
   "outputs": [],
   "source": [
    "train_dataset_cifar100_cutout = datasets.CIFAR100(root='data/',\n",
    "                                     train=True,\n",
    "                                     transform=train_transform_cifar100_cutout,\n",
    "                                     download=True)\n",
    "\n",
    "test_dataset_cifar100 = datasets.CIFAR100(root='data/',\n",
    "                                    train=False,\n",
    "                                    transform=test_transform_cifar100,\n",
    "                                    download=True)"
   ],
   "id": "9328ad8f-2668-45d2-978c-08685b56a983"
  },
  {
   "cell_type": "markdown",
   "metadata": {},
   "source": [
    "Create Dataset as Dataloader"
   ],
   "id": "106aed1e-10e4-4c84-bc3c-66114cc1fac2"
  },
  {
   "cell_type": "code",
   "execution_count": null,
   "metadata": {},
   "outputs": [],
   "source": [
    "# Data Loader (Input Pipeline)\n",
    "batch_size_cifar100_cutout = 128\n",
    "train_loader_cifar100_cutout = torch.utils.data.DataLoader(dataset=train_dataset_cifar100_cutout,\n",
    "                                           batch_size=batch_size_cifar100_cutout,\n",
    "                                           shuffle=True,\n",
    "                                           pin_memory=True,\n",
    "                                           num_workers=2)\n",
    "\n",
    "test_loader_cifar100 = torch.utils.data.DataLoader(dataset=test_dataset_cifar100,\n",
    "                                          batch_size=batch_size_cifar100_cutout,\n",
    "                                          shuffle=False,\n",
    "                                          pin_memory=True,\n",
    "                                          num_workers=2)"
   ],
   "id": "3674cb34-c779-40d7-bb79-9d3382a18a39"
  },
  {
   "cell_type": "markdown",
   "metadata": {},
   "source": [
    "Define the model"
   ],
   "id": "1602b05d-fe6e-4901-9433-74c4dbd981ac"
  },
  {
   "cell_type": "markdown",
   "metadata": {},
   "source": [
    "This code block sets up the machine learning model, loss function, optimizer, and learning rate scheduler."
   ],
   "id": "67832ce1-4cf1-4869-99df-37c5c71ef0a8"
  },
  {
   "cell_type": "code",
   "execution_count": null,
   "metadata": {},
   "outputs": [],
   "source": [
    "#file_name will be the used for the name of the file of weight of the model and also the result\n",
    "file_name_resnet18_cifar100_cutout = \"resnet18_cifar100_cutout\"\n",
    "\n",
    "num_classes_cifar100 = 100\n",
    "resnet18_cifar100_cutout = ResNet18(num_classes=num_classes_cifar100)\n",
    "\n",
    "\n",
    "resnet18_cifar100_cutout = resnet18_cifar100_cutout.cuda()\n",
    "learning_rate_resnet18_cifar100_cutout = 0.1\n",
    "criterion_resnet18_cifar100_cutout = nn.CrossEntropyLoss().cuda()\n",
    "cnn_optimizer_resnet18_cifar100_cutout = torch.optim.SGD(resnet18_cifar100_cutout.parameters(), lr=learning_rate_resnet18_cifar100_cutout,\n",
    "                                momentum=0.9, nesterov=True, weight_decay=5e-4)\n",
    "scheduler_resnet18_cifar100_cutout = MultiStepLR(cnn_optimizer_resnet18_cifar100_cutout, milestones=[60, 120, 160], gamma=0.2)"
   ],
   "id": "53e103d6-3c49-40df-980a-4ae40d8274ac"
  },
  {
   "cell_type": "markdown",
   "metadata": {},
   "source": [
    "Training ResNet-18 with Cutout"
   ],
   "id": "008a4fd9-ff98-4c08-a6ee-c331c9bc5604"
  },
  {
   "cell_type": "markdown",
   "metadata": {},
   "source": [
    "This code runs the training loop for the chosen machine learning model over a specified number of epochs. Each epoch involves a forward pass, loss computation, backpropagation, and parameter updates. It also calculates and displays the training accuracy and cross-entropy loss. At the end of each epoch, the model’s performance is evaluated on the test set, and the results are logged and saved."
   ],
   "id": "079430ec-2437-4126-a5f5-25e25ac3917a"
  },
  {
   "cell_type": "code",
   "execution_count": null,
   "metadata": {},
   "outputs": [],
   "source": [
    "epochs = 200\n",
    "for epoch in range(epochs):\n",
    "\n",
    "    xentropy_loss_avg = 0.\n",
    "    correct = 0.\n",
    "    total = 0.\n",
    "\n",
    "    progress_bar = tqdm(train_loader_cifar100_cutout)\n",
    "    for i, (images, labels) in enumerate(progress_bar):\n",
    "        progress_bar.set_description('Epoch ' + str(epoch))\n",
    "\n",
    "        images = images.cuda()\n",
    "        labels = labels.cuda()\n",
    "\n",
    "        resnet18_cifar100_cutout.zero_grad()\n",
    "        pred = resnet18_cifar100_cutout(images)\n",
    "\n",
    "        xentropy_loss = criterion_resnet18_cifar100_cutout(pred, labels)\n",
    "        xentropy_loss.backward()\n",
    "        cnn_optimizer_resnet18_cifar100_cutout.step()\n",
    "\n",
    "        xentropy_loss_avg += xentropy_loss.item()\n",
    "\n",
    "        # Calculate running average of accuracy\n",
    "        pred = torch.max(pred.data, 1)[1]\n",
    "        total += labels.size(0)\n",
    "        correct += (pred == labels.data).sum().item()\n",
    "        accuracy = correct / total\n",
    "\n",
    "        progress_bar.set_postfix(\n",
    "            xentropy='%.3f' % (xentropy_loss_avg / (i + 1)),\n",
    "            acc='%.3f' % accuracy)\n",
    "\n",
    "    test_acc_cifar100 = test(test_loader_cifar100,resnet18_cifar100_cutout)\n",
    "    tqdm.write('test_acc: %.3f' % (test_acc_cifar100))\n",
    "    scheduler_resnet18_cifar100_cutout.step()     \n",
    "torch.save(resnet18_cifar100_cutout.state_dict(), 'checkpoints/' + file_name_resnet18_cifar100_cutout + '.pt')\n",
    "\n",
    "\n",
    "final_test_acc_resnet18_cifar100_cutout = (1 - test(test_loader_cifar100_cutout,resnet18_cifar100_cutout))*100\n",
    "print('Final Result ResNet-18 using Cutout for CIFAR-10 Test Dataset: %.3f' % (final_test_acc_resnet18_cifar100_cutout))"
   ],
   "id": "69186a20-115b-4698-b3d5-32235af9a478"
  },
  {
   "cell_type": "markdown",
   "metadata": {},
   "source": [
    "### 2.2.3. Training ResNet-18 in CF100 with Data Augmentation"
   ],
   "id": "119b2cd1-ca55-438e-afb3-be2e94d60fb9"
  },
  {
   "cell_type": "markdown",
   "metadata": {},
   "source": [
    "Image Processing for CIFAR-100"
   ],
   "id": "204a232c-25bc-413d-b19a-31b1f70528eb"
  },
  {
   "cell_type": "code",
   "execution_count": null,
   "metadata": {},
   "outputs": [],
   "source": [
    "# Image Preprocessing\n",
    "\n",
    "normalize_image_cifar100 = transforms.Normalize(mean=[x / 255.0 for x in [125.3, 123.0, 113.9]], std=[x / 255.0 for x in [63.0, 62.1, 66.7]])\n",
    "\n",
    "train_transform_cifar100_da = transforms.Compose([])\n",
    "train_transform_cifar100_da.transforms.append(transforms.RandomCrop(32, padding=4))\n",
    "train_transform_cifar100_da.transforms.append(transforms.RandomHorizontalFlip())\n",
    "train_transform_cifar100_da.transforms.append(transforms.ToTensor())\n",
    "train_transform_cifar100_da.transforms.append(normalize_image_cifar100)\n",
    "\n",
    "\n",
    "test_transform_cifar100 = transforms.Compose([\n",
    "    transforms.ToTensor(),\n",
    "    normalize_image_cifar100])"
   ],
   "id": "443ad128-9cfa-4473-b453-0c8c138f6e21"
  },
  {
   "cell_type": "markdown",
   "metadata": {},
   "source": [
    "Import the dataset of CIFAR-100"
   ],
   "id": "f84c8320-f888-49fc-975c-8cf5e201815f"
  },
  {
   "cell_type": "code",
   "execution_count": null,
   "metadata": {},
   "outputs": [],
   "source": [
    "train_dataset_cifar100_da = datasets.CIFAR100(root='data/',\n",
    "                                     train=True,\n",
    "                                     transform=train_transform_cifar100_da,\n",
    "                                     download=True)\n",
    "\n",
    "test_dataset_cifar100 = datasets.CIFAR100(root='data/',\n",
    "                                    train=False,\n",
    "                                    transform=test_transform_cifar100,\n",
    "                                    download=True)"
   ],
   "id": "cd634b61-ef29-4e12-a915-dea6b7b86de3"
  },
  {
   "cell_type": "markdown",
   "metadata": {},
   "source": [
    "Create Dataset as Dataloader"
   ],
   "id": "94f5b1a3-66c0-4e4c-8705-3f915947fbbc"
  },
  {
   "cell_type": "code",
   "execution_count": null,
   "metadata": {},
   "outputs": [],
   "source": [
    "# Data Loader (Input Pipeline)\n",
    "batch_size_cifar100_da = 128\n",
    "train_loader_cifar100_da = torch.utils.data.DataLoader(dataset=train_dataset_cifar100_da,\n",
    "                                           batch_size=batch_size_cifar100_da,\n",
    "                                           shuffle=True,\n",
    "                                           pin_memory=True,\n",
    "                                           num_workers=2)\n",
    "\n",
    "test_loader_cifar100 = torch.utils.data.DataLoader(dataset=test_dataset_cifar100,\n",
    "                                          batch_size=batch_size_cifar100_da,\n",
    "                                          shuffle=False,\n",
    "                                          pin_memory=True,\n",
    "                                          num_workers=2)"
   ],
   "id": "b306ad12-8561-4487-b4ba-312b75a1c7c9"
  },
  {
   "cell_type": "markdown",
   "metadata": {},
   "source": [
    "Define the model"
   ],
   "id": "5ccd2cc9-8de5-4323-bd54-053d32e41885"
  },
  {
   "cell_type": "markdown",
   "metadata": {},
   "source": [
    "This code block sets up the machine learning model, loss function, optimizer, and learning rate scheduler."
   ],
   "id": "c4fe86f1-b95d-478a-85cc-560358a2f993"
  },
  {
   "cell_type": "code",
   "execution_count": null,
   "metadata": {},
   "outputs": [],
   "source": [
    "#file_name will be the used for the name of the file of weight of the model and also the result\n",
    "file_name_resnet18_cifar100_da = \"resnet18_cifar100_da\"\n",
    "\n",
    "num_classes_cifar100 = 100\n",
    "resnet18_cifar100_da = ResNet18(num_classes=num_classes_cifar100)\n",
    "\n",
    "\n",
    "resnet18_cifar100_da = resnet18_cifar100_da.cuda()\n",
    "learning_rate_resnet18_cifar100_da = 0.1\n",
    "criterion_resnet18_cifar100_da = nn.CrossEntropyLoss().cuda()\n",
    "cnn_optimizer_resnet18_cifar100_da = torch.optim.SGD(resnet18_cifar100_da.parameters(), lr=learning_rate_resnet18_cifar100_da,\n",
    "                                momentum=0.9, nesterov=True, weight_decay=5e-4)\n",
    "scheduler_resnet18_cifar100_da = MultiStepLR(cnn_optimizer_resnet18_cifar100_da, milestones=[60, 120, 160], gamma=0.2)"
   ],
   "id": "7ab6e81e-d191-4dd3-84b8-7b779c0a2289"
  },
  {
   "cell_type": "markdown",
   "metadata": {},
   "source": [
    "Training ResNet-18 with Data Augmentation"
   ],
   "id": "d25fb8c1-5d39-4a04-9a9d-1d00bf54fd28"
  },
  {
   "cell_type": "markdown",
   "metadata": {},
   "source": [
    "This code runs the training loop for the chosen machine learning model over a specified number of epochs. Each epoch involves a forward pass, loss computation, backpropagation, and parameter updates. It also calculates and displays the training accuracy and cross-entropy loss. At the end of each epoch, the model’s performance is evaluated on the test set, and the results are logged and saved."
   ],
   "id": "c6035d47-d1b5-43e4-813d-7eafcf2e6be2"
  },
  {
   "cell_type": "code",
   "execution_count": null,
   "metadata": {},
   "outputs": [],
   "source": [
    "epochs = 200\n",
    "for epoch in range(epochs):\n",
    "\n",
    "    xentropy_loss_avg = 0.\n",
    "    correct = 0.\n",
    "    total = 0.\n",
    "\n",
    "    progress_bar = tqdm(train_loader_cifar100_da)\n",
    "    for i, (images, labels) in enumerate(progress_bar):\n",
    "        progress_bar.set_description('Epoch ' + str(epoch))\n",
    "\n",
    "        images = images.cuda()\n",
    "        labels = labels.cuda()\n",
    "\n",
    "        resnet18_cifar100_da.zero_grad()\n",
    "        pred = resnet18_cifar100_da(images)\n",
    "\n",
    "        xentropy_loss = criterion_resnet18_cifar100_da(pred, labels)\n",
    "        xentropy_loss.backward()\n",
    "        cnn_optimizer_resnet18_cifar100_da.step()\n",
    "\n",
    "        xentropy_loss_avg += xentropy_loss.item()\n",
    "\n",
    "        # Calculate running average of accuracy\n",
    "        pred = torch.max(pred.data, 1)[1]\n",
    "        total += labels.size(0)\n",
    "        correct += (pred == labels.data).sum().item()\n",
    "        accuracy = correct / total\n",
    "\n",
    "        progress_bar.set_postfix(\n",
    "            xentropy='%.3f' % (xentropy_loss_avg / (i + 1)),\n",
    "            acc='%.3f' % accuracy)\n",
    "\n",
    "    test_acc_resnet18_cifar100_da = test(test_loader_cifar100,resnet18_cifar100_da)\n",
    "    tqdm.write('test_acc: %.3f' % (test_acc_resnet18_cifar100_da))\n",
    "    scheduler_resnet18_cifar100_da.step()     \n",
    "torch.save(resnet18_cifar100_da.state_dict(), 'checkpoints/' + file_name_resnet18_cifar100_da + '.pt')\n",
    "\n",
    "\n",
    "final_test_acc_resnet18_cifar100_da = (1 - test(test_loader_cifar100,resnet18_cifar100_da))*100\n",
    "print('Final Result ResNet-18 using Data Augmentation for CIFAR-100 Test Dataset: %.3f' % (final_test_acc_resnet18_cifar100_da))"
   ],
   "id": "bfe37733-30e6-4fe3-94da-ff6320beb9d5"
  },
  {
   "cell_type": "markdown",
   "metadata": {},
   "source": [
    "### 2.2.4. Training ResNet-18 in CF100 with Data Augmentation with Cutout"
   ],
   "id": "1bd7966f-ea2f-475f-b0fc-8870c4299d50"
  },
  {
   "cell_type": "markdown",
   "metadata": {},
   "source": [
    "Image Processing for CIFAR-100"
   ],
   "id": "4a38a913-5d5f-4ac3-9fc6-58ab08fd1572"
  },
  {
   "cell_type": "code",
   "execution_count": null,
   "metadata": {},
   "outputs": [],
   "source": [
    "# Image Preprocessing\n",
    "\n",
    "normalize_image_cifar100 = transforms.Normalize(mean=[x / 255.0 for x in [125.3, 123.0, 113.9]], std=[x / 255.0 for x in [63.0, 62.1, 66.7]])\n",
    "\n",
    "train_transform_cifar100_da_co = transforms.Compose([])\n",
    "train_transform_cifar100_da_co.transforms.append(transforms.RandomCrop(32, padding=4))\n",
    "train_transform_cifar100_da_co.transforms.append(transforms.RandomHorizontalFlip())\n",
    "train_transform_cifar100_da_co.transforms.append(transforms.ToTensor())\n",
    "train_transform_cifar100_da_co.transforms.append(normalize_image_cifar100)\n",
    "\n",
    "#Add Cutout to the image transformer piepeline\n",
    "n_holes_cifar100_da_co = 1\n",
    "length_cifar100_da_co = 16\n",
    "train_transform_cifar100_da_co.transforms.append(Cutout(n_holes=n_holes_cifar100_da_co, length=length_cifar100_da_co))\n",
    "\n",
    "\n",
    "test_transform_cifar100 = transforms.Compose([\n",
    "    transforms.ToTensor(),\n",
    "    normalize_image_cifar100])"
   ],
   "id": "483570d0-cf2b-4578-b609-a4c67dfd80d1"
  },
  {
   "cell_type": "markdown",
   "metadata": {},
   "source": [
    "Import the dataset of CIFAR-100"
   ],
   "id": "9b75bf1d-e7b9-4166-8fb0-20188ea3b051"
  },
  {
   "cell_type": "code",
   "execution_count": null,
   "metadata": {},
   "outputs": [],
   "source": [
    "train_dataset_cifar100_da_co = datasets.CIFAR100(root='data/',\n",
    "                                     train=True,\n",
    "                                     transform=train_transform_cifar100_da_co,\n",
    "                                     download=True)\n",
    "\n",
    "test_dataset_cifar100 = datasets.CIFAR100(root='data/',\n",
    "                                    train=False,\n",
    "                                    transform=test_transform_cifar100,\n",
    "                                    download=True)"
   ],
   "id": "ca6d008c-979a-423d-8948-86aa01dd745a"
  },
  {
   "cell_type": "markdown",
   "metadata": {},
   "source": [
    "Create Dataset as Dataloader"
   ],
   "id": "3f68a315-18fb-4932-9940-ead3dd06337f"
  },
  {
   "cell_type": "code",
   "execution_count": null,
   "metadata": {},
   "outputs": [],
   "source": [
    "# Data Loader (Input Pipeline)\n",
    "batch_size_cifar100_da_co = 128\n",
    "train_loader_cifar100_da_co = torch.utils.data.DataLoader(dataset=train_dataset_cifar100_da_co,\n",
    "                                           batch_size=batch_size_cifar100_da_co,\n",
    "                                           shuffle=True,\n",
    "                                           pin_memory=True,\n",
    "                                           num_workers=2)\n",
    "\n",
    "test_loader_cifar100 = torch.utils.data.DataLoader(dataset=test_dataset_cifar100,\n",
    "                                          batch_size=batch_size_cifar100_da_co,\n",
    "                                          shuffle=False,\n",
    "                                          pin_memory=True,\n",
    "                                          num_workers=2)"
   ],
   "id": "8062b4b2-d09b-44b1-8c01-1521a1ae3fc0"
  },
  {
   "cell_type": "markdown",
   "metadata": {},
   "source": [
    "Define the model"
   ],
   "id": "621a55c0-774a-45da-80d2-0ecef741d1b7"
  },
  {
   "cell_type": "markdown",
   "metadata": {},
   "source": [
    "This code block sets up the machine learning model, loss function, optimizer, and learning rate scheduler."
   ],
   "id": "64939d98-b0b0-4acb-9ef1-9eed47a24f81"
  },
  {
   "cell_type": "code",
   "execution_count": null,
   "metadata": {},
   "outputs": [],
   "source": [
    "#file_name will be the used for the name of the file of weight of the model and also the result\n",
    "file_name_resnet18_cifar100_da_cutout = \"resnet18_cifar100_da_cutout\"\n",
    "\n",
    "num_classes_cifar100 = 100\n",
    "resnet18_cifar100_da_cutout = ResNet18(num_classes=num_classes_cifar100)\n",
    "\n",
    "\n",
    "resnet18_cifar100_da_cutout = resnet18_cifar100_da_cutout.cuda()\n",
    "learning_rate_cifar100_da_cutout = 0.1\n",
    "criterion_cifar100_da_cutout = nn.CrossEntropyLoss().cuda()\n",
    "cnn_optimizer_cifar100_da_cutout = torch.optim.SGD(resnet18_cifar100_da_cutout.parameters(), lr=learning_rate_cifar100_da_cutout,\n",
    "                                momentum=0.9, nesterov=True, weight_decay=5e-4)\n",
    "scheduler_cifar100_da_cutout = MultiStepLR(cnn_optimizer_cifar100_da_cutout, milestones=[60, 120, 160], gamma=0.2)"
   ],
   "id": "a91680d1-1be0-46e6-a81c-8793ac92bdc0"
  },
  {
   "cell_type": "markdown",
   "metadata": {},
   "source": [
    "Training ResNet-18 with Cutout"
   ],
   "id": "0fc5a1d2-fd4f-4741-85b2-090d545f6adc"
  },
  {
   "cell_type": "markdown",
   "metadata": {},
   "source": [
    "This code runs the training loop for the chosen machine learning model over a specified number of epochs. Each epoch involves a forward pass, loss computation, backpropagation, and parameter updates. It also calculates and displays the training accuracy and cross-entropy loss. At the end of each epoch, the model’s performance is evaluated on the test set, and the results are logged and saved."
   ],
   "id": "b88e1c2f-65ef-4254-92fc-9b85fc079c82"
  },
  {
   "cell_type": "code",
   "execution_count": null,
   "metadata": {},
   "outputs": [],
   "source": [
    "epochs = 200\n",
    "for epoch in range(epochs):\n",
    "\n",
    "    xentropy_loss_avg = 0.\n",
    "    correct = 0.\n",
    "    total = 0.\n",
    "\n",
    "    progress_bar = tqdm(train_loader_cifar100_da_co)\n",
    "    for i, (images, labels) in enumerate(progress_bar):\n",
    "        progress_bar.set_description('Epoch ' + str(epoch))\n",
    "\n",
    "        images = images.cuda()\n",
    "        labels = labels.cuda()\n",
    "\n",
    "        resnet18_cifar100_da_cutout.zero_grad()\n",
    "        pred = resnet18_cifar100_da_cutout(images)\n",
    "\n",
    "        xentropy_loss = criterion_cifar100_da_cutout(pred, labels)\n",
    "        xentropy_loss.backward()\n",
    "        cnn_optimizer_cifar100_da_cutout.step()\n",
    "\n",
    "        xentropy_loss_avg += xentropy_loss.item()\n",
    "\n",
    "        # Calculate running average of accuracy\n",
    "        pred = torch.max(pred.data, 1)[1]\n",
    "        total += labels.size(0)\n",
    "        correct += (pred == labels.data).sum().item()\n",
    "        accuracy = correct / total\n",
    "\n",
    "        progress_bar.set_postfix(\n",
    "            xentropy='%.3f' % (xentropy_loss_avg / (i + 1)),\n",
    "            acc='%.3f' % accuracy)\n",
    "\n",
    "    test_acc_cifar100_da_cutout = test(test_loader_cifar100,resnet18_cifar100_da_cutout)\n",
    "    tqdm.write('test_acc: %.3f' % (test_acc_cifar100_da_cutout))\n",
    "    scheduler_cifar100_da_cutout.step()     \n",
    "torch.save(resnet18_cifar100_da_cutout.state_dict(), 'checkpoints/' + file_name_resnet18_cifar100_da_cutout + '.pt')\n",
    "\n",
    "\n",
    "final_test_acc_resnet18_cifar100_da_cutout = (1 - test(test_loader_cifar100,resnet18_cifar100_da_cutout))*100\n",
    "print('Final Result ResNet-18 using Data Augmentation and  Cutout for CIFAR-100 Test Dataset: %.3f' % (final_test_acc_resnet18_cifar100_da_cutout))"
   ],
   "id": "3e5b8166-9c71-41aa-be49-607105c54ba0"
  },
  {
   "cell_type": "code",
   "execution_count": null,
   "metadata": {},
   "outputs": [],
   "source": [
    "print('Final Result ResNet-18 without Cutout for Test CIFAR-100 Dataset: %.3f' % (final_test_acc_resnet18_cifar100))\n",
    "print('Final Result ResNet-18 using Cutout for CIFAR-100 Test Dataset: %.3f' % (final_test_acc_resnet18_cifar100_cutout))\n",
    "print('Final Result ResNet-18 using Data Augmentation for CIFAR-100 Test Dataset: %.3f' % (final_test_acc_resnet18_cifar100_da))\n",
    "print('Final Result ResNet-18 using Data Augmentation and  Cutout for CIFAR-100 Test Dataset: %.3f' % (final_test_acc_resnet_cifar100_da_cutout))"
   ],
   "id": "0611854e-e19d-4883-ae4f-094504ee5d12"
  },
  {
   "cell_type": "markdown",
   "metadata": {},
   "source": [
    "### WideResNet"
   ],
   "id": "b60259c6-3832-460b-a948-ff3a2f834204"
  },
  {
   "cell_type": "markdown",
   "metadata": {},
   "source": [
    "WideResNet model implementation from https://github.com/xternalz/WideResNet-pytorch\n",
    "\n",
    "Note: for faster training, use Runtime \\> Change Runtime Type to run this notebook on a GPU."
   ],
   "id": "db5063f5-dace-4dd0-b484-d7d44a935d72"
  },
  {
   "cell_type": "markdown",
   "metadata": {},
   "source": [
    "In the Cutout paper, the authors claim that:\n",
    "\n",
    "1.  Cutout improves the robustness and overall performance of convolutional neural networks.\n",
    "2.  Cutout can be used in conjunction with existing forms of data augmentation and other regularizers to further improve model performance.\n",
    "\n",
    "In this section, we will evaluate these claims using ShakeShake regularization. For ShakeShake, the specific quantitative claims are given in the following table:\n",
    "\n",
    "Test error (%, flip/translation augmentation, mean/std normalization, mean of 3 runs) and “+” indicates standard data augmentation (mirror + crop)\n",
    "\n",
    "| **Network**          | **CIFAR-10+** | **CIFAR-100+** |\n",
    "|----------------------|---------------|----------------|\n",
    "| Shake-shake          | 2.86          | 15.58          |\n",
    "| Shake-shake + cutout | 2.56          | 15.20          |\n",
    "\n",
    "In the given table, the test errors of the Shake-shake regularization model implemented from a GitHub source on CIFAR-10+ and CIFAR-100+ datasets are presented. The “+” indicates the use of standard data augmentation techniques like mirror and crop.\n",
    "\n",
    "On the CIFAR-10+ dataset, the use of the Shake-shake regularization model results in a test error of 2.86%. With the application of the cutout augmentation, this error decreases slightly to 2.56%. A similar pattern is noticed with the CIFAR-100+ dataset, where the Shake-shake model results in a test error of 15.58% which gets reduced to 15.20% when cutout augmentation is applied.\n",
    "\n",
    "These results again underline the effectiveness of cutout augmentation in improving model performance, as indicated by the reduced test error rates. The Shake-shake model with both standard and cutout augmentation techniques performs exceptionally well, particularly on the CIFAR-10+ dataset."
   ],
   "id": "f2037ff5-308d-4019-9145-3e4efa803030"
  },
  {
   "cell_type": "markdown",
   "metadata": {},
   "source": [
    "#### Implementation"
   ],
   "id": "7a7f4cc1-a00e-4325-810f-11bfd31da7b5"
  },
  {
   "cell_type": "markdown",
   "metadata": {},
   "source": [
    "### 4.1.2 WideResNet Code"
   ],
   "id": "8df00c52-87ed-4c5a-ac04-beaeaa503d4b"
  },
  {
   "cell_type": "code",
   "execution_count": null,
   "metadata": {},
   "outputs": [],
   "source": [
    "# WideResNet\n",
    "\n",
    "# From https://github.com/uoguelph-mlrg/Cutout/blob/master/model/wide_resnet.py\n",
    "\n",
    "import math\n",
    "import torch\n",
    "import torch.nn as nn\n",
    "import torch.nn.functional as F\n",
    "\n",
    "\n",
    "class BasicBlockWide(nn.Module):\n",
    "    def __init__(self, in_planes, out_planes, stride, dropRate=0.0):\n",
    "        super(BasicBlockWide, self).__init__()\n",
    "        self.bn1 = nn.BatchNorm2d(in_planes)\n",
    "        self.relu1 = nn.ReLU(inplace=True)\n",
    "        self.conv1 = nn.Conv2d(in_planes, out_planes, kernel_size=3, stride=stride,\n",
    "                               padding=1, bias=False)\n",
    "        self.bn2 = nn.BatchNorm2d(out_planes)\n",
    "        self.relu2 = nn.ReLU(inplace=True)\n",
    "        self.conv2 = nn.Conv2d(out_planes, out_planes, kernel_size=3, stride=1,\n",
    "                               padding=1, bias=False)\n",
    "        self.droprate = dropRate\n",
    "        self.equalInOut = (in_planes == out_planes)\n",
    "        self.convShortcut = (not self.equalInOut) and nn.Conv2d(in_planes, out_planes, kernel_size=1, stride=stride,\n",
    "                               padding=0, bias=False) or None\n",
    "    def forward(self, x):\n",
    "        if not self.equalInOut:\n",
    "            x = self.relu1(self.bn1(x))\n",
    "        else:\n",
    "            out = self.relu1(self.bn1(x))\n",
    "        out = self.relu2(self.bn2(self.conv1(out if self.equalInOut else x)))\n",
    "        if self.droprate > 0:\n",
    "            out = F.dropout(out, p=self.droprate, training=self.training)\n",
    "        out = self.conv2(out)\n",
    "        return torch.add(x if self.equalInOut else self.convShortcut(x), out)\n",
    "\n",
    "class NetworkBlock(nn.Module):\n",
    "    def __init__(self, nb_layers, in_planes, out_planes, block, stride, dropRate=0.0):\n",
    "        super(NetworkBlock, self).__init__()\n",
    "        self.layer = self._make_layer(block, in_planes, out_planes, nb_layers, stride, dropRate)\n",
    "    def _make_layer(self, block, in_planes, out_planes, nb_layers, stride, dropRate):\n",
    "        layers = []\n",
    "        for i in range(nb_layers):\n",
    "            layers.append(block(i == 0 and in_planes or out_planes, out_planes, i == 0 and stride or 1, dropRate))\n",
    "        return nn.Sequential(*layers)\n",
    "    def forward(self, x):\n",
    "        return self.layer(x)\n",
    "\n",
    "class WideResNet(nn.Module):\n",
    "    def __init__(self, depth, num_classes, widen_factor=1, dropRate=0.0):\n",
    "        super(WideResNet, self).__init__()\n",
    "        nChannels = [16, 16*widen_factor, 32*widen_factor, 64*widen_factor]\n",
    "        assert((depth - 4) % 6 == 0)\n",
    "        n = (depth - 4) // 6\n",
    "        block = BasicBlockWide\n",
    "        # 1st conv before any network block\n",
    "        self.conv1 = nn.Conv2d(3, nChannels[0], kernel_size=3, stride=1,\n",
    "                               padding=1, bias=False)\n",
    "        # 1st block\n",
    "        self.block1 = NetworkBlock(n, nChannels[0], nChannels[1], block, 1, dropRate)\n",
    "        # 2nd block\n",
    "        self.block2 = NetworkBlock(n, nChannels[1], nChannels[2], block, 2, dropRate)\n",
    "        # 3rd block\n",
    "        self.block3 = NetworkBlock(n, nChannels[2], nChannels[3], block, 2, dropRate)\n",
    "        # global average pooling and classifier\n",
    "        self.bn1 = nn.BatchNorm2d(nChannels[3])\n",
    "        self.relu = nn.ReLU(inplace=True)\n",
    "        self.fc = nn.Linear(nChannels[3], num_classes)\n",
    "        self.nChannels = nChannels[3]\n",
    "\n",
    "        for m in self.modules():\n",
    "            if isinstance(m, nn.Conv2d):\n",
    "                n = m.kernel_size[0] * m.kernel_size[1] * m.out_channels\n",
    "                m.weight.data.normal_(0, math.sqrt(2. / n))\n",
    "            elif isinstance(m, nn.BatchNorm2d):\n",
    "                m.weight.data.fill_(1)\n",
    "                m.bias.data.zero_()\n",
    "            elif isinstance(m, nn.Linear):\n",
    "                m.bias.data.zero_()\n",
    "    def forward(self, x):\n",
    "        out = self.conv1(x)\n",
    "        out = self.block1(out)\n",
    "        out = self.block2(out)\n",
    "        out = self.block3(out)\n",
    "        out = self.relu(self.bn1(out))\n",
    "\n",
    "        out = F.avg_pool2d(out, 8)\n",
    "        out = out.view(-1, self.nChannels)\n",
    "        out = self.fc(out)\n",
    "        return out"
   ],
   "id": "474bafeb-7383-4638-b329-3c7a536229b4"
  },
  {
   "cell_type": "markdown",
   "metadata": {},
   "source": [
    "### ShakeShake"
   ],
   "id": "f42167e2-3072-44aa-8d0c-6d3a019d3a7d"
  },
  {
   "cell_type": "markdown",
   "metadata": {},
   "source": [
    "Shake-shake regularization model implementation from https://github.com/xgastaldi/shake-shake\n",
    "\n",
    "Note: for faster training, use Runtime \\> Change Runtime Type to run this notebook on a GPU."
   ],
   "id": "8565bba3-8388-4178-a666-dfeadf63aae6"
  },
  {
   "cell_type": "markdown",
   "metadata": {},
   "source": [
    "::: {.cell .markdown}\n",
    "\n",
    "In the Cutout paper, the authors claim that:\n",
    "\n",
    "1.  Cutout improves the robustness and overall performance of convolutional neural networks.\n",
    "2.  Cutout can be used in conjunction with existing forms of data augmentation and other regularizers to further improve model performance.\n",
    "\n",
    "In this section, we will evaluate these claims using a WideResNet model. For the WideResNet model, the specific quantitative claims are given in the following table:"
   ],
   "id": "75a8ba26-8c66-4827-922a-df3113ced308"
  },
  {
   "cell_type": "markdown",
   "metadata": {},
   "source": [
    "##### 4.3.1.3.2. Compare the Qualitative Claims usinng Grad-CAM\n",
    "\n",
    "###### What is Grad-CAM?\n",
    "\n",
    "Grad-CAM (Gradient-weighted Class Activation Mapping) is a technique that provides visual explanations for decisions made by Convolutional Neural Network (CNN) models. It uses the gradients of any target concept, flowing into the final convolutional layer to produce a coarse localization map highlighting the important regions in the image for predicting the concept.\n",
    "\n",
    "Grad-CAM is not limited to a specific architecture, it can be applied to a wide range of CNN models without any changes to their existing structure or requiring re-training. It’s also class-discriminative, allowing it to effectively manage multi-label scenarios.\n",
    "\n",
    "By visualizing the model’s focus areas with Grad-CAM, we can assess how effectively Cutout is encouraging the model to use a broader range of features. For example, if a model trained with Cutout still primarily focuses on a single region, that might suggest the Cutout squares are too small, or not numerous enough. Conversely, if the focus areas are well spread across the image, it would confirm that Cutout is indeed pushing the model to generalize better.\n",
    "\n",
    "If you want to understand more about Grad-CAM? Check this paper (https://arxiv.org/abs/1610.02391)"
   ],
   "id": "7c24261f-a8ed-4272-be86-58cc2b247488"
  },
  {
   "cell_type": "code",
   "execution_count": null,
   "metadata": {},
   "outputs": [],
   "source": [
    "class ResNet(nn.Module):\n",
    "    def __init__(self, block, num_blocks, num_classes=10):\n",
    "        super(ResNet, self).__init__()\n",
    "        self.in_planes = 64\n",
    "\n",
    "        self.conv1 = conv3x3(3,64)\n",
    "        self.bn1 = nn.BatchNorm2d(64)\n",
    "        self.layer1 = self._make_layer(block, 64, num_blocks[0], stride=1)\n",
    "        self.layer2 = self._make_layer(block, 128, num_blocks[1], stride=2)\n",
    "        self.layer3 = self._make_layer(block, 256, num_blocks[2], stride=2)\n",
    "        self.layer4 = self._make_layer(block, 512, num_blocks[3], stride=2)\n",
    "        self.linear = nn.Linear(512*block.expansion, num_classes)\n",
    "\n",
    "        # Register hooks for Grad-CAM\n",
    "        self.gradients = None\n",
    "        self.activations = None\n",
    "        self.layer4.register_forward_hook(self._store_activations_hook)\n",
    "        self.layer4.register_backward_hook(self._store_gradients_hook)\n",
    "\n",
    "    def _store_activations_hook(self, module, input, output):\n",
    "        self.activations = output\n",
    "\n",
    "    def _store_gradients_hook(self, module, grad_input, grad_output):\n",
    "        self.gradients = grad_output[0]\n",
    "\n",
    "    def _make_layer(self, block, planes, num_blocks, stride):\n",
    "        strides = [stride] + [1]*(num_blocks-1)\n",
    "        layers = []\n",
    "        for stride in strides:\n",
    "            layers.append(block(self.in_planes, planes, stride))\n",
    "            self.in_planes = planes * block.expansion\n",
    "        return nn.Sequential(*layers)\n",
    "\n",
    "    def forward(self, x):\n",
    "        out = F.relu(self.bn1(self.conv1(x)))\n",
    "        out = self.layer1(out)\n",
    "        out = self.layer2(out)\n",
    "        out = self.layer3(out)\n",
    "        out = self.layer4(out) \n",
    "        out = F.avg_pool2d(out, 4)\n",
    "        out = out.view(out.size(0), -1)\n",
    "        out = self.linear(out)\n",
    "        return out\n"
   ],
   "id": "3ed27a02-f329-4e39-a3ba-67e677c888b4"
  },
  {
   "cell_type": "code",
   "execution_count": null,
   "metadata": {},
   "outputs": [],
   "source": [
    "\n",
    "model = ResNet18(num_classes=10)\n",
    "model.load_state_dict(torch.load(\"checkpoints/cifar10_resnet18.pt\"))\n",
    "model.eval()\n",
    "\n",
    "model_co = ResNet18(num_classes=10)\n",
    "model_co.load_state_dict(torch.load(\"checkpoints/cifar10_resnet18_Cutout.pt\"))\n",
    "model_co.eval()"
   ],
   "id": "2f1cb3ec-4188-4dc4-8771-0d8d8f2dfc82"
  },
  {
   "cell_type": "markdown",
   "metadata": {},
   "source": [
    "Let’s try to see the result from the testloader of CIFAR-10 dataset"
   ],
   "id": "605912a5-6907-4454-99b2-2a04a9417b94"
  },
  {
   "cell_type": "code",
   "execution_count": null,
   "metadata": {},
   "outputs": [],
   "source": [
    "import torchvision\n",
    "\n",
    "transform_dataset = transforms.Compose([\n",
    "    transforms.Resize((32, 32)),\n",
    "    transforms.ToTensor(),\n",
    "    transforms.Normalize(mean=[0.485, 0.456, 0.406], std=[0.229, 0.224, 0.225])\n",
    "])\n",
    "\n",
    "testset = torchvision.datasets.CIFAR10(root='./data', train=False, download=True, transform=transform_dataset)\n",
    "testloader = torch.utils.data.DataLoader(testset, batch_size=1, shuffle=True, num_workers=2)\n"
   ],
   "id": "d1ac6e97-c479-4ebf-8257-0c7c6d9ef03c"
  },
  {
   "cell_type": "code",
   "execution_count": null,
   "metadata": {},
   "outputs": [],
   "source": [
    "cifar_classes = [\n",
    "    \"Airplane\", \"Automobile\", \"Bird\", \"Cat\", \"Deer\",\n",
    "    \"Dog\", \"Frog\", \"Horse\", \"Ship\", \"Truck\"\n",
    "]"
   ],
   "id": "2af0536c-ed9d-4816-833b-2ba587b4a53e"
  },
  {
   "cell_type": "code",
   "execution_count": null,
   "metadata": {},
   "outputs": [],
   "source": [
    "# Get a batch from the testloader\n",
    "images, labels = next(iter(testloader))\n",
    "input_tensor = images  # As your batch_size is 1, you will have a single image here\n",
    "\n",
    "# Forward pass\n",
    "model.zero_grad()\n",
    "output = model(input_tensor)\n",
    "\n",
    "model_co.zero_grad()\n",
    "output_co = model_co(input_tensor)\n",
    "\n",
    "# Get the index of the max log-probability\n",
    "target = output.argmax(1)\n",
    "output.max().backward()\n",
    "\n",
    "target_co = output_co.argmax(1)\n",
    "output_co.max().backward()\n",
    "\n",
    "# Map the predicted class indices to the class labels\n",
    "predicted_class = cifar_classes[target.item()]\n",
    "predicted_class_co = cifar_classes[target_co.item()]\n",
    "\n",
    "\n",
    "# Get the gradients and activations\n",
    "gradients = model.gradients.detach().cpu()\n",
    "activations = model.activations.detach().cpu()\n",
    "\n",
    "gradients_co = model_co.gradients.detach().cpu()\n",
    "activations_co = model_co.activations.detach().cpu()\n",
    "\n",
    "\n",
    "# Calculate the weights\n",
    "weights = gradients.mean(dim=(2, 3), keepdim=True)\n",
    "\n",
    "weights_co = gradients_co.mean(dim=(2, 3), keepdim=True)\n",
    "\n",
    "# Calculate the weighted sum of activations (Grad-CAM)\n",
    "cam = (weights * activations).sum(dim=1, keepdim=True)\n",
    "cam = F.relu(cam)  # apply ReLU to the heatmap\n",
    "cam = F.interpolate(cam, size=(32, 32), mode='bilinear', align_corners=False)\n",
    "cam = cam.squeeze().numpy()\n",
    "\n",
    "cam_co = (weights_co * activations_co).sum(dim=1, keepdim=True)\n",
    "cam_co = F.relu(cam_co)  # apply ReLU to the heatmap\n",
    "cam_co = F.interpolate(cam_co, size=(32, 32), mode='bilinear', align_corners=False)\n",
    "cam_co = cam_co.squeeze().numpy()\n",
    "\n",
    "\n",
    "# Normalize the heatmap\n",
    "cam -= cam.min()\n",
    "cam /= cam.max()\n",
    "\n",
    "cam_co -= cam_co.min()\n",
    "cam_co /= cam_co.max()\n",
    "\n",
    "# Since the images from the dataloader are normalized, you have to denormalize them before plotting\n",
    "mean = torch.tensor([0.485, 0.456, 0.406])\n",
    "std = torch.tensor([0.229, 0.224, 0.225])\n",
    "img = images.squeeze().detach().cpu() * std[..., None, None] + mean[..., None, None]\n",
    "img = img.permute(1, 2, 0).numpy()\n",
    "\n",
    "# Superimpose the heatmap onto the original image\n",
    "heatmap = cv2.applyColorMap(np.uint8(255 * cam), cv2.COLORMAP_JET)\n",
    "heatmap = cv2.cvtColor(heatmap, cv2.COLOR_BGR2RGB)\n",
    "superimposed_img = heatmap * 0.4 + img * 255\n",
    "\n",
    "heatmap_co = cv2.applyColorMap(np.uint8(255 * cam_co), cv2.COLORMAP_JET)\n",
    "heatmap_co = cv2.cvtColor(heatmap_co, cv2.COLOR_BGR2RGB)\n",
    "superimposed_img_co = heatmap_co * 0.4 + img * 255\n",
    "\n",
    "class_label = str(labels.item())\n",
    "\n",
    "# Display the original image and the Grad-CAM\n",
    "fig, ax = plt.subplots(nrows=1, ncols=3)\n",
    "\n",
    "ax[0].imshow(img)\n",
    "ax[0].set_title('Original Image (Class: ' + cifar_classes[int(class_label)] + ')')\n",
    "ax[0].axis('off')\n",
    "ax[1].imshow(superimposed_img / 255)\n",
    "ax[1].set_title('Grad-CAM: ' + predicted_class)\n",
    "ax[1].axis('off')\n",
    "ax[2].imshow(superimposed_img_co / 255)\n",
    "ax[2].set_title('Grad-CAM with Cutout:'+  predicted_class_co)\n",
    "ax[2].axis('off')\n",
    "plt.show()\n"
   ],
   "id": "26189275-31d5-4aa0-ae96-ec3e906e38ea"
  },
  {
   "cell_type": "code",
   "execution_count": null,
   "metadata": {},
   "outputs": [],
   "source": [],
   "id": "598bc3bc-11b0-48f2-963e-f521ae8ed06b"
  },
  {
   "cell_type": "markdown",
   "metadata": {},
   "source": [
    "Now you can try to load your image, preprocess it and convert it into a PyTorch tensor. Choose an image that is in the CIFAR-10 classes (airplanes, cars, birds, cats, deer, dogs, frogs, horses, ships, and trucks). The preprocessing steps should be the same as the ones you used for training your model. Let’s say you have an image `image.jpg`:"
   ],
   "id": "c158de4a-d571-4734-99df-d143df630b38"
  },
  {
   "cell_type": "code",
   "execution_count": null,
   "metadata": {},
   "outputs": [],
   "source": [
    "from PIL import Image\n",
    "from torchvision import transforms\n",
    "\n",
    "# Load the image\n",
    "image_path = \"image.jpg\"\n",
    "image = Image.open(image_path)\n",
    "\n",
    "# Define the transformations: resize, to tensor, normalize (replace the mean and std with values you used for training)\n",
    "preprocess = transforms.Compose([\n",
    "    transforms.Resize((32, 32)),\n",
    "    transforms.ToTensor(),\n",
    "    transforms.Normalize(mean=[0.485, 0.456, 0.406], std=[0.229, 0.224, 0.225])\n",
    "])\n",
    "\n",
    "# Preprocess the image\n",
    "input_tensor = preprocess(image)\n",
    "input_tensor = input_tensor.unsqueeze(0)  # add batch dimension.  C,H,W => B,C,H,W\n"
   ],
   "id": "64394781-d6db-4631-9b49-38fc6aa81891"
  },
  {
   "cell_type": "markdown",
   "metadata": {},
   "source": [
    "Apply Grad-CAM"
   ],
   "id": "90c6125e-83b0-49cf-a57c-7efb47a13c90"
  },
  {
   "cell_type": "code",
   "execution_count": null,
   "metadata": {},
   "outputs": [],
   "source": [
    "# Forward pass\n",
    "model.zero_grad()\n",
    "output = model(input_tensor)\n",
    "\n",
    "model_co.zero_grad()\n",
    "output_co = model_co(input_tensor)\n",
    "\n",
    "# Get the index of the max log-probability\n",
    "target = output.argmax(1)\n",
    "output.max().backward()\n",
    "\n",
    "target_co  = output_co .argmax(1)\n",
    "output_co .max().backward()\n",
    "\n",
    "# Get the gradients and activations\n",
    "gradients = model.gradients.detach().cpu()\n",
    "activations = model.activations.detach().cpu()\n",
    "\n",
    "gradients_co  = model_co.gradients.detach().cpu()\n",
    "activations_co  = model_co.activations.detach().cpu()\n",
    "\n",
    "# Calculate the weights\n",
    "weights = gradients.mean(dim=(2, 3), keepdim=True)\n",
    "\n",
    "weights_co = gradients_co.mean(dim=(2, 3), keepdim=True)\n",
    "\n",
    "# Calculate the weighted sum of activations (Grad-CAM)\n",
    "cam = (weights * activations).sum(dim=1, keepdim=True)\n",
    "cam = F.relu(cam)  # apply ReLU to the heatmap\n",
    "cam = F.interpolate(cam, size=(32, 32), mode='bilinear', align_corners=False)\n",
    "cam = cam.squeeze().numpy()\n",
    "\n",
    "cam_co = (weights_co * activations_co).sum(dim=1, keepdim=True)\n",
    "cam_co = F.relu(cam_co)  # apply ReLU to the heatmap\n",
    "cam_co = F.interpolate(cam_co, size=(32, 32), mode='bilinear', align_corners=False)\n",
    "cam_co = cam_co.squeeze().numpy()\n",
    "\n",
    "# Normalize the heatmap\n",
    "cam -= cam.min()\n",
    "cam /= cam.max()\n",
    "\n",
    "cam_co -= cam_co.min()\n",
    "cam_co /= cam_co.max()\n"
   ],
   "id": "7659817e-4487-46c4-9b91-83da8ed7df59"
  },
  {
   "cell_type": "markdown",
   "metadata": {},
   "source": [
    "Visualize the image and the Grad-CAM heatmap"
   ],
   "id": "316b5f77-dc2c-44b9-9844-02a161d513ae"
  },
  {
   "cell_type": "code",
   "execution_count": null,
   "metadata": {},
   "outputs": [],
   "source": [
    "import matplotlib.pyplot as plt\n",
    "import cv2\n",
    "\n",
    "# Load the original image\n",
    "img = cv2.imread(image_path)\n",
    "img = cv2.resize(img, (32, 32))\n",
    "img = cv2.cvtColor(img, cv2.COLOR_BGR2RGB)\n",
    "\n",
    "# Superimpose the heatmap onto the original image\n",
    "heatmap = cv2.applyColorMap(np.uint8(255 * cam), cv2.COLORMAP_JET)\n",
    "heatmap = cv2.cvtColor(heatmap, cv2.COLOR_BGR2RGB)\n",
    "superimposed_img = heatmap * 0.4 + img\n",
    "\n",
    "# Superimpose the heatmap onto the original image with cutout\n",
    "heatmap_co = cv2.applyColorMap(np.uint8(255 * cam_co), cv2.COLORMAP_JET)\n",
    "heatmap_co = cv2.cvtColor(heatmap_co, cv2.COLOR_BGR2RGB)\n",
    "superimposed_img_co = heatmap_co * 0.4 + img\n",
    "\n",
    "# Display the original image and the Grad-CAM\n",
    "fig, ax = plt.subplots(nrows=1, ncols=3)\n",
    "ax[0].imshow(img)\n",
    "ax[0].set_title('Original Image')\n",
    "ax[0].axis(\"off\")\n",
    "ax[1].imshow(superimposed_img / 255)\n",
    "ax[1].set_title('Grad-CAM')\n",
    "ax[1].axis(\"off\")\n",
    "ax[2].imshow(superimposed_img_co / 255)\n",
    "ax[2].set_title('Grad-CAM with Cutout')\n",
    "ax[2].axis(\"off\")\n",
    "plt.show()\n"
   ],
   "id": "5a177b48-e17b-4c58-9eef-93d578097dc2"
  }
 ],
 "nbformat": 4,
 "nbformat_minor": 5,
 "metadata": {}
}

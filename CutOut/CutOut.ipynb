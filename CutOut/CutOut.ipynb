{
 "cells": [
  {
   "cell_type": "code",
   "execution_count": null,
   "metadata": {},
   "outputs": [],
   "source": [
    "import torch\n",
    "import torchvision\n",
    "import torchvision.transforms as transforms\n",
    "import torch.nn as nn\n",
    "import torch.nn.functional as F\n",
    "from torch.autograd import Variable\n",
    "import torch.backends.cudnn as cudnn\n",
    "from torch.optim.lr_scheduler import MultiStepLR\n",
    "from torchvision.utils import make_grid\n",
    "from torchvision import datasets, transforms\n",
    "import cv2\n",
    "\n",
    "\n",
    "import math\n",
    "import numpy as np\n",
    "import csv\n",
    "from PIL import Image\n",
    "import matplotlib.pyplot as plt\n",
    "import pdb\n",
    "import argparse\n",
    "from tqdm import tqdm\n",
    "import os\n"
   ],
   "id": "7cce6366-ec5e-4e7d-a505-ca9d39491fe4"
  },
  {
   "cell_type": "code",
   "execution_count": null,
   "metadata": {},
   "outputs": [],
   "source": [
    "# note: This notebook has been developed and tested for pytorch \n",
    "print(torch. __version__)"
   ],
   "id": "ec871076-7973-443d-a7db-9acf6f5c7a4e"
  },
  {
   "cell_type": "markdown",
   "metadata": {},
   "source": [
    "# Cutout data augmentation\n",
    "\n",
    "In this notebook, we will reproduce the results of the paper\n",
    "\n",
    "> DeVries, T. and Taylor, G.W., 2017. Improved regularization of convolutional neural networks with Cutout. arXiv preprint [arXiv:1708.04552](https://arxiv.org/abs/1708.04552).\n",
    "\n",
    "We will use the author’s implementation of their technique, from <https://github.com/uoguelph-mlrg/Cutout>, which is licensed under an Educational Community License version 2.0."
   ],
   "id": "c2a9571f-b8c7-4bf6-b999-f845ff9becb2"
  },
  {
   "cell_type": "markdown",
   "metadata": {},
   "source": [
    "## 1. Learning outcomes\n",
    "\n",
    "After working through this notebook, you should be able to:\n",
    "\n",
    "-   Describe how Cutout works as a regularization technique,\n",
    "-   Enumerate specific claims (both quantitative claims, qualitative claims, and claims about the underlying mechanism behind a result) from the Cutout paper,\n",
    "-   Execute experiments (following the given procedure) to try and validate each claim about Cutout data augmentation,\n",
    "-   Evaluate whether your own result matches quantitative claims in the Cutout paper (i.e. whether it is within the confidence intervals for each reported numeric result),\n",
    "-   Evaluate whether your own result validates qualitative claims in the Cutout paper,\n",
    "-   Evaluate whether your own results support the author’s claim about the underlying mechanism behind the result."
   ],
   "id": "28dd5f4d-af13-4a7a-8017-f160dedbca57"
  },
  {
   "cell_type": "markdown",
   "metadata": {},
   "source": [
    "# If you’re using Google Colab, make sure to set up the runtime environment properly.\n",
    "\n",
    "# Follow these steps to ensure a smooth experience:\n",
    "\n",
    "-   Step 1: Click on the “Runtime” menu at the top of the Colab interface.\n",
    "\n",
    "-   Step 2: Select “Change runtime type” from the dropdown menu.\n",
    "\n",
    "-   Step 3: In the “Runtime type” section, choose the desired hardware accelerator.\n",
    "\n",
    "    -     In these experiments, we are going to use \"GPU\" as it speeds up computations.\n",
    "\n",
    "Step 4: Click “Save” to apply the changes.\n",
    "\n",
    "Once you’ve set up the runtime, you’re ready to run the code cells in the notebook!"
   ],
   "id": "230531d9-e81e-4d8e-8406-66cd43ac23df"
  },
  {
   "cell_type": "markdown",
   "metadata": {},
   "source": [
    "### For everyone using Google Colab to run these experiments\n",
    "\n",
    "If you are using Google Colab, here’s a step-by-step how to connect with your google drive:\n",
    "\n",
    "1.  On the left sidebar of the Colab notebook interface, you will see a folder icon with the Google Drive logo. Click on this folder icon to open the file explorer.\n",
    "\n",
    "2.  If you haven’t connected your Google Drive to Colab yet, it will prompt you to do so. Click the “Mount Drive” button to connect your Google Drive to Colab.\n",
    "\n",
    "3.  Once your Google Drive is mounted, you can use the file explorer to navigate to the file you want to open. Click on the folders to explore the contents of your Google Drive.\n",
    "\n",
    "4.  When you find the file you want to open, click the three dots next to the name of the file in the file explorer. From the options that appear, choose “Copy path.” This action will copy the full path of the file to your clipboard. Paste the copy path into the ‘current_path’ below."
   ],
   "id": "417cacb0-ab29-46ea-a173-febf344b5e74"
  },
  {
   "cell_type": "code",
   "execution_count": null,
   "metadata": {},
   "outputs": [],
   "source": [
    "current_path =\"./\""
   ],
   "id": "26eb9333-fa98-4838-b5ed-7e0ea00d8f46"
  },
  {
   "cell_type": "markdown",
   "metadata": {},
   "source": [
    "To see how it works, in the following cell, you will upload an image of your choice to this workspace. To prevent any distortion due to resizing, it is advised to use an image that is approximately square in shape, as we will be resizing the image to a square format (100x100 pixels) later on:\n",
    "\n",
    "To see how Cutout works, let’s upload an image and apply Cutout to it. Follow these steps to upload an image in this Google Colab notebook:\n",
    "\n",
    "1.  Click on the folder icon in the left sidebar to open the ‘Files’ tab.\n",
    "2.  Click the ‘Upload to session storage’ button (the icon looks like a file with an up arrow).\n",
    "3.  Select the image file from your local machine that you want to upload.\n",
    "4.  Wait for the upload to finish. The uploaded file should now appear in the ‘Files’ tab. After the image is uploaded, we can use Python code to load it into our notebook and apply the Cutout augmentation\n",
    "\n",
    "If you are using Chameleon, here are the steps:\n",
    "\n",
    "1.  Click on the upload icon in the left sidebar.\n",
    "2.  Select the image file from your local machine that you want to upload.\n",
    "3.  Wait for the upload to finish. The uploaded file should now appear in the ‘Files’ tab. After the image is uploaded, we can use Python code to load it into our notebook and apply the Cutout augmentation to the image."
   ],
   "id": "9cb3c847-9192-446b-bcde-c0d3bdc76141"
  },
  {
   "cell_type": "markdown",
   "metadata": {},
   "source": [
    "In the sections that follow, we will identify and evaluate claims from the original Cutout paper:\n",
    "\n",
    "1.  Cutout improves the robustness and overall performance of convolutional neural networks.\n",
    "2.  Cutout can be used in conjunction with existing forms of data augmentation and other regularizers to further improve model performance.\n",
    "3.  Cutout aimed to remove maximally activated features in order to encourage the network to consider less prominent features"
   ],
   "id": "ab90b5f5-233b-49cc-b7ea-77ea6ee5fdb2"
  },
  {
   "cell_type": "markdown",
   "metadata": {},
   "source": [
    "## 2. Cutout as a regularization technique\n",
    "\n",
    "This Jupyter notebook is designed to illustrate the implementation and usage of the Cutout data augmentation technique in deep learning, specifically in the context of Convolutional Neural Networks (CNNs)."
   ],
   "id": "0796289d-3e4d-4e33-9507-800a64015b85"
  },
  {
   "cell_type": "markdown",
   "metadata": {},
   "source": [
    "Cutout is a regularization and data augmentation technique for convolutional neural networks (CNNs). It involves randomly masking out square regions of input during training. This helps to improve the robustness and overall performance of CNNs by encouraging the network to better utilize the full context of the image, rather than relying on the presence of a small set of specific visual features.\n",
    "\n",
    "Cutout is computationally efficient as it can be applied during data loading in parallel with the main training task. It can be used in conjunction with existing forms of data augmentation and other regularizers to further improve model performance.\n",
    "\n",
    "The technique has been evaluated with state-of-the-art architectures on popular image recognition datasets such as CIFAR-10, CIFAR-100, and SVHN, often achieving state-of-the-art or near state-of-the-art results."
   ],
   "id": "4220b596-f95f-4d9a-8e42-2395f9c254ca"
  },
  {
   "cell_type": "markdown",
   "metadata": {},
   "source": [
    "### Implementation of Cutout"
   ],
   "id": "c0c3e9e0-3a9f-4ec1-9ff4-c644b66c9d43"
  },
  {
   "cell_type": "code",
   "execution_count": null,
   "metadata": {},
   "outputs": [],
   "source": [
    "# Import necessary libraries\n",
    "from torchvision.transforms import RandomHorizontalFlip, RandomCrop, ColorJitter\n",
    "import numpy as np\n",
    "import torch\n",
    "from PIL import Image\n",
    "from torchvision import transforms\n",
    "import matplotlib.pyplot as plt"
   ],
   "id": "2569b5b8-aabf-471d-b0f5-041225d80564"
  },
  {
   "cell_type": "markdown",
   "metadata": {},
   "source": [
    "In the following cells, we will see how Cutout works when applied to a sample image.\n",
    "\n",
    "<!-- To do: explain the code with reference to section 3.2. Implementation Details -->\n",
    "\n",
    "In the code provided above, we see a Python class named Cutout defined. This class is designed to apply the Cutout data augmentation technique to an image. Below is an explanation of the class and its methods:\n",
    "\n",
    "-   The Cutout class is initialized with two parameters:\n",
    "\n",
    "    -   `n_holes`: the number of patches to cut out of each image.\n",
    "    -   `length`: the length (in pixels) of each square patch.\n",
    "\n",
    "-   The `__call__` method implements the Cutout technique. This method takes as input a tensor `img` representing an image, and returns the same image with `n_holes` number of patches of dimension `length` x `length` cut out of it.\n",
    "\n",
    "Here’s a step-by-step explanation of what’s happening inside the `__call__` method:\n",
    "\n",
    "1.  The method first retrieves the height h and width w of the input image.\n",
    "\n",
    "2.  A mask is then initialized as a 2D numpy array of ones with the same dimensions as the input image.\n",
    "\n",
    "3.  The method then enters a loop which runs for n_holes iterations. In each iteration:\n",
    "\n",
    "    -   A pair of coordinates y and x are randomly selected within the height and width of the image.\n",
    "\n",
    "    -   The method then calculates the coordinates of a square patch around the (y, x) coordinate. The patch has a length of length pixels, and the method ensures that the patch doesn’t fall outside the image by using the np.clip function.\n",
    "\n",
    "    -   The corresponding area in the mask is set to zero.\n",
    "\n",
    "4.  The mask is then converted to a PyTorch tensor and expanded to the same number of channels as the input image.\n",
    "\n",
    "5.  Finally, the method applies the mask to the input image, effectively setting the pixels in the masked regions to zero, and returns the result.\n",
    "\n",
    "Remember to import necessary libraries like numpy (np) and PyTorch (torch) before running this class definition. The class Cutout can then be used as part of your data augmentation pipeline when training your models.\n",
    "\n",
    "The Cutout code we are using comes from this specific file in the original GitHub repository: \\[https://github.com/uoguelph-mlrg/Cutout/blob/master/util/cutout.py\\]."
   ],
   "id": "85270835-f34b-4f41-8d20-bc9568ac8da1"
  },
  {
   "cell_type": "code",
   "execution_count": null,
   "metadata": {},
   "outputs": [],
   "source": [
    "# Source Code from \n",
    "# https://github.com/uoguelph-mlrg/Cutout/blob/master/util/cutout.py\n",
    "class Cutout(object):\n",
    "    \"\"\"Randomly mask out one or more patches from an image.\n",
    "\n",
    "    Args:\n",
    "        n_holes (int): Number of patches to cut out of each image.\n",
    "        length (int): The length (in pixels) of each square patch.\n",
    "    \"\"\"\n",
    "    def __init__(self, n_holes, length):\n",
    "        self.n_holes = n_holes\n",
    "        self.length = length\n",
    "\n",
    "    def __call__(self, img):\n",
    "        \"\"\"\n",
    "        Args:\n",
    "            img (Tensor): Tensor image of size (C, H, W).\n",
    "        Returns:\n",
    "            Tensor: Image with n_holes of dimension length x length cut out of it.\n",
    "        \"\"\"\n",
    "        h = img.size(1)\n",
    "        w = img.size(2)\n",
    "\n",
    "        mask = np.ones((h, w), np.float32)\n",
    "\n",
    "        for n in range(self.n_holes):\n",
    "            y = np.random.randint(h)\n",
    "            x = np.random.randint(w)\n",
    "\n",
    "            y1 = np.clip(y - self.length // 2, 0, h)\n",
    "            y2 = np.clip(y + self.length // 2, 0, h)\n",
    "            x1 = np.clip(x - self.length // 2, 0, w)\n",
    "            x2 = np.clip(x + self.length // 2, 0, w)\n",
    "\n",
    "            mask[y1: y2, x1: x2] = 0.\n",
    "\n",
    "        mask = torch.from_numpy(mask)\n",
    "        mask = mask.expand_as(img)\n",
    "        img = img * mask\n",
    "\n",
    "        return img"
   ],
   "id": "6b878dc4-f815-4aa9-b2bf-1f44985eb18f"
  },
  {
   "cell_type": "markdown",
   "metadata": {},
   "source": [
    "To see how it works, in the following cell, you will upload an image of your choice to this workspace. To prevent any distortion due to resizing, it is advised to use an image that is approximately square in shape, as we will be resizing the image to a square format (100x100 pixels) later on:\n",
    "\n",
    "To see how Cutout works, let’s upload an image and apply Cutout to it. Follow these steps to upload an image in this Google Colab notebook:\n",
    "\n",
    "1.  Click on the folder icon in the left sidebar to open the ‘Files’ tab.\n",
    "2.  Click the ‘Upload to session storage’ button (the icon looks like a file with an up arrow).\n",
    "3.  Select the image file from your local machine that you want to upload.\n",
    "4.  Wait for the upload to finish. The uploaded file should now appear in the ‘Files’ tab. After the image is uploaded, we can use Python code to load it into our notebook and apply the Cutout augmentation\n",
    "\n",
    "If you are using Chameleon, here are the steps:\n",
    "\n",
    "1.  Click on the upload icon in the left sidebar.\n",
    "2.  Select the image file from your local machine that you want to upload.\n",
    "3.  Wait for the upload to finish. The uploaded file should now appear in the ‘Files’ tab. After the image is uploaded, we can use Python code to load it into our notebook and apply the Cutout augmentation to the image."
   ],
   "id": "fb0a9577-81be-4083-a02b-2a68e43603cb"
  },
  {
   "cell_type": "code",
   "execution_count": null,
   "metadata": {},
   "outputs": [],
   "source": [
    "# TODO: Replace 'sample.png' with the filename of your own image. \n",
    "# If your image is inside a directory, include the directory's name in the path.\n",
    "img = Image.open(current_path + 'sample.png')\n",
    "\n",
    "# Resize the image to 100x100\n",
    "img = img.resize((100, 100))"
   ],
   "id": "52b6f919-1a33-41a2-be36-f11d6f2f8ad8"
  },
  {
   "cell_type": "markdown",
   "metadata": {},
   "source": [
    "Then, the following cell will display your image directly, without any data augmentation:"
   ],
   "id": "c1fb8b71-85db-4d75-82c5-a0a1113b4c41"
  },
  {
   "cell_type": "code",
   "execution_count": null,
   "metadata": {},
   "outputs": [],
   "source": [
    "# Convert the image to a PyTorch tensor\n",
    "img_tensor = transforms.ToTensor()(img)\n",
    "\n",
    "# Display the original image\n",
    "plt.figure(figsize=(6,6))\n",
    "plt.imshow(img_tensor.permute(1, 2, 0))\n",
    "plt.show()"
   ],
   "id": "3530f6a5-5ba8-4226-9611-ee9dd54a7fea"
  },
  {
   "cell_type": "markdown",
   "metadata": {},
   "source": [
    "and the next cell will display your image with Cutout applied:"
   ],
   "id": "5aea7b51-b5ab-4f70-9fb6-9d9e25df8558"
  },
  {
   "cell_type": "code",
   "execution_count": null,
   "metadata": {},
   "outputs": [],
   "source": [
    "# Create a Cutout object\n",
    "cutout_obj = Cutout(n_holes=1, length=50)\n",
    "\n",
    "# Apply Cutout to the image\n",
    "img_tensor_Cutout = cutout_obj(img_tensor)\n",
    "\n",
    "# Convert the tensor back to an image for visualization\n",
    "img_Cutout = transforms.ToPILImage()(img_tensor_Cutout)\n",
    "\n",
    "# Display the image with Cutout applied\n",
    "plt.figure(figsize=(6,6))\n",
    "plt.imshow(img_tensor_Cutout.permute(1, 2, 0))\n",
    "plt.show()"
   ],
   "id": "3dd80ca8-6719-43cc-afdd-d5817834796d"
  },
  {
   "cell_type": "markdown",
   "metadata": {},
   "source": [
    "Things to try:\n",
    "\n",
    "-   You can re-run the cell above several times to see how the occlusion is randomly placed in a different position each time.\n",
    "-   You can try changing the `length` parameter in the cell above, and re-running, to see how the size of the occlusion can change.\n",
    "-   You can try changing the `n_holes` parameter in the cell above, and re-running, to see how the number of occlusions can change."
   ],
   "id": "82eee603-cc38-4793-aedd-142209179e7a"
  },
  {
   "cell_type": "code",
   "execution_count": null,
   "metadata": {},
   "outputs": [],
   "source": [
    " #TODO: Set the number of patches (\"holes\") to cut out of the image.\n",
    "n_holes = \n",
    "\n",
    "#TODO: Set the size (length of a side) of each patch.\n",
    "length = \n",
    "\n",
    "\n",
    "# Create a Cutout object\n",
    "Cutout = Cutout(n_holes, length)\n",
    "\n",
    "# Apply Cutout to the image\n",
    "img_tensor_Cutout = Cutout(img_tensor)\n",
    "\n",
    "# Convert the tensor back to an image for visualization\n",
    "img_Cutout = transforms.ToPILImage()(img_tensor_Cutout)\n",
    "\n",
    "# Display the image with Cutout applied\n",
    "plt.figure(figsize=(6,6))\n",
    "plt.imshow(img_tensor_Cutout.permute(1, 2, 0))\n",
    "plt.show()"
   ],
   "id": "8f69e293-3327-4a08-83ff-b1417e816b11"
  },
  {
   "cell_type": "markdown",
   "metadata": {},
   "source": [
    "Cutout was introduced as an alternative to two closely related techniques:\n",
    "\n",
    "-   Data Augmentation for Images: Data augmentation is a strategy used to increase the diversity of the data available for training models, without actually collecting new data. For image data, this could include operations like rotation, scaling, cropping, flipping, and adding noise. The goal is to make the model more robust by allowing it to see more variations of the data.\n",
    "\n",
    "-   Dropout in Convolutional Neural Networks: Dropout is a regularization technique for reducing overfitting in neural networks. During training, some number of layer outputs are randomly ignored or “dropped out”. This has the effect of making the layer look-like and be treated-like a layer with a different number of nodes and connectivity to the prior layer. In effect, dropout simulates ensembling a large number of neural networks with different architectures, which makes the model more robust."
   ],
   "id": "b3c19c97-1833-4fea-a813-8697baeb39d7"
  },
  {
   "cell_type": "markdown",
   "metadata": {},
   "source": [
    "In the following code snippet, we demonstrate some “standard” data augmentation techniques commonly used in image preprocessing. These techniques include random horizontal flipping, random cropping, and color jittering (random variation in brightness, contrast, saturation, and hue). The augmented image is then displayed alongside the original image for comparison."
   ],
   "id": "7a14c18b-ca5e-42cf-80fc-251120eaee60"
  },
  {
   "cell_type": "code",
   "execution_count": null,
   "metadata": {},
   "outputs": [],
   "source": [
    "# Define standard data augmentation techniques\n",
    "transforms_data_augmentation = transforms.Compose([\n",
    "    RandomHorizontalFlip(),\n",
    "    RandomCrop(size=(100, 100), padding=4),\n",
    "    ColorJitter(brightness=0.2, contrast=0.2, saturation=0.2, hue=0.1),\n",
    "])\n",
    "\n",
    "# Apply transformations to the image\n",
    "augmented_img = transforms_data_augmentation(img)\n",
    "\n",
    "# Display the original and augmented image\n",
    "fig, ax = plt.subplots(1, 2, figsize=(10, 5))\n",
    "ax[0].imshow(img)\n",
    "ax[0].set_title('Original Image')\n",
    "ax[1].imshow(augmented_img)\n",
    "ax[1].set_title('Augmented Image')\n",
    "plt.show()"
   ],
   "id": "0856b026-0737-4e49-8dee-bcf4e35e9137"
  },
  {
   "cell_type": "markdown",
   "metadata": {},
   "source": [
    "# 02. ResNet"
   ],
   "id": "be3b4882-7db7-4f0a-b388-2d8e210fb9ad"
  },
  {
   "cell_type": "markdown",
   "metadata": {},
   "source": [
    "Note: for faster training, use Runtime \\> Change Runtime Type to run this notebook on a GPU."
   ],
   "id": "2cd1b8d1-3304-4768-ab1d-ab59583a2943"
  },
  {
   "cell_type": "markdown",
   "metadata": {},
   "source": [
    "In the Cutout paper, the authors claim that:\n",
    "\n",
    "1.  Cutout improves the robustness and overall performance of convolutional neural networks.\n",
    "2.  Cutout can be used in conjunction with existing forms of data augmentation and other regularizers to further improve model performance.\n",
    "\n",
    "In this section, we will evaluate these claims using a ResNet model. For the ResNet model, the specific quantitative claims are given in the following table:\n",
    "\n",
    "Test error (%, flip/translation augmentation, mean/std normalization, mean of 5 runs) and “+” indicates standard data augmentation (mirror + crop)\n",
    "\n",
    "| **Network**       | **CIFAR-10** | **CIFAR-10+** | **CIFAR-100** | **CIFAR-100+** |\n",
    "|-------------|--------------|----------------|--------------|----------------|\n",
    "| ResNet18          | 10.63 ± 0.26 | 4.72 ± 0.21   | 36.68 ± 0.57  | 22.46 ± 0.31   |\n",
    "| ResNet18 + cutout | 9.31 ± 0.18  | 3.99 ± 0.13   | 34.98 ± 0.29  | 21.96 ± 0.24   |\n",
    "\n",
    "The provided table displays the results of experiments conducted on the CIFAR-10 and CIFAR-100 datasets using the ResNet18 architecture, revealing the impact of standard and cutout data augmentation techniques. The “CIFAR-10+” and “CIFAR-100+” labels indicate the use of standard data augmentation, which involves mirror and crop techniques.\n",
    "\n",
    "In the results table provided in the original paper, we have included confidence intervals to provide a comprehensive view of the outcomes. It’s important to note that in our case, due to computational constraints, we have trained and evaluated the model only once, whereas the original authors conducted multiple runs. Consequently, while our numerical outcomes may not precisely match their averaged values, we are interested in assessing whether our results fall within the specified confidence intervals. This approach allows us to gauge the consistency and reliability of our findings with respect to the reported results.\n",
    "\n",
    "With the use of standard data augmentation on CIFAR-10, the ResNet18 model’s test error is significantly reduced from 14.04% to 5.72%. Further enhancement is achieved when cutout augmentation is applied, bringing down the error to 4.86%. A similar pattern is observed in the case of the CIFAR-100 dataset, where standard augmentation reduces the ResNet18 model’s test error from 40.13% to 24.36%. Upon applying cutout augmentation, a slight further reduction in error to 23.9% is noted.\n",
    "\n",
    "These findings emphasize the efficacy of both standard and cutout data augmentation techniques in enhancing the model’s performance, evidenced by the reduction in test error rates on both CIFAR-10 and CIFAR-100 datasets. The results also highlight that the impact of data augmentation can vary based on the complexity of the dataset, illustrated by the differing rates of error reduction between CIFAR-10 and CIFAR-100."
   ],
   "id": "03846b1d-f09c-44df-8e95-8123474c13d2"
  },
  {
   "cell_type": "markdown",
   "metadata": {},
   "source": [
    "## Import Library"
   ],
   "id": "6a50279a-93fa-463c-aa62-524c2dd5b08c"
  },
  {
   "cell_type": "code",
   "execution_count": null,
   "metadata": {},
   "outputs": [],
   "source": [
    "import torch\n",
    "import torch.nn as nn\n",
    "import torch.nn.functional as F\n",
    "from torch.autograd import Variable\n",
    "import torch.backends.cudnn as cudnn\n",
    "from torch.optim.lr_scheduler import MultiStepLR\n",
    "from torchvision import datasets, transforms\n",
    "import numpy as np\n",
    "import os\n",
    "from tqdm import tqdm"
   ],
   "id": "912e829b-4c61-4f2c-93fc-1d730b839cd7"
  },
  {
   "cell_type": "markdown",
   "metadata": {},
   "source": [
    "Check Cuda GPU availability and set seed number"
   ],
   "id": "a585d5f0-0f96-46c7-94bf-4c6e924f737f"
  },
  {
   "cell_type": "code",
   "execution_count": null,
   "metadata": {},
   "outputs": [],
   "source": [
    "cuda = torch.cuda.is_available()\n",
    "print(cuda)\n",
    "cudnn.benchmark = True  # Should make training should go faster for large models\n",
    "\n",
    "seed = 1\n",
    "torch.manual_seed(seed)\n",
    "np.random.seed(seed)"
   ],
   "id": "6ab01429-968d-4d58-8803-d4e2b8a68eeb"
  },
  {
   "cell_type": "markdown",
   "metadata": {},
   "source": [
    "If you are using Google Colab, here’s a step-by-step how to connect with your google drive:\n",
    "\n",
    "1.  On the left sidebar of the Colab notebook interface, you will see a folder icon with the Google Drive logo. Click on this folder icon to open the file explorer.\n",
    "\n",
    "2.  If you haven’t connected your Google Drive to Colab yet, it will prompt you to do so. Click the “Mount Drive” button to connect your Google Drive to Colab.\n",
    "\n",
    "3.  Once your Google Drive is mounted, you can use the file explorer to navigate to the file you want to open. Click on the folders to explore the contents of your Google Drive.\n",
    "\n",
    "4.  When you find the file you want to open, click the three dots next to the name of the file in the file explorer. From the options that appear, choose “Copy path.” This action will copy the full path of the file to your clipboard. Paste the copy path into the ‘current_path’ below."
   ],
   "id": "972bbf36-f69d-4511-8aba-c212b1e58bb8"
  },
  {
   "cell_type": "code",
   "execution_count": null,
   "metadata": {},
   "outputs": [],
   "source": [
    "current_path =\"./\""
   ],
   "id": "b3fd5d4e-653b-463b-bc7f-00076e5236cc"
  },
  {
   "cell_type": "markdown",
   "metadata": {},
   "source": [
    "This code block is used for creating a directory named ‘checkpoints’. This directory will be used to store the weights of our models, which are crucial for both preserving our progress during model training and for future use of the trained models.\n",
    "\n",
    "Creating such a directory and regularly saving model weights is a good practice in machine learning, as it ensures that you can resume your work from where you left off, should the training process be interrupted."
   ],
   "id": "bef59151-406a-4c8b-b4aa-e149011be004"
  },
  {
   "cell_type": "code",
   "execution_count": null,
   "metadata": {},
   "outputs": [],
   "source": [
    "# Create file names 'checkpoints' to save the weight of the models\n",
    "if not os.path.exists(current_path + 'checkpoints'):\n",
    "    os.makedirs(current_path + 'checkpoints')"
   ],
   "id": "d5db11bd-9bc4-45fc-bc7c-e446029cc399"
  },
  {
   "cell_type": "markdown",
   "metadata": {},
   "source": [
    "## 2.1 Implementation Code"
   ],
   "id": "d4f3672a-8c75-4a71-ba18-535433743092"
  },
  {
   "cell_type": "markdown",
   "metadata": {},
   "source": [
    "### 2.1.1 ResNet Code"
   ],
   "id": "25ba3c48-1c3b-400d-832b-fc06c41d766d"
  },
  {
   "cell_type": "code",
   "execution_count": null,
   "metadata": {},
   "outputs": [],
   "source": [
    "# ResNet\n",
    "# From https://github.com/uoguelph-mlrg/Cutout/blob/master/model/resnet.py\n",
    "# ResNet\n",
    "# From https://github.com/uoguelph-mlrg/Cutout/blob/master/model/resnet.py\n",
    "\n",
    "def conv3x3(in_planes, out_planes, stride=1):\n",
    "    return nn.Conv2d(in_planes, out_planes, kernel_size=3, stride=stride, \n",
    "                     padding=1, bias=False)\n",
    "\n",
    "\n",
    "class BasicBlock(nn.Module):\n",
    "    expansion = 1\n",
    "\n",
    "    def __init__(self, in_planes, planes, stride=1):\n",
    "        super(BasicBlock, self).__init__()\n",
    "        self.conv1 = conv3x3(in_planes, planes, stride)\n",
    "        self.bn1 = nn.BatchNorm2d(planes)\n",
    "        self.conv2 = conv3x3(planes, planes)\n",
    "        self.bn2 = nn.BatchNorm2d(planes)\n",
    "\n",
    "        self.shortcut = nn.Sequential()\n",
    "        if stride != 1 or in_planes != self.expansion*planes:\n",
    "            self.shortcut = nn.Sequential(\n",
    "                nn.Conv2d(in_planes, self.expansion*planes, kernel_size=1, \n",
    "                          stride=stride, bias=False),\n",
    "                nn.BatchNorm2d(self.expansion*planes)\n",
    "            )\n",
    "\n",
    "    def forward(self, x):\n",
    "        out = F.relu(self.bn1(self.conv1(x)))\n",
    "        out = self.bn2(self.conv2(out))\n",
    "        out += self.shortcut(x)\n",
    "        out = F.relu(out)\n",
    "        return out\n",
    "\n",
    "\n",
    "class Bottleneck(nn.Module):\n",
    "    expansion = 4\n",
    "\n",
    "    def __init__(self, in_planes, planes, stride=1):\n",
    "        super(Bottleneck, self).__init__()\n",
    "        self.conv1 = nn.Conv2d(in_planes, planes, kernel_size=1, bias=False)\n",
    "        self.bn1 = nn.BatchNorm2d(planes)\n",
    "        self.conv2 = nn.Conv2d(planes, planes, kernel_size=3, stride=stride, \n",
    "                               padding=1, bias=False)\n",
    "        self.bn2 = nn.BatchNorm2d(planes)\n",
    "        self.conv3 = nn.Conv2d(planes, self.expansion*planes, kernel_size=1, \n",
    "                               bias=False)\n",
    "        self.bn3 = nn.BatchNorm2d(self.expansion*planes)\n",
    "\n",
    "        self.shortcut = nn.Sequential()\n",
    "        if stride != 1 or in_planes != self.expansion*planes:\n",
    "            self.shortcut = nn.Sequential(\n",
    "                nn.Conv2d(in_planes, self.expansion*planes, kernel_size=1, \n",
    "                          stride=stride, bias=False),\n",
    "                nn.BatchNorm2d(self.expansion*planes)\n",
    "            )\n",
    "\n",
    "    def forward(self, x):\n",
    "        out = F.relu(self.bn1(self.conv1(x)))\n",
    "        out = F.relu(self.bn2(self.conv2(out)))\n",
    "        out = self.bn3(self.conv3(out))\n",
    "        out += self.shortcut(x)\n",
    "        out = F.relu(out)\n",
    "        return out\n",
    "\n",
    "\n",
    "class ResNet(nn.Module):\n",
    "    def __init__(self, block, num_blocks, num_classes=10):\n",
    "        super(ResNet, self).__init__()\n",
    "        self.in_planes = 64\n",
    "\n",
    "        self.conv1 = conv3x3(3,64)\n",
    "        self.bn1 = nn.BatchNorm2d(64)\n",
    "        self.layer1 = self._make_layer(block, 64, num_blocks[0], stride=1)\n",
    "        self.layer2 = self._make_layer(block, 128, num_blocks[1], stride=2)\n",
    "        self.layer3 = self._make_layer(block, 256, num_blocks[2], stride=2)\n",
    "        self.layer4 = self._make_layer(block, 512, num_blocks[3], stride=2)\n",
    "        self.linear = nn.Linear(512*block.expansion, num_classes)\n",
    "\n",
    "    def _make_layer(self, block, planes, num_blocks, stride):\n",
    "        strides = [stride] + [1]*(num_blocks-1)\n",
    "        layers = []\n",
    "        for stride in strides:\n",
    "            layers.append(block(self.in_planes, planes, stride))\n",
    "            self.in_planes = planes * block.expansion\n",
    "        return nn.Sequential(*layers)\n",
    "\n",
    "    def forward(self, x):\n",
    "        out = F.relu(self.bn1(self.conv1(x)))\n",
    "        out = self.layer1(out)\n",
    "        out = self.layer2(out)\n",
    "        out = self.layer3(out)\n",
    "        out = self.layer4(out)\n",
    "        out = F.avg_pool2d(out, 4)\n",
    "        out = out.view(out.size(0), -1)\n",
    "        out = self.linear(out)\n",
    "        return out\n",
    "\n",
    "\n",
    "def ResNet18(num_classes=10):\n",
    "    return ResNet(BasicBlock, [2,2,2,2], num_classes)\n",
    "\n"
   ],
   "id": "8d788c17-f0c8-48a8-b0ee-f6cd132c64bd"
  },
  {
   "cell_type": "markdown",
   "metadata": {},
   "source": [
    "### 2.1.2. Model Evaluate Test Code\n",
    "\n",
    "This function evaluates the performance of the model on a given data loader (loader). It sets the model to evaluation mode (eval), calculates the accuracy on the dataset, and returns the validation accuracy. It then switches the model back to training mode (train) before returning the validation accuracy."
   ],
   "id": "324f3509-9c4d-4b67-b936-dd21def31d59"
  },
  {
   "cell_type": "code",
   "execution_count": null,
   "metadata": {},
   "outputs": [],
   "source": [
    "def test(loader, cnn):\n",
    "    cnn.eval()    # Change model to 'eval' mode (BN uses moving mean/var).\n",
    "    correct = 0.\n",
    "    total = 0.\n",
    "    for images, labels in loader:\n",
    "        images = images.cuda()\n",
    "        labels = labels.cuda()\n",
    "\n",
    "        with torch.no_grad():\n",
    "            pred = cnn(images)\n",
    "\n",
    "        pred = torch.max(pred.data, 1)[1]\n",
    "        total += labels.size(0)\n",
    "        correct += (pred == labels).sum().item()\n",
    "\n",
    "    val_acc = correct / total\n",
    "    cnn.train()\n",
    "    return val_acc"
   ],
   "id": "9e9a7919-4219-4e19-a5f7-3836e68edeca"
  },
  {
   "cell_type": "markdown",
   "metadata": {},
   "source": [
    "## 2.2 Training ResNet-18 in CIFAR-10"
   ],
   "id": "b5b30a27-56a4-4a9f-8eb9-e17d04351095"
  },
  {
   "cell_type": "markdown",
   "metadata": {},
   "source": [
    "### 2.2.1. Training ResNet-18 in CF10 without Cutout"
   ],
   "id": "8402f28d-d4f7-45e5-b11b-f149893e2747"
  },
  {
   "cell_type": "markdown",
   "metadata": {},
   "source": [
    "Image Processing for CIFAR-10 without Cutout"
   ],
   "id": "95897ba0-3f0a-42cf-98e6-cc3f35d40342"
  },
  {
   "cell_type": "code",
   "execution_count": null,
   "metadata": {},
   "outputs": [],
   "source": [
    "# Image Preprocessing\n",
    "normalize_image_cifar10 = transforms.Normalize(mean=[x / 255.0 for x in \n",
    " [125.3, 123.0, 113.9]], \n",
    "std=[x / 255.0 for x in [63.0, 62.1, 66.7]])\n",
    "\n",
    "train_transform_cifar10 = transforms.Compose([])\n",
    "\n",
    "train_transform_cifar10.transforms.append(transforms.ToTensor())\n",
    "train_transform_cifar10.transforms.append(normalize_image_cifar10)\n",
    "\n",
    "\n",
    "\n",
    "test_transform_cifar10 = transforms.Compose([\n",
    "    transforms.ToTensor(),\n",
    "    normalize_image_cifar10])"
   ],
   "id": "a71e1c7e-5f93-46e1-a9d0-1fc90989d722"
  },
  {
   "cell_type": "markdown",
   "metadata": {},
   "source": [
    "Import the dataset of CIFAR-10 without Cutout"
   ],
   "id": "dc20db8e-7d3c-49df-8692-24b2850129ac"
  },
  {
   "cell_type": "code",
   "execution_count": null,
   "metadata": {},
   "outputs": [],
   "source": [
    "train_dataset_cifar10 = datasets.CIFAR10(root=current_path + 'data/',\n",
    "                                     train=True,\n",
    "                                     transform=train_transform_cifar10,\n",
    "                                     download=True)\n",
    "\n",
    "test_dataset_cifar10 = datasets.CIFAR10(root=current_path + 'data/',\n",
    "                                    train=False,\n",
    "                                    transform=test_transform_cifar10,\n",
    "                                    download=True)"
   ],
   "id": "1225349b-fdc6-48fe-9d9b-ae56021ee039"
  },
  {
   "cell_type": "markdown",
   "metadata": {},
   "source": [
    "Create Dataset of CIFAR-10 without Cutout as Dataloader"
   ],
   "id": "91520f3e-5c8e-4aa1-81f0-3a76ca2d7c1d"
  },
  {
   "cell_type": "code",
   "execution_count": null,
   "metadata": {},
   "outputs": [],
   "source": [
    "# Data Loader (Input Pipeline)\n",
    "batch_size_cifar10 = 128\n",
    "train_loader_cifar10 = torch.utils.data.DataLoader(dataset=train_dataset_cifar10,\n",
    "                                           batch_size=batch_size_cifar10,\n",
    "                                           shuffle=True,\n",
    "                                           pin_memory=True,\n",
    "                                           num_workers=2)\n",
    "\n",
    "test_loader_cifar10 = torch.utils.data.DataLoader(dataset=test_dataset_cifar10,\n",
    "                                          batch_size=batch_size_cifar10,\n",
    "                                          shuffle=False,\n",
    "                                          pin_memory=True,\n",
    "                                          num_workers=2)"
   ],
   "id": "e7a2155e-d75a-4908-a85c-8295e15e438b"
  },
  {
   "cell_type": "markdown",
   "metadata": {},
   "source": [
    "Define the model of ResNet for CIFAR-10 without Cutout"
   ],
   "id": "3b8660c9-836e-4f25-a3a7-0e646ffb3b13"
  },
  {
   "cell_type": "markdown",
   "metadata": {},
   "source": [
    "This code block sets up the machine learning model, loss function, optimizer, and learning rate scheduler."
   ],
   "id": "bd2b6186-b7f6-4a45-b707-237d17cdf515"
  },
  {
   "cell_type": "code",
   "execution_count": null,
   "metadata": {},
   "outputs": [],
   "source": [
    "#file_name will be the used for the name of the file of weight of the model and also the result\n",
    "file_name_resnet18_cifar10 = \"resnet18_cifar10\"\n",
    "\n",
    "num_classes_cifar10 = 10\n",
    "resnet18_cifar10 = ResNet18(num_classes=num_classes_cifar10)\n",
    "\n",
    "\n",
    "resnet18_cifar10 = resnet18_cifar10.cuda()\n",
    "learning_rate_resnet18_cifar10 = 0.1\n",
    "criterion_resnet18_cifar10 = nn.CrossEntropyLoss().cuda()\n",
    "cnn_optimizer_resnet18_cifar10 = torch.optim.SGD(resnet18_cifar10.parameters(), lr=learning_rate_resnet18_cifar10,\n",
    "                                momentum=0.9, nesterov=True, weight_decay=5e-4)\n",
    "scheduler_resnet18_cifar10 = MultiStepLR(cnn_optimizer_resnet18_cifar10, milestones=[60, 120, 160], gamma=0.2)"
   ],
   "id": "75ab3b7e-47b7-4b0e-8d20-4d981ebad5d6"
  },
  {
   "cell_type": "markdown",
   "metadata": {},
   "source": [
    "Training ResNet-18 for CIFAR-10 without Cutout"
   ],
   "id": "8c73cd6f-c3e6-4fa8-91f6-0d8280aeb2c0"
  },
  {
   "cell_type": "markdown",
   "metadata": {},
   "source": [
    "This code runs the training loop for the chosen machine learning model over a specified number of epochs. Each epoch involves a forward pass, loss computation, backpropagation, and parameter updates. It also calculates and displays the training accuracy and cross-entropy loss. At the end of each epoch, the model’s performance is evaluated on the test set, and the results are logged and saved."
   ],
   "id": "15680759-6084-4ef0-8f38-decf045707bf"
  },
  {
   "cell_type": "code",
   "execution_count": null,
   "metadata": {},
   "outputs": [],
   "source": [
    "epochs = 200\n",
    "for epoch in range(epochs):\n",
    "\n",
    "    xentropy_loss_avg = 0.\n",
    "    correct = 0.\n",
    "    total = 0.\n",
    "\n",
    "    progress_bar = tqdm(train_loader_cifar10)\n",
    "    for i, (images, labels) in enumerate(progress_bar):\n",
    "        progress_bar.set_description('Epoch ' + str(epoch))\n",
    "\n",
    "        images = images.cuda()\n",
    "        labels = labels.cuda()\n",
    "\n",
    "        resnet18_cifar10.zero_grad()\n",
    "        pred = resnet18_cifar10(images)\n",
    "\n",
    "        xentropy_loss = criterion_resnet18_cifar10(pred, labels)\n",
    "        xentropy_loss.backward()\n",
    "        cnn_optimizer_resnet18_cifar10.step()\n",
    "\n",
    "        xentropy_loss_avg += xentropy_loss.item()\n",
    "\n",
    "        # Calculate running average of accuracy\n",
    "        pred = torch.max(pred.data, 1)[1]\n",
    "        total += labels.size(0)\n",
    "        correct += (pred == labels.data).sum().item()\n",
    "        accuracy = correct / total\n",
    "\n",
    "        progress_bar.set_postfix(\n",
    "            xentropy='%.3f' % (xentropy_loss_avg / (i + 1)),\n",
    "            acc='%.3f' % accuracy)\n",
    "\n",
    "    test_accr_resnet18_cifar10 = test(test_loader_cifar10, resnet18_cifar10)\n",
    "    tqdm.write('test_acc: %.3f' % (test_accr_resnet18_cifar10))\n",
    "\n",
    "    scheduler_resnet18_cifar10.step()    \n",
    "\n",
    "    \n",
    "torch.save(resnet18_cifar10.state_dict(), current_path + 'checkpoints/' + file_name_resnet18_cifar10 + '.pt')\n",
    "\n",
    "\n",
    "final_test_acc_resnet18_cifar10 = (1 - test(test_loader_cifar10, resnet18_cifar10))*100\n",
    "print('Test error rates (%) on ResNet-18 without Cutout for Test CIFAR-10 Dataset: %.3f' % (final_test_acc_resnet18_cifar10))"
   ],
   "id": "aa8fa026-bd17-4752-88f5-65566de9cf50"
  },
  {
   "cell_type": "markdown",
   "metadata": {},
   "source": [
    "### 2.2.2. Training ResNet-18 in CF10 with Cutout"
   ],
   "id": "8a29b490-081b-49c1-8475-25b35ebc29a2"
  },
  {
   "cell_type": "markdown",
   "metadata": {},
   "source": [
    "Cutout Code"
   ],
   "id": "5f68a6aa-040d-444d-9eb4-2c6ad5bff8df"
  },
  {
   "cell_type": "markdown",
   "metadata": {},
   "source": [
    "This is the code to do Cutout and it is the same code we introduced earlier in the section about Cutout"
   ],
   "id": "31fdff66-c588-45f9-9f84-1c949abd1411"
  },
  {
   "cell_type": "code",
   "execution_count": null,
   "metadata": {},
   "outputs": [],
   "source": [
    "# Source Code from https://github.com/uoguelph-mlrg/Cutout/blob/master/util/cutout.py\n",
    "class Cutout(object):\n",
    "    \"\"\"Randomly mask out one or more patches from an image.\n",
    "\n",
    "    Args:\n",
    "        n_holes (int): Number of patches to cut out of each image.\n",
    "        length (int): The length (in pixels) of each square patch.\n",
    "    \"\"\"\n",
    "    def __init__(self, n_holes, length):\n",
    "        self.n_holes = n_holes\n",
    "        self.length = length\n",
    "\n",
    "    def __call__(self, img):\n",
    "        \"\"\"\n",
    "        Args:\n",
    "            img (Tensor): Tensor image of size (C, H, W).\n",
    "        Returns:\n",
    "            Tensor: Image with n_holes of dimension length x length cut out of it.\n",
    "        \"\"\"\n",
    "        h = img.size(1)\n",
    "        w = img.size(2)\n",
    "\n",
    "        mask = np.ones((h, w), np.float32)\n",
    "\n",
    "        for n in range(self.n_holes):\n",
    "            y = np.random.randint(h)\n",
    "            x = np.random.randint(w)\n",
    "\n",
    "            y1 = np.clip(y - self.length // 2, 0, h)\n",
    "            y2 = np.clip(y + self.length // 2, 0, h)\n",
    "            x1 = np.clip(x - self.length // 2, 0, w)\n",
    "            x2 = np.clip(x + self.length // 2, 0, w)\n",
    "\n",
    "            mask[y1: y2, x1: x2] = 0.\n",
    "\n",
    "        mask = torch.from_numpy(mask)\n",
    "        mask = mask.expand_as(img)\n",
    "        img = img * mask\n",
    "\n",
    "        return img"
   ],
   "id": "466a68ff-6b57-4ca8-bb9c-3856aa445dc9"
  },
  {
   "cell_type": "markdown",
   "metadata": {},
   "source": [
    "Image Processing for CIFAR-10 with Cutout"
   ],
   "id": "1de7aa8c-1d36-4901-87b3-e29d9cab4fe7"
  },
  {
   "cell_type": "code",
   "execution_count": null,
   "metadata": {},
   "outputs": [],
   "source": [
    "# Image Preprocessing\n",
    "\n",
    "normalize_image_cifar10 =transforms.Normalize(mean=[x / 255.0 for x in \n",
    " [125.3, 123.0, 113.9]], \n",
    "std=[x / 255.0 for x in [63.0, 62.1, 66.7]])\n",
    "\n",
    "train_transform_cifar10_cutout = transforms.Compose([])\n",
    "\n",
    "train_transform_cifar10_cutout.transforms.append(transforms.ToTensor())\n",
    "train_transform_cifar10_cutout.transforms.append(normalize_image_cifar10)\n",
    "\n",
    "#Add Cutout to the image transformer pipeline\n",
    "n_holes_cifar10 = 1\n",
    "length_cifar10 = 16\n",
    "train_transform_cifar10_cutout.transforms.append(Cutout(n_holes=n_holes_cifar10, length=length_cifar10))\n",
    "\n",
    "\n",
    "test_transform_cifar10 = transforms.Compose([\n",
    "    transforms.ToTensor(),\n",
    "    normalize_image_cifar10])"
   ],
   "id": "7c5db223-19dc-4ec3-a3c3-c8743095fdfe"
  },
  {
   "cell_type": "markdown",
   "metadata": {},
   "source": [
    "Import the dataset of CIFAR-10 with Cutout"
   ],
   "id": "4eed56cb-aa68-4f10-8c15-088fc7d5a988"
  },
  {
   "cell_type": "code",
   "execution_count": null,
   "metadata": {},
   "outputs": [],
   "source": [
    "train_dataset_cifar10_cutout = datasets.CIFAR10(root=current_path + 'data/',\n",
    "                                     train=True,\n",
    "                                     transform=train_transform_cifar10_cutout,\n",
    "                                     download=True)\n",
    "\n",
    "test_dataset_cifar10 = datasets.CIFAR10(root=current_path + 'data/',\n",
    "                                    train=False,\n",
    "                                    transform=test_transform_cifar10,\n",
    "                                    download=True)"
   ],
   "id": "fac264ed-da4d-4d19-877f-dc558c0438c9"
  },
  {
   "cell_type": "markdown",
   "metadata": {},
   "source": [
    "Create Dataset of CIFAR-10 with Cutout as Dataloader"
   ],
   "id": "0620abf6-6de4-430c-a2af-c4316d09504d"
  },
  {
   "cell_type": "code",
   "execution_count": null,
   "metadata": {},
   "outputs": [],
   "source": [
    "# Data Loader (Input Pipeline)\n",
    "batch_size_cifar10_cutout = 128\n",
    "train_loader_cifar10_cutout = torch.utils.data.DataLoader(dataset=train_dataset_cifar10_cutout,\n",
    "                                           batch_size=batch_size_cifar10_cutout,\n",
    "                                           shuffle=True,\n",
    "                                           pin_memory=True,\n",
    "                                           num_workers=2)\n",
    "\n",
    "test_loader_cifar10 = torch.utils.data.DataLoader(dataset=test_dataset_cifar10,\n",
    "                                          batch_size=batch_size_cifar10_cutout,\n",
    "                                          shuffle=False,\n",
    "                                          pin_memory=True,\n",
    "                                          num_workers=2)"
   ],
   "id": "20889006-d0dd-40a6-ba18-a8b6eae52611"
  },
  {
   "cell_type": "markdown",
   "metadata": {},
   "source": [
    "Define the model of ResNet for CIFAR-10 with Cutout"
   ],
   "id": "34ba4fb9-4b63-45f0-aeb8-08b1ba4626c0"
  },
  {
   "cell_type": "markdown",
   "metadata": {},
   "source": [
    "This code block sets up the machine learning model, loss function, optimizer, and learning rate scheduler."
   ],
   "id": "05d1553f-7b4b-4e5b-a57b-c63cef524bdb"
  },
  {
   "cell_type": "code",
   "execution_count": null,
   "metadata": {},
   "outputs": [],
   "source": [
    "#file_name will be the used for the name of the file of weight of the model and also the result\n",
    "file_name_resnet18_cifar10_cutout = \"resnet18_cifar10_cutout\"\n",
    "\n",
    "num_classes_cifar10 = 10\n",
    "resnet18_cifar10_cutout = ResNet18(num_classes=num_classes_cifar10)\n",
    "\n",
    "\n",
    "resnet18_cifar10_cutout = resnet18_cifar10_cutout.cuda()\n",
    "learning_rate_resnet18_cifar10_cutout = 0.1\n",
    "criterion_resnet18_cifar10_cutout = nn.CrossEntropyLoss().cuda()\n",
    "cnn_optimizer_resnet18_cifar10_cutout = torch.optim.SGD(resnet18_cifar10_cutout.parameters(),\n",
    "            lr=learning_rate_resnet18_cifar10_cutout, \n",
    "            momentum=0.9,nesterov=True, weight_decay=5e-4)\n",
    "scheduler_resnet18_cifar10_cutout = MultiStepLR(cnn_optimizer_resnet18_cifar10_cutout, milestones=[60, 120, 160], gamma=0.2)"
   ],
   "id": "a0313c91-551f-4bfc-a67e-fe2bea3178a2"
  },
  {
   "cell_type": "markdown",
   "metadata": {},
   "source": [
    "Training ResNet-18 for CIFAR-10 with Cutout"
   ],
   "id": "031a490f-663e-417d-aaef-f71aaf21a4ba"
  },
  {
   "cell_type": "markdown",
   "metadata": {},
   "source": [
    "This code runs the training loop for the chosen machine learning model over a specified number of epochs. Each epoch involves a forward pass, loss computation, backpropagation, and parameter updates. It also calculates and displays the training accuracy and cross-entropy loss. At the end of each epoch, the model’s performance is evaluated on the test set, and the results are logged and saved."
   ],
   "id": "f819a61b-c5cb-4873-a4be-169a82405d59"
  },
  {
   "cell_type": "code",
   "execution_count": null,
   "metadata": {},
   "outputs": [],
   "source": [
    "epochs = 200\n",
    "for epoch in range(epochs):\n",
    "\n",
    "    xentropy_loss_avg = 0.\n",
    "    correct = 0.\n",
    "    total = 0.\n",
    "\n",
    "    progress_bar = tqdm(train_loader_cifar10_cutout)\n",
    "    for i, (images, labels) in enumerate(progress_bar):\n",
    "        progress_bar.set_description('Epoch ' + str(epoch))\n",
    "\n",
    "        images = images.cuda()\n",
    "        labels = labels.cuda()\n",
    "\n",
    "        resnet18_cifar10_cutout.zero_grad()\n",
    "        pred = resnet18_cifar10_cutout(images)\n",
    "\n",
    "        xentropy_loss = criterion_resnet18_cifar10_cutout(pred, labels)\n",
    "        xentropy_loss.backward()\n",
    "        cnn_optimizer_resnet18_cifar10_cutout.step()\n",
    "\n",
    "        xentropy_loss_avg += xentropy_loss.item()\n",
    "\n",
    "        # Calculate running average of accuracy\n",
    "        pred = torch.max(pred.data, 1)[1]\n",
    "        total += labels.size(0)\n",
    "        correct += (pred == labels.data).sum().item()\n",
    "        accuracy = correct / total\n",
    "\n",
    "        progress_bar.set_postfix(\n",
    "            xentropy='%.3f' % (xentropy_loss_avg / (i + 1)),\n",
    "            acc='%.3f' % accuracy)\n",
    "\n",
    "    test_acc_cifar10 = test(test_loader_cifar10,resnet18_cifar10_cutout)\n",
    "    tqdm.write('test_acc: %.3f' % (test_acc_cifar10))\n",
    "    scheduler_resnet18_cifar10_cutout.step()     \n",
    "torch.save(resnet18_cifar10_cutout.state_dict(), current_path + 'checkpoints/' + file_name_resnet18_cifar10_cutout + '.pt')\n",
    "\n",
    "\n",
    "final_test_acc_resnet18_cifar10_cutout = (1 - test(test_loader_cifar10,resnet18_cifar10_cutout))*100\n",
    "print('Test error rates (%) on ResNet-18 using Cutout for CIFAR-10 Test Dataset: %.3f' % (final_test_acc_resnet18_cifar10_cutout))"
   ],
   "id": "e7154fd1-6ee0-4a1b-a47d-39623168495d"
  },
  {
   "cell_type": "markdown",
   "metadata": {},
   "source": [
    "### 2.2.3. Training ResNet-18 in CF10 with Data Augmentation"
   ],
   "id": "e2e7008a-5aca-4cb6-9f09-202010857900"
  },
  {
   "cell_type": "markdown",
   "metadata": {},
   "source": [
    "Image Processing for CIFAR-10 with Data Augmentation"
   ],
   "id": "86b51efa-b587-4f3d-9256-c7a6a73567d8"
  },
  {
   "cell_type": "code",
   "execution_count": null,
   "metadata": {},
   "outputs": [],
   "source": [
    "# Image Preprocessing\n",
    "\n",
    "normalize_image_cifar10 = transforms.Normalize(mean=[x / 255.0 for x in \n",
    " [125.3, 123.0, 113.9]], \n",
    "std=[x / 255.0 for x in [63.0, 62.1, 66.7]])\n",
    "\n",
    "train_transform_cifar10_da = transforms.Compose([])\n",
    "train_transform_cifar10_da.transforms.append(transforms.RandomCrop(32, padding=4))\n",
    "train_transform_cifar10_da.transforms.append(transforms.RandomHorizontalFlip())\n",
    "train_transform_cifar10_da.transforms.append(transforms.ToTensor())\n",
    "train_transform_cifar10_da.transforms.append(normalize_image_cifar10)\n",
    "\n",
    "\n",
    "test_transform_cifar10 = transforms.Compose([\n",
    "    transforms.ToTensor(),\n",
    "    normalize_image_cifar10])"
   ],
   "id": "0a3b6a83-0a4e-4d2b-a0b0-a5a32b5c27c6"
  },
  {
   "cell_type": "markdown",
   "metadata": {},
   "source": [
    "Import the dataset of CIFAR-10 with Data Augmentation"
   ],
   "id": "3938bd1d-ec1d-4e63-bff3-0684ec68cbdc"
  },
  {
   "cell_type": "code",
   "execution_count": null,
   "metadata": {},
   "outputs": [],
   "source": [
    "train_dataset_cifar10_da = datasets.CIFAR10(root=current_path + 'data/',\n",
    "                                     train=True,\n",
    "                                     transform=train_transform_cifar10_da,\n",
    "                                     download=True)\n",
    "\n",
    "test_dataset_cifar10 = datasets.CIFAR10(root=current_path + 'data/',\n",
    "                                    train=False,\n",
    "                                    transform=test_transform_cifar10,\n",
    "                                    download=True)"
   ],
   "id": "5fc12ba0-78b5-49b9-94eb-299d00298f31"
  },
  {
   "cell_type": "markdown",
   "metadata": {},
   "source": [
    "Create Dataset of CIFAR-10 with Data Augmentation as Dataloader"
   ],
   "id": "2a1a5f5e-e9e8-4d75-8659-72febbf63990"
  },
  {
   "cell_type": "code",
   "execution_count": null,
   "metadata": {},
   "outputs": [],
   "source": [
    "# Data Loader (Input Pipeline)\n",
    "batch_size_cifar10_da = 128\n",
    "train_loader_cifar10_da = torch.utils.data.DataLoader(dataset=train_dataset_cifar10_da,\n",
    "                                           batch_size=batch_size_cifar10_da,\n",
    "                                           shuffle=True,\n",
    "                                           pin_memory=True,\n",
    "                                           num_workers=2)\n",
    "\n",
    "test_loader_cifar10 = torch.utils.data.DataLoader(dataset=test_dataset_cifar10,\n",
    "                                          batch_size=batch_size_cifar10_da,\n",
    "                                          shuffle=False,\n",
    "                                          pin_memory=True,\n",
    "                                          num_workers=2)"
   ],
   "id": "d1c347dc-94cf-43cd-9468-bf165cdcf60e"
  },
  {
   "cell_type": "markdown",
   "metadata": {},
   "source": [
    "Define the model of ResNet for CIFAR-10 with Data Augmentation"
   ],
   "id": "99af2de2-b8d6-423e-9042-959a1ba29010"
  },
  {
   "cell_type": "markdown",
   "metadata": {},
   "source": [
    "This code block sets up the machine learning model, loss function, optimizer, and learning rate scheduler."
   ],
   "id": "a140b91f-9ddd-4786-9a92-8be1360963f2"
  },
  {
   "cell_type": "code",
   "execution_count": null,
   "metadata": {},
   "outputs": [],
   "source": [
    "#file_name will be the used for the name of the file of weight of the model and also the result\n",
    "file_name_resnet18_cifar10_da = \"resnet18_cifar10_da\"\n",
    "\n",
    "num_classes_cifar10 = 10\n",
    "resnet18_cifar10_da = ResNet18(num_classes=num_classes_cifar10)\n",
    "\n",
    "\n",
    "resnet18_cifar10_da = resnet18_cifar10_da.cuda()\n",
    "learning_rate_resnet18_cifar10_da = 0.1\n",
    "criterion_resnet18_cifar10_da = nn.CrossEntropyLoss().cuda()\n",
    "cnn_optimizer_resnet18_cifar10_da = torch.optim.SGD(resnet18_cifar10_da.parameters(), lr=learning_rate_resnet18_cifar10_da,\n",
    "                                momentum=0.9, nesterov=True, weight_decay=5e-4)\n",
    "scheduler_resnet18_cifar10_da = MultiStepLR(cnn_optimizer_resnet18_cifar10_da, milestones=[60, 120, 160], gamma=0.2)"
   ],
   "id": "a666bbb3-9d7d-4dbf-b856-972feb2e15c8"
  },
  {
   "cell_type": "markdown",
   "metadata": {},
   "source": [
    "Training ResNet-18 for CIFAR-10 with Data Augmentation"
   ],
   "id": "fcf7d855-6947-4eb1-825b-b131d4257bdd"
  },
  {
   "cell_type": "markdown",
   "metadata": {},
   "source": [
    "This code runs the training loop for the chosen machine learning model over a specified number of epochs. Each epoch involves a forward pass, loss computation, backpropagation, and parameter updates. It also calculates and displays the training accuracy and cross-entropy loss. At the end of each epoch, the model’s performance is evaluated on the test set, and the results are logged and saved."
   ],
   "id": "02d8d41e-a8ca-4daa-992a-f71c0f6eb0f8"
  },
  {
   "cell_type": "code",
   "execution_count": null,
   "metadata": {},
   "outputs": [],
   "source": [
    "epochs = 200\n",
    "for epoch in range(epochs):\n",
    "\n",
    "    xentropy_loss_avg = 0.\n",
    "    correct = 0.\n",
    "    total = 0.\n",
    "\n",
    "    progress_bar = tqdm(train_loader_cifar10_da)\n",
    "    for i, (images, labels) in enumerate(progress_bar):\n",
    "        progress_bar.set_description('Epoch ' + str(epoch))\n",
    "\n",
    "        images = images.cuda()\n",
    "        labels = labels.cuda()\n",
    "\n",
    "        resnet18_cifar10_da.zero_grad()\n",
    "        pred = resnet18_cifar10_da(images)\n",
    "\n",
    "        xentropy_loss = criterion_resnet18_cifar10_da(pred, labels)\n",
    "        xentropy_loss.backward()\n",
    "        cnn_optimizer_resnet18_cifar10_da.step()\n",
    "\n",
    "        xentropy_loss_avg += xentropy_loss.item()\n",
    "\n",
    "        # Calculate running average of accuracy\n",
    "        pred = torch.max(pred.data, 1)[1]\n",
    "        total += labels.size(0)\n",
    "        correct += (pred == labels.data).sum().item()\n",
    "        accuracy = correct / total\n",
    "\n",
    "        progress_bar.set_postfix(\n",
    "            xentropy='%.3f' % (xentropy_loss_avg / (i + 1)),\n",
    "            acc='%.3f' % accuracy)\n",
    "\n",
    "    test_acc_resnet18_cifar10_da = test(test_loader_cifar10,resnet18_cifar10_da)\n",
    "    tqdm.write('test_acc: %.3f' % (test_acc_resnet18_cifar10_da))\n",
    "    scheduler_resnet18_cifar10_da.step()     \n",
    "torch.save(resnet18_cifar10_da.state_dict(), current_path + 'checkpoints/' + file_name_resnet18_cifar10_da + '.pt')\n",
    "\n",
    "\n",
    "final_test_acc_resnet18_cifar10_da = (1 - test(test_loader_cifar10,resnet18_cifar10_da))*100\n",
    "print('Test error rates (%) on ResNet-18 using Data Augmentation for CIFAR-10 Test Dataset: %.3f' % (final_test_acc_resnet18_cifar10_da))"
   ],
   "id": "68040c17-4997-4369-a1b0-9f83eafeefd2"
  },
  {
   "cell_type": "markdown",
   "metadata": {},
   "source": [
    "### 2.2.4. Training ResNet-18 in CF10 with Data Augmentation and Cutout"
   ],
   "id": "571dc34d-33d6-40d0-847e-a576c0242129"
  },
  {
   "cell_type": "markdown",
   "metadata": {},
   "source": [
    "Image Processing for CIFAR-10 with Data Augmentation and Cutout"
   ],
   "id": "cc1ca3a4-76ff-41df-b18f-b16b74c741f5"
  },
  {
   "cell_type": "code",
   "execution_count": null,
   "metadata": {},
   "outputs": [],
   "source": [
    "# Image Preprocessing\n",
    "\n",
    "normalize_image_cifar10 = transforms.Normalize(mean=[x / 255.0 for x in \n",
    " [125.3, 123.0, 113.9]], \n",
    "std=[x / 255.0 for x in [63.0, 62.1, 66.7]])\n",
    "\n",
    "train_transform_cifar10_da_co = transforms.Compose([])\n",
    "train_transform_cifar10_da_co.transforms.append(transforms.RandomCrop(32, padding=4))\n",
    "train_transform_cifar10_da_co.transforms.append(transforms.RandomHorizontalFlip())\n",
    "train_transform_cifar10_da_co.transforms.append(transforms.ToTensor())\n",
    "train_transform_cifar10_da_co.transforms.append(normalize_image_cifar10)\n",
    "\n",
    "#Add Cutout to the image transformer pipeline\n",
    "n_holes_cifar10_da_co = 1\n",
    "length_cifar10_da_co = 16\n",
    "train_transform_cifar10_da_co.transforms.append(Cutout(n_holes=n_holes_cifar10_da_co, length=length_cifar10_da_co))\n",
    "\n",
    "\n",
    "test_transform_cifar10 = transforms.Compose([\n",
    "    transforms.ToTensor(),\n",
    "    normalize_image_cifar10])"
   ],
   "id": "f7c1ba99-8332-4d98-83b1-d55327c1089b"
  },
  {
   "cell_type": "markdown",
   "metadata": {},
   "source": [
    "Import the dataset of CIFAR-10 with Data Augmentation and Cutout"
   ],
   "id": "52b090b9-a59a-452d-843d-406348acb053"
  },
  {
   "cell_type": "code",
   "execution_count": null,
   "metadata": {},
   "outputs": [],
   "source": [
    "train_dataset_cifar10_da_co = datasets.CIFAR10(root=current_path + 'data/',\n",
    "                                     train=True,\n",
    "                                     transform=train_transform_cifar10_da_co,\n",
    "                                     download=True)\n",
    "\n",
    "test_dataset_cifar10 = datasets.CIFAR10(root=current_path + 'data/',\n",
    "                                    train=False,\n",
    "                                    transform=test_transform_cifar10,\n",
    "                                    download=True)"
   ],
   "id": "2e5ddd7b-912b-43c5-bd1b-b05d977a9404"
  },
  {
   "cell_type": "markdown",
   "metadata": {},
   "source": [
    "Create Dataset of CIFAR-10 with Data Augmentation and Cutout as Dataloader"
   ],
   "id": "20749c68-bdf0-4c84-a60e-c8c6cbdaa460"
  },
  {
   "cell_type": "code",
   "execution_count": null,
   "metadata": {},
   "outputs": [],
   "source": [
    "# Data Loader (Input Pipeline)\n",
    "batch_size_cifar10_da_co = 128\n",
    "train_loader_cifar10_da_co = torch.utils.data.DataLoader(dataset=train_dataset_cifar10_da_co,\n",
    "                                           batch_size=batch_size_cifar10_da_co,\n",
    "                                           shuffle=True,\n",
    "                                           pin_memory=True,\n",
    "                                           num_workers=2)\n",
    "\n",
    "test_loader_cifar10 = torch.utils.data.DataLoader(dataset=test_dataset_cifar10,\n",
    "                                          batch_size=batch_size_cifar10_da_co,\n",
    "                                          shuffle=False,\n",
    "                                          pin_memory=True,\n",
    "                                          num_workers=2)"
   ],
   "id": "1a30f8ef-20d0-4023-ac8d-ceaa629cd96f"
  },
  {
   "cell_type": "markdown",
   "metadata": {},
   "source": [
    "Define the model of ResNet for CIFAR-10 with Data Augmentation and Cutout"
   ],
   "id": "11242380-7e2b-4ff9-b28c-ced03df5165e"
  },
  {
   "cell_type": "markdown",
   "metadata": {},
   "source": [
    "This code block sets up the machine learning model, loss function, optimizer, and learning rate scheduler."
   ],
   "id": "64175afa-fd6a-42c8-b3b5-ed44a6ab63b6"
  },
  {
   "cell_type": "code",
   "execution_count": null,
   "metadata": {},
   "outputs": [],
   "source": [
    "#file_name will be the used for the name of the file of weight of the model and also the result\n",
    "file_name_resnet18_cifar10_da_cutout = \"resnet18_cifar10_da_cutout\"\n",
    "\n",
    "num_classes_cifar10 = 10\n",
    "resnet18_cifar10_da_cutout = ResNet18(num_classes=num_classes_cifar10)\n",
    "\n",
    "\n",
    "resnet18_cifar10_da_cutout = resnet18_cifar10_da_cutout.cuda()\n",
    "learning_rate_cifar10_da_cutout = 0.1\n",
    "criterion_cifar10_da_cutout = nn.CrossEntropyLoss().cuda()\n",
    "cnn_optimizer_cifar10_da_cutout = torch.optim.SGD(resnet18_cifar10_da_cutout.parameters(), lr=learning_rate_cifar10_da_cutout,\n",
    "                                momentum=0.9, nesterov=True, weight_decay=5e-4)\n",
    "scheduler_cifar10_da_cutout = MultiStepLR(cnn_optimizer_cifar10_da_cutout, milestones=[60, 120, 160], gamma=0.2)"
   ],
   "id": "cc6ff9c0-ec77-4775-bd5a-b070a75fab6f"
  },
  {
   "cell_type": "markdown",
   "metadata": {},
   "source": [
    "Training ResNet-18 for CIFAR-10 with Data Augmentation and Cutout"
   ],
   "id": "7ed4de6a-1b12-4eb2-bb3b-6ac47b188fe3"
  },
  {
   "cell_type": "markdown",
   "metadata": {},
   "source": [
    "This code runs the training loop for the chosen machine learning model over a specified number of epochs. Each epoch involves a forward pass, loss computation, backpropagation, and parameter updates. It also calculates and displays the training accuracy and cross-entropy loss. At the end of each epoch, the model’s performance is evaluated on the test set, and the results are logged and saved."
   ],
   "id": "3ad3b17c-6f3c-48c0-bcfa-eb9fbb49d36e"
  },
  {
   "cell_type": "code",
   "execution_count": null,
   "metadata": {},
   "outputs": [],
   "source": [
    "epochs = 200\n",
    "for epoch in range(epochs):\n",
    "\n",
    "    xentropy_loss_avg = 0.\n",
    "    correct = 0.\n",
    "    total = 0.\n",
    "\n",
    "    progress_bar = tqdm(train_loader_cifar10_da_co)\n",
    "    for i, (images, labels) in enumerate(progress_bar):\n",
    "        progress_bar.set_description('Epoch ' + str(epoch))\n",
    "\n",
    "        images = images.cuda()\n",
    "        labels = labels.cuda()\n",
    "\n",
    "        resnet18_cifar10_da_cutout.zero_grad()\n",
    "        pred = resnet18_cifar10_da_cutout(images)\n",
    "\n",
    "        xentropy_loss = criterion_cifar10_da_cutout(pred, labels)\n",
    "        xentropy_loss.backward()\n",
    "        cnn_optimizer_cifar10_da_cutout.step()\n",
    "\n",
    "        xentropy_loss_avg += xentropy_loss.item()\n",
    "\n",
    "        # Calculate running average of accuracy\n",
    "        pred = torch.max(pred.data, 1)[1]\n",
    "        total += labels.size(0)\n",
    "        correct += (pred == labels.data).sum().item()\n",
    "        accuracy = correct / total\n",
    "\n",
    "        progress_bar.set_postfix(\n",
    "            xentropy='%.3f' % (xentropy_loss_avg / (i + 1)),\n",
    "            acc='%.3f' % accuracy)\n",
    "\n",
    "    test_acc_cifar10_da_cutout = test(test_loader_cifar10,resnet18_cifar10_da_cutout)\n",
    "    tqdm.write('test_acc: %.3f' % (test_acc_cifar10_da_cutout))\n",
    "    scheduler_cifar10_da_cutout.step()     \n",
    "torch.save(resnet18_cifar10_da_cutout.state_dict(), current_path + 'checkpoints/' + file_name_resnet18_cifar10_da_cutout + '.pt')\n",
    "\n",
    "\n",
    "final_test_acc_resnet18_cifar10_da_cutout = (1 - test(test_loader_cifar10,resnet18_cifar10_da_cutout))*100\n",
    "print('Test error rates (%) on ResNet-18 using Data Augmentation and  Cutout for CIFAR-10 Test Dataset: %.3f' % (final_test_acc_resnet18_cifar10_da_cutout))"
   ],
   "id": "6b0cd1d1-5030-4683-9eec-b5c905a41f7b"
  },
  {
   "cell_type": "code",
   "execution_count": null,
   "metadata": {},
   "outputs": [],
   "source": [
    "print('Test error rates (%) on ResNet-18 without Cutout for Test CIFAR-10 Dataset: %.3f' % (final_test_acc_resnet18_cifar10))\n",
    "print('Test error rates (%) on ResNet-18 using Cutout for CIFAR-10 Test Dataset: %.3f' % (final_test_acc_resnet18_cifar10_cutout))\n",
    "print('Test error rates (%) on ResNet-18 using Data Augmentation for CIFAR-10 Test Dataset: %.3f' % (final_test_acc_resnet18_cifar10_da))\n",
    "print('Test error rates (%) on ResNet-18 using Data Augmentation and  Cutout for CIFAR-10 Test Dataset: %.3f' % (final_test_acc_resnet18_cifar10_da_cutout))"
   ],
   "id": "81d9e50b-9fcb-430f-9baa-63abce957d22"
  },
  {
   "cell_type": "markdown",
   "metadata": {},
   "source": [
    "## 2.3 Training ResNet-18 in CIFAR-100"
   ],
   "id": "3b93c75a-19a8-41e3-9f3b-286071776215"
  },
  {
   "cell_type": "markdown",
   "metadata": {},
   "source": [
    "### 2.3.1. Training ResNet-18 in CF100 without Cutout"
   ],
   "id": "91037c9a-bc8d-4d82-80e9-1ef6614fbc30"
  },
  {
   "cell_type": "markdown",
   "metadata": {},
   "source": [
    "Image Processing for CIFAR-100 without Cutout"
   ],
   "id": "624c62cd-d3ca-433e-bef8-b435ad7bf29f"
  },
  {
   "cell_type": "code",
   "execution_count": null,
   "metadata": {},
   "outputs": [],
   "source": [
    "# Image Preprocessing\n",
    "\n",
    "normalize_image_cifar100 = transforms.Normalize(mean=[x / 255.0 for x in \n",
    " [125.3, 123.0, 113.9]], \n",
    "std=[x / 255.0 for x in [63.0, 62.1, 66.7]])\n",
    "\n",
    "train_transform_cifar100 = transforms.Compose([])\n",
    "\n",
    "train_transform_cifar100.transforms.append(transforms.ToTensor())\n",
    "train_transform_cifar100.transforms.append(normalize_image_cifar100)\n",
    "\n",
    "\n",
    "\n",
    "test_transform_cifar100 = transforms.Compose([\n",
    "    transforms.ToTensor(),\n",
    "    normalize_image_cifar100])"
   ],
   "id": "f7d66c95-023c-4c93-80e0-66d9543ef445"
  },
  {
   "cell_type": "markdown",
   "metadata": {},
   "source": [
    "Import the dataset of CIFAR-100 without Cutout"
   ],
   "id": "25814c9d-339f-4754-a7b2-3139fba6c778"
  },
  {
   "cell_type": "code",
   "execution_count": null,
   "metadata": {},
   "outputs": [],
   "source": [
    "train_dataset_cifar100 = datasets.CIFAR100(root=current_path + 'data/',\n",
    "                                     train=True,\n",
    "                                     transform=train_transform_cifar100,\n",
    "                                     download=True)\n",
    "\n",
    "test_dataset_cifar100 = datasets.CIFAR100(root=current_path + 'data/',\n",
    "                                    train=False,\n",
    "                                    transform=test_transform_cifar100,\n",
    "                                    download=True)"
   ],
   "id": "67a2a7a9-262b-47e6-b1e4-ee03a9512037"
  },
  {
   "cell_type": "markdown",
   "metadata": {},
   "source": [
    "Create Dataset of CIFAR-100 without Cutout as Dataloader"
   ],
   "id": "15bbb8b1-1697-464c-8301-e117e3b998d4"
  },
  {
   "cell_type": "code",
   "execution_count": null,
   "metadata": {},
   "outputs": [],
   "source": [
    "# Data Loader (Input Pipeline)\n",
    "batch_size_cifar100 = 128\n",
    "train_loader_cifar100 = torch.utils.data.DataLoader(dataset=train_dataset_cifar100,\n",
    "                                           batch_size=batch_size_cifar100,\n",
    "                                           shuffle=True,\n",
    "                                           pin_memory=True,\n",
    "                                           num_workers=2)\n",
    "\n",
    "test_loader_cifar100 = torch.utils.data.DataLoader(dataset=test_dataset_cifar100,\n",
    "                                          batch_size=batch_size_cifar100,\n",
    "                                          shuffle=False,\n",
    "                                          pin_memory=True,\n",
    "                                          num_workers=2)"
   ],
   "id": "ac466c9e-3b67-499d-b015-4d2248dfdad7"
  },
  {
   "cell_type": "markdown",
   "metadata": {},
   "source": [
    "Define the model of ResNet for CIFAR-100"
   ],
   "id": "1c3e3ac1-3dc4-46f6-b1ca-d3ddfe904847"
  },
  {
   "cell_type": "markdown",
   "metadata": {},
   "source": [
    "This code block sets up the machine learning model, loss function, optimizer, and learning rate scheduler."
   ],
   "id": "53af96e4-8bc7-43b4-89b0-38c2b6688cf9"
  },
  {
   "cell_type": "code",
   "execution_count": null,
   "metadata": {},
   "outputs": [],
   "source": [
    "#file_name will be the used for the name of the file of weight of the model and also the result\n",
    "file_name_resnet18_cifar100 = \"resnet18_cifar100\"\n",
    "\n",
    "num_classes_cifar100 = 100\n",
    "resnet18_cifar100 = ResNet18(num_classes=num_classes_cifar100)\n",
    "\n",
    "\n",
    "resnet18_cifar100 = resnet18_cifar100.cuda()\n",
    "learning_rate_resnet18_cifar100 = 0.1\n",
    "criterion_resnet18_cifar100 = nn.CrossEntropyLoss().cuda()\n",
    "cnn_optimizer_resnet18_cifar100 = torch.optim.SGD(resnet18_cifar100.parameters(), lr=learning_rate_resnet18_cifar100,\n",
    "                                momentum=0.9, nesterov=True, weight_decay=5e-4)\n",
    "scheduler_resnet18_cifar100 = MultiStepLR(cnn_optimizer_resnet18_cifar100, milestones=[60, 120, 160], gamma=0.2)"
   ],
   "id": "1b196eee-ec1f-4bc1-85e6-db9ff3c86ceb"
  },
  {
   "cell_type": "markdown",
   "metadata": {},
   "source": [
    "Training ResNet-18 for CIFAR-100 without Cutout"
   ],
   "id": "fe36aeec-782c-46f0-bc99-9fbe6c26302a"
  },
  {
   "cell_type": "markdown",
   "metadata": {},
   "source": [
    "This code runs the training loop for the chosen machine learning model over a specified number of epochs. Each epoch involves a forward pass, loss computation, backpropagation, and parameter updates. It also calculates and displays the training accuracy and cross-entropy loss. At the end of each epoch, the model’s performance is evaluated on the test set, and the results are logged and saved."
   ],
   "id": "ee77450e-c127-4174-8fe2-81b13b3b0020"
  },
  {
   "cell_type": "code",
   "execution_count": null,
   "metadata": {},
   "outputs": [],
   "source": [
    "epochs = 200\n",
    "for epoch in range(epochs):\n",
    "\n",
    "    xentropy_loss_avg = 0.\n",
    "    correct = 0.\n",
    "    total = 0.\n",
    "\n",
    "    progress_bar = tqdm(train_loader_cifar100)\n",
    "    for i, (images, labels) in enumerate(progress_bar):\n",
    "        progress_bar.set_description('Epoch ' + str(epoch))\n",
    "\n",
    "        images = images.cuda()\n",
    "        labels = labels.cuda()\n",
    "\n",
    "        resnet18_cifar100.zero_grad()\n",
    "        pred = resnet18_cifar100(images)\n",
    "\n",
    "        xentropy_loss = criterion_resnet18_cifar100(pred, labels)\n",
    "        xentropy_loss.backward()\n",
    "        cnn_optimizer_resnet18_cifar100.step()\n",
    "\n",
    "        xentropy_loss_avg += xentropy_loss.item()\n",
    "\n",
    "        # Calculate running average of accuracy\n",
    "        pred = torch.max(pred.data, 1)[1]\n",
    "        total += labels.size(0)\n",
    "        correct += (pred == labels.data).sum().item()\n",
    "        accuracy = correct / total\n",
    "\n",
    "        progress_bar.set_postfix(\n",
    "            xentropy='%.3f' % (xentropy_loss_avg / (i + 1)),\n",
    "            acc='%.3f' % accuracy)\n",
    "\n",
    "    test_accr_resnet18_cifar100 = test(test_loader_cifar100, resnet18_cifar100)\n",
    "    tqdm.write('test_acc: %.3f' % (test_accr_resnet18_cifar100))\n",
    "\n",
    "    scheduler_resnet18_cifar100.step()   \n",
    "    \n",
    "torch.save(resnet18_cifar100.state_dict(), current_path + 'checkpoints/' + file_name_resnet18_cifar100 + '.pt')\n",
    "\n",
    "\n",
    "final_test_acc_resnet18_cifar100 = (1 - test(test_loader_cifar100, resnet18_cifar100))*100\n",
    "print('Test error rates (%) on ResNet-18 without Cutout for Test CIFAR-100 Dataset: %.3f' % (final_test_acc_resnet18_cifar100))"
   ],
   "id": "297d2b35-1d4e-44a8-9a0c-c095d86b81cf"
  },
  {
   "cell_type": "markdown",
   "metadata": {},
   "source": [
    "### 2.2.2. Training ResNet-18 in CF100 with Cutout"
   ],
   "id": "2f981ad6-216e-48d5-80e6-c656ee830344"
  },
  {
   "cell_type": "markdown",
   "metadata": {},
   "source": [
    "Image Processing for CIFAR-100 with Cutout"
   ],
   "id": "20035fd6-9cfa-4b7e-bb13-1cebb3fb3118"
  },
  {
   "cell_type": "code",
   "execution_count": null,
   "metadata": {},
   "outputs": [],
   "source": [
    "# Image Preprocessing\n",
    "\n",
    "normalize_image_cifar100 = transforms.Normalize(mean=[x / 255.0 for x in \n",
    " [125.3, 123.0, 113.9]], \n",
    "std=[x / 255.0 for x in [63.0, 62.1, 66.7]])\n",
    "\n",
    "train_transform_cifar100_cutout = transforms.Compose([])\n",
    "\n",
    "train_transform_cifar100_cutout.transforms.append(transforms.ToTensor())\n",
    "train_transform_cifar100_cutout.transforms.append(normalize_image_cifar100)\n",
    "\n",
    "#Add Cutout to the image transformer pipeline\n",
    "n_holes_cifar100 = 1\n",
    "length_cifar100 = 8\n",
    "train_transform_cifar100_cutout.transforms.append(Cutout(n_holes=n_holes_cifar100, length=length_cifar100))\n",
    "\n",
    "\n",
    "test_transform_cifar100 = transforms.Compose([\n",
    "    transforms.ToTensor(),\n",
    "    normalize_image_cifar100])"
   ],
   "id": "b9328a80-8361-4646-ab34-b7ce563e0d8a"
  },
  {
   "cell_type": "markdown",
   "metadata": {},
   "source": [
    "Import the dataset of CIFAR-100 with Cutout"
   ],
   "id": "5cacb0f3-f62b-4c41-b754-32f5d3dc447d"
  },
  {
   "cell_type": "code",
   "execution_count": null,
   "metadata": {},
   "outputs": [],
   "source": [
    "train_dataset_cifar100_cutout = datasets.CIFAR100(root=current_path + 'data/',\n",
    "                                     train=True,\n",
    "                                     transform=train_transform_cifar100_cutout,\n",
    "                                     download=True)\n",
    "\n",
    "test_dataset_cifar100 = datasets.CIFAR100(root=current_path + 'data/',\n",
    "                                    train=False,\n",
    "                                    transform=test_transform_cifar100,\n",
    "                                    download=True)"
   ],
   "id": "ff137a61-ac04-404c-a061-770d7ed35e8a"
  },
  {
   "cell_type": "markdown",
   "metadata": {},
   "source": [
    "Create Dataset of CIFAR-100 with Cutout as Dataloader"
   ],
   "id": "1364fb2f-b7e5-4a2b-bccb-8da9909271e5"
  },
  {
   "cell_type": "code",
   "execution_count": null,
   "metadata": {},
   "outputs": [],
   "source": [
    "# Data Loader (Input Pipeline)\n",
    "batch_size_cifar100_cutout = 128\n",
    "train_loader_cifar100_cutout = torch.utils.data.DataLoader(dataset=train_dataset_cifar100_cutout,\n",
    "                                           batch_size=batch_size_cifar100_cutout,\n",
    "                                           shuffle=True,\n",
    "                                           pin_memory=True,\n",
    "                                           num_workers=2)\n",
    "\n",
    "test_loader_cifar100 = torch.utils.data.DataLoader(dataset=test_dataset_cifar100,\n",
    "                                          batch_size=batch_size_cifar100_cutout,\n",
    "                                          shuffle=False,\n",
    "                                          pin_memory=True,\n",
    "                                          num_workers=2)"
   ],
   "id": "cde66d0c-1709-4084-8536-c786f4ab566c"
  },
  {
   "cell_type": "markdown",
   "metadata": {},
   "source": [
    "Define the model of ResNet for CIFAR-100 with Cutout"
   ],
   "id": "4982fa55-47c4-4f22-8d39-a81b43f11653"
  },
  {
   "cell_type": "markdown",
   "metadata": {},
   "source": [
    "This code block sets up the machine learning model, loss function, optimizer, and learning rate scheduler."
   ],
   "id": "8dd39d32-62df-4542-8940-020fbc76fd58"
  },
  {
   "cell_type": "code",
   "execution_count": null,
   "metadata": {},
   "outputs": [],
   "source": [
    "#file_name will be the used for the name of the file of weight of the model and also the result\n",
    "file_name_resnet18_cifar100_cutout = \"resnet18_cifar100_cutout\"\n",
    "\n",
    "num_classes_cifar100 = 100\n",
    "resnet18_cifar100_cutout = ResNet18(num_classes=num_classes_cifar100)\n",
    "\n",
    "\n",
    "resnet18_cifar100_cutout = resnet18_cifar100_cutout.cuda()\n",
    "learning_rate_resnet18_cifar100_cutout = 0.1\n",
    "criterion_resnet18_cifar100_cutout = nn.CrossEntropyLoss().cuda()\n",
    "cnn_optimizer_resnet18_cifar100_cutout = torch.optim.SGD(resnet18_cifar100_cutout.parameters(), lr=learning_rate_resnet18_cifar100_cutout,\n",
    "                                momentum=0.9, nesterov=True, weight_decay=5e-4)\n",
    "scheduler_resnet18_cifar100_cutout = MultiStepLR(cnn_optimizer_resnet18_cifar100_cutout, milestones=[60, 120, 160], gamma=0.2)"
   ],
   "id": "f25b955f-950e-47c7-8e01-98a914fd99b6"
  },
  {
   "cell_type": "markdown",
   "metadata": {},
   "source": [
    "Training ResNet-18 for CIFAR-100 with Cutout"
   ],
   "id": "bfaab3dc-6513-4d87-9aba-938b4f87334a"
  },
  {
   "cell_type": "markdown",
   "metadata": {},
   "source": [
    "This code runs the training loop for the chosen machine learning model over a specified number of epochs. Each epoch involves a forward pass, loss computation, backpropagation, and parameter updates. It also calculates and displays the training accuracy and cross-entropy loss. At the end of each epoch, the model’s performance is evaluated on the test set, and the results are logged and saved."
   ],
   "id": "92868307-0d17-41aa-98e0-f79c428f4154"
  },
  {
   "cell_type": "code",
   "execution_count": null,
   "metadata": {},
   "outputs": [],
   "source": [
    "epochs = 200\n",
    "for epoch in range(epochs):\n",
    "\n",
    "    xentropy_loss_avg = 0.\n",
    "    correct = 0.\n",
    "    total = 0.\n",
    "\n",
    "    progress_bar = tqdm(train_loader_cifar100_cutout)\n",
    "    for i, (images, labels) in enumerate(progress_bar):\n",
    "        progress_bar.set_description('Epoch ' + str(epoch))\n",
    "\n",
    "        images = images.cuda()\n",
    "        labels = labels.cuda()\n",
    "\n",
    "        resnet18_cifar100_cutout.zero_grad()\n",
    "        pred = resnet18_cifar100_cutout(images)\n",
    "\n",
    "        xentropy_loss = criterion_resnet18_cifar100_cutout(pred, labels)\n",
    "        xentropy_loss.backward()\n",
    "        cnn_optimizer_resnet18_cifar100_cutout.step()\n",
    "\n",
    "        xentropy_loss_avg += xentropy_loss.item()\n",
    "\n",
    "        # Calculate running average of accuracy\n",
    "        pred = torch.max(pred.data, 1)[1]\n",
    "        total += labels.size(0)\n",
    "        correct += (pred == labels.data).sum().item()\n",
    "        accuracy = correct / total\n",
    "\n",
    "        progress_bar.set_postfix(\n",
    "            xentropy='%.3f' % (xentropy_loss_avg / (i + 1)),\n",
    "            acc='%.3f' % accuracy)\n",
    "\n",
    "    test_acc_cifar100 = test(test_loader_cifar100,resnet18_cifar100_cutout)\n",
    "    tqdm.write('test_acc: %.3f' % (test_acc_cifar100))\n",
    "    scheduler_resnet18_cifar100_cutout.step()     \n",
    "torch.save(resnet18_cifar100_cutout.state_dict(), current_path + 'checkpoints/' + file_name_resnet18_cifar100_cutout + '.pt')\n",
    "\n",
    "\n",
    "final_test_acc_resnet18_cifar100_cutout = (1 - test(test_loader_cifar100,resnet18_cifar100_cutout))*100\n",
    "print('Test error rates (%) on ResNet-18 using Cutout for CIFAR-100 Test Dataset: %.3f' % (final_test_acc_resnet18_cifar100_cutout))"
   ],
   "id": "5ca46e0c-1788-4227-b3df-ca62d76cc6d3"
  },
  {
   "cell_type": "markdown",
   "metadata": {},
   "source": [
    "### 2.2.3. Training ResNet-18 in CF100 with Data Augmentation"
   ],
   "id": "74bb4ef6-ae0f-47a6-9f6b-9c7f848e8ec5"
  },
  {
   "cell_type": "markdown",
   "metadata": {},
   "source": [
    "Image Processing for CIFAR-100 with Data Augmentation"
   ],
   "id": "13d146df-31e2-4d46-a544-1d837585b9fe"
  },
  {
   "cell_type": "code",
   "execution_count": null,
   "metadata": {},
   "outputs": [],
   "source": [
    "# Image Preprocessing\n",
    "\n",
    "normalize_image_cifar100 = transforms.Normalize(mean=[x / 255.0 for x in \n",
    " [125.3, 123.0, 113.9]], \n",
    "std=[x / 255.0 for x in [63.0, 62.1, 66.7]])\n",
    "\n",
    "train_transform_cifar100_da = transforms.Compose([])\n",
    "train_transform_cifar100_da.transforms.append(transforms.RandomCrop(32, padding=4))\n",
    "train_transform_cifar100_da.transforms.append(transforms.RandomHorizontalFlip())\n",
    "train_transform_cifar100_da.transforms.append(transforms.ToTensor())\n",
    "train_transform_cifar100_da.transforms.append(normalize_image_cifar100)\n",
    "\n",
    "\n",
    "test_transform_cifar100 = transforms.Compose([\n",
    "    transforms.ToTensor(),\n",
    "    normalize_image_cifar100])"
   ],
   "id": "a51013ad-201f-4059-8fb3-359af6632a4d"
  },
  {
   "cell_type": "markdown",
   "metadata": {},
   "source": [
    "Import the dataset of CIFAR-100 with Data Augmentation"
   ],
   "id": "e0d10079-0776-4613-9d1d-70c4336e81ad"
  },
  {
   "cell_type": "code",
   "execution_count": null,
   "metadata": {},
   "outputs": [],
   "source": [
    "train_dataset_cifar100_da = datasets.CIFAR100(root=current_path + 'data/',\n",
    "                                     train=True,\n",
    "                                     transform=train_transform_cifar100_da,\n",
    "                                     download=True)\n",
    "\n",
    "test_dataset_cifar100 = datasets.CIFAR100(root=current_path + 'data/',\n",
    "                                    train=False,\n",
    "                                    transform=test_transform_cifar100,\n",
    "                                    download=True)"
   ],
   "id": "af97b87f-8906-471d-8ab2-9f9de190c0be"
  },
  {
   "cell_type": "markdown",
   "metadata": {},
   "source": [
    "Create Dataset of CIFAR-100 with Data Augmentation as Dataloader"
   ],
   "id": "4ab292a9-eeef-43d7-aea6-97840057f60e"
  },
  {
   "cell_type": "code",
   "execution_count": null,
   "metadata": {},
   "outputs": [],
   "source": [
    "# Data Loader (Input Pipeline)\n",
    "batch_size_cifar100_da = 128\n",
    "train_loader_cifar100_da = torch.utils.data.DataLoader(dataset=train_dataset_cifar100_da,\n",
    "                                           batch_size=batch_size_cifar100_da,\n",
    "                                           shuffle=True,\n",
    "                                           pin_memory=True,\n",
    "                                           num_workers=2)\n",
    "\n",
    "test_loader_cifar100 = torch.utils.data.DataLoader(dataset=test_dataset_cifar100,\n",
    "                                          batch_size=batch_size_cifar100_da,\n",
    "                                          shuffle=False,\n",
    "                                          pin_memory=True,\n",
    "                                          num_workers=2)"
   ],
   "id": "0c5f0bb8-cba0-403c-aa98-d07b4896d792"
  },
  {
   "cell_type": "markdown",
   "metadata": {},
   "source": [
    "Define the model of ResNet for CIFAR-100 with Data Augmentation"
   ],
   "id": "e9f71efa-951b-4aba-b8f5-65b69196b46e"
  },
  {
   "cell_type": "markdown",
   "metadata": {},
   "source": [
    "This code block sets up the machine learning model, loss function, optimizer, and learning rate scheduler."
   ],
   "id": "70cecb26-cf37-43f9-94ee-300f75a4cfdb"
  },
  {
   "cell_type": "code",
   "execution_count": null,
   "metadata": {},
   "outputs": [],
   "source": [
    "#file_name will be the used for the name of the file of weight of the model and also the result\n",
    "file_name_resnet18_cifar100_da = \"resnet18_cifar100_da\"\n",
    "\n",
    "num_classes_cifar100 = 100\n",
    "resnet18_cifar100_da = ResNet18(num_classes=num_classes_cifar100)\n",
    "\n",
    "\n",
    "resnet18_cifar100_da = resnet18_cifar100_da.cuda()\n",
    "learning_rate_resnet18_cifar100_da = 0.1\n",
    "criterion_resnet18_cifar100_da = nn.CrossEntropyLoss().cuda()\n",
    "cnn_optimizer_resnet18_cifar100_da = torch.optim.SGD(resnet18_cifar100_da.parameters(), lr=learning_rate_resnet18_cifar100_da,\n",
    "                                momentum=0.9, nesterov=True, weight_decay=5e-4)\n",
    "scheduler_resnet18_cifar100_da = MultiStepLR(cnn_optimizer_resnet18_cifar100_da, milestones=[60, 120, 160], gamma=0.2)"
   ],
   "id": "c2751ab2-2c10-44c2-ac68-399588247770"
  },
  {
   "cell_type": "markdown",
   "metadata": {},
   "source": [
    "Training ResNet-18 for CIFAR-100 with Data Augmentation"
   ],
   "id": "f165ae6b-ae7d-40c3-9875-dfd6727d1e04"
  },
  {
   "cell_type": "markdown",
   "metadata": {},
   "source": [
    "This code runs the training loop for the chosen machine learning model over a specified number of epochs. Each epoch involves a forward pass, loss computation, backpropagation, and parameter updates. It also calculates and displays the training accuracy and cross-entropy loss. At the end of each epoch, the model’s performance is evaluated on the test set, and the results are logged and saved."
   ],
   "id": "c6eddee1-78d4-43d0-a5ce-c60234c1878b"
  },
  {
   "cell_type": "code",
   "execution_count": null,
   "metadata": {},
   "outputs": [],
   "source": [
    "epochs = 200\n",
    "for epoch in range(epochs):\n",
    "\n",
    "    xentropy_loss_avg = 0.\n",
    "    correct = 0.\n",
    "    total = 0.\n",
    "\n",
    "    progress_bar = tqdm(train_loader_cifar100_da)\n",
    "    for i, (images, labels) in enumerate(progress_bar):\n",
    "        progress_bar.set_description('Epoch ' + str(epoch))\n",
    "\n",
    "        images = images.cuda()\n",
    "        labels = labels.cuda()\n",
    "\n",
    "        resnet18_cifar100_da.zero_grad()\n",
    "        pred = resnet18_cifar100_da(images)\n",
    "\n",
    "        xentropy_loss = criterion_resnet18_cifar100_da(pred, labels)\n",
    "        xentropy_loss.backward()\n",
    "        cnn_optimizer_resnet18_cifar100_da.step()\n",
    "\n",
    "        xentropy_loss_avg += xentropy_loss.item()\n",
    "\n",
    "        # Calculate running average of accuracy\n",
    "        pred = torch.max(pred.data, 1)[1]\n",
    "        total += labels.size(0)\n",
    "        correct += (pred == labels.data).sum().item()\n",
    "        accuracy = correct / total\n",
    "\n",
    "        progress_bar.set_postfix(\n",
    "            xentropy='%.3f' % (xentropy_loss_avg / (i + 1)),\n",
    "            acc='%.3f' % accuracy)\n",
    "\n",
    "    test_acc_resnet18_cifar100_da = test(test_loader_cifar100,resnet18_cifar100_da)\n",
    "    tqdm.write('test_acc: %.3f' % (test_acc_resnet18_cifar100_da))\n",
    "    scheduler_resnet18_cifar100_da.step()     \n",
    "torch.save(resnet18_cifar100_da.state_dict(), current_path + 'checkpoints/' + file_name_resnet18_cifar100_da + '.pt')\n",
    "\n",
    "\n",
    "final_test_acc_resnet18_cifar100_da = (1 - test(test_loader_cifar100,resnet18_cifar100_da))*100\n",
    "print('Test error rates (%) on ResNet-18 using Data Augmentation for CIFAR-100 Test Dataset: %.3f' % (final_test_acc_resnet18_cifar100_da))"
   ],
   "id": "64302829-5fca-4663-a926-d763c7519011"
  },
  {
   "cell_type": "markdown",
   "metadata": {},
   "source": [
    "### 2.2.4. Training ResNet-18 in CF100 with Data Augmentation and Cutout"
   ],
   "id": "c09a6925-3667-44bb-9999-a9da1c346d8d"
  },
  {
   "cell_type": "markdown",
   "metadata": {},
   "source": [
    "Image Processing for CIFAR-100 with Data Augmentation and Cutout"
   ],
   "id": "0f5a905f-17af-4e4e-b6b0-e47e59d61444"
  },
  {
   "cell_type": "code",
   "execution_count": null,
   "metadata": {},
   "outputs": [],
   "source": [
    "# Image Preprocessing\n",
    "\n",
    "normalize_image_cifar100 = transforms.Normalize(mean=[x / 255.0 for x in \n",
    " [125.3, 123.0, 113.9]], \n",
    "std=[x / 255.0 for x in [63.0, 62.1, 66.7]])\n",
    "\n",
    "train_transform_cifar100_da_co = transforms.Compose([])\n",
    "train_transform_cifar100_da_co.transforms.append(transforms.RandomCrop(32, padding=4))\n",
    "train_transform_cifar100_da_co.transforms.append(transforms.RandomHorizontalFlip())\n",
    "train_transform_cifar100_da_co.transforms.append(transforms.ToTensor())\n",
    "train_transform_cifar100_da_co.transforms.append(normalize_image_cifar100)\n",
    "\n",
    "#Add Cutout to the image transformer pipeline\n",
    "n_holes_cifar100_da_co = 1\n",
    "length_cifar100_da_co = 8\n",
    "train_transform_cifar100_da_co.transforms.append(Cutout(n_holes=n_holes_cifar100_da_co, length=length_cifar100_da_co))\n",
    "\n",
    "\n",
    "test_transform_cifar100 = transforms.Compose([\n",
    "    transforms.ToTensor(),\n",
    "    normalize_image_cifar100])"
   ],
   "id": "1ec5584f-8eb0-4afe-a410-e90a3824c286"
  },
  {
   "cell_type": "markdown",
   "metadata": {},
   "source": [
    "Import the dataset of CIFAR-100 with Data Augmentation and Cutout"
   ],
   "id": "38e6e6a1-2bbc-4b38-acc3-a47e05d3117f"
  },
  {
   "cell_type": "code",
   "execution_count": null,
   "metadata": {},
   "outputs": [],
   "source": [
    "train_dataset_cifar100_da_co = datasets.CIFAR100(root=current_path + 'data/',\n",
    "                                     train=True,\n",
    "                                     transform=train_transform_cifar100_da_co,\n",
    "                                     download=True)\n",
    "\n",
    "test_dataset_cifar100 = datasets.CIFAR100(root=current_path + 'data/',\n",
    "                                    train=False,\n",
    "                                    transform=test_transform_cifar100,\n",
    "                                    download=True)"
   ],
   "id": "0e16d413-218f-437c-8ce1-920a81aba23c"
  },
  {
   "cell_type": "markdown",
   "metadata": {},
   "source": [
    "Create Dataset of CIFAR-100 with Data Augmentation and Cutout as Dataloader"
   ],
   "id": "7f038411-e724-4aed-af04-3a0f852b52b9"
  },
  {
   "cell_type": "code",
   "execution_count": null,
   "metadata": {},
   "outputs": [],
   "source": [
    "# Data Loader (Input Pipeline)\n",
    "batch_size_cifar100_da_co = 128\n",
    "train_loader_cifar100_da_co = torch.utils.data.DataLoader(dataset=train_dataset_cifar100_da_co,\n",
    "                                           batch_size=batch_size_cifar100_da_co,\n",
    "                                           shuffle=True,\n",
    "                                           pin_memory=True,\n",
    "                                           num_workers=2)\n",
    "\n",
    "test_loader_cifar100 = torch.utils.data.DataLoader(dataset=test_dataset_cifar100,\n",
    "                                          batch_size=batch_size_cifar100_da_co,\n",
    "                                          shuffle=False,\n",
    "                                          pin_memory=True,\n",
    "                                          num_workers=2)"
   ],
   "id": "15b968ce-5647-414f-8475-cf4c36040a67"
  },
  {
   "cell_type": "markdown",
   "metadata": {},
   "source": [
    "Define the model of ResNet for CIFAR-100 with Data Augmentation and Cutout"
   ],
   "id": "3e0bc79c-35c5-4db5-af33-726f349a8a39"
  },
  {
   "cell_type": "markdown",
   "metadata": {},
   "source": [
    "This code block sets up the machine learning model, loss function, optimizer, and learning rate scheduler."
   ],
   "id": "0094af1b-f282-4d05-b9f4-a98a5f9747a4"
  },
  {
   "cell_type": "code",
   "execution_count": null,
   "metadata": {},
   "outputs": [],
   "source": [
    "#file_name will be the used for the name of the file of weight of the model and also the result\n",
    "file_name_resnet18_cifar100_da_cutout = \"resnet18_cifar100_da_cutout\"\n",
    "\n",
    "num_classes_cifar100 = 100\n",
    "resnet18_cifar100_da_cutout = ResNet18(num_classes=num_classes_cifar100)\n",
    "\n",
    "\n",
    "resnet18_cifar100_da_cutout = resnet18_cifar100_da_cutout.cuda()\n",
    "learning_rate_cifar100_da_cutout = 0.1\n",
    "criterion_cifar100_da_cutout = nn.CrossEntropyLoss().cuda()\n",
    "cnn_optimizer_cifar100_da_cutout = torch.optim.SGD(resnet18_cifar100_da_cutout.parameters(), lr=learning_rate_cifar100_da_cutout,\n",
    "                                momentum=0.9, nesterov=True, weight_decay=5e-4)\n",
    "scheduler_cifar100_da_cutout = MultiStepLR(cnn_optimizer_cifar100_da_cutout, milestones=[60, 120, 160], gamma=0.2)"
   ],
   "id": "5dd12e2d-46c2-4dbb-bad6-543c933f6c8e"
  },
  {
   "cell_type": "markdown",
   "metadata": {},
   "source": [
    "Training ResNet-18 for CIFAR-100 with Data Augmentation and Cutout"
   ],
   "id": "6e929ec4-16d2-4674-8a73-f5ee5e80848f"
  },
  {
   "cell_type": "markdown",
   "metadata": {},
   "source": [
    "This code runs the training loop for the chosen machine learning model over a specified number of epochs. Each epoch involves a forward pass, loss computation, backpropagation, and parameter updates. It also calculates and displays the training accuracy and cross-entropy loss. At the end of each epoch, the model’s performance is evaluated on the test set, and the results are logged and saved."
   ],
   "id": "bc014832-6403-4e1b-a68f-e153becac2ee"
  },
  {
   "cell_type": "code",
   "execution_count": null,
   "metadata": {},
   "outputs": [],
   "source": [
    "epochs = 200\n",
    "for epoch in range(epochs):\n",
    "\n",
    "    xentropy_loss_avg = 0.\n",
    "    correct = 0.\n",
    "    total = 0.\n",
    "\n",
    "    progress_bar = tqdm(train_loader_cifar100_da_co)\n",
    "    for i, (images, labels) in enumerate(progress_bar):\n",
    "        progress_bar.set_description('Epoch ' + str(epoch))\n",
    "\n",
    "        images = images.cuda()\n",
    "        labels = labels.cuda()\n",
    "\n",
    "        resnet18_cifar100_da_cutout.zero_grad()\n",
    "        pred = resnet18_cifar100_da_cutout(images)\n",
    "\n",
    "        xentropy_loss = criterion_cifar100_da_cutout(pred, labels)\n",
    "        xentropy_loss.backward()\n",
    "        cnn_optimizer_cifar100_da_cutout.step()\n",
    "\n",
    "        xentropy_loss_avg += xentropy_loss.item()\n",
    "\n",
    "        # Calculate running average of accuracy\n",
    "        pred = torch.max(pred.data, 1)[1]\n",
    "        total += labels.size(0)\n",
    "        correct += (pred == labels.data).sum().item()\n",
    "        accuracy = correct / total\n",
    "\n",
    "        progress_bar.set_postfix(\n",
    "            xentropy='%.3f' % (xentropy_loss_avg / (i + 1)),\n",
    "            acc='%.3f' % accuracy)\n",
    "\n",
    "    test_acc_cifar100_da_cutout = test(test_loader_cifar100,resnet18_cifar100_da_cutout)\n",
    "    tqdm.write('test_acc: %.3f' % (test_acc_cifar100_da_cutout))\n",
    "    scheduler_cifar100_da_cutout.step()     \n",
    "torch.save(resnet18_cifar100_da_cutout.state_dict(),current_path +  'checkpoints/' + file_name_resnet18_cifar100_da_cutout + '.pt')\n",
    "\n",
    "\n",
    "final_test_acc_resnet18_cifar100_da_cutout = (1 - test(test_loader_cifar100,resnet18_cifar100_da_cutout))*100\n",
    "print('Test error rates (%) on ResNet-18 using Data Augmentation and  Cutout for CIFAR-100 Test Dataset: %.3f' % (final_test_acc_resnet18_cifar100_da_cutout))"
   ],
   "id": "d89bbf0b-6ed0-45c6-baad-f5016b94c735"
  },
  {
   "cell_type": "code",
   "execution_count": null,
   "metadata": {},
   "outputs": [],
   "source": [
    "print('Test error rates (%) on ResNet-18 without Cutout for Test CIFAR-100 Dataset: %.3f' % (final_test_acc_resnet18_cifar100))\n",
    "print('Test error rates (%) on ResNet-18 using Cutout for CIFAR-100 Test Dataset: %.3f' % (final_test_acc_resnet18_cifar100_cutout))\n",
    "print('Test error rates (%) on ResNet-18 using Data Augmentation for CIFAR-100 Test Dataset: %.3f' % (final_test_acc_resnet18_cifar100_da))\n",
    "print('Test error rates (%) on ResNet-18 using Data Augmentation and  Cutout for CIFAR-100 Test Dataset: %.3f' % (final_test_acc_resnet18_cifar100_da_cutout))"
   ],
   "id": "7c3b246c-6356-48db-aa1c-7e7296973990"
  },
  {
   "cell_type": "markdown",
   "metadata": {},
   "source": [
    "# 03. WideResNet"
   ],
   "id": "0f45412b-8caf-4d05-aff3-90cc821e284f"
  },
  {
   "cell_type": "markdown",
   "metadata": {},
   "source": [
    "WideResNet model implementation from https://github.com/xternalz/WideResNet-pytorch\n",
    "\n",
    "Note: for faster training, use Runtime \\> Change Runtime Type to run this notebook on a GPU."
   ],
   "id": "701574e1-8292-439f-a8e1-da50ac3a612e"
  },
  {
   "cell_type": "markdown",
   "metadata": {},
   "source": [
    "In the Cutout paper, the authors claim that:\n",
    "\n",
    "1.  Cutout improves the robustness and overall performance of convolutional neural networks.\n",
    "2.  Cutout can be used in conjunction with existing forms of data augmentation and other regularizers to further improve model performance.\n",
    "\n",
    "In this section, we will evaluate these claims using a WideResNet model. For the WideResNet model, the specific quantitative claims are given in the following table:\n",
    "\n",
    "Test error (%, flip/translation augmentation, mean/std normalization, mean of 5 runs) and “+” indicates standard data augmentation (mirror + crop)\n",
    "\n",
    "| **Network**         | **CIFAR-10** | **CIFAR-10+** | **CIFAR-100** | **CIFAR-100+** | **SVHN**    |\n",
    "|-----------|------------|-------------|------------|-------------|------------|\n",
    "| WideResNet          | 6.97 ± 0.22  | 3.87 ± 0.08   | 26.06 ± 0.22  | 18.8 ± 0.08    | 1.60 ± 0.05 |\n",
    "| WideResNet + cutout | 5.54 ± 0.08  | 3.08 ± 0.16   | 23.94 ± 0.15  | 18.41 ± 0.27   | 1.30 ± 0.03 |\n",
    "\n",
    "In this table, the effectiveness of standard and cutout data augmentation techniques is evaluated using the WideResNet architecture on the CIFAR-10, CIFAR-100, and SVHN datasets. The “+”, as before, indicates the use of standard data augmentation (mirror and crop).\n",
    "\n",
    "In the results table provided in the original paper, we have included confidence intervals to provide a comprehensive view of the outcomes. It’s important to note that in our case, due to computational constraints, we have trained and evaluated the model only once, whereas the original authors conducted multiple runs. Consequently, while our numerical outcomes may not precisely match their averaged values, we are interested in assessing whether our results fall within the specified confidence intervals. This approach allows us to gauge the consistency and reliability of our findings with respect to the reported results.\n",
    "\n",
    "For CIFAR-10, utilizing the WideResNet model with standard augmentation significantly reduces the test error from 6.97% to 3.87%. When cutout augmentation is added, the error drops even further to 3.08%.\n",
    "\n",
    "A comparable trend is seen with the CIFAR-100 dataset. Standard augmentation reduces the WideResNet model’s test error from 26.06% to 18.8%. With the application of cutout augmentation, the error rate decreases slightly more to 18.41%.\n",
    "\n",
    "Lastly, the SVHN dataset shows the smallest error rates. With standard augmentation, the error is 1.60% which further reduces to 1.30% with the addition of cutout augmentation.\n",
    "\n",
    "These results demonstrate the robust effectiveness of both standard and cutout augmentation techniques in lowering test error rates across all tested datasets when used with the WideResNet model. As with the previous findings, the effect of augmentation appears to be influenced by the complexity of the dataset."
   ],
   "id": "33fdef42-f7e9-4322-89ee-2be2da00c902"
  },
  {
   "cell_type": "markdown",
   "metadata": {},
   "source": [
    "## Import Library"
   ],
   "id": "c2f76f1d-b7ae-447b-8c06-a8ef819fbe75"
  },
  {
   "cell_type": "code",
   "execution_count": null,
   "metadata": {},
   "outputs": [],
   "source": [
    "import torch\n",
    "import torch.nn as nn\n",
    "import torch.nn.functional as F\n",
    "from torch.autograd import Variable\n",
    "import torch.backends.cudnn as cudnn\n",
    "from torch.optim.lr_scheduler import MultiStepLR\n",
    "from torchvision import datasets, transforms\n",
    "import numpy as np\n",
    "import os\n",
    "from tqdm import tqdm\n",
    "import math"
   ],
   "id": "66869ce8-22ef-404a-bf0e-9d051f57ab36"
  },
  {
   "cell_type": "markdown",
   "metadata": {},
   "source": [
    "Check Cuda GPU availability and set seed number"
   ],
   "id": "7123edd8-fee7-4010-9516-7aacef3e043d"
  },
  {
   "cell_type": "code",
   "execution_count": null,
   "metadata": {},
   "outputs": [],
   "source": [
    "cuda = torch.cuda.is_available()\n",
    "print(cuda)\n",
    "cudnn.benchmark = True  # Should make training should go faster for large models\n",
    "\n",
    "seed = 1\n",
    "torch.manual_seed(seed)\n",
    "np.random.seed(seed)"
   ],
   "id": "af90ddb4-6636-4c8c-9555-21a43ad9e9d8"
  },
  {
   "cell_type": "markdown",
   "metadata": {},
   "source": [
    "If you are using Google Colab, here’s a step-by-step how to connect with your google drive:\n",
    "\n",
    "1.  On the left sidebar of the Colab notebook interface, you will see a folder icon with the Google Drive logo. Click on this folder icon to open the file explorer.\n",
    "\n",
    "2.  If you haven’t connected your Google Drive to Colab yet, it will prompt you to do so. Click the “Mount Drive” button to connect your Google Drive to Colab.\n",
    "\n",
    "3.  Once your Google Drive is mounted, you can use the file explorer to navigate to the file you want to open. Click on the folders to explore the contents of your Google Drive.\n",
    "\n",
    "4.  When you find the file you want to open, click the three dots next to the name of the file in the file explorer. From the options that appear, choose “Copy path.” This action will copy the full path of the file to your clipboard. Paste the copy path into the ‘current_path’ below."
   ],
   "id": "9f746545-f673-4eb1-b64f-cf78382ee09b"
  },
  {
   "cell_type": "code",
   "execution_count": null,
   "metadata": {},
   "outputs": [],
   "source": [
    "current_path =\"./\""
   ],
   "id": "a8f9f950-6f73-43eb-ab9d-a6c805f782ba"
  },
  {
   "cell_type": "markdown",
   "metadata": {},
   "source": [
    "This code block is used for creating a directory named ‘checkpoints’. This directory will be used to store the weights of our models, which are crucial for both preserving our progress during model training and for future use of the trained models.\n",
    "\n",
    "Creating such a directory and regularly saving model weights is a good practice in machine learning, as it ensures that you can resume your work from where you left off, should the training process be interrupted."
   ],
   "id": "83ecd4a7-2d59-4559-92b8-9545def916a4"
  },
  {
   "cell_type": "code",
   "execution_count": null,
   "metadata": {},
   "outputs": [],
   "source": [
    "# Create file names 'checkpoints' to save the weight of the models\n",
    "if not os.path.exists(current_path + 'checkpoints'):\n",
    "    os.makedirs(current_path + 'checkpoints')"
   ],
   "id": "27037b8c-6a7b-4c76-aee3-48057874f426"
  },
  {
   "cell_type": "markdown",
   "metadata": {},
   "source": [
    "## 3.1 Implementation Code"
   ],
   "id": "a8ab3fb5-e5e8-4618-98b0-84c7ef5ac8f1"
  },
  {
   "cell_type": "markdown",
   "metadata": {},
   "source": [
    "### 3.1.1 WideResNet Code"
   ],
   "id": "63a41a44-8774-40b9-87d1-c8f626478aca"
  },
  {
   "cell_type": "code",
   "execution_count": null,
   "metadata": {},
   "outputs": [],
   "source": [
    "# From https://github.com/uoguelph-mlrg/Cutout/blob/master/model/wide_resnet.py\n",
    "\n",
    "class BasicBlockWide(nn.Module):\n",
    "    def __init__(self, in_planes, out_planes, stride, dropRate=0.0):\n",
    "        super(BasicBlockWide, self).__init__()\n",
    "        self.bn1 = nn.BatchNorm2d(in_planes)\n",
    "        self.relu1 = nn.ReLU(inplace=True)\n",
    "        self.conv1 = nn.Conv2d(in_planes, out_planes, kernel_size=3, stride=stride,\n",
    "                               padding=1, bias=False)\n",
    "        self.bn2 = nn.BatchNorm2d(out_planes)\n",
    "        self.relu2 = nn.ReLU(inplace=True)\n",
    "        self.conv2 = nn.Conv2d(out_planes, out_planes, kernel_size=3, stride=1,\n",
    "                               padding=1, bias=False)\n",
    "        self.droprate = dropRate\n",
    "        self.equalInOut = (in_planes == out_planes)\n",
    "        self.convShortcut = (not self.equalInOut) and nn.Conv2d(in_planes, out_planes, kernel_size=1, stride=stride,\n",
    "                               padding=0, bias=False) or None\n",
    "    def forward(self, x):\n",
    "        if not self.equalInOut:\n",
    "            x = self.relu1(self.bn1(x))\n",
    "        else:\n",
    "            out = self.relu1(self.bn1(x))\n",
    "        out = self.relu2(self.bn2(self.conv1(out if self.equalInOut else x)))\n",
    "        if self.droprate > 0:\n",
    "            out = F.dropout(out, p=self.droprate, training=self.training)\n",
    "        out = self.conv2(out)\n",
    "        return torch.add(x if self.equalInOut else self.convShortcut(x), out)\n",
    "\n",
    "class NetworkBlock(nn.Module):\n",
    "    def __init__(self, nb_layers, in_planes, out_planes, block, stride, dropRate=0.0):\n",
    "        super(NetworkBlock, self).__init__()\n",
    "        self.layer = self._make_layer(block, in_planes, out_planes, nb_layers, stride, dropRate)\n",
    "    def _make_layer(self, block, in_planes, out_planes, nb_layers, stride, dropRate):\n",
    "        layers = []\n",
    "        for i in range(nb_layers):\n",
    "            layers.append(block(i == 0 and in_planes or out_planes, out_planes, i == 0 and stride or 1, dropRate))\n",
    "        return nn.Sequential(*layers)\n",
    "    def forward(self, x):\n",
    "        return self.layer(x)\n",
    "\n",
    "class WideResNet(nn.Module):\n",
    "    def __init__(self, depth, num_classes, widen_factor=1, dropRate=0.0):\n",
    "        super(WideResNet, self).__init__()\n",
    "        nChannels = [16, 16*widen_factor, 32*widen_factor, 64*widen_factor]\n",
    "        assert((depth - 4) % 6 == 0)\n",
    "        n = (depth - 4) // 6\n",
    "        block = BasicBlockWide\n",
    "        # 1st conv before any network block\n",
    "        self.conv1 = nn.Conv2d(3, nChannels[0], kernel_size=3, stride=1,\n",
    "                               padding=1, bias=False)\n",
    "        # 1st block\n",
    "        self.block1 = NetworkBlock(n, nChannels[0], nChannels[1], block, 1, dropRate)\n",
    "        # 2nd block\n",
    "        self.block2 = NetworkBlock(n, nChannels[1], nChannels[2], block, 2, dropRate)\n",
    "        # 3rd block\n",
    "        self.block3 = NetworkBlock(n, nChannels[2], nChannels[3], block, 2, dropRate)\n",
    "        # global average pooling and classifier\n",
    "        self.bn1 = nn.BatchNorm2d(nChannels[3])\n",
    "        self.relu = nn.ReLU(inplace=True)\n",
    "        self.fc = nn.Linear(nChannels[3], num_classes)\n",
    "        self.nChannels = nChannels[3]\n",
    "\n",
    "        for m in self.modules():\n",
    "            if isinstance(m, nn.Conv2d):\n",
    "                n = m.kernel_size[0] * m.kernel_size[1] * m.out_channels\n",
    "                m.weight.data.normal_(0, math.sqrt(2. / n))\n",
    "            elif isinstance(m, nn.BatchNorm2d):\n",
    "                m.weight.data.fill_(1)\n",
    "                m.bias.data.zero_()\n",
    "            elif isinstance(m, nn.Linear):\n",
    "                m.bias.data.zero_()\n",
    "    def forward(self, x):\n",
    "        out = self.conv1(x)\n",
    "        out = self.block1(out)\n",
    "        out = self.block2(out)\n",
    "        out = self.block3(out)\n",
    "        out = self.relu(self.bn1(out))\n",
    "\n",
    "        out = F.avg_pool2d(out, 8)\n",
    "        out = out.view(-1, self.nChannels)\n",
    "        out = self.fc(out)\n",
    "        return out"
   ],
   "id": "f57ac6df-d213-4286-99c8-927799e30e20"
  },
  {
   "cell_type": "markdown",
   "metadata": {},
   "source": [
    "### 3.1.2. Model Evaluate Test Code\n",
    "\n",
    "This function evaluates the performance of the model on a given data loader (loader). It sets the model to evaluation mode (eval), calculates the accuracy on the dataset, and returns the validation accuracy. It then switches the model back to training mode (train) before returning the validation accuracy."
   ],
   "id": "c6bf9096-6924-442c-9d1a-852e73ce5e40"
  },
  {
   "cell_type": "code",
   "execution_count": null,
   "metadata": {},
   "outputs": [],
   "source": [
    "def test(loader, cnn):\n",
    "    cnn.eval()    # Change model to 'eval' mode (BN uses moving mean/var).\n",
    "    correct = 0.\n",
    "    total = 0.\n",
    "    for images, labels in loader:\n",
    "        images = images.cuda()\n",
    "        labels = labels.cuda()\n",
    "\n",
    "        with torch.no_grad():\n",
    "            pred = cnn(images)\n",
    "\n",
    "        pred = torch.max(pred.data, 1)[1]\n",
    "        total += labels.size(0)\n",
    "        correct += (pred == labels).sum().item()\n",
    "\n",
    "    val_acc = correct / total\n",
    "    cnn.train()\n",
    "    return val_acc"
   ],
   "id": "96386251-5223-4e13-8b08-ca2a616dfe65"
  },
  {
   "cell_type": "markdown",
   "metadata": {},
   "source": [
    "## 3.2 Training WideResNet in CIFAR-10"
   ],
   "id": "8a56ae5d-f040-473c-baef-269a982b83de"
  },
  {
   "cell_type": "markdown",
   "metadata": {},
   "source": [
    "### 3.2.1. Training WideResNet in CF10 without Cutout"
   ],
   "id": "9b385c9a-3a7e-4829-90e1-2bd7495e0da2"
  },
  {
   "cell_type": "markdown",
   "metadata": {},
   "source": [
    "Image Processing for CIFAR-10"
   ],
   "id": "293c0d1b-a8d5-4f71-96e2-1c782f57187b"
  },
  {
   "cell_type": "code",
   "execution_count": null,
   "metadata": {},
   "outputs": [],
   "source": [
    "# Image Preprocessing\n",
    "\n",
    "normalize_image_cifar10 = transforms.Normalize(mean=[x / 255.0 for x in [125.3, 123.0, 113.9]], \n",
    "std=[x / 255.0 for x in [63.0, 62.1, 66.7]])\n",
    "\n",
    "train_transform_cifar10 = transforms.Compose([])\n",
    "\n",
    "train_transform_cifar10.transforms.append(transforms.ToTensor())\n",
    "train_transform_cifar10.transforms.append(normalize_image_cifar10)\n",
    "\n",
    "\n",
    "\n",
    "test_transform_cifar10 = transforms.Compose([\n",
    "    transforms.ToTensor(),\n",
    "    normalize_image_cifar10])"
   ],
   "id": "1134e9bc-5443-4e7f-9495-d3483753b68c"
  },
  {
   "cell_type": "markdown",
   "metadata": {},
   "source": [
    "Import the dataset of CIFAR-10"
   ],
   "id": "5655c075-0e51-40af-a965-bfe09fb33d0d"
  },
  {
   "cell_type": "code",
   "execution_count": null,
   "metadata": {},
   "outputs": [],
   "source": [
    "train_dataset_cifar10 = datasets.CIFAR10(root=current_path + 'data/',\n",
    "                                     train=True,\n",
    "                                     transform=train_transform_cifar10,\n",
    "                                     download=True)\n",
    "\n",
    "test_dataset_cifar10 = datasets.CIFAR10(root=current_path + 'data/',\n",
    "                                    train=False,\n",
    "                                    transform=test_transform_cifar10,\n",
    "                                    download=True)"
   ],
   "id": "7a5e0159-a4c6-442c-a7f4-a668e849f60d"
  },
  {
   "cell_type": "markdown",
   "metadata": {},
   "source": [
    "Create Dataset CIFAR-10 as Dataloader"
   ],
   "id": "74b72fdf-0ec1-455c-b1e9-08bc6d48f915"
  },
  {
   "cell_type": "code",
   "execution_count": null,
   "metadata": {},
   "outputs": [],
   "source": [
    "# Data Loader (Input Pipeline)\n",
    "batch_size_cifar10 = 128\n",
    "train_loader_cifar10 = torch.utils.data.DataLoader(dataset=train_dataset_cifar10,\n",
    "                                           batch_size=batch_size_cifar10,\n",
    "                                           shuffle=True,\n",
    "                                           pin_memory=True,\n",
    "                                           num_workers=2)\n",
    "\n",
    "test_loader_cifar10 = torch.utils.data.DataLoader(dataset=test_dataset_cifar10,\n",
    "                                          batch_size=batch_size_cifar10,\n",
    "                                          shuffle=False,\n",
    "                                          pin_memory=True,\n",
    "                                          num_workers=2)"
   ],
   "id": "ade2d28e-c3f4-44ea-b966-9bf446a43248"
  },
  {
   "cell_type": "markdown",
   "metadata": {},
   "source": [
    "Define the model of WideResNet for CIFAR-10"
   ],
   "id": "441cff12-4c00-47a1-a94c-d4c33b58dc05"
  },
  {
   "cell_type": "markdown",
   "metadata": {},
   "source": [
    "This code block sets up the machine learning model, loss function, optimizer, and learning rate scheduler."
   ],
   "id": "2c7dc2c3-10cf-49d5-a240-41a249a3004c"
  },
  {
   "cell_type": "code",
   "execution_count": null,
   "metadata": {},
   "outputs": [],
   "source": [
    "#file_name will be the used for the name of the file of weight of the model and also the result\n",
    "file_name_wideresnet_cifar10 = \"wideresnet_cifar10\"\n",
    "\n",
    "num_classes_cifar10 = 10\n",
    "wideresnet_cifar10 = WideResNet(depth=28, num_classes=num_classes_cifar10, widen_factor=10, dropRate=0.3)\n",
    "\n",
    "\n",
    "wideresnet_cifar10 = wideresnet_cifar10.cuda()\n",
    "learning_rate_wideresnet_cifar10 = 0.1\n",
    "criterion_wideresnet_cifar10 = nn.CrossEntropyLoss().cuda()\n",
    "cnn_optimizer_wideresnet_cifar10 = torch.optim.SGD(wideresnet_cifar10.parameters(), lr=learning_rate_wideresnet_cifar10,\n",
    "                                momentum=0.9, nesterov=True, weight_decay=5e-4)\n",
    "scheduler_wideresnet_cifar10 = MultiStepLR(cnn_optimizer_wideresnet_cifar10, milestones=[60, 120, 160], gamma=0.2)"
   ],
   "id": "76d06bcc-093a-430a-bfbd-7cb353fd610f"
  },
  {
   "cell_type": "markdown",
   "metadata": {},
   "source": [
    "::: {.cell .markdown} Training WideResNet for CIFAR-10"
   ],
   "id": "7baef526-7755-4d79-9652-023ec9ef16e8"
  },
  {
   "cell_type": "markdown",
   "metadata": {},
   "source": [
    "This code runs the training loop for the chosen machine learning model over a specified number of epochs. Each epoch involves a forward pass, loss computation, backpropagation, and parameter updates. It also calculates and displays the training accuracy and cross-entropy loss. At the end of each epoch, the model’s performance is evaluated on the test set, and the results are logged and saved."
   ],
   "id": "63931196-e1b2-451a-b537-fa806bd1f77a"
  },
  {
   "cell_type": "code",
   "execution_count": null,
   "metadata": {},
   "outputs": [],
   "source": [
    "epochs = 200\n",
    "for epoch in range(epochs):\n",
    "\n",
    "    xentropy_loss_avg = 0.\n",
    "    correct = 0.\n",
    "    total = 0.\n",
    "\n",
    "    progress_bar = tqdm(train_loader_cifar10)\n",
    "    for i, (images, labels) in enumerate(progress_bar):\n",
    "        progress_bar.set_description('Epoch ' + str(epoch))\n",
    "\n",
    "        images = images.cuda()\n",
    "        labels = labels.cuda()\n",
    "\n",
    "        wideresnet_cifar10.zero_grad()\n",
    "        pred = wideresnet_cifar10(images)\n",
    "\n",
    "        xentropy_loss = criterion_wideresnet_cifar10(pred, labels)\n",
    "        xentropy_loss.backward()\n",
    "        cnn_optimizer_wideresnet_cifar10.step()\n",
    "\n",
    "        xentropy_loss_avg += xentropy_loss.item()\n",
    "\n",
    "        # Calculate running average of accuracy\n",
    "        pred = torch.max(pred.data, 1)[1]\n",
    "        total += labels.size(0)\n",
    "        correct += (pred == labels.data).sum().item()\n",
    "        accuracy = correct / total\n",
    "\n",
    "        progress_bar.set_postfix(\n",
    "            xentropy='%.3f' % (xentropy_loss_avg / (i + 1)),\n",
    "            acc='%.3f' % accuracy)\n",
    "\n",
    "    test_accr_wideresnet_cifar10 = test(test_loader_cifar10, wideresnet_cifar10)\n",
    "    tqdm.write('test_acc: %.3f' % (test_accr_wideresnet_cifar10))\n",
    "\n",
    "    scheduler_wideresnet_cifar10.step()    \n",
    "\n",
    "    \n",
    "torch.save(wideresnet_cifar10.state_dict(), current_path + 'checkpoints/' + file_name_wideresnet_cifar10 + '.pt')\n",
    "\n",
    "\n",
    "final_test_acc_wideresnet_cifar10 = (1 - test(test_loader_cifar10, wideresnet_cifar10))*100\n",
    "print('Test error rates (%) on  WideResNet without Cutout for Test CIFAR-10 Dataset: %.3f' % (final_test_acc_wideresnet_cifar10))"
   ],
   "id": "ae61df9d-4382-4533-808c-e96923bd7833"
  },
  {
   "cell_type": "markdown",
   "metadata": {},
   "source": [
    "### 3.2.2. Training WideResNet in CF10 with Cutout"
   ],
   "id": "fbc9b5e8-ca8a-496e-a143-77879e42f49f"
  },
  {
   "cell_type": "markdown",
   "metadata": {},
   "source": [
    "Cutout Code"
   ],
   "id": "e3808fc1-c2fc-44ea-b85e-08cc6d44bc21"
  },
  {
   "cell_type": "markdown",
   "metadata": {},
   "source": [
    "This is the code to do Cutout and it is the same code we introduced earlier in the section about Cutout"
   ],
   "id": "a0d0309f-1724-442c-b46e-6e5027f70f8c"
  },
  {
   "cell_type": "code",
   "execution_count": null,
   "metadata": {},
   "outputs": [],
   "source": [
    "# Source Code from https://github.com/uoguelph-mlrg/Cutout/blob/master/util/cutout.py\n",
    "class Cutout(object):\n",
    "    \"\"\"Randomly mask out one or more patches from an image.\n",
    "\n",
    "    Args:\n",
    "        n_holes (int): Number of patches to cut out of each image.\n",
    "        length (int): The length (in pixels) of each square patch.\n",
    "    \"\"\"\n",
    "    def __init__(self, n_holes, length):\n",
    "        self.n_holes = n_holes\n",
    "        self.length = length\n",
    "\n",
    "    def __call__(self, img):\n",
    "        \"\"\"\n",
    "        Args:\n",
    "            img (Tensor): Tensor image of size (C, H, W).\n",
    "        Returns:\n",
    "            Tensor: Image with n_holes of dimension length x length cut out of it.\n",
    "        \"\"\"\n",
    "        h = img.size(1)\n",
    "        w = img.size(2)\n",
    "\n",
    "        mask = np.ones((h, w), np.float32)\n",
    "\n",
    "        for n in range(self.n_holes):\n",
    "            y = np.random.randint(h)\n",
    "            x = np.random.randint(w)\n",
    "\n",
    "            y1 = np.clip(y - self.length // 2, 0, h)\n",
    "            y2 = np.clip(y + self.length // 2, 0, h)\n",
    "            x1 = np.clip(x - self.length // 2, 0, w)\n",
    "            x2 = np.clip(x + self.length // 2, 0, w)\n",
    "\n",
    "            mask[y1: y2, x1: x2] = 0.\n",
    "\n",
    "        mask = torch.from_numpy(mask)\n",
    "        mask = mask.expand_as(img)\n",
    "        img = img * mask\n",
    "\n",
    "        return img"
   ],
   "id": "46c18105-e7c6-4f2c-a6ea-3a4f0712680b"
  },
  {
   "cell_type": "markdown",
   "metadata": {},
   "source": [
    "Image Processing for CIFAR-10 with Cutout"
   ],
   "id": "ebffcd61-9309-4c96-9a75-af22dd41ccc9"
  },
  {
   "cell_type": "code",
   "execution_count": null,
   "metadata": {},
   "outputs": [],
   "source": [
    "# Image Preprocessing\n",
    "\n",
    "normalize_image_cifar10 = transforms.Normalize(mean=[x / 255.0 for x in [125.3, 123.0, 113.9]], \n",
    "std=[x / 255.0 for x in [63.0, 62.1, 66.7]])\n",
    "\n",
    "train_transform_cifar10_cutout = transforms.Compose([])\n",
    "\n",
    "train_transform_cifar10_cutout.transforms.append(transforms.ToTensor())\n",
    "train_transform_cifar10_cutout.transforms.append(normalize_image_cifar10)\n",
    "\n",
    "#Add Cutout to the image transformer pipeline\n",
    "n_holes_cifar10 = 1\n",
    "length_cifar10 = 16\n",
    "train_transform_cifar10_cutout.transforms.append(Cutout(n_holes=n_holes_cifar10, length=length_cifar10))\n",
    "\n",
    "\n",
    "test_transform_cifar10 = transforms.Compose([\n",
    "    transforms.ToTensor(),\n",
    "    normalize_image_cifar10])"
   ],
   "id": "a433e606-3240-4304-84a4-a4ac6a6f0ee0"
  },
  {
   "cell_type": "markdown",
   "metadata": {},
   "source": [
    "Import the dataset of CIFAR-10 with Cutout"
   ],
   "id": "dcdfe2b2-a350-4f7d-bb0b-0fe083710bf8"
  },
  {
   "cell_type": "code",
   "execution_count": null,
   "metadata": {},
   "outputs": [],
   "source": [
    "train_dataset_cifar10_cutout = datasets.CIFAR10(root=current_path + 'data/',\n",
    "                                     train=True,\n",
    "                                     transform=train_transform_cifar10_cutout,\n",
    "                                     download=True)\n",
    "\n",
    "test_dataset_cifar10 = datasets.CIFAR10(root=current_path + 'data/',\n",
    "                                    train=False,\n",
    "                                    transform=test_transform_cifar10,\n",
    "                                    download=True)"
   ],
   "id": "9f222381-7571-45ce-bb49-0c9ccfdbb8d6"
  },
  {
   "cell_type": "markdown",
   "metadata": {},
   "source": [
    "Create Dataset CIFAR-10 with Cutout as Dataloader"
   ],
   "id": "2f947e4c-7745-4e35-afad-f15a12a5935f"
  },
  {
   "cell_type": "code",
   "execution_count": null,
   "metadata": {},
   "outputs": [],
   "source": [
    "# Data Loader (Input Pipeline)\n",
    "batch_size_cifar10_cutout = 128\n",
    "train_loader_cifar10_cutout = torch.utils.data.DataLoader(dataset=train_dataset_cifar10_cutout,\n",
    "                                           batch_size=batch_size_cifar10_cutout,\n",
    "                                           shuffle=True,\n",
    "                                           pin_memory=True,\n",
    "                                           num_workers=2)\n",
    "\n",
    "test_loader_cifar10 = torch.utils.data.DataLoader(dataset=test_dataset_cifar10,\n",
    "                                          batch_size=batch_size_cifar10_cutout,\n",
    "                                          shuffle=False,\n",
    "                                          pin_memory=True,\n",
    "                                          num_workers=2)"
   ],
   "id": "3bc3ec1d-c93a-4509-a622-8fa9b91a2180"
  },
  {
   "cell_type": "markdown",
   "metadata": {},
   "source": [
    "Define the model of WideResNet for CIFAR-10 with Cutout"
   ],
   "id": "5c5b2e01-83fc-4ee0-bdd0-e32fa3abf87a"
  },
  {
   "cell_type": "markdown",
   "metadata": {},
   "source": [
    "This code block sets up the machine learning model, loss function, optimizer, and learning rate scheduler."
   ],
   "id": "76009bc9-2e7b-4be7-b2ed-e0c29bfb8b98"
  },
  {
   "cell_type": "code",
   "execution_count": null,
   "metadata": {},
   "outputs": [],
   "source": [
    "#file_name will be the used for the name of the file of weight of the model and also the result\n",
    "file_name_wideresnet_cifar10_cutout = \"wideresnet_cifar10_cutout\"\n",
    "\n",
    "num_classes_cifar10 = 10\n",
    "wideresnet_cifar10_cutout = WideResNet(depth=28, num_classes=num_classes_cifar10, widen_factor=10, dropRate=0.3)\n",
    "\n",
    "\n",
    "wideresnet_cifar10_cutout = wideresnet_cifar10_cutout.cuda()\n",
    "learning_rate_wideresnet_cifar10_cutout = 0.1\n",
    "criterion_wideresnet_cifar10_cutout = nn.CrossEntropyLoss().cuda()\n",
    "cnn_optimizer_wideresnet_cifar10_cutout = torch.optim.SGD(wideresnet_cifar10_cutout.parameters(), lr=learning_rate_wideresnet_cifar10_cutout,\n",
    "                                momentum=0.9, nesterov=True, weight_decay=5e-4)\n",
    "scheduler_wideresnet_cifar10_cutout = MultiStepLR(cnn_optimizer_wideresnet_cifar10_cutout, milestones=[60, 120, 160], gamma=0.2)"
   ],
   "id": "78eca771-508f-47d9-8775-a7bbb41f6a57"
  },
  {
   "cell_type": "markdown",
   "metadata": {},
   "source": [
    "Training WideResNet for CIFAR-10 with Cutout"
   ],
   "id": "031bf5eb-f459-4dff-bd2e-b176e867b46d"
  },
  {
   "cell_type": "markdown",
   "metadata": {},
   "source": [
    "This code runs the training loop for the chosen machine learning model over a specified number of epochs. Each epoch involves a forward pass, loss computation, backpropagation, and parameter updates. It also calculates and displays the training accuracy and cross-entropy loss. At the end of each epoch, the model’s performance is evaluated on the test set, and the results are logged and saved."
   ],
   "id": "5a666963-9c22-40e2-b220-06da59296ee7"
  },
  {
   "cell_type": "code",
   "execution_count": null,
   "metadata": {},
   "outputs": [],
   "source": [
    "epochs = 200\n",
    "for epoch in range(epochs):\n",
    "\n",
    "    xentropy_loss_avg = 0.\n",
    "    correct = 0.\n",
    "    total = 0.\n",
    "\n",
    "    progress_bar = tqdm(train_loader_cifar10_cutout)\n",
    "    for i, (images, labels) in enumerate(progress_bar):\n",
    "        progress_bar.set_description('Epoch ' + str(epoch))\n",
    "\n",
    "        images = images.cuda()\n",
    "        labels = labels.cuda()\n",
    "\n",
    "        wideresnet_cifar10_cutout.zero_grad()\n",
    "        pred = wideresnet_cifar10_cutout(images)\n",
    "\n",
    "        xentropy_loss = criterion_wideresnet_cifar10_cutout(pred, labels)\n",
    "        xentropy_loss.backward()\n",
    "        cnn_optimizer_wideresnet_cifar10_cutout.step()\n",
    "\n",
    "        xentropy_loss_avg += xentropy_loss.item()\n",
    "\n",
    "        # Calculate running average of accuracy\n",
    "        pred = torch.max(pred.data, 1)[1]\n",
    "        total += labels.size(0)\n",
    "        correct += (pred == labels.data).sum().item()\n",
    "        accuracy = correct / total\n",
    "\n",
    "        progress_bar.set_postfix(\n",
    "            xentropy='%.3f' % (xentropy_loss_avg / (i + 1)),\n",
    "            acc='%.3f' % accuracy)\n",
    "\n",
    "    test_acc_cifar10 = test(test_loader_cifar10,wideresnet_cifar10_cutout)\n",
    "    tqdm.write('test_acc: %.3f' % (test_acc_cifar10))\n",
    "    scheduler_wideresnet_cifar10_cutout.step()     \n",
    "torch.save(wideresnet_cifar10_cutout.state_dict(), current_path + 'checkpoints/' + file_name_wideresnet_cifar10_cutout + '.pt')\n",
    "\n",
    "\n",
    "final_test_acc_wideresnet_cifar10_cutout = (1 - test(test_loader_cifar10,wideresnet_cifar10_cutout))*100\n",
    "print('Test error rates (%) on  WideResNet using Cutout for CIFAR-10 Test Dataset: %.3f' % (final_test_acc_wideresnet_cifar10_cutout))"
   ],
   "id": "9a566dca-8753-4d87-8d17-4f6f5cbd0874"
  },
  {
   "cell_type": "markdown",
   "metadata": {},
   "source": [
    "### 3.2.3. Training WideResNet in CF10 with Data Augmentation"
   ],
   "id": "351bc588-68e6-46a1-bdd2-0b026ef19e3a"
  },
  {
   "cell_type": "markdown",
   "metadata": {},
   "source": [
    "Image Processing for CIFAR-10 with Data Augmentation"
   ],
   "id": "b938f0d7-3033-4577-9b4e-b6d8b43e93b2"
  },
  {
   "cell_type": "code",
   "execution_count": null,
   "metadata": {},
   "outputs": [],
   "source": [
    "# Image Preprocessing\n",
    "\n",
    "normalize_image_cifar10 = transforms.Normalize(mean=[x / 255.0 for x in [125.3, 123.0, 113.9]], \n",
    "std=[x / 255.0 for x in [63.0, 62.1, 66.7]])\n",
    "\n",
    "train_transform_cifar10_da = transforms.Compose([])\n",
    "train_transform_cifar10_da.transforms.append(transforms.RandomCrop(32, padding=4))\n",
    "train_transform_cifar10_da.transforms.append(transforms.RandomHorizontalFlip())\n",
    "train_transform_cifar10_da.transforms.append(transforms.ToTensor())\n",
    "train_transform_cifar10_da.transforms.append(normalize_image_cifar10)\n",
    "\n",
    "\n",
    "test_transform_cifar10 = transforms.Compose([\n",
    "    transforms.ToTensor(),\n",
    "    normalize_image_cifar10])"
   ],
   "id": "4b1a9ba3-8c56-4b91-8852-14b66c98b6b8"
  },
  {
   "cell_type": "markdown",
   "metadata": {},
   "source": [
    "Import the dataset of CIFAR-10 with Data Augmentation"
   ],
   "id": "1837632e-1404-4fb0-864f-cfbf61fda55d"
  },
  {
   "cell_type": "code",
   "execution_count": null,
   "metadata": {},
   "outputs": [],
   "source": [
    "train_dataset_cifar10_da = datasets.CIFAR10(root=current_path + 'data/',\n",
    "                                     train=True,\n",
    "                                     transform=train_transform_cifar10_da,\n",
    "                                     download=True)\n",
    "\n",
    "test_dataset_cifar10 = datasets.CIFAR10(root=current_path + 'data/',\n",
    "                                    train=False,\n",
    "                                    transform=test_transform_cifar10,\n",
    "                                    download=True)"
   ],
   "id": "2211d812-b58d-4973-a106-b602bdf6a566"
  },
  {
   "cell_type": "markdown",
   "metadata": {},
   "source": [
    "Create Dataset CIFAR-10 with Data Augmentation as Dataloader"
   ],
   "id": "d305a9b3-94b6-4b22-aeb7-443133b51bfd"
  },
  {
   "cell_type": "code",
   "execution_count": null,
   "metadata": {},
   "outputs": [],
   "source": [
    "# Data Loader (Input Pipeline)\n",
    "batch_size_cifar10_da = 128\n",
    "train_loader_cifar10_da = torch.utils.data.DataLoader(dataset=train_dataset_cifar10_da,\n",
    "                                           batch_size=batch_size_cifar10_da,\n",
    "                                           shuffle=True,\n",
    "                                           pin_memory=True,\n",
    "                                           num_workers=2)\n",
    "\n",
    "test_loader_cifar10 = torch.utils.data.DataLoader(dataset=test_dataset_cifar10,\n",
    "                                          batch_size=batch_size_cifar10_da,\n",
    "                                          shuffle=False,\n",
    "                                          pin_memory=True,\n",
    "                                          num_workers=2)"
   ],
   "id": "2e9309cc-e331-4b01-8e18-b384b91b5df1"
  },
  {
   "cell_type": "markdown",
   "metadata": {},
   "source": [
    "Define the model of WideResNet for CIFAR-10 with Data Augmentation"
   ],
   "id": "48cea868-88b4-4e98-a9db-6c5ff8cf7bc0"
  },
  {
   "cell_type": "markdown",
   "metadata": {},
   "source": [
    "This code block sets up the machine learning model, loss function, optimizer, and learning rate scheduler."
   ],
   "id": "457c8621-e099-4f9c-857a-0f6c1c563e1e"
  },
  {
   "cell_type": "code",
   "execution_count": null,
   "metadata": {},
   "outputs": [],
   "source": [
    "#file_name will be the used for the name of the file of weight of the model and also the result\n",
    "file_name_wideresnet_cifar10_da = \"wideresnet_cifar10_da\"\n",
    "\n",
    "num_classes_cifar10 = 10\n",
    "wideresnet_cifar10_da = WideResNet(depth=28, num_classes=num_classes_cifar10, widen_factor=10, dropRate=0.3)\n",
    "\n",
    "\n",
    "wideresnet_cifar10_da = wideresnet_cifar10_da.cuda()\n",
    "learning_rate_wideresnet_cifar10_da = 0.1\n",
    "criterion_wideresnet_cifar10_da = nn.CrossEntropyLoss().cuda()\n",
    "cnn_optimizer_wideresnet_cifar10_da = torch.optim.SGD(wideresnet_cifar10_da.parameters(), lr=learning_rate_wideresnet_cifar10_da,\n",
    "                                momentum=0.9, nesterov=True, weight_decay=5e-4)\n",
    "scheduler_wideresnet_cifar10_da = MultiStepLR(cnn_optimizer_wideresnet_cifar10_da, milestones=[60, 120, 160], gamma=0.2)"
   ],
   "id": "fe6c2d22-3099-4566-95a9-b6cc28cb05dd"
  },
  {
   "cell_type": "markdown",
   "metadata": {},
   "source": [
    "Training WideResNet for CIFAR-10 with Data Augmentation"
   ],
   "id": "37b98605-ad1f-4ae7-a0f3-8d7ff0b09f13"
  },
  {
   "cell_type": "markdown",
   "metadata": {},
   "source": [
    "This code runs the training loop for the chosen machine learning model over a specified number of epochs. Each epoch involves a forward pass, loss computation, backpropagation, and parameter updates. It also calculates and displays the training accuracy and cross-entropy loss. At the end of each epoch, the model’s performance is evaluated on the test set, and the results are logged and saved."
   ],
   "id": "522157bf-da98-4234-ace3-a2bb49e09fda"
  },
  {
   "cell_type": "code",
   "execution_count": null,
   "metadata": {},
   "outputs": [],
   "source": [
    "epochs = 200\n",
    "for epoch in range(epochs):\n",
    "\n",
    "    xentropy_loss_avg = 0.\n",
    "    correct = 0.\n",
    "    total = 0.\n",
    "\n",
    "    progress_bar = tqdm(train_loader_cifar10_da)\n",
    "    for i, (images, labels) in enumerate(progress_bar):\n",
    "        progress_bar.set_description('Epoch ' + str(epoch))\n",
    "\n",
    "        images = images.cuda()\n",
    "        labels = labels.cuda()\n",
    "\n",
    "        wideresnet_cifar10_da.zero_grad()\n",
    "        pred = wideresnet_cifar10_da(images)\n",
    "\n",
    "        xentropy_loss = criterion_wideresnet_cifar10_da(pred, labels)\n",
    "        xentropy_loss.backward()\n",
    "        cnn_optimizer_wideresnet_cifar10_da.step()\n",
    "\n",
    "        xentropy_loss_avg += xentropy_loss.item()\n",
    "\n",
    "        # Calculate running average of accuracy\n",
    "        pred = torch.max(pred.data, 1)[1]\n",
    "        total += labels.size(0)\n",
    "        correct += (pred == labels.data).sum().item()\n",
    "        accuracy = correct / total\n",
    "\n",
    "        progress_bar.set_postfix(\n",
    "            xentropy='%.3f' % (xentropy_loss_avg / (i + 1)),\n",
    "            acc='%.3f' % accuracy)\n",
    "\n",
    "    test_acc_wideresnet_cifar10_da = test(test_loader_cifar10,wideresnet_cifar10_da)\n",
    "    tqdm.write('test_acc: %.3f' % (test_acc_wideresnet_cifar10_da))\n",
    "    scheduler_wideresnet_cifar10_da.step()     \n",
    "torch.save(wideresnet_cifar10_da.state_dict(), current_path + 'checkpoints/' + file_name_wideresnet_cifar10_da + '.pt')\n",
    "\n",
    "\n",
    "final_test_acc_wideresnet_cifar10_da = (1 - test(test_loader_cifar10,wideresnet_cifar10_da))*100\n",
    "print('Test error rates (%) on  WideResNet using Data Augmentation for CIFAR-10 Test Dataset: %.3f' % (final_test_acc_wideresnet_cifar10_da))"
   ],
   "id": "7b5c6c21-79c6-49be-98ff-4ec0bc3fe6da"
  },
  {
   "cell_type": "markdown",
   "metadata": {},
   "source": [
    "### 3.2.4. Training WideResNet in CF10 with Data Augmentation and Cutout"
   ],
   "id": "4eb695a7-fe47-4c23-bcda-70f354a7ad63"
  },
  {
   "cell_type": "markdown",
   "metadata": {},
   "source": [
    "Image Processing for CIFAR-10 with Data Augmentation and Cutout"
   ],
   "id": "56b2d6ed-7925-4e27-8a82-e5d6f474d460"
  },
  {
   "cell_type": "code",
   "execution_count": null,
   "metadata": {},
   "outputs": [],
   "source": [
    "# Image Preprocessing\n",
    "\n",
    "normalize_image_cifar10 = transforms.Normalize(mean=[x / 255.0 for x in [125.3, 123.0, 113.9]], \n",
    "std=[x / 255.0 for x in [63.0, 62.1, 66.7]])\n",
    "\n",
    "train_transform_cifar10_da_co = transforms.Compose([])\n",
    "train_transform_cifar10_da_co.transforms.append(transforms.RandomCrop(32, padding=4))\n",
    "train_transform_cifar10_da_co.transforms.append(transforms.RandomHorizontalFlip())\n",
    "train_transform_cifar10_da_co.transforms.append(transforms.ToTensor())\n",
    "train_transform_cifar10_da_co.transforms.append(normalize_image_cifar10)\n",
    "\n",
    "#Add Cutout to the image transformer pipeline\n",
    "n_holes_cifar10_da_co = 1\n",
    "length_cifar10_da_co = 16\n",
    "train_transform_cifar10_da_co.transforms.append(Cutout(n_holes=n_holes_cifar10_da_co, length=length_cifar10_da_co))\n",
    "\n",
    "\n",
    "test_transform_cifar10 = transforms.Compose([\n",
    "    transforms.ToTensor(),\n",
    "    normalize_image_cifar10])"
   ],
   "id": "670191c1-72e1-4084-b5b9-98062f46e4ec"
  },
  {
   "cell_type": "markdown",
   "metadata": {},
   "source": [
    "Import the dataset of CIFAR-10 with Data Augmentation and Cutout"
   ],
   "id": "78240c6a-ac65-48f9-a9ec-ea01927962ab"
  },
  {
   "cell_type": "code",
   "execution_count": null,
   "metadata": {},
   "outputs": [],
   "source": [
    "train_dataset_cifar10_da_co = datasets.CIFAR10(root=current_path + 'data/',\n",
    "                                     train=True,\n",
    "                                     transform=train_transform_cifar10_da_co,\n",
    "                                     download=True)\n",
    "\n",
    "test_dataset_cifar10 = datasets.CIFAR10(root=current_path + 'data/',\n",
    "                                    train=False,\n",
    "                                    transform=test_transform_cifar10,\n",
    "                                    download=True)"
   ],
   "id": "ccfc7e37-86c0-412a-8e1d-fed91b06d518"
  },
  {
   "cell_type": "markdown",
   "metadata": {},
   "source": [
    "Create Dataset CIFAR-10 with Data Augmentation and Cutout as Dataloader"
   ],
   "id": "ad2fb0b2-1c6e-45ad-9c5b-6bd255df9435"
  },
  {
   "cell_type": "code",
   "execution_count": null,
   "metadata": {},
   "outputs": [],
   "source": [
    "# Data Loader (Input Pipeline)\n",
    "batch_size_cifar10_da_co = 128\n",
    "train_loader_cifar10_da_co = torch.utils.data.DataLoader(dataset=train_dataset_cifar10_da_co,\n",
    "                                           batch_size=batch_size_cifar10_da_co,\n",
    "                                           shuffle=True,\n",
    "                                           pin_memory=True,\n",
    "                                           num_workers=2)\n",
    "\n",
    "test_loader_cifar10 = torch.utils.data.DataLoader(dataset=test_dataset_cifar10,\n",
    "                                          batch_size=batch_size_cifar10_da_co,\n",
    "                                          shuffle=False,\n",
    "                                          pin_memory=True,\n",
    "                                          num_workers=2)"
   ],
   "id": "7a20d98d-0dbf-42e8-baae-12635a703a87"
  },
  {
   "cell_type": "markdown",
   "metadata": {},
   "source": [
    "Define the model of WideResNet for CIFAR-10 with Data Augmentation and Cutout as Dataloader"
   ],
   "id": "7d635f96-deba-4278-90da-542cb410ebc8"
  },
  {
   "cell_type": "markdown",
   "metadata": {},
   "source": [
    "This code block sets up the machine learning model, loss function, optimizer, and learning rate scheduler."
   ],
   "id": "b2398500-6562-485c-8f5a-52468e9dccf5"
  },
  {
   "cell_type": "code",
   "execution_count": null,
   "metadata": {},
   "outputs": [],
   "source": [
    "#file_name will be the used for the name of the file of weight of the model and also the result\n",
    "file_name_wideresnet_cifar10_da_cutout = \"wideresnet_cifar10_da_cutout\"\n",
    "\n",
    "num_classes_cifar10 = 10\n",
    "wideresnet_cifar10_da_cutout = WideResNet(depth=28, num_classes=num_classes_cifar10, widen_factor=10, dropRate=0.3)\n",
    "\n",
    "\n",
    "wideresnet_cifar10_da_cutout = wideresnet_cifar10_da_cutout.cuda()\n",
    "learning_rate_cifar10_da_cutout = 0.1\n",
    "criterion_cifar10_da_cutout = nn.CrossEntropyLoss().cuda()\n",
    "cnn_optimizer_cifar10_da_cutout = torch.optim.SGD(wideresnet_cifar10_da_cutout.parameters(), lr=learning_rate_cifar10_da_cutout,\n",
    "                                momentum=0.9, nesterov=True, weight_decay=5e-4)\n",
    "scheduler_cifar10_da_cutout = MultiStepLR(cnn_optimizer_cifar10_da_cutout, milestones=[60, 120, 160], gamma=0.2)"
   ],
   "id": "4f08a3d2-7cdb-4ed9-a492-9d065e7b0eac"
  },
  {
   "cell_type": "markdown",
   "metadata": {},
   "source": [
    "Training WideResNet for CIFAR-10 with Data Augmentation and Cutout"
   ],
   "id": "8adc2832-75c3-40a4-ba8a-8e8197330be6"
  },
  {
   "cell_type": "markdown",
   "metadata": {},
   "source": [
    "This code runs the training loop for the chosen machine learning model over a specified number of epochs. Each epoch involves a forward pass, loss computation, backpropagation, and parameter updates. It also calculates and displays the training accuracy and cross-entropy loss. At the end of each epoch, the model’s performance is evaluated on the test set, and the results are logged and saved."
   ],
   "id": "a7d55db5-b1c6-4bc1-acb7-4f86b13dc24e"
  },
  {
   "cell_type": "code",
   "execution_count": null,
   "metadata": {},
   "outputs": [],
   "source": [
    "epochs = 200\n",
    "for epoch in range(epochs):\n",
    "\n",
    "    xentropy_loss_avg = 0.\n",
    "    correct = 0.\n",
    "    total = 0.\n",
    "\n",
    "    progress_bar = tqdm(train_loader_cifar10_da_co)\n",
    "    for i, (images, labels) in enumerate(progress_bar):\n",
    "        progress_bar.set_description('Epoch ' + str(epoch))\n",
    "\n",
    "        images = images.cuda()\n",
    "        labels = labels.cuda()\n",
    "\n",
    "        wideresnet_cifar10_da_cutout.zero_grad()\n",
    "        pred = wideresnet_cifar10_da_cutout(images)\n",
    "\n",
    "        xentropy_loss = criterion_cifar10_da_cutout(pred, labels)\n",
    "        xentropy_loss.backward()\n",
    "        cnn_optimizer_cifar10_da_cutout.step()\n",
    "\n",
    "        xentropy_loss_avg += xentropy_loss.item()\n",
    "\n",
    "        # Calculate running average of accuracy\n",
    "        pred = torch.max(pred.data, 1)[1]\n",
    "        total += labels.size(0)\n",
    "        correct += (pred == labels.data).sum().item()\n",
    "        accuracy = correct / total\n",
    "\n",
    "        progress_bar.set_postfix(\n",
    "            xentropy='%.3f' % (xentropy_loss_avg / (i + 1)),\n",
    "            acc='%.3f' % accuracy)\n",
    "\n",
    "    test_acc_cifar10_da_cutout = test(test_loader_cifar10,wideresnet_cifar10_da_cutout)\n",
    "    tqdm.write('test_acc: %.3f' % (test_acc_cifar10_da_cutout))\n",
    "    scheduler_cifar10_da_cutout.step()     \n",
    "torch.save(wideresnet_cifar10_da_cutout.state_dict(), current_path + 'checkpoints/' + file_name_wideresnet_cifar10_da_cutout + '.pt')\n",
    "\n",
    "\n",
    "final_test_acc_wideresnet_cifar10_da_cutout = (1 - test(test_loader_cifar10,wideresnet_cifar10_da_cutout))*100\n",
    "print('Test error rates (%) on  WideResNet using Data Augmentation and  Cutout for CIFAR-10 Test Dataset: %.3f' % (final_test_acc_wideresnet_cifar10_da_cutout))"
   ],
   "id": "4a1879c1-30d9-4a1b-a2eb-0db93435f0c4"
  },
  {
   "cell_type": "code",
   "execution_count": null,
   "metadata": {},
   "outputs": [],
   "source": [
    "print('Test error rates (%) on  WideResNet without Cutout for Test CIFAR-10 Dataset: %.3f' % (final_test_acc_wideresnet_cifar10))\n",
    "print('Test error rates (%) on  WideResNet using Cutout for CIFAR-10 Test Dataset: %.3f' % (final_test_acc_wideresnet_cifar10_cutout))\n",
    "print('Test error rates (%) on  WideResNet using Data Augmentation for CIFAR-10 Test Dataset: %.3f' % (final_test_acc_wideresnet_cifar10_da))\n",
    "print('Test error rates (%) on  WideResNet using Data Augmentation and  Cutout for CIFAR-10 Test Dataset: %.3f' % (final_test_acc_wideresnet_cifar10_da_cutout))"
   ],
   "id": "3590a9bb-a594-4519-bb10-4229a0f121de"
  },
  {
   "cell_type": "markdown",
   "metadata": {},
   "source": [
    "## 3.3 Training WideResNet in CIFAR-100"
   ],
   "id": "74cf431a-0eb8-4883-b06f-393395245de8"
  },
  {
   "cell_type": "markdown",
   "metadata": {},
   "source": [
    "### 3.3.1. Training WideResNet in CF100 without Cutout"
   ],
   "id": "7299e338-2fe9-4cb9-a1af-5c04c4c33125"
  },
  {
   "cell_type": "markdown",
   "metadata": {},
   "source": [
    "Image Processing for CIFAR-100"
   ],
   "id": "0db6fa7e-2951-4481-8b3d-6745a36f6456"
  },
  {
   "cell_type": "code",
   "execution_count": null,
   "metadata": {},
   "outputs": [],
   "source": [
    "# Image Preprocessing\n",
    "\n",
    "normalize_image_cifar100 = transforms.Normalize(mean=[x / 255.0 for x in [125.3, 123.0, 113.9]], \n",
    "std=[x / 255.0 for x in [63.0, 62.1, 66.7]])\n",
    "\n",
    "train_transform_cifar100 = transforms.Compose([])\n",
    "\n",
    "train_transform_cifar100.transforms.append(transforms.ToTensor())\n",
    "train_transform_cifar100.transforms.append(normalize_image_cifar100)\n",
    "\n",
    "\n",
    "\n",
    "test_transform_cifar100 = transforms.Compose([\n",
    "    transforms.ToTensor(),\n",
    "    normalize_image_cifar100])"
   ],
   "id": "3ef803b6-5bc7-4c4c-9d31-b0b49154407d"
  },
  {
   "cell_type": "markdown",
   "metadata": {},
   "source": [
    "Import the dataset of CIFAR-100"
   ],
   "id": "1ab14313-ae62-4aaf-802f-0c94671162b0"
  },
  {
   "cell_type": "code",
   "execution_count": null,
   "metadata": {},
   "outputs": [],
   "source": [
    "train_dataset_cifar100 = datasets.CIFAR100(root=current_path +  'data/',\n",
    "                                     train=True,\n",
    "                                     transform=train_transform_cifar100,\n",
    "                                     download=True)\n",
    "\n",
    "test_dataset_cifar100 = datasets.CIFAR100(root=current_path + 'data/',\n",
    "                                    train=False,\n",
    "                                    transform=test_transform_cifar100,\n",
    "                                    download=True)"
   ],
   "id": "03476e27-3ed8-45a2-9b5b-8e5a23601cea"
  },
  {
   "cell_type": "markdown",
   "metadata": {},
   "source": [
    "Create Dataset CIFAR-100 as Dataloader"
   ],
   "id": "3e93689e-94c4-4bda-95f9-d1e95a6614f4"
  },
  {
   "cell_type": "code",
   "execution_count": null,
   "metadata": {},
   "outputs": [],
   "source": [
    "# Data Loader (Input Pipeline)\n",
    "batch_size_cifar100 = 128\n",
    "train_loader_cifar100 = torch.utils.data.DataLoader(dataset=train_dataset_cifar100,\n",
    "                                           batch_size=batch_size_cifar100,\n",
    "                                           shuffle=True,\n",
    "                                           pin_memory=True,\n",
    "                                           num_workers=2)\n",
    "\n",
    "test_loader_cifar100 = torch.utils.data.DataLoader(dataset=test_dataset_cifar100,\n",
    "                                          batch_size=batch_size_cifar100,\n",
    "                                          shuffle=False,\n",
    "                                          pin_memory=True,\n",
    "                                          num_workers=2)"
   ],
   "id": "960549bd-7ccf-487d-9839-2848b8b6588d"
  },
  {
   "cell_type": "markdown",
   "metadata": {},
   "source": [
    "Define the model of WideResNet for CIFAR-100"
   ],
   "id": "bf889475-df01-4ccc-bffe-5ae037897cc8"
  },
  {
   "cell_type": "markdown",
   "metadata": {},
   "source": [
    "This code block sets up the machine learning model, loss function, optimizer, and learning rate scheduler."
   ],
   "id": "6d8e96f2-d3f6-4e91-8f5b-a17b9ed946ce"
  },
  {
   "cell_type": "code",
   "execution_count": null,
   "metadata": {},
   "outputs": [],
   "source": [
    "#file_name will be the used for the name of the file of weight of the model and also the result\n",
    "file_name_wideresnet_cifar100 = \"wideresnet_cifar100\"\n",
    "\n",
    "num_classes_cifar100 = 100\n",
    "wideresnet_cifar100 = WideResNet(depth=28, num_classes=num_classes_cifar100, widen_factor=10, dropRate=0.3)\n",
    "\n",
    "\n",
    "wideresnet_cifar100 = wideresnet_cifar100.cuda()\n",
    "learning_rate_wideresnet_cifar100 = 0.1\n",
    "criterion_wideresnet_cifar100 = nn.CrossEntropyLoss().cuda()\n",
    "cnn_optimizer_wideresnet_cifar100 = torch.optim.SGD(wideresnet_cifar100.parameters(), lr=learning_rate_wideresnet_cifar100,\n",
    "                                momentum=0.9, nesterov=True, weight_decay=5e-4)\n",
    "scheduler_wideresnet_cifar100 = MultiStepLR(cnn_optimizer_wideresnet_cifar100, milestones=[60, 120, 160], gamma=0.2)"
   ],
   "id": "f9f328e8-321e-48d7-ad7a-e0858079a001"
  },
  {
   "cell_type": "markdown",
   "metadata": {},
   "source": [
    "Training WideResNet for CIFAR-100"
   ],
   "id": "7b308ecd-dc8c-4a25-b8a6-d082f71c3003"
  },
  {
   "cell_type": "markdown",
   "metadata": {},
   "source": [
    "This code runs the training loop for the chosen machine learning model over a specified number of epochs. Each epoch involves a forward pass, loss computation, backpropagation, and parameter updates. It also calculates and displays the training accuracy and cross-entropy loss. At the end of each epoch, the model’s performance is evaluated on the test set, and the results are logged and saved."
   ],
   "id": "13652247-ebc4-4f2d-a3b9-cd7dbbc900f4"
  },
  {
   "cell_type": "code",
   "execution_count": null,
   "metadata": {},
   "outputs": [],
   "source": [
    "epochs = 200\n",
    "for epoch in range(epochs):\n",
    "\n",
    "    xentropy_loss_avg = 0.\n",
    "    correct = 0.\n",
    "    total = 0.\n",
    "\n",
    "    progress_bar = tqdm(train_loader_cifar100)\n",
    "    for i, (images, labels) in enumerate(progress_bar):\n",
    "        progress_bar.set_description('Epoch ' + str(epoch))\n",
    "\n",
    "        images = images.cuda()\n",
    "        labels = labels.cuda()\n",
    "\n",
    "        wideresnet_cifar100.zero_grad()\n",
    "        pred = wideresnet_cifar100(images)\n",
    "\n",
    "        xentropy_loss = criterion_wideresnet_cifar100(pred, labels)\n",
    "        xentropy_loss.backward()\n",
    "        cnn_optimizer_wideresnet_cifar100.step()\n",
    "\n",
    "        xentropy_loss_avg += xentropy_loss.item()\n",
    "\n",
    "        # Calculate running average of accuracy\n",
    "        pred = torch.max(pred.data, 1)[1]\n",
    "        total += labels.size(0)\n",
    "        correct += (pred == labels.data).sum().item()\n",
    "        accuracy = correct / total\n",
    "\n",
    "        progress_bar.set_postfix(\n",
    "            xentropy='%.3f' % (xentropy_loss_avg / (i + 1)),\n",
    "            acc='%.3f' % accuracy)\n",
    "\n",
    "    test_accr_wideresnet_cifar100 = test(test_loader_cifar100, wideresnet_cifar100)\n",
    "    tqdm.write('test_acc: %.3f' % (test_accr_wideresnet_cifar100))\n",
    "\n",
    "    scheduler_wideresnet_cifar100.step()    \n",
    "\n",
    "    \n",
    "torch.save(wideresnet_cifar100.state_dict(), current_path + 'checkpoints/' + file_name_wideresnet_cifar100 + '.pt')\n",
    "\n",
    "\n",
    "final_test_acc_wideresnet_cifar100 = (1 - test(test_loader_cifar100, wideresnet_cifar100))*100\n",
    "print('Test error rates (%) on  WideResNet without Cutout for Test CIFAR-100 Dataset: %.3f' % (final_test_acc_wideresnet_cifar100))"
   ],
   "id": "bd944fba-e01d-4d02-840d-5d70c7637032"
  },
  {
   "cell_type": "markdown",
   "metadata": {},
   "source": [
    "### 3.3.2. Training WideResNet in CF100 with Cutout"
   ],
   "id": "3d62c62b-5416-40e6-b2ef-b8828681e8e5"
  },
  {
   "cell_type": "markdown",
   "metadata": {},
   "source": [
    "Image Processing for CIFAR-100"
   ],
   "id": "3355f332-5b23-43e0-9a5b-8ca788a0cd2c"
  },
  {
   "cell_type": "code",
   "execution_count": null,
   "metadata": {},
   "outputs": [],
   "source": [
    "# Image Preprocessing\n",
    "\n",
    "normalize_image_cifar100 = transforms.Normalize(mean=[x / 255.0 for x in [125.3, 123.0, 113.9]], \n",
    "std=[x / 255.0 for x in [63.0, 62.1, 66.7]])\n",
    "\n",
    "train_transform_cifar100_cutout = transforms.Compose([])\n",
    "\n",
    "train_transform_cifar100_cutout.transforms.append(transforms.ToTensor())\n",
    "train_transform_cifar100_cutout.transforms.append(normalize_image_cifar100)\n",
    "\n",
    "#Add Cutout to the image transformer pipeline\n",
    "n_holes_cifar100 = 1\n",
    "length_cifar100 = 8\n",
    "train_transform_cifar100_cutout.transforms.append(Cutout(n_holes=n_holes_cifar100, length=length_cifar100))\n",
    "\n",
    "\n",
    "test_transform_cifar100 = transforms.Compose([\n",
    "    transforms.ToTensor(),\n",
    "    normalize_image_cifar100])"
   ],
   "id": "d71495bf-2b5d-45b4-af5a-1b5047ed1c14"
  },
  {
   "cell_type": "markdown",
   "metadata": {},
   "source": [
    "Import the dataset of CIFAR-0"
   ],
   "id": "6eb98903-5601-4d54-9631-6e496bd7cd25"
  },
  {
   "cell_type": "code",
   "execution_count": null,
   "metadata": {},
   "outputs": [],
   "source": [
    "train_dataset_cifar100_cutout = datasets.CIFAR100(root=current_path + 'data/',\n",
    "                                     train=True,\n",
    "                                     transform=train_transform_cifar100_cutout,\n",
    "                                     download=True)\n",
    "\n",
    "test_dataset_cifar100 = datasets.CIFAR100(root=current_path + 'data/',\n",
    "                                    train=False,\n",
    "                                    transform=test_transform_cifar100,\n",
    "                                    download=True)"
   ],
   "id": "65106a3f-741c-4cb6-8bc6-1ab0879af81a"
  },
  {
   "cell_type": "markdown",
   "metadata": {},
   "source": [
    "Create Dataset CIFAR-100 with Cutout as Dataloader"
   ],
   "id": "c1f8ed71-2cc3-437a-a3b2-5d23ef7302df"
  },
  {
   "cell_type": "code",
   "execution_count": null,
   "metadata": {},
   "outputs": [],
   "source": [
    "# Data Loader (Input Pipeline)\n",
    "batch_size_cifar100_cutout = 128\n",
    "train_loader_cifar100_cutout = torch.utils.data.DataLoader(dataset=train_dataset_cifar100_cutout,\n",
    "                                           batch_size=batch_size_cifar100_cutout,\n",
    "                                           shuffle=True,\n",
    "                                           pin_memory=True,\n",
    "                                           num_workers=2)\n",
    "\n",
    "test_loader_cifar100 = torch.utils.data.DataLoader(dataset=test_dataset_cifar100,\n",
    "                                          batch_size=batch_size_cifar100_cutout,\n",
    "                                          shuffle=False,\n",
    "                                          pin_memory=True,\n",
    "                                          num_workers=2)"
   ],
   "id": "bab91747-b378-4d60-b682-4e265099b2b1"
  },
  {
   "cell_type": "markdown",
   "metadata": {},
   "source": [
    "Define the model of WideResNet for CIFAR-100 with Cutout"
   ],
   "id": "5a523b37-14e0-4274-8069-fd9425442685"
  },
  {
   "cell_type": "markdown",
   "metadata": {},
   "source": [
    "This code block sets up the machine learning model, loss function, optimizer, and learning rate scheduler."
   ],
   "id": "1eb1cfb0-272b-40f2-a96d-e5f5cffeecd3"
  },
  {
   "cell_type": "code",
   "execution_count": null,
   "metadata": {},
   "outputs": [],
   "source": [
    "#file_name will be the used for the name of the file of weight of the model and also the result\n",
    "file_name_wideresnet_cifar100_cutout = \"wideresnet_cifar100_cutout\"\n",
    "\n",
    "num_classes_cifar100 = 100\n",
    "wideresnet_cifar100_cutout = WideResNet(depth=28, num_classes=num_classes_cifar100, widen_factor=10, dropRate=0.3)\n",
    "\n",
    "\n",
    "wideresnet_cifar100_cutout = wideresnet_cifar100_cutout.cuda()\n",
    "learning_rate_wideresnet_cifar100_cutout = 0.1\n",
    "criterion_wideresnet_cifar100_cutout = nn.CrossEntropyLoss().cuda()\n",
    "cnn_optimizer_wideresnet_cifar100_cutout = torch.optim.SGD(wideresnet_cifar100_cutout.parameters(), lr=learning_rate_wideresnet_cifar100_cutout,\n",
    "                                momentum=0.9, nesterov=True, weight_decay=5e-4)\n",
    "scheduler_wideresnet_cifar100_cutout = MultiStepLR(cnn_optimizer_wideresnet_cifar100_cutout, milestones=[60, 120, 160], gamma=0.2)"
   ],
   "id": "23202c4c-7d01-4838-9767-8543066ab090"
  },
  {
   "cell_type": "markdown",
   "metadata": {},
   "source": [
    "Training WideResNet for CIFAR-100 with Cutout"
   ],
   "id": "ebf7ff93-e517-40be-a21f-0cada36a7b51"
  },
  {
   "cell_type": "markdown",
   "metadata": {},
   "source": [
    "This code runs the training loop for the chosen machine learning model over a specified number of epochs. Each epoch involves a forward pass, loss computation, backpropagation, and parameter updates. It also calculates and displays the training accuracy and cross-entropy loss. At the end of each epoch, the model’s performance is evaluated on the test set, and the results are logged and saved."
   ],
   "id": "67de23c8-9d21-426d-8938-c173e44921a5"
  },
  {
   "cell_type": "code",
   "execution_count": null,
   "metadata": {},
   "outputs": [],
   "source": [
    "epochs = 200\n",
    "for epoch in range(epochs):\n",
    "\n",
    "    xentropy_loss_avg = 0.\n",
    "    correct = 0.\n",
    "    total = 0.\n",
    "\n",
    "    progress_bar = tqdm(train_loader_cifar100_cutout)\n",
    "    for i, (images, labels) in enumerate(progress_bar):\n",
    "        progress_bar.set_description('Epoch ' + str(epoch))\n",
    "\n",
    "        images = images.cuda()\n",
    "        labels = labels.cuda()\n",
    "\n",
    "        wideresnet_cifar100_cutout.zero_grad()\n",
    "        pred = wideresnet_cifar100_cutout(images)\n",
    "\n",
    "        xentropy_loss = criterion_wideresnet_cifar100_cutout(pred, labels)\n",
    "        xentropy_loss.backward()\n",
    "        cnn_optimizer_wideresnet_cifar100_cutout.step()\n",
    "\n",
    "        xentropy_loss_avg += xentropy_loss.item()\n",
    "\n",
    "        # Calculate running average of accuracy\n",
    "        pred = torch.max(pred.data, 1)[1]\n",
    "        total += labels.size(0)\n",
    "        correct += (pred == labels.data).sum().item()\n",
    "        accuracy = correct / total\n",
    "\n",
    "        progress_bar.set_postfix(\n",
    "            xentropy='%.3f' % (xentropy_loss_avg / (i + 1)),\n",
    "            acc='%.3f' % accuracy)\n",
    "\n",
    "    test_acc_cifar100 = test(test_loader_cifar100,wideresnet_cifar100_cutout)\n",
    "    tqdm.write('test_acc: %.3f' % (test_acc_cifar100))\n",
    "    scheduler_wideresnet_cifar100_cutout.step()     \n",
    "torch.save(wideresnet_cifar100_cutout.state_dict(), current_path + 'checkpoints/' + file_name_wideresnet_cifar100_cutout + '.pt')\n",
    "\n",
    "\n",
    "final_test_acc_wideresnet_cifar100_cutout = (1 - test(test_loader_cifar100,wideresnet_cifar100_cutout))*100\n",
    "print('Test error rates (%) on  WideResNet using Cutout for CIFAR-100 Test Dataset: %.3f' % (final_test_acc_wideresnet_cifar100_cutout))"
   ],
   "id": "ad847a2e-b542-47c4-84af-7be2088d61cc"
  },
  {
   "cell_type": "markdown",
   "metadata": {},
   "source": [
    "### 3.3.3. Training WideResNet in CF100 with Data Augmentation"
   ],
   "id": "e972ffa0-52ca-45c0-8528-d9f63a5456b4"
  },
  {
   "cell_type": "markdown",
   "metadata": {},
   "source": [
    "Image Processing for CIFAR-100"
   ],
   "id": "c93ddab6-ce42-4673-aa53-6f954b232b12"
  },
  {
   "cell_type": "code",
   "execution_count": null,
   "metadata": {},
   "outputs": [],
   "source": [
    "# Image Preprocessing\n",
    "\n",
    "normalize_image_cifar100 = transforms.Normalize(mean=[x / 255.0 for x in [125.3, 123.0, 113.9]], \n",
    "std=[x / 255.0 for x in [63.0, 62.1, 66.7]])\n",
    "\n",
    "train_transform_cifar100_da = transforms.Compose([])\n",
    "train_transform_cifar100_da.transforms.append(transforms.RandomCrop(32, padding=4))\n",
    "train_transform_cifar100_da.transforms.append(transforms.RandomHorizontalFlip())\n",
    "train_transform_cifar100_da.transforms.append(transforms.ToTensor())\n",
    "train_transform_cifar100_da.transforms.append(normalize_image_cifar100)\n",
    "\n",
    "\n",
    "test_transform_cifar100 = transforms.Compose([\n",
    "    transforms.ToTensor(),\n",
    "    normalize_image_cifar100])"
   ],
   "id": "a1a24f3f-08cd-4448-8d8a-8907487c3d37"
  },
  {
   "cell_type": "markdown",
   "metadata": {},
   "source": [
    "Import the dataset of CIFAR-100"
   ],
   "id": "ae660187-4b86-4e00-9175-becc8c98bdfd"
  },
  {
   "cell_type": "code",
   "execution_count": null,
   "metadata": {},
   "outputs": [],
   "source": [
    "train_dataset_cifar100_da = datasets.CIFAR100(root=current_path + 'data/',\n",
    "                                     train=True,\n",
    "                                     transform=train_transform_cifar100_da,\n",
    "                                     download=True)\n",
    "\n",
    "test_dataset_cifar100 = datasets.CIFAR100(root=current_path + 'data/',\n",
    "                                    train=False,\n",
    "                                    transform=test_transform_cifar100,\n",
    "                                    download=True)"
   ],
   "id": "683b50e6-d958-48c7-9cb3-ad04302b7d74"
  },
  {
   "cell_type": "markdown",
   "metadata": {},
   "source": [
    "Create Dataset CIFAR-100 with Data Augmentation as Dataloader"
   ],
   "id": "f0341e8a-8c6a-4015-ab1c-056e83a9a371"
  },
  {
   "cell_type": "code",
   "execution_count": null,
   "metadata": {},
   "outputs": [],
   "source": [
    "# Data Loader (Input Pipeline)\n",
    "batch_size_cifar100_da = 128\n",
    "train_loader_cifar100_da = torch.utils.data.DataLoader(dataset=train_dataset_cifar100_da,\n",
    "                                           batch_size=batch_size_cifar100_da,\n",
    "                                           shuffle=True,\n",
    "                                           pin_memory=True,\n",
    "                                           num_workers=2)\n",
    "\n",
    "test_loader_cifar100 = torch.utils.data.DataLoader(dataset=test_dataset_cifar100,\n",
    "                                          batch_size=batch_size_cifar100_da,\n",
    "                                          shuffle=False,\n",
    "                                          pin_memory=True,\n",
    "                                          num_workers=2)"
   ],
   "id": "d6327f38-8605-4695-b02e-2bc1d802a551"
  },
  {
   "cell_type": "markdown",
   "metadata": {},
   "source": [
    "Define the model of WideResNet for CIFAR-100 with Data Augmentation"
   ],
   "id": "4ef5ba86-d300-42de-aa3d-31e570f7b2b4"
  },
  {
   "cell_type": "markdown",
   "metadata": {},
   "source": [
    "This code block sets up the machine learning model, loss function, optimizer, and learning rate scheduler."
   ],
   "id": "b39b2536-2046-4814-b9bc-400817e21a51"
  },
  {
   "cell_type": "code",
   "execution_count": null,
   "metadata": {},
   "outputs": [],
   "source": [
    "#file_name will be the used for the name of the file of weight of the model and also the result\n",
    "file_name_wideresnet_cifar100_da = \"wideresnet_cifar100_da\"\n",
    "\n",
    "num_classes_cifar100 = 100\n",
    "wideresnet_cifar100_da = WideResNet(depth=28, num_classes=num_classes_cifar100, widen_factor=10, dropRate=0.3)\n",
    "\n",
    "\n",
    "\n",
    "wideresnet_cifar100_da = wideresnet_cifar100_da.cuda()\n",
    "learning_rate_wideresnet_cifar100_da = 0.1\n",
    "criterion_wideresnet_cifar100_da = nn.CrossEntropyLoss().cuda()\n",
    "cnn_optimizer_wideresnet_cifar100_da = torch.optim.SGD(wideresnet_cifar100_da.parameters(), lr=learning_rate_wideresnet_cifar100_da,\n",
    "                                momentum=0.9, nesterov=True, weight_decay=5e-4)\n",
    "scheduler_wideresnet_cifar100_da = MultiStepLR(cnn_optimizer_wideresnet_cifar100_da, milestones=[60, 120, 160], gamma=0.2)"
   ],
   "id": "d62df894-2435-4596-badc-2798d741639a"
  },
  {
   "cell_type": "markdown",
   "metadata": {},
   "source": [
    "Training WideResNet for CIFAR-100 with Data Augmentation"
   ],
   "id": "ed834a82-35f6-429d-a62c-55b2944f81ad"
  },
  {
   "cell_type": "markdown",
   "metadata": {},
   "source": [
    "This code runs the training loop for the chosen machine learning model over a specified number of epochs. Each epoch involves a forward pass, loss computation, backpropagation, and parameter updates. It also calculates and displays the training accuracy and cross-entropy loss. At the end of each epoch, the model’s performance is evaluated on the test set, and the results are logged and saved."
   ],
   "id": "410c503b-712e-4f11-bd8d-47b311b8929f"
  },
  {
   "cell_type": "code",
   "execution_count": null,
   "metadata": {},
   "outputs": [],
   "source": [
    "epochs = 200\n",
    "for epoch in range(epochs):\n",
    "\n",
    "    xentropy_loss_avg = 0.\n",
    "    correct = 0.\n",
    "    total = 0.\n",
    "\n",
    "    progress_bar = tqdm(train_loader_cifar100_da)\n",
    "    for i, (images, labels) in enumerate(progress_bar):\n",
    "        progress_bar.set_description('Epoch ' + str(epoch))\n",
    "\n",
    "        images = images.cuda()\n",
    "        labels = labels.cuda()\n",
    "\n",
    "        wideresnet_cifar100_da.zero_grad()\n",
    "        pred = wideresnet_cifar100_da(images)\n",
    "\n",
    "        xentropy_loss = criterion_wideresnet_cifar100_da(pred, labels)\n",
    "        xentropy_loss.backward()\n",
    "        cnn_optimizer_wideresnet_cifar100_da.step()\n",
    "\n",
    "        xentropy_loss_avg += xentropy_loss.item()\n",
    "\n",
    "        # Calculate running average of accuracy\n",
    "        pred = torch.max(pred.data, 1)[1]\n",
    "        total += labels.size(0)\n",
    "        correct += (pred == labels.data).sum().item()\n",
    "        accuracy = correct / total\n",
    "\n",
    "        progress_bar.set_postfix(\n",
    "            xentropy='%.3f' % (xentropy_loss_avg / (i + 1)),\n",
    "            acc='%.3f' % accuracy)\n",
    "\n",
    "    test_acc_wideresnet_cifar100_da = test(test_loader_cifar100,wideresnet_cifar100_da)\n",
    "    tqdm.write('test_acc: %.3f' % (test_acc_wideresnet_cifar100_da))\n",
    "    scheduler_wideresnet_cifar100_da.step()     \n",
    "torch.save(wideresnet_cifar100_da.state_dict(), current_path + 'checkpoints/' + file_name_wideresnet_cifar100_da + '.pt')\n",
    "\n",
    "\n",
    "final_test_acc_wideresnet_cifar100_da = (1 - test(test_loader_cifar100,wideresnet_cifar100_da))*100\n",
    "print('Test error rates (%) on  WideResNet using Data Augmentation for CIFAR-100 Test Dataset: %.3f' % (final_test_acc_wideresnet_cifar100_da))"
   ],
   "id": "bce8bd97-9f8e-43a0-b712-20bfec9c9a6b"
  },
  {
   "cell_type": "markdown",
   "metadata": {},
   "source": [
    "### 3.3.4. Training WideResNet in CF100 with Data Augmentation with Cutout"
   ],
   "id": "5a927dd9-b2a2-454f-982f-4855a03483f4"
  },
  {
   "cell_type": "markdown",
   "metadata": {},
   "source": [
    "Image Processing for CIFAR-100"
   ],
   "id": "04223fa1-969e-4086-b36e-2f2b0d0f8d1e"
  },
  {
   "cell_type": "code",
   "execution_count": null,
   "metadata": {},
   "outputs": [],
   "source": [
    "# Image Preprocessing\n",
    "\n",
    "normalize_image_cifar100 = transforms.Normalize(mean=[x / 255.0 for x in [125.3, 123.0, 113.9]], \n",
    "std=[x / 255.0 for x in [63.0, 62.1, 66.7]])\n",
    "\n",
    "train_transform_cifar100_da_co = transforms.Compose([])\n",
    "train_transform_cifar100_da_co.transforms.append(transforms.RandomCrop(32, padding=4))\n",
    "train_transform_cifar100_da_co.transforms.append(transforms.RandomHorizontalFlip())\n",
    "train_transform_cifar100_da_co.transforms.append(transforms.ToTensor())\n",
    "train_transform_cifar100_da_co.transforms.append(normalize_image_cifar100)\n",
    "\n",
    "#Add Cutout to the image transformer pipeline\n",
    "n_holes_cifar100_da_co = 1\n",
    "length_cifar100_da_co = 8\n",
    "train_transform_cifar100_da_co.transforms.append(Cutout(n_holes=n_holes_cifar100_da_co, length=length_cifar100_da_co))\n",
    "\n",
    "\n",
    "test_transform_cifar100 = transforms.Compose([\n",
    "    transforms.ToTensor(),\n",
    "    normalize_image_cifar100])"
   ],
   "id": "2334726b-12bd-4920-af4c-4d0df9394a2f"
  },
  {
   "cell_type": "markdown",
   "metadata": {},
   "source": [
    "Import the dataset of CIFAR-100"
   ],
   "id": "f1468b3f-fb64-4314-8073-30ffbab1d7ea"
  },
  {
   "cell_type": "code",
   "execution_count": null,
   "metadata": {},
   "outputs": [],
   "source": [
    "train_dataset_cifar100_da_co = datasets.CIFAR100(root=current_path + 'data/',\n",
    "                                     train=True,\n",
    "                                     transform=train_transform_cifar100_da_co,\n",
    "                                     download=True)\n",
    "\n",
    "test_dataset_cifar100 = datasets.CIFAR100(root=current_path + 'data/',\n",
    "                                    train=False,\n",
    "                                    transform=test_transform_cifar100,\n",
    "                                    download=True)"
   ],
   "id": "3b5ad1b6-4d39-4c34-959c-6d18f53fba36"
  },
  {
   "cell_type": "markdown",
   "metadata": {},
   "source": [
    "Create Dataset CIFAR-100 with Cutout and Data Augmentation as Dataloader"
   ],
   "id": "19cb69d1-76df-42d2-b8f6-ce2cab5f7617"
  },
  {
   "cell_type": "code",
   "execution_count": null,
   "metadata": {},
   "outputs": [],
   "source": [
    "# Data Loader (Input Pipeline)\n",
    "batch_size_cifar100_da_co = 128\n",
    "train_loader_cifar100_da_co = torch.utils.data.DataLoader(dataset=train_dataset_cifar100_da_co,\n",
    "                                           batch_size=batch_size_cifar100_da_co,\n",
    "                                           shuffle=True,\n",
    "                                           pin_memory=True,\n",
    "                                           num_workers=2)\n",
    "\n",
    "test_loader_cifar100 = torch.utils.data.DataLoader(dataset=test_dataset_cifar100,\n",
    "                                          batch_size=batch_size_cifar100_da_co,\n",
    "                                          shuffle=False,\n",
    "                                          pin_memory=True,\n",
    "                                          num_workers=2)"
   ],
   "id": "1a624c91-299a-48b8-9067-53821f147d38"
  },
  {
   "cell_type": "markdown",
   "metadata": {},
   "source": [
    "Define the model of WideResNet for CIFAR-100 with Data Augmentation and Cutout"
   ],
   "id": "2b98ddcb-43a6-4adb-86c5-b28d5fc13894"
  },
  {
   "cell_type": "markdown",
   "metadata": {},
   "source": [
    "This code block sets up the machine learning model, loss function, optimizer, and learning rate scheduler."
   ],
   "id": "2284e254-1315-4274-baf6-e73c6e4e6bf2"
  },
  {
   "cell_type": "code",
   "execution_count": null,
   "metadata": {},
   "outputs": [],
   "source": [
    "#file_name will be the used for the name of the file of weight of the model and also the result\n",
    "file_name_wideresnet_cifar100_da_cutout = \"wideresnet_cifar100_da_cutout\"\n",
    "\n",
    "num_classes_cifar100 = 100\n",
    "wideresnet_cifar100_da_cutout = WideResNet(depth=28, num_classes=num_classes_cifar100, widen_factor=10, dropRate=0.3)\n",
    "\n",
    "\n",
    "wideresnet_cifar100_da_cutout = wideresnet_cifar100_da_cutout.cuda()\n",
    "learning_rate_cifar100_da_cutout = 0.1\n",
    "criterion_cifar100_da_cutout = nn.CrossEntropyLoss().cuda()\n",
    "cnn_optimizer_cifar100_da_cutout = torch.optim.SGD(wideresnet_cifar100_da_cutout.parameters(), lr=learning_rate_cifar100_da_cutout,\n",
    "                                momentum=0.9, nesterov=True, weight_decay=5e-4)\n",
    "scheduler_cifar100_da_cutout = MultiStepLR(cnn_optimizer_cifar100_da_cutout, milestones=[60, 120, 160], gamma=0.2)"
   ],
   "id": "066b84f5-b849-4aba-a405-61e8c14e5185"
  },
  {
   "cell_type": "markdown",
   "metadata": {},
   "source": [
    "Training WideResNet for CIFAR-100 with Data Augmentation and Cutout"
   ],
   "id": "c0177a4d-f89f-4ec5-8658-dc53417adf27"
  },
  {
   "cell_type": "markdown",
   "metadata": {},
   "source": [
    "This code runs the training loop for the chosen machine learning model over a specified number of epochs. Each epoch involves a forward pass, loss computation, backpropagation, and parameter updates. It also calculates and displays the training accuracy and cross-entropy loss. At the end of each epoch, the model’s performance is evaluated on the test set, and the results are logged and saved."
   ],
   "id": "2a79d37f-9377-4670-bee4-1c842901b915"
  },
  {
   "cell_type": "code",
   "execution_count": null,
   "metadata": {},
   "outputs": [],
   "source": [
    "epochs = 200\n",
    "for epoch in range(epochs):\n",
    "\n",
    "    xentropy_loss_avg = 0.\n",
    "    correct = 0.\n",
    "    total = 0.\n",
    "\n",
    "    progress_bar = tqdm(train_loader_cifar100_da_co)\n",
    "    for i, (images, labels) in enumerate(progress_bar):\n",
    "        progress_bar.set_description('Epoch ' + str(epoch))\n",
    "\n",
    "        images = images.cuda()\n",
    "        labels = labels.cuda()\n",
    "\n",
    "        wideresnet_cifar100_da_cutout.zero_grad()\n",
    "        pred = wideresnet_cifar100_da_cutout(images)\n",
    "\n",
    "        xentropy_loss = criterion_cifar100_da_cutout(pred, labels)\n",
    "        xentropy_loss.backward()\n",
    "        cnn_optimizer_cifar100_da_cutout.step()\n",
    "\n",
    "        xentropy_loss_avg += xentropy_loss.item()\n",
    "\n",
    "        # Calculate running average of accuracy\n",
    "        pred = torch.max(pred.data, 1)[1]\n",
    "        total += labels.size(0)\n",
    "        correct += (pred == labels.data).sum().item()\n",
    "        accuracy = correct / total\n",
    "\n",
    "        progress_bar.set_postfix(\n",
    "            xentropy='%.3f' % (xentropy_loss_avg / (i + 1)),\n",
    "            acc='%.3f' % accuracy)\n",
    "\n",
    "    test_acc_cifar100_da_cutout = test(test_loader_cifar100,wideresnet_cifar100_da_cutout)\n",
    "    tqdm.write('test_acc: %.3f' % (test_acc_cifar100_da_cutout))\n",
    "    scheduler_cifar100_da_cutout.step()     \n",
    "torch.save(wideresnet_cifar100_da_cutout.state_dict(), current_path + 'checkpoints/' + file_name_wideresnet_cifar100_da_cutout + '.pt')\n",
    "\n",
    "\n",
    "final_test_acc_wideresnet_cifar100_da_cutout = (1 - test(test_loader_cifar100,wideresnet_cifar100_da_cutout))*100\n",
    "print('Test error rates (%) on  WideResNet using Data Augmentation and  Cutout for CIFAR-100 Test Dataset: %.3f' % (final_test_acc_wideresnet_cifar100_da_cutout))"
   ],
   "id": "a461a60d-65b3-4f25-a179-6ff72269c9ad"
  },
  {
   "cell_type": "code",
   "execution_count": null,
   "metadata": {},
   "outputs": [],
   "source": [
    "print('Test error rates (%) on  WideResNet without Cutout for Test CIFAR-100 Dataset: %.3f' % (final_test_acc_wideresnet_cifar100))\n",
    "print('Test error rates (%) on  WideResNet using Cutout for CIFAR-100 Test Dataset: %.3f' % (final_test_acc_wideresnet_cifar100_cutout))\n",
    "print('Test error rates (%) on  WideResNet using Data Augmentation for CIFAR-100 Test Dataset: %.3f' % (final_test_acc_wideresnet_cifar100_da))\n",
    "print('Test error rates (%) on  WideResNet using Data Augmentation and  Cutout for CIFAR-100 Test Dataset: %.3f' % (final_test_acc_wideresnet_cifar100_da_cutout))"
   ],
   "id": "0b149119-37c8-436a-b987-9ca355dd2868"
  },
  {
   "cell_type": "markdown",
   "metadata": {},
   "source": [
    "## 3.4 Training WideResNet in SVHN"
   ],
   "id": "4db88b68-3fd6-4745-ad12-fd9e9c768d5a"
  },
  {
   "cell_type": "markdown",
   "metadata": {},
   "source": [
    "### 3.4.1. Training WideResNet in SVHN without Cutout"
   ],
   "id": "0e9391ab-fc74-496e-94b2-ac2d8ff02a66"
  },
  {
   "cell_type": "markdown",
   "metadata": {},
   "source": [
    "Image Processing for SVHN"
   ],
   "id": "b9c69dc9-97c3-4920-b413-3b061039ec9e"
  },
  {
   "cell_type": "code",
   "execution_count": null,
   "metadata": {},
   "outputs": [],
   "source": [
    "# Image Preprocessing\n",
    "\n",
    "normalize_image_svhn = transforms.Normalize(mean=[x / 255.0 for x in[109.9, 109.7, 113.8]],\n",
    "std=[x / 255.0 for x in [50.1, 50.6, 50.8]])\n",
    "\n",
    "train_transform_svhn = transforms.Compose([])\n",
    "\n",
    "train_transform_svhn.transforms.append(transforms.ToTensor())\n",
    "train_transform_svhn.transforms.append(normalize_image_svhn)\n",
    "\n",
    "\n",
    "\n",
    "test_transform_svhn = transforms.Compose([\n",
    "    transforms.ToTensor(),\n",
    "    normalize_image_svhn])"
   ],
   "id": "899b809d-0c28-463e-a3a9-9707419fc529"
  },
  {
   "cell_type": "markdown",
   "metadata": {},
   "source": [
    "Import the dataset of SVHN"
   ],
   "id": "0c557f5b-d7f4-457e-8200-cce7bfe08ce4"
  },
  {
   "cell_type": "code",
   "execution_count": null,
   "metadata": {},
   "outputs": [],
   "source": [
    "train_dataset_svhn = datasets.SVHN(root=current_path + 'data/',\n",
    "                                    split='train',\n",
    "                                    transform=train_transform_svhn,\n",
    "                                    download=True)\n",
    "\n",
    "extra_dataset_svhn = datasets.SVHN(root=current_path + 'data/',\n",
    "                                    split='extra',\n",
    "                                    transform=train_transform_svhn,\n",
    "                                    download=True)\n",
    "\n",
    "# Combine both training splits (https://arxiv.org/pdf/1605.07146.pdf)\n",
    "data_svhn = np.concatenate([train_dataset_svhn.data, extra_dataset_svhn.data], axis=0)\n",
    "labels_svhn = np.concatenate([train_dataset_svhn.labels, extra_dataset_svhn.labels], axis=0)\n",
    "train_dataset_svhn.data = data_svhn\n",
    "train_dataset_svhn.labels = labels_svhn\n",
    "\n",
    "test_dataset_svhn = datasets.SVHN(root=current_path + 'data/',\n",
    "                                  split='test',\n",
    "                                  transform=test_transform_svhn,\n",
    "                                  download=True)"
   ],
   "id": "b14cd259-8ca9-47b8-86f6-0f82bf2acc3f"
  },
  {
   "cell_type": "markdown",
   "metadata": {},
   "source": [
    "Create Dataset SVHN as Dataloader"
   ],
   "id": "2413d383-2d3b-4c83-b67b-22b895509447"
  },
  {
   "cell_type": "code",
   "execution_count": null,
   "metadata": {},
   "outputs": [],
   "source": [
    "# Data Loader (Input Pipeline)\n",
    "batch_size_svhn = 128\n",
    "train_loader_svhn = torch.utils.data.DataLoader(dataset=train_dataset_svhn,\n",
    "                                           batch_size=batch_size_svhn,\n",
    "                                           shuffle=True,\n",
    "                                           pin_memory=True,\n",
    "                                           num_workers=2)\n",
    "\n",
    "test_loader_svhn = torch.utils.data.DataLoader(dataset=test_dataset_svhn,\n",
    "                                          batch_size=batch_size_svhn,\n",
    "                                          shuffle=False,\n",
    "                                          pin_memory=True,\n",
    "                                          num_workers=2)"
   ],
   "id": "9edf0990-e274-4eed-9ef6-ead437fbc1ab"
  },
  {
   "cell_type": "markdown",
   "metadata": {},
   "source": [
    "Define the model of WideResNet for SVHN"
   ],
   "id": "369dc109-ce8e-424c-81f4-0c93f26706e8"
  },
  {
   "cell_type": "markdown",
   "metadata": {},
   "source": [
    "This code block sets up the machine learning model, loss function, optimizer, and learning rate scheduler."
   ],
   "id": "965ee745-116f-4ba0-8a7b-147c172a6bc1"
  },
  {
   "cell_type": "code",
   "execution_count": null,
   "metadata": {},
   "outputs": [],
   "source": [
    "#file_name will be the used for the name of the file of weight of the model and also the result\n",
    "file_name_wideresnet_svhn = \"wideresnet_svhn\"\n",
    "\n",
    "num_classes_svhn = 10\n",
    "wideresnet_svhn = WideResNet(depth=16, num_classes=num_classes_svhn, widen_factor=8,dropRate=0.4)\n",
    "\n",
    "\n",
    "wideresnet_svhn = wideresnet_svhn.cuda()\n",
    "learning_rate_wideresnet_svhn = 0.01\n",
    "criterion_wideresnet_svhn = nn.CrossEntropyLoss().cuda()\n",
    "cnn_optimizer_wideresnet_svhn = torch.optim.SGD(wideresnet_svhn.parameters(), lr=learning_rate_wideresnet_svhn,\n",
    "                                momentum=0.9, nesterov=True, weight_decay=5e-4)\n",
    "scheduler_wideresnet_svhn = MultiStepLR(cnn_optimizer_wideresnet_svhn, milestones=[80, 120], gamma=0.1)"
   ],
   "id": "381095e6-33a2-4864-bab1-980a4633a3a6"
  },
  {
   "cell_type": "markdown",
   "metadata": {},
   "source": [
    "Training WideResNet for SVHN without Cutout"
   ],
   "id": "3720922f-7431-43dc-8c66-0bd7ee02544c"
  },
  {
   "cell_type": "markdown",
   "metadata": {},
   "source": [
    "This code runs the training loop for the chosen machine learning model over a specified number of epochs. Each epoch involves a forward pass, loss computation, backpropagation, and parameter updates. It also calculates and displays the training accuracy and cross-entropy loss. At the end of each epoch, the model’s performance is evaluated on the test set, and the results are logged and saved."
   ],
   "id": "47ca4aba-9d05-44d5-b27f-28c5bd0bec3a"
  },
  {
   "cell_type": "code",
   "execution_count": null,
   "metadata": {},
   "outputs": [],
   "source": [
    "epochs = 160\n",
    "for epoch in range(epochs):\n",
    "\n",
    "    xentropy_loss_avg = 0.\n",
    "    correct = 0.\n",
    "    total = 0.\n",
    "\n",
    "    progress_bar = tqdm(train_loader_svhn)\n",
    "    for i, (images, labels) in enumerate(progress_bar):\n",
    "        progress_bar.set_description('Epoch ' + str(epoch))\n",
    "\n",
    "        images = images.cuda()\n",
    "        labels = labels.cuda()\n",
    "\n",
    "        wideresnet_svhn.zero_grad()\n",
    "        pred = wideresnet_svhn(images)\n",
    "\n",
    "        xentropy_loss = criterion_wideresnet_svhn(pred, labels)\n",
    "        xentropy_loss.backward()\n",
    "        cnn_optimizer_wideresnet_svhn.step()\n",
    "\n",
    "        xentropy_loss_avg += xentropy_loss.item()\n",
    "\n",
    "        # Calculate running average of accuracy\n",
    "        pred = torch.max(pred.data, 1)[1]\n",
    "        total += labels.size(0)\n",
    "        correct += (pred == labels.data).sum().item()\n",
    "        accuracy = correct / total\n",
    "\n",
    "        progress_bar.set_postfix(\n",
    "            xentropy='%.3f' % (xentropy_loss_avg / (i + 1)),\n",
    "            acc='%.3f' % accuracy)\n",
    "\n",
    "    test_accr_wideresnet_svhn = test(test_loader_svhn, wideresnet_svhn)\n",
    "    tqdm.write('test_acc: %.3f' % (test_accr_wideresnet_svhn))\n",
    "\n",
    "    scheduler_wideresnet_svhn.step()     \n",
    "\n",
    "    \n",
    "torch.save(wideresnet_svhn.state_dict(), current_path + 'checkpoints/' + file_name_wideresnet_svhn + '.pt')\n",
    "\n",
    "\n",
    "final_test_acc_wideresnet_svhn = (1 - test(test_loader_svhn, wideresnet_svhn))*100\n",
    "print('Test error rates (%) on  WideResNet without Cutout for Test SVHN Dataset: %.3f' % (final_test_acc_wideresnet_svhn))"
   ],
   "id": "4afdd5e0-725d-4f1c-8efa-15ea553b4f56"
  },
  {
   "cell_type": "markdown",
   "metadata": {},
   "source": [
    "### 3.4.2. Training WideResNet in SVHN with Cutout"
   ],
   "id": "1a431ca9-bc15-4910-b245-6cbf5c8a81dc"
  },
  {
   "cell_type": "markdown",
   "metadata": {},
   "source": [
    "Image Processing for SVHN"
   ],
   "id": "829e8636-2685-4205-b625-baaeed87886b"
  },
  {
   "cell_type": "code",
   "execution_count": null,
   "metadata": {},
   "outputs": [],
   "source": [
    "# Image Preprocessing\n",
    "\n",
    "normalize_image_svhn = transforms.Normalize(mean=[x / 255.0 for x in[109.9, 109.7, 113.8]], \n",
    "std=[x / 255.0 for x in [50.1, 50.6, 50.8]])\n",
    "\n",
    "train_transform_svhn_cutout = transforms.Compose([])\n",
    "\n",
    "train_transform_svhn_cutout.transforms.append(transforms.ToTensor())\n",
    "train_transform_svhn_cutout.transforms.append(normalize_image_svhn)\n",
    "\n",
    "#Add Cutout to the image transformer pipeline\n",
    "n_holes_svhn = 1\n",
    "length_svhn = 20\n",
    "train_transform_svhn_cutout.transforms.append(Cutout(n_holes=n_holes_svhn, length=length_svhn))\n",
    "\n",
    "\n",
    "test_transform_svhn = transforms.Compose([\n",
    "    transforms.ToTensor(),\n",
    "    normalize_image_svhn])"
   ],
   "id": "3d0444c2-3cf6-4039-8acc-50d6547e95c0"
  },
  {
   "cell_type": "markdown",
   "metadata": {},
   "source": [
    "Import the dataset of SVHN"
   ],
   "id": "48d78d68-0341-4f49-98d0-7608fb2c54b0"
  },
  {
   "cell_type": "code",
   "execution_count": null,
   "metadata": {},
   "outputs": [],
   "source": [
    "train_dataset_svhn_cutout = datasets.SVHN(root=current_path + 'data/',\n",
    "                                    split='train',\n",
    "                                    transform=train_transform_svhn_cutout,\n",
    "                                    download=True)\n",
    "\n",
    "extra_dataset_svhn_cutout = datasets.SVHN(root=current_path + 'data/',\n",
    "                                    split='extra',\n",
    "                                    transform=train_transform_svhn_cutout,\n",
    "                                    download=True)\n",
    "\n",
    "# Combine both training splits (https://arxiv.org/pdf/1605.07146.pdf)\n",
    "data_svhn_cutout = np.concatenate([train_dataset_svhn_cutout.data, extra_dataset_svhn_cutout.data], axis=0)\n",
    "labels_svhn_cutout = np.concatenate([train_dataset_svhn_cutout.labels, extra_dataset_svhn_cutout.labels], axis=0)\n",
    "train_dataset_svhn_cutout.data = data_svhn_cutout\n",
    "train_dataset_svhn_cutout.labels = labels_svhn_cutout\n",
    "\n",
    "test_dataset_svhn = datasets.SVHN(root=current_path + 'data/',\n",
    "                                  split='test',\n",
    "                                  transform=test_transform_svhn,\n",
    "                                  download=True)"
   ],
   "id": "086285a6-3b81-47c3-98c5-e298dccbf834"
  },
  {
   "cell_type": "markdown",
   "metadata": {},
   "source": [
    "Create Dataset SVHN with Cutout as Dataloader"
   ],
   "id": "96136805-aeda-4349-91e3-40ff7e63f48d"
  },
  {
   "cell_type": "code",
   "execution_count": null,
   "metadata": {},
   "outputs": [],
   "source": [
    "# Data Loader (Input Pipeline)\n",
    "batch_size_svhn_cutout = 128\n",
    "train_loader_svhn_cutout = torch.utils.data.DataLoader(dataset=train_dataset_svhn_cutout,\n",
    "                                           batch_size=batch_size_svhn_cutout,\n",
    "                                           shuffle=True,\n",
    "                                           pin_memory=True,\n",
    "                                           num_workers=2)\n",
    "\n",
    "test_loader_svhn = torch.utils.data.DataLoader(dataset=test_dataset_svhn,\n",
    "                                          batch_size=batch_size_svhn_cutout,\n",
    "                                          shuffle=False,\n",
    "                                          pin_memory=True,\n",
    "                                          num_workers=2)"
   ],
   "id": "b0efbaba-87f2-4db0-9bcb-13f7e90b8d72"
  },
  {
   "cell_type": "markdown",
   "metadata": {},
   "source": [
    "Define the model WideResNet for SVHN with Cutout"
   ],
   "id": "6ec38c74-981c-4694-9d56-6457d88758e8"
  },
  {
   "cell_type": "markdown",
   "metadata": {},
   "source": [
    "This code block sets up the machine learning model, loss function, optimizer, and learning rate scheduler."
   ],
   "id": "a425350f-b0af-4b36-9d5a-9246fc8ab519"
  },
  {
   "cell_type": "code",
   "execution_count": null,
   "metadata": {},
   "outputs": [],
   "source": [
    "#file_name will be the used for the name of the file of weight of the model and also the result\n",
    "file_name_wideresnet_svhn_cutout = \"wideresnet_svhn_cutout\"\n",
    "\n",
    "num_classes_svhn = 10\n",
    "wideresnet_svhn_cutout = WideResNet(depth=16, num_classes=num_classes_svhn, widen_factor=8,dropRate=0.4)\n",
    "\n",
    "\n",
    "wideresnet_svhn_cutout = wideresnet_svhn_cutout.cuda()\n",
    "learning_rate_wideresnet_svhn_cutout = 0.01\n",
    "criterion_wideresnet_svhn_cutout = nn.CrossEntropyLoss().cuda()\n",
    "cnn_optimizer_wideresnet_svhn_cutout = torch.optim.SGD(wideresnet_svhn_cutout.parameters(), lr=learning_rate_wideresnet_svhn_cutout,\n",
    "                                momentum=0.9, nesterov=True, weight_decay=5e-4)\n",
    "scheduler_wideresnet_svhn_cutout = MultiStepLR(cnn_optimizer_wideresnet_svhn_cutout, milestones=[80, 120], gamma=0.1)"
   ],
   "id": "9751537c-8795-4a51-a793-3a6ed3bca9a2"
  },
  {
   "cell_type": "markdown",
   "metadata": {},
   "source": [
    "Training WideResNet for SVHN with Cutout"
   ],
   "id": "21debb4f-0e6a-47ce-81fe-1ba479ceeada"
  },
  {
   "cell_type": "markdown",
   "metadata": {},
   "source": [
    "This code runs the training loop for the chosen machine learning model over a specified number of epochs. Each epoch involves a forward pass, loss computation, backpropagation, and parameter updates. It also calculates and displays the training accuracy and cross-entropy loss. At the end of each epoch, the model’s performance is evaluated on the test set, and the results are logged and saved."
   ],
   "id": "e5531c4c-18fb-4a8d-8264-cec971158ea1"
  },
  {
   "cell_type": "code",
   "execution_count": null,
   "metadata": {},
   "outputs": [],
   "source": [
    "epochs = 160\n",
    "for epoch in range(epochs):\n",
    "\n",
    "    xentropy_loss_avg = 0.\n",
    "    correct = 0.\n",
    "    total = 0.\n",
    "\n",
    "    progress_bar = tqdm(train_loader_svhn_cutout)\n",
    "    for i, (images, labels) in enumerate(progress_bar):\n",
    "        progress_bar.set_description('Epoch ' + str(epoch))\n",
    "\n",
    "        images = images.cuda()\n",
    "        labels = labels.cuda()\n",
    "\n",
    "        wideresnet_svhn_cutout.zero_grad()\n",
    "        pred = wideresnet_svhn_cutout(images)\n",
    "\n",
    "        xentropy_loss = criterion_wideresnet_svhn_cutout(pred, labels)\n",
    "        xentropy_loss.backward()\n",
    "        cnn_optimizer_wideresnet_svhn_cutout.step()\n",
    "\n",
    "        xentropy_loss_avg += xentropy_loss.item()\n",
    "\n",
    "        # Calculate running average of accuracy\n",
    "        pred = torch.max(pred.data, 1)[1]\n",
    "        total += labels.size(0)\n",
    "        correct += (pred == labels.data).sum().item()\n",
    "        accuracy = correct / total\n",
    "\n",
    "        progress_bar.set_postfix(\n",
    "            xentropy='%.3f' % (xentropy_loss_avg / (i + 1)),\n",
    "            acc='%.3f' % accuracy)\n",
    "\n",
    "    test_acc_svhn = test(test_loader_svhn,wideresnet_svhn_cutout)\n",
    "    tqdm.write('test_acc: %.3f' % (test_acc_svhn))\n",
    "    scheduler_wideresnet_svhn_cutout.step()     \n",
    "torch.save(wideresnet_svhn_cutout.state_dict(), current_path + 'checkpoints/' + file_name_wideresnet_svhn_cutout + '.pt')\n",
    "\n",
    "\n",
    "final_test_acc_wideresnet_svhn_cutout = (1 - test(test_loader_svhn,wideresnet_svhn_cutout))*100\n",
    "print('Test error rates (%) on  WideResNet using Cutout for SVHN Test Dataset: %.3f' % (final_test_acc_wideresnet_svhn_cutout))"
   ],
   "id": "9011153f-c1ed-4721-807a-9af6d05bef24"
  },
  {
   "cell_type": "code",
   "execution_count": null,
   "metadata": {},
   "outputs": [],
   "source": [
    "print('Test error rates (%) on  WideResNet without Cutout for Test SVHN Dataset: %.3f' % (final_test_acc_wideresnet_svhn))\n",
    "print('Test error rates (%) on  WideResNet using Cutout for SVHN Test Dataset: %.3f' % (final_test_acc_wideresnet_svhn_cutout))"
   ],
   "id": "0a286011-dff5-4a56-9f1b-f0c13632d9a5"
  },
  {
   "cell_type": "markdown",
   "metadata": {},
   "source": [
    "# 04. Grad-CAM"
   ],
   "id": "c13399c3-68f8-4f3f-b802-29cbd9ea769a"
  },
  {
   "cell_type": "markdown",
   "metadata": {},
   "source": [
    "###### What is Grad-CAM?\n",
    "\n",
    "Grad-CAM (Gradient-weighted Class Activation Mapping) is a technique that provides visual explanations for decisions made by Convolutional Neural Network (CNN) models. It uses the gradients of any target concept, flowing into the final convolutional layer to produce a coarse localization map highlighting the important regions in the image for predicting the concept.\n",
    "\n",
    "Grad-CAM is not limited to a specific architecture, it can be applied to a wide range of CNN models without any changes to their existing structure or requiring re-training. It’s also class-discriminative, allowing it to effectively manage multi-label scenarios.\n",
    "\n",
    "By visualizing the model’s focus areas with Grad-CAM, we can assess how effectively Cutout is encouraging the model to use a broader range of features. For example, if a model trained with Cutout still primarily focuses on a single region, that might suggest the Cutout squares are too small, or not numerous enough. Conversely, if the focus areas are well spread across the image, it would confirm that Cutout is indeed pushing the model to generalize better.\n",
    "\n",
    "If you want to understand more about Grad-CAM? Check this paper (https://arxiv.org/abs/1610.02391)"
   ],
   "id": "8625f5f2-edd0-4d7e-9f56-405b274d39c8"
  },
  {
   "cell_type": "markdown",
   "metadata": {},
   "source": [
    "## Import Library"
   ],
   "id": "fb3c81eb-07ad-4f56-892f-50e31d61b79d"
  },
  {
   "cell_type": "code",
   "execution_count": null,
   "metadata": {},
   "outputs": [],
   "source": [
    "import torch\n",
    "import torch.nn as nn\n",
    "import torch.nn.functional as F\n",
    "from torch.autograd import Variable\n",
    "import torch.backends.cudnn as cudnn\n",
    "from torch.optim.lr_scheduler import MultiStepLR\n",
    "from torchvision import datasets, transforms\n",
    "import numpy as np\n",
    "import os\n",
    "from tqdm import tqdm\n",
    "import math\n",
    "import cv2\n",
    "import matplotlib.pyplot as plt\n",
    "from PIL import Image"
   ],
   "id": "a8492dee-5064-4b39-a286-6c8fbcbc392a"
  },
  {
   "cell_type": "markdown",
   "metadata": {},
   "source": [
    "Check Cuda GPU availability and set seed number"
   ],
   "id": "0ee4d3a7-94ad-4174-b747-ff9133418e02"
  },
  {
   "cell_type": "code",
   "execution_count": null,
   "metadata": {},
   "outputs": [],
   "source": [
    "cuda = torch.cuda.is_available()\n",
    "print(cuda)\n",
    "cudnn.benchmark = True  # Should make training should go faster for large models\n",
    "\n",
    "seed = 1\n",
    "torch.manual_seed(seed)\n",
    "np.random.seed(seed)"
   ],
   "id": "4c9bc584-33b6-411f-9584-ba538ff4ec7b"
  },
  {
   "cell_type": "markdown",
   "metadata": {},
   "source": [
    "If you are using Google Colab, here’s a step-by-step how to connect with your google drive:\n",
    "\n",
    "1.  On the left sidebar of the Colab notebook interface, you will see a folder icon with the Google Drive logo. Click on this folder icon to open the file explorer.\n",
    "\n",
    "2.  If you haven’t connected your Google Drive to Colab yet, it will prompt you to do so. Click the “Mount Drive” button to connect your Google Drive to Colab.\n",
    "\n",
    "3.  Once your Google Drive is mounted, you can use the file explorer to navigate to the file you want to open. Click on the folders to explore the contents of your Google Drive.\n",
    "\n",
    "4.  When you find the file you want to open, click the three dots next to the name of the file in the file explorer. From the options that appear, choose “Copy path.” This action will copy the full path of the file to your clipboard. Paste the copy path into the ‘current_path’ below."
   ],
   "id": "f31df416-98d0-42c6-9781-104b5bceeb25"
  },
  {
   "cell_type": "code",
   "execution_count": null,
   "metadata": {},
   "outputs": [],
   "source": [
    "current_path =\"./\""
   ],
   "id": "02b32718-825a-48f6-9e86-0fed7b44b0b6"
  },
  {
   "cell_type": "markdown",
   "metadata": {},
   "source": [
    "## 4.2 Implementation Grad-CAM for ResNet Model"
   ],
   "id": "8975dfb7-0ccc-4e2e-a99d-a3569145e740"
  },
  {
   "cell_type": "markdown",
   "metadata": {},
   "source": [
    "This is the code of the ResNet18 Architecture and it is the similar to the code we introduced earlier in the section about ResNet18, but we added hook layers. Hook layers are inserted at specific layers of the model to capture the intermediate feature maps. These feature maps represent the learned activations of the model as it processes the input image. GRAD-CAM uses these activations to understand which parts of the image are contributing the most to the final prediction."
   ],
   "id": "2de610e3-b130-43de-b2c8-0b7d18c8566e"
  },
  {
   "cell_type": "code",
   "execution_count": null,
   "metadata": {},
   "outputs": [],
   "source": [
    "\n",
    "# ResNet\n",
    "# From https://github.com/uoguelph-mlrg/Cutout/blob/master/model/resnet.py\n",
    "\n",
    "def conv3x3(in_planes, out_planes, stride=1):\n",
    "    return nn.Conv2d(in_planes, out_planes, kernel_size=3, stride=stride, padding=1, bias=False)\n",
    "\n",
    "\n",
    "class BasicBlock(nn.Module):\n",
    "    expansion = 1\n",
    "\n",
    "    def __init__(self, in_planes, planes, stride=1):\n",
    "        super(BasicBlock, self).__init__()\n",
    "        self.conv1 = conv3x3(in_planes, planes, stride)\n",
    "        self.bn1 = nn.BatchNorm2d(planes)\n",
    "        self.conv2 = conv3x3(planes, planes)\n",
    "        self.bn2 = nn.BatchNorm2d(planes)\n",
    "\n",
    "        self.shortcut = nn.Sequential()\n",
    "        if stride != 1 or in_planes != self.expansion*planes:\n",
    "            self.shortcut = nn.Sequential(\n",
    "                nn.Conv2d(in_planes, self.expansion*planes, kernel_size=1, stride=stride, bias=False),\n",
    "                nn.BatchNorm2d(self.expansion*planes)\n",
    "            )\n",
    "\n",
    "    def forward(self, x):\n",
    "        out = F.relu(self.bn1(self.conv1(x)))\n",
    "        out = self.bn2(self.conv2(out))\n",
    "        out += self.shortcut(x)\n",
    "        out = F.relu(out)\n",
    "        return out\n",
    "\n",
    "\n",
    "class Bottleneck(nn.Module):\n",
    "    expansion = 4\n",
    "\n",
    "    def __init__(self, in_planes, planes, stride=1):\n",
    "        super(Bottleneck, self).__init__()\n",
    "        self.conv1 = nn.Conv2d(in_planes, planes, kernel_size=1, bias=False)\n",
    "        self.bn1 = nn.BatchNorm2d(planes)\n",
    "        self.conv2 = nn.Conv2d(planes, planes, kernel_size=3, stride=stride, padding=1, bias=False)\n",
    "        self.bn2 = nn.BatchNorm2d(planes)\n",
    "        self.conv3 = nn.Conv2d(planes, self.expansion*planes, kernel_size=1, bias=False)\n",
    "        self.bn3 = nn.BatchNorm2d(self.expansion*planes)\n",
    "\n",
    "        self.shortcut = nn.Sequential()\n",
    "        if stride != 1 or in_planes != self.expansion*planes:\n",
    "            self.shortcut = nn.Sequential(\n",
    "                nn.Conv2d(in_planes, self.expansion*planes, kernel_size=1, stride=stride, bias=False),\n",
    "                nn.BatchNorm2d(self.expansion*planes)\n",
    "            )\n",
    "\n",
    "    def forward(self, x):\n",
    "        out = F.relu(self.bn1(self.conv1(x)))\n",
    "        out = F.relu(self.bn2(self.conv2(out)))\n",
    "        out = self.bn3(self.conv3(out))\n",
    "        out += self.shortcut(x)\n",
    "        out = F.relu(out)\n",
    "        return out\n",
    "\n",
    "\n",
    "class ResNet(nn.Module):\n",
    "    def __init__(self, block, num_blocks, num_classes=10):\n",
    "        super(ResNet, self).__init__()\n",
    "        self.in_planes = 64\n",
    "\n",
    "        self.conv1 = conv3x3(3,64)\n",
    "        self.bn1 = nn.BatchNorm2d(64)\n",
    "        self.layer1 = self._make_layer(block, 64, num_blocks[0], stride=1)\n",
    "        self.layer2 = self._make_layer(block, 128, num_blocks[1], stride=2)\n",
    "        self.layer3 = self._make_layer(block, 256, num_blocks[2], stride=2)\n",
    "        self.layer4 = self._make_layer(block, 512, num_blocks[3], stride=2)\n",
    "        self.linear = nn.Linear(512*block.expansion, num_classes)\n",
    "\n",
    "        # Register hooks for Grad-CAM\n",
    "        self.gradients = None\n",
    "        self.activations = None\n",
    "        self.layer4.register_forward_hook(self._store_activations_hook)\n",
    "        self.layer4.register_backward_hook(self._store_gradients_hook)\n",
    "\n",
    "    def _store_activations_hook(self, module, input, output):\n",
    "        self.activations = output\n",
    "\n",
    "    def _store_gradients_hook(self, module, grad_input, grad_output):\n",
    "        self.gradients = grad_output[0]\n",
    "\n",
    "    def _make_layer(self, block, planes, num_blocks, stride):\n",
    "        strides = [stride] + [1]*(num_blocks-1)\n",
    "        layers = []\n",
    "        for stride in strides:\n",
    "            layers.append(block(self.in_planes, planes, stride))\n",
    "            self.in_planes = planes * block.expansion\n",
    "        return nn.Sequential(*layers)\n",
    "\n",
    "    def forward(self, x):\n",
    "        out = F.relu(self.bn1(self.conv1(x)))\n",
    "        out = self.layer1(out)\n",
    "        out = self.layer2(out)\n",
    "        out = self.layer3(out)\n",
    "        out = self.layer4(out) \n",
    "        out = F.avg_pool2d(out, 4)\n",
    "        out = out.view(out.size(0), -1)\n",
    "        out = self.linear(out)\n",
    "        return out\n",
    "\n",
    "def ResNet18(num_classes=10):\n",
    "    return ResNet(BasicBlock, [2,2,2,2], num_classes)"
   ],
   "id": "2923b3de-2463-4ad8-b6ab-16685610fd63"
  },
  {
   "cell_type": "markdown",
   "metadata": {},
   "source": [
    "## 4.2.1 Implementation Grad-CAM for ResNet18 Model for CIFAR-10"
   ],
   "id": "e44ad06d-d9a9-4d90-858b-2f8302c94d6f"
  },
  {
   "cell_type": "code",
   "execution_count": null,
   "metadata": {},
   "outputs": [],
   "source": [
    "\n",
    "resnet18_gradcam_cifar10 = ResNet18(num_classes=10)\n",
    "resnet18_gradcam_cifar10.load_state_dict(torch.load(current_path + \"checkpoints/resnet18_cifar10.pt\"))\n",
    "resnet18_gradcam_cifar10.eval()\n",
    "\n",
    "resnet18_gradcam_cifar10_cutout = ResNet18(num_classes=10)\n",
    "resnet18_gradcam_cifar10_cutout.load_state_dict(torch.load(current_path + \"checkpoints/resnet18_cifar10_cutout.pt\"))\n",
    "resnet18_gradcam_cifar10_cutout.eval()\n",
    "\n",
    "resnet18_gradcam_cifar10_da = ResNet18(num_classes=10)\n",
    "resnet18_gradcam_cifar10_da.load_state_dict(torch.load(current_path + \"checkpoints/resnet18_cifar10_da.pt\"))\n",
    "resnet18_gradcam_cifar10_da.eval()\n",
    "\n",
    "resnet18_gradcam_cifar10_da_cutout = ResNet18(num_classes=10)\n",
    "resnet18_gradcam_cifar10_da_cutout.load_state_dict(torch.load(current_path + \"checkpoints/resnet18_cifar10_da_cutout.pt\"))\n",
    "resnet18_gradcam_cifar10_da_cutout.eval()"
   ],
   "id": "a54de936-0919-4dcc-b741-05f40837d74d"
  },
  {
   "cell_type": "markdown",
   "metadata": {},
   "source": [
    "Let’s try to see the result from the testloader of CIFAR-10 dataset"
   ],
   "id": "9b748042-eb67-4de3-b691-bc9adca03a52"
  },
  {
   "cell_type": "code",
   "execution_count": null,
   "metadata": {},
   "outputs": [],
   "source": [
    "transform_cifar10 = transforms.Compose([\n",
    "    transforms.Resize((32, 32)),\n",
    "    transforms.ToTensor(),\n",
    "    transforms.Normalize(mean=[0.485, 0.456, 0.406], std=[0.229, 0.224, 0.225])\n",
    "])\n",
    "\n",
    "testset_cifar10 = datasets.CIFAR10(root='./data', train=False, download=True, transform=transform_cifar10)\n",
    "testloader_cifar10 = torch.utils.data.DataLoader(testset_cifar10, batch_size=1, shuffle=True, num_workers=2)\n"
   ],
   "id": "9ccd6ece-1ab8-49b0-bb3f-24fb3c07d958"
  },
  {
   "cell_type": "code",
   "execution_count": null,
   "metadata": {},
   "outputs": [],
   "source": [
    "cifar10_classes = [\n",
    "    \"Airplane\", \"Automobile\", \"Bird\", \"Cat\", \"Deer\",\n",
    "    \"Dog\", \"Frog\", \"Horse\", \"Ship\", \"Truck\"\n",
    "]"
   ],
   "id": "944dd141-51d2-444a-ab13-9ef745379958"
  },
  {
   "cell_type": "code",
   "execution_count": null,
   "metadata": {},
   "outputs": [],
   "source": [
    "# Get a batch from the testloader\n",
    "images, labels = next(iter(testloader_cifar10))\n",
    "input_tensor = images  # As your batch_size is 1, you will have a single image here\n",
    "\n",
    "# Forward pass\n",
    "resnet18_gradcam_cifar10.zero_grad()\n",
    "output_resnet18_gradcam_cifar10 = resnet18_gradcam_cifar10(input_tensor)\n",
    "\n",
    "resnet18_gradcam_cifar10_cutout.zero_grad()\n",
    "output_resnet18_gradcam_cifar10_cutout = resnet18_gradcam_cifar10_cutout(input_tensor)\n",
    "\n",
    "resnet18_gradcam_cifar10_da.zero_grad()\n",
    "output_resnet18_gradcam_cifar10_da = resnet18_gradcam_cifar10_da(input_tensor)\n",
    "\n",
    "resnet18_gradcam_cifar10_da_cutout.zero_grad()\n",
    "output_resnet18_gradcam_cifar10_da_cutout = resnet18_gradcam_cifar10_da_cutout(input_tensor)\n",
    "\n",
    "# Get the index of the max log-probability\n",
    "target_resnet18_gradcam_cifar10 = output_resnet18_gradcam_cifar10.argmax(1)\n",
    "output_resnet18_gradcam_cifar10.max().backward()\n",
    "\n",
    "target_resnet18_gradcam_cifar10_cutout = output_resnet18_gradcam_cifar10_cutout.argmax(1)\n",
    "output_resnet18_gradcam_cifar10_cutout.max().backward()\n",
    "\n",
    "target_resnet18_gradcam_cifar10_da = output_resnet18_gradcam_cifar10_da.argmax(1)\n",
    "output_resnet18_gradcam_cifar10_da.max().backward()\n",
    "\n",
    "target_resnet18_gradcam_cifar10_da_cutout = output_resnet18_gradcam_cifar10_da_cutout.argmax(1)\n",
    "output_resnet18_gradcam_cifar10_da_cutout.max().backward()\n",
    "\n",
    "# Map the predicted class indices to the class labels\n",
    "predicted_class_resnet18_gradcam_cifar10 = cifar10_classes[target_resnet18_gradcam_cifar10.item()]\n",
    "predicted_class_resnet18_gradcam_cifar10 = cifar10_classes[target_resnet18_gradcam_cifar10_cutout.item()]\n",
    "predicted_class_resnet18_gradcam_cifar10_da = cifar10_classes[target_resnet18_gradcam_cifar10_da.item()]\n",
    "predicted_class_resnet18_gradcam_cifar10_da_cutout = cifar10_classes[target_resnet18_gradcam_cifar10_da_cutout.item()]\n",
    "\n",
    "\n",
    "# Get the gradients and activations\n",
    "gradients_resnet18_gradcam_cifar10 = resnet18_gradcam_cifar10.gradients.detach().cpu()\n",
    "activations_resnet18_gradcam_cifar10 = resnet18_gradcam_cifar10.activations.detach().cpu()\n",
    "\n",
    "gradients_resnet18_gradcam_cifar10_cutout = resnet18_gradcam_cifar10_cutout.gradients.detach().cpu()\n",
    "activations_resnet18_gradcam_cifar10_cutout = resnet18_gradcam_cifar10_cutout.activations.detach().cpu()\n",
    "\n",
    "gradients_resnet18_gradcam_cifar10_da = resnet18_gradcam_cifar10_da.gradients.detach().cpu()\n",
    "activations_resnet18_gradcam_cifar10_da = resnet18_gradcam_cifar10_da.activations.detach().cpu()\n",
    "\n",
    "gradients_resnet18_gradcam_cifar10_da_cutout = resnet18_gradcam_cifar10_da_cutout.gradients.detach().cpu()\n",
    "activations_resnet18_gradcam_cifar10_da_cutout = resnet18_gradcam_cifar10_da_cutout.activations.detach().cpu()\n",
    "\n",
    "\n",
    "# Calculate the weights\n",
    "weights_resnet18_gradcam_cifar10 = gradients_resnet18_gradcam_cifar10.mean(dim=(2, 3), keepdim=True)\n",
    "\n",
    "weights_resnet18_gradcam_cifar10_cutout = gradients_resnet18_gradcam_cifar10_cutout.mean(dim=(2, 3), keepdim=True)\n",
    "\n",
    "weights_resnet18_gradcam_cifar10_da = gradients_resnet18_gradcam_cifar10_da.mean(dim=(2, 3), keepdim=True)\n",
    "\n",
    "weights_resnet18_gradcam_cifar10_da_cutout = gradients_resnet18_gradcam_cifar10_da_cutout.mean(dim=(2, 3), keepdim=True)\n",
    "\n",
    "# Calculate the weighted sum of activations (Grad-CAM)\n",
    "cam_resnet18_gradcam_cifar10 = (weights_resnet18_gradcam_cifar10 * activations_resnet18_gradcam_cifar10).sum(dim=1, keepdim=True)\n",
    "cam_resnet18_gradcam_cifar10 = F.relu(cam_resnet18_gradcam_cifar10)  # apply ReLU to the heatmap\n",
    "cam_resnet18_gradcam_cifar10 = F.interpolate(cam_resnet18_gradcam_cifar10, size=(32, 32), mode='bilinear', align_corners=False)\n",
    "cam_resnet18_gradcam_cifar10 = cam_resnet18_gradcam_cifar10.squeeze().numpy()\n",
    "\n",
    "cam_resnet18_gradcam_cifar10_cutout = (weights_resnet18_gradcam_cifar10_cutout * activations_resnet18_gradcam_cifar10_cutout).sum(dim=1, keepdim=True)\n",
    "cam_resnet18_gradcam_cifar10_cutout = F.relu(cam_resnet18_gradcam_cifar10_cutout)  # apply ReLU to the heatmap\n",
    "cam_resnet18_gradcam_cifar10_cutout = F.interpolate(cam_resnet18_gradcam_cifar10_cutout, size=(32, 32), mode='bilinear', align_corners=False)\n",
    "cam_resnet18_gradcam_cifar10_cutout = cam_resnet18_gradcam_cifar10_cutout.squeeze().numpy()\n",
    "\n",
    "cam_resnet18_gradcam_cifar10_da = (weights_resnet18_gradcam_cifar10_da * activations_resnet18_gradcam_cifar10_da).sum(dim=1, keepdim=True)\n",
    "cam_resnet18_gradcam_cifar10_da = F.relu(cam_resnet18_gradcam_cifar10_da)  # apply ReLU to the heatmap\n",
    "cam_resnet18_gradcam_cifar10_da = F.interpolate(cam_resnet18_gradcam_cifar10_da, size=(32, 32), mode='bilinear', align_corners=False)\n",
    "cam_resnet18_gradcam_cifar10_da = cam_resnet18_gradcam_cifar10_da.squeeze().numpy()\n",
    "\n",
    "cam_resnet18_gradcam_cifar10_da_cutout = (weights_resnet18_gradcam_cifar10_da_cutout * activations_resnet18_gradcam_cifar10_da_cutout).sum(dim=1, keepdim=True)\n",
    "cam_resnet18_gradcam_cifar10_da_cutout = F.relu(cam_resnet18_gradcam_cifar10_da_cutout)  # apply ReLU to the heatmap\n",
    "cam_resnet18_gradcam_cifar10_da_cutout = F.interpolate(cam_resnet18_gradcam_cifar10_da_cutout, size=(32, 32), mode='bilinear', align_corners=False)\n",
    "cam_resnet18_gradcam_cifar10_da_cutout = cam_resnet18_gradcam_cifar10_da_cutout.squeeze().numpy()\n",
    "\n",
    "\n",
    "# Normalize the heatmap\n",
    "cam_resnet18_gradcam_cifar10 -= cam_resnet18_gradcam_cifar10.min()\n",
    "cam_resnet18_gradcam_cifar10 /= cam_resnet18_gradcam_cifar10.max()\n",
    "\n",
    "cam_resnet18_gradcam_cifar10_cutout -= cam_resnet18_gradcam_cifar10_cutout.min()\n",
    "cam_resnet18_gradcam_cifar10_cutout /= cam_resnet18_gradcam_cifar10_cutout.max()\n",
    "\n",
    "cam_resnet18_gradcam_cifar10_da -= cam_resnet18_gradcam_cifar10_da.min()\n",
    "cam_resnet18_gradcam_cifar10_da /= cam_resnet18_gradcam_cifar10_da.max()\n",
    "\n",
    "cam_resnet18_gradcam_cifar10_da_cutout -= cam_resnet18_gradcam_cifar10_da_cutout.min()\n",
    "cam_resnet18_gradcam_cifar10_da_cutout /= cam_resnet18_gradcam_cifar10_da_cutout.max()\n",
    "\n",
    "# Since the images from the dataloader are normalized, you have to denormalize them before plotting\n",
    "mean = torch.tensor([0.485, 0.456, 0.406])\n",
    "std = torch.tensor([0.229, 0.224, 0.225])\n",
    "img = images.squeeze().detach().cpu() * std[..., None, None] + mean[..., None, None]\n",
    "img = img.permute(1, 2, 0).numpy()\n",
    "\n",
    "# Superimpose the heatmap onto the original image\n",
    "heatmap_resnet18_gradcam_cifar10 = cv2.applyColorMap(np.uint8(255 * cam_resnet18_gradcam_cifar10), cv2.COLORMAP_JET)\n",
    "heatmap_resnet18_gradcam_cifar10 = cv2.cvtColor(heatmap_resnet18_gradcam_cifar10, cv2.COLOR_BGR2RGB)\n",
    "superimposed_img_resnet18_gradcam_cifar10 = heatmap_resnet18_gradcam_cifar10 * 0.4 + img * 255\n",
    "\n",
    "heatmap_resnet18_gradcam_cifar10_cutout = cv2.applyColorMap(np.uint8(255 * cam_resnet18_gradcam_cifar10_cutout), cv2.COLORMAP_JET)\n",
    "heatmap_resnet18_gradcam_cifar10_cutout = cv2.cvtColor(heatmap_resnet18_gradcam_cifar10_cutout, cv2.COLOR_BGR2RGB)\n",
    "superimposed_img_resnet18_gradcam_cifar10_cutout = heatmap_resnet18_gradcam_cifar10_cutout * 0.4 + img * 255\n",
    "\n",
    "heatmap_resnet18_gradcam_cifar10_da = cv2.applyColorMap(np.uint8(255 * cam_resnet18_gradcam_cifar10_da), cv2.COLORMAP_JET)\n",
    "heatmap_resnet18_gradcam_cifar10_da = cv2.cvtColor(heatmap_resnet18_gradcam_cifar10_da, cv2.COLOR_BGR2RGB)\n",
    "superimposed_img_resnet18_gradcam_cifar10_da = heatmap_resnet18_gradcam_cifar10_da * 0.4 + img * 255\n",
    "\n",
    "heatmap_resnet18_gradcam_cifar10_da_cutout = cv2.applyColorMap(np.uint8(255 * cam_resnet18_gradcam_cifar10_da_cutout), cv2.COLORMAP_JET)\n",
    "heatmap_resnet18_gradcam_cifar10_da_cutout = cv2.cvtColor(heatmap_resnet18_gradcam_cifar10_da_cutout, cv2.COLOR_BGR2RGB)\n",
    "superimposed_img_resnet18_gradcam_cifar10_da_cutout = heatmap_resnet18_gradcam_cifar10_da_cutout * 0.4 + img * 255\n",
    "\n",
    "class_label = str(labels.item())\n",
    "\n",
    "# Display the original image and the Grad-CAM\n",
    "fig, ax = plt.subplots(nrows=1, ncols=5, figsize=(20, 4))\n",
    "\n",
    "ax[0].imshow(img)\n",
    "ax[0].set_title('(Class: ' + cifar10_classes[int(class_label)] + ')')\n",
    "ax[0].axis('off')\n",
    "ax[1].imshow(superimposed_img_resnet18_gradcam_cifar10 / 255)\n",
    "ax[1].set_title('Pred: ' +predicted_class_resnet18_gradcam_cifar10)\n",
    "ax[1].axis('off')\n",
    "ax[2].imshow(superimposed_img_resnet18_gradcam_cifar10_cutout / 255)\n",
    "ax[2].set_title('Pred: ' +predicted_class_resnet18_gradcam_cifar10)\n",
    "ax[2].axis('off')\n",
    "ax[3].imshow(superimposed_img_resnet18_gradcam_cifar10_da / 255)\n",
    "ax[3].set_title'Pred: ' + (predicted_class_resnet18_gradcam_cifar10_da)\n",
    "ax[3].axis('off')\n",
    "ax[4].imshow(superimposed_img_resnet18_gradcam_cifar10_da_cutout / 255)\n",
    "ax[4].set_title('Pred: ' + predicted_class_resnet18_gradcam_cifar10_da_cutout)\n",
    "ax[4].axis('off')\n",
    "\n",
    "# Adjust the vertical position of the suptitle to bring it closer to the subplots.\n",
    "fig.suptitle(\"Original Image - Grad-CAM -  Grad-CAM with Cutout - Grad-CAM with Data Augmentation - Grad-CAM with Cutout & Data Augmentation\", y=1.1) \n",
    "\n",
    "# Automatically adjust subplot params for better layout.\n",
    "plt.tight_layout()\n",
    "\n",
    "plt.show()\n",
    "\n"
   ],
   "id": "8359eed1-6c87-4df9-9828-01a75f0b358c"
  },
  {
   "cell_type": "markdown",
   "metadata": {},
   "source": [
    "Now you can try to load your image, preprocess it and convert it into a PyTorch tensor. Choose an image that is in the CIFAR-10 classes (airplanes, cars, birds, cats, deer, dogs, frogs, horses, ships, and trucks). The preprocessing steps should be the same as the ones you used for training your model. Let’s say you have an image `image.jpeg`:"
   ],
   "id": "9df8d0bb-bd14-444a-9f77-8ee141e1ab26"
  },
  {
   "cell_type": "code",
   "execution_count": null,
   "metadata": {},
   "outputs": [],
   "source": [
    "# Load the image\n",
    "image_path = \"image.jpeg\"\n",
    "image = Image.open(current_path + image_path)\n",
    "\n",
    "# Define the transformations: resize, to tensor, normalize (replace the mean and std with values you used for training)\n",
    "preprocess = transforms.Compose([\n",
    "    transforms.Resize((32, 32)),\n",
    "    transforms.ToTensor(),\n",
    "    transforms.Normalize(mean=[0.485, 0.456, 0.406], std=[0.229, 0.224, 0.225])\n",
    "])\n",
    "\n",
    "# Preprocess the image\n",
    "input_tensor = preprocess(image)\n",
    "input_tensor = input_tensor.unsqueeze(0)  # add batch dimension.  C,H,W => B,C,H,W"
   ],
   "id": "8492ff90-0a93-47dc-8cb4-75435d95d37e"
  },
  {
   "cell_type": "markdown",
   "metadata": {},
   "source": [
    "Apply Grad-CAM"
   ],
   "id": "7ba0c0b2-5020-41c5-a68d-dba44d282408"
  },
  {
   "cell_type": "code",
   "execution_count": null,
   "metadata": {},
   "outputs": [],
   "source": [
    "# Forward pass\n",
    "resnet18_gradcam_cifar10.zero_grad()\n",
    "output_resnet18_gradcam_cifar10 = resnet18_gradcam_cifar10(input_tensor)\n",
    "\n",
    "resnet18_gradcam_cifar10_cutout.zero_grad()\n",
    "output_resnet18_gradcam_cifar10_cutout = resnet18_gradcam_cifar10_cutout(input_tensor)\n",
    "\n",
    "resnet18_gradcam_cifar10_da.zero_grad()\n",
    "output_resnet18_gradcam_cifar10_da = resnet18_gradcam_cifar10_da(input_tensor)\n",
    "\n",
    "resnet18_gradcam_cifar10_da_cutout.zero_grad()\n",
    "output_resnet18_gradcam_cifar10_da_cutout = resnet18_gradcam_cifar10_da_cutout(input_tensor)\n",
    "\n",
    "# Get the index of the max log-probability\n",
    "target_resnet18_gradcam_cifar10 = output_resnet18_gradcam_cifar10.argmax(1)\n",
    "output_resnet18_gradcam_cifar10.max().backward()\n",
    "\n",
    "target_resnet18_gradcam_cifar10_cutout = output_resnet18_gradcam_cifar10_cutout.argmax(1)\n",
    "output_resnet18_gradcam_cifar10_cutout.max().backward()\n",
    "\n",
    "target_resnet18_gradcam_cifar10_da = output_resnet18_gradcam_cifar10_da.argmax(1)\n",
    "output_resnet18_gradcam_cifar10_da.max().backward()\n",
    "\n",
    "target_resnet18_gradcam_cifar10_da_cutout = output_resnet18_gradcam_cifar10_da_cutout.argmax(1)\n",
    "output_resnet18_gradcam_cifar10_da_cutout.max().backward()\n",
    "\n",
    "# Map the predicted class indices to the class labels\n",
    "predicted_class_resnet18_gradcam_cifar10 = cifar10_classes[target_resnet18_gradcam_cifar10.item()]\n",
    "predicted_class_resnet18_gradcam_cifar10 = cifar10_classes[target_resnet18_gradcam_cifar10_cutout.item()]\n",
    "predicted_class_resnet18_gradcam_cifar10_da = cifar10_classes[target_resnet18_gradcam_cifar10_da.item()]\n",
    "predicted_class_resnet18_gradcam_cifar10_da_cutout = cifar10_classes[target_resnet18_gradcam_cifar10_da_cutout.item()]\n",
    "\n",
    "\n",
    "# Get the gradients and activations\n",
    "gradients_resnet18_gradcam_cifar10 = resnet18_gradcam_cifar10.gradients.detach().cpu()\n",
    "activations_resnet18_gradcam_cifar10 = resnet18_gradcam_cifar10.activations.detach().cpu()\n",
    "\n",
    "gradients_resnet18_gradcam_cifar10_cutout = resnet18_gradcam_cifar10_cutout.gradients.detach().cpu()\n",
    "activations_resnet18_gradcam_cifar10_cutout = resnet18_gradcam_cifar10_cutout.activations.detach().cpu()\n",
    "\n",
    "gradients_resnet18_gradcam_cifar10_da = resnet18_gradcam_cifar10_da.gradients.detach().cpu()\n",
    "activations_resnet18_gradcam_cifar10_da = resnet18_gradcam_cifar10_da.activations.detach().cpu()\n",
    "\n",
    "gradients_resnet18_gradcam_cifar10_da_cutout = resnet18_gradcam_cifar10_da_cutout.gradients.detach().cpu()\n",
    "activations_resnet18_gradcam_cifar10_da_cutout = resnet18_gradcam_cifar10_da_cutout.activations.detach().cpu()\n",
    "\n",
    "\n",
    "# Calculate the weights\n",
    "weights_resnet18_gradcam_cifar10 = gradients_resnet18_gradcam_cifar10.mean(dim=(2, 3), keepdim=True)\n",
    "\n",
    "weights_resnet18_gradcam_cifar10_cutout = gradients_resnet18_gradcam_cifar10_cutout.mean(dim=(2, 3), keepdim=True)\n",
    "\n",
    "weights_resnet18_gradcam_cifar10_da = gradients_resnet18_gradcam_cifar10_da.mean(dim=(2, 3), keepdim=True)\n",
    "\n",
    "weights_resnet18_gradcam_cifar10_da_cutout = gradients_resnet18_gradcam_cifar10_da_cutout.mean(dim=(2, 3), keepdim=True)\n",
    "\n",
    "# Calculate the weighted sum of activations (Grad-CAM)\n",
    "cam_resnet18_gradcam_cifar10 = (weights_resnet18_gradcam_cifar10 * activations_resnet18_gradcam_cifar10).sum(dim=1, keepdim=True)\n",
    "cam_resnet18_gradcam_cifar10 = F.relu(cam_resnet18_gradcam_cifar10)  # apply ReLU to the heatmap\n",
    "cam_resnet18_gradcam_cifar10 = F.interpolate(cam_resnet18_gradcam_cifar10, size=(32, 32), mode='bilinear', align_corners=False)\n",
    "cam_resnet18_gradcam_cifar10 = cam_resnet18_gradcam_cifar10.squeeze().numpy()\n",
    "\n",
    "cam_resnet18_gradcam_cifar10_cutout = (weights_resnet18_gradcam_cifar10_cutout * activations_resnet18_gradcam_cifar10_cutout).sum(dim=1, keepdim=True)\n",
    "cam_resnet18_gradcam_cifar10_cutout = F.relu(cam_resnet18_gradcam_cifar10_cutout)  # apply ReLU to the heatmap\n",
    "cam_resnet18_gradcam_cifar10_cutout = F.interpolate(cam_resnet18_gradcam_cifar10_cutout, size=(32, 32), mode='bilinear', align_corners=False)\n",
    "cam_resnet18_gradcam_cifar10_cutout = cam_resnet18_gradcam_cifar10_cutout.squeeze().numpy()\n",
    "\n",
    "cam_resnet18_gradcam_cifar10_da = (weights_resnet18_gradcam_cifar10_da * activations_resnet18_gradcam_cifar10_da).sum(dim=1, keepdim=True)\n",
    "cam_resnet18_gradcam_cifar10_da = F.relu(cam_resnet18_gradcam_cifar10_da)  # apply ReLU to the heatmap\n",
    "cam_resnet18_gradcam_cifar10_da = F.interpolate(cam_resnet18_gradcam_cifar10_da, size=(32, 32), mode='bilinear', align_corners=False)\n",
    "cam_resnet18_gradcam_cifar10_da = cam_resnet18_gradcam_cifar10_da.squeeze().numpy()\n",
    "\n",
    "cam_resnet18_gradcam_cifar10_da_cutout = (weights_resnet18_gradcam_cifar10_da_cutout * activations_resnet18_gradcam_cifar10_da_cutout).sum(dim=1, keepdim=True)\n",
    "cam_resnet18_gradcam_cifar10_da_cutout = F.relu(cam_resnet18_gradcam_cifar10_da_cutout)  # apply ReLU to the heatmap\n",
    "cam_resnet18_gradcam_cifar10_da_cutout = F.interpolate(cam_resnet18_gradcam_cifar10_da_cutout, size=(32, 32), mode='bilinear', align_corners=False)\n",
    "cam_resnet18_gradcam_cifar10_da_cutout = cam_resnet18_gradcam_cifar10_da_cutout.squeeze().numpy()\n",
    "\n",
    "\n",
    "# Normalize the heatmap\n",
    "cam_resnet18_gradcam_cifar10 -= cam_resnet18_gradcam_cifar10.min()\n",
    "cam_resnet18_gradcam_cifar10 /= cam_resnet18_gradcam_cifar10.max()\n",
    "\n",
    "cam_resnet18_gradcam_cifar10_cutout -= cam_resnet18_gradcam_cifar10_cutout.min()\n",
    "cam_resnet18_gradcam_cifar10_cutout /= cam_resnet18_gradcam_cifar10_cutout.max()\n",
    "\n",
    "cam_resnet18_gradcam_cifar10_da -= cam_resnet18_gradcam_cifar10_da.min()\n",
    "cam_resnet18_gradcam_cifar10_da /= cam_resnet18_gradcam_cifar10_da.max()\n",
    "\n",
    "cam_resnet18_gradcam_cifar10_da_cutout -= cam_resnet18_gradcam_cifar10_da_cutout.min()\n",
    "cam_resnet18_gradcam_cifar10_da_cutout /= cam_resnet18_gradcam_cifar10_da_cutout.max()\n",
    "\n",
    "# Since the images from the dataloader are normalized, you have to denormalize them before plotting\n",
    "img = cv2.imread(current_path + image_path)\n",
    "img = cv2.resize(img, (32, 32))\n",
    "img = cv2.cvtColor(img, cv2.COLOR_BGR2RGB)\n",
    "\n",
    "\n",
    "# Superimpose the heatmap onto the original image\n",
    "heatmap_resnet18_gradcam_cifar10 = cv2.applyColorMap(np.uint8(255 * cam_resnet18_gradcam_cifar10), cv2.COLORMAP_JET)\n",
    "heatmap_resnet18_gradcam_cifar10 = cv2.cvtColor(heatmap_resnet18_gradcam_cifar10, cv2.COLOR_BGR2RGB)\n",
    "superimposed_img_resnet18_gradcam_cifar10 = heatmap_resnet18_gradcam_cifar10 * 0.4 + img * 255\n",
    "\n",
    "heatmap_resnet18_gradcam_cifar10_cutout = cv2.applyColorMap(np.uint8(255 * cam_resnet18_gradcam_cifar10_cutout), cv2.COLORMAP_JET)\n",
    "heatmap_resnet18_gradcam_cifar10_cutout = cv2.cvtColor(heatmap_resnet18_gradcam_cifar10_cutout, cv2.COLOR_BGR2RGB)\n",
    "superimposed_img_resnet18_gradcam_cifar10_cutout = heatmap_resnet18_gradcam_cifar10_cutout * 0.4 + img * 255\n",
    "\n",
    "heatmap_resnet18_gradcam_cifar10_da = cv2.applyColorMap(np.uint8(255 * cam_resnet18_gradcam_cifar10_da), cv2.COLORMAP_JET)\n",
    "heatmap_resnet18_gradcam_cifar10_da = cv2.cvtColor(heatmap_resnet18_gradcam_cifar10_da, cv2.COLOR_BGR2RGB)\n",
    "superimposed_img_resnet18_gradcam_cifar10_da = heatmap_resnet18_gradcam_cifar10_da * 0.4 + img * 255\n",
    "\n",
    "heatmap_resnet18_gradcam_cifar10_da_cutout = cv2.applyColorMap(np.uint8(255 * cam_resnet18_gradcam_cifar10_da_cutout), cv2.COLORMAP_JET)\n",
    "heatmap_resnet18_gradcam_cifar10_da_cutout = cv2.cvtColor(heatmap_resnet18_gradcam_cifar10_da_cutout, cv2.COLOR_BGR2RGB)\n",
    "superimposed_img_resnet18_gradcam_cifar10_da_cutout = heatmap_resnet18_gradcam_cifar10_da_cutout * 0.4 + img * 255\n",
    "\n",
    "class_label = str(labels.item())"
   ],
   "id": "41ece32a-8799-4cbd-bdc2-0cacaf2c7e08"
  },
  {
   "cell_type": "markdown",
   "metadata": {},
   "source": [
    "Visualize the image and the Grad-CAM heatmap"
   ],
   "id": "6bcadd29-e21b-42d0-a475-615de95e81f3"
  },
  {
   "cell_type": "code",
   "execution_count": null,
   "metadata": {},
   "outputs": [],
   "source": [
    "# Display the original image and the Grad-CAM\n",
    "fig, ax = plt.subplots(nrows=1, ncols=5, figsize=(20, 4))\n",
    "\n",
    "ax[0].imshow(img)\n",
    "ax[0].set_title('(Class: ' + cifar10_classes[int(class_label)] + ')')\n",
    "ax[0].axis('off')\n",
    "ax[1].imshow(superimposed_img_resnet18_gradcam_cifar10 / 255)\n",
    "ax[1].set_title(predicted_class_resnet18_gradcam_cifar10)\n",
    "ax[1].axis('off')\n",
    "ax[2].imshow(superimposed_img_resnet18_gradcam_cifar10_cutout / 255)\n",
    "ax[2].set_title(predicted_class_resnet18_gradcam_cifar10)\n",
    "ax[2].axis('off')\n",
    "ax[3].imshow(superimposed_img_resnet18_gradcam_cifar10_da / 255)\n",
    "ax[3].set_title(predicted_class_resnet18_gradcam_cifar10_da)\n",
    "ax[3].axis('off')\n",
    "ax[4].imshow(superimposed_img_resnet18_gradcam_cifar10_da_cutout / 255)\n",
    "ax[4].set_title(predicted_class_resnet18_gradcam_cifar10_da_cutout)\n",
    "ax[4].axis('off')\n",
    "\n",
    "# Adjust the vertical position of the suptitle to bring it closer to the subplots.\n",
    "fig.suptitle(\"Original Image - Grad-CAM -  Grad-CAM with Cutout - Grad-CAM with Data Augmentation - Grad-CAM with Cutout & Data Augmentation\", y=1.1) \n",
    "\n",
    "# Automatically adjust subplot params for better layout.\n",
    "plt.tight_layout()\n",
    "\n",
    "plt.show()"
   ],
   "id": "71adfaa8-e07e-4b8a-a3b2-30dd858cea85"
  },
  {
   "cell_type": "markdown",
   "metadata": {},
   "source": [
    "## 4.2.2 Implementation Grad-CAM for ResNet18 Model for CIFAR-100"
   ],
   "id": "bf3cd052-10f9-45da-b3a4-3fd2295a7488"
  },
  {
   "cell_type": "code",
   "execution_count": null,
   "metadata": {},
   "outputs": [],
   "source": [
    "\n",
    "resnet18_gradcam_cifar100 = ResNet18(num_classes=100)\n",
    "resnet18_gradcam_cifar100.load_state_dict(torch.load(current_path + \"checkpoints/resnet18_cifar100.pt\"))\n",
    "resnet18_gradcam_cifar100.eval()\n",
    "\n",
    "resnet18_gradcam_cifar100_cutout = ResNet18(num_classes=100)\n",
    "resnet18_gradcam_cifar100_cutout.load_state_dict(torch.load(current_path + \"checkpoints/resnet18_cifar100_cutout.pt\"))\n",
    "resnet18_gradcam_cifar100_cutout.eval()\n",
    "\n",
    "resnet18_gradcam_cifar100_da = ResNet18(num_classes=100)\n",
    "resnet18_gradcam_cifar100_da.load_state_dict(torch.load(current_path + \"checkpoints/resnet18_cifar100_da.pt\"))\n",
    "resnet18_gradcam_cifar100_da.eval()\n",
    "\n",
    "resnet18_gradcam_cifar100_da_cutout = ResNet18(num_classes=100)\n",
    "resnet18_gradcam_cifar100_da_cutout.load_state_dict(torch.load(current_path + \"checkpoints/resnet18_cifar100_da_cutout.pt\"))\n",
    "resnet18_gradcam_cifar100_da_cutout.eval()"
   ],
   "id": "f1839ad1-a261-4372-a128-a3fbeb52faba"
  },
  {
   "cell_type": "markdown",
   "metadata": {},
   "source": [
    "Let’s try to see the result from the testloader of CIFAR-10 dataset"
   ],
   "id": "b22ae3d7-d729-45f9-85b4-2aadf9d31410"
  },
  {
   "cell_type": "code",
   "execution_count": null,
   "metadata": {},
   "outputs": [],
   "source": [
    "transform_cifar100 = transforms.Compose([\n",
    "    transforms.Resize((32, 32)),\n",
    "    transforms.ToTensor(),\n",
    "    transforms.Normalize(mean=[0.485, 0.456, 0.406], std=[0.229, 0.224, 0.225])\n",
    "])\n",
    "\n",
    "testset_cifar100 = datasets.CIFAR100(root='./data', train=False, download=True, transform=transform_cifar100)\n",
    "testloader_cifar100 = torch.utils.data.DataLoader(testset_cifar100, batch_size=1, shuffle=True, num_workers=2)\n"
   ],
   "id": "fb671f4b-0c98-494c-84a4-b74a43b2a1d7"
  },
  {
   "cell_type": "code",
   "execution_count": null,
   "metadata": {},
   "outputs": [],
   "source": [
    "cifar100_classes = [\n",
    "    \"Apple\", \"Aquarium fish\", \"Baby\", \"Bear\", \"Beaver\", \"Bed\", \"Bee\", \"Beetle\", \n",
    "    \"Bicycle\", \"Bottle\", \"Bowl\", \"Boy\", \"Bridge\", \"Bus\", \"Butterfly\", \"Camel\", \n",
    "    \"Can\", \"Castle\", \"Caterpillar\", \"Cattle\", \"Chair\", \"Chimpanzee\", \"Clock\", \n",
    "    \"Cloud\", \"Cockroach\", \"Couch\", \"Crab\", \"Crocodile\", \"Cup\", \"Dinosaur\", \n",
    "    \"Dolphin\", \"Elephant\", \"Flatfish\", \"Forest\", \"Fox\", \"Girl\", \"Hamster\", \n",
    "    \"House\", \"Kangaroo\", \"Computer keyboard\", \"Lamp\", \"Lawn-mower\", \"Leopard\", \"Lion\",\n",
    "    \"Lizard\", \"Lobster\", \"Man\", \"Maple tree\", \"Motorcycle\", \"Mountain\", \"Mouse\",\n",
    "    \"Mushrooms\", \"Oak tree\", \"Oranges\", \"Orchids\", \"Otter\", \"Palm tree\", \"Pears\",\n",
    "    \"Pickup truck\", \"Pine tree\", \"Plain\", \"Plates\", \"Poppies\", \"Porcupine\",\n",
    "    \"Possum\", \"Rabbit\", \"Raccoon\", \"Ray\", \"Road\", \"Rocket\", \"Roses\", \"Sea\", \"Seal\",\n",
    "    \"Shark\", \"Shrew\", \"Skunk\", \"Skyscraper\", \"Snail\", \"Snake\", \"Spider\", \"Squirrel\",\n",
    "    \"Streetcar\", \"Sunflowers\", \"Sweet peppers\", \"Table\", \"Tank\", \"Telephone\", \"Television\", \n",
    "    \"Tiger\", \"Tractor\", \"Train\", \"Trout\", \"Tulips\", \"Turtle\", \"Wardrobe\", \"Whale\", \n",
    "    \"Willow tree\", \"Wolf\", \"Woman\", \"Worm\"\n",
    "]\n"
   ],
   "id": "56376ed9-612a-408a-8417-be0ae3d6ffe4"
  },
  {
   "cell_type": "code",
   "execution_count": null,
   "metadata": {},
   "outputs": [],
   "source": [
    "# Get a batch from the testloader\n",
    "images, labels = next(iter(testloader_cifar100))\n",
    "input_tensor = images  # As your batch_size is 1, you will have a single image here\n",
    "\n",
    "# Forward pass\n",
    "resnet18_gradcam_cifar100.zero_grad()\n",
    "output_resnet18_gradcam_cifar100 = resnet18_gradcam_cifar100(input_tensor)\n",
    "\n",
    "resnet18_gradcam_cifar100_cutout.zero_grad()\n",
    "output_resnet18_gradcam_cifar100_cutout = resnet18_gradcam_cifar100_cutout(input_tensor)\n",
    "\n",
    "resnet18_gradcam_cifar100_da.zero_grad()\n",
    "output_resnet18_gradcam_cifar100_da = resnet18_gradcam_cifar100_da(input_tensor)\n",
    "\n",
    "resnet18_gradcam_cifar100_da_cutout.zero_grad()\n",
    "output_resnet18_gradcam_cifar100_da_cutout = resnet18_gradcam_cifar100_da_cutout(input_tensor)\n",
    "\n",
    "# Get the index of the max log-probability\n",
    "target_resnet18_gradcam_cifar100 = output_resnet18_gradcam_cifar100.argmax(1)\n",
    "output_resnet18_gradcam_cifar100.max().backward()\n",
    "\n",
    "target_resnet18_gradcam_cifar100_cutout = output_resnet18_gradcam_cifar100_cutout.argmax(1)\n",
    "output_resnet18_gradcam_cifar100_cutout.max().backward()\n",
    "\n",
    "target_resnet18_gradcam_cifar100_da = output_resnet18_gradcam_cifar100_da.argmax(1)\n",
    "output_resnet18_gradcam_cifar100_da.max().backward()\n",
    "\n",
    "target_resnet18_gradcam_cifar100_da_cutout = output_resnet18_gradcam_cifar100_da_cutout.argmax(1)\n",
    "output_resnet18_gradcam_cifar100_da_cutout.max().backward()\n",
    "\n",
    "# Map the predicted class indices to the class labels\n",
    "predicted_class_resnet18_gradcam_cifar100 = cifar100_classes[target_resnet18_gradcam_cifar100.item()]\n",
    "predicted_class_resnet18_gradcam_cifar100 = cifar100_classes[target_resnet18_gradcam_cifar100_cutout.item()]\n",
    "predicted_class_resnet18_gradcam_cifar100_da = cifar100_classes[target_resnet18_gradcam_cifar100_da.item()]\n",
    "predicted_class_resnet18_gradcam_cifar100_da_cutout = cifar100_classes[target_resnet18_gradcam_cifar100_da_cutout.item()]\n",
    "\n",
    "\n",
    "# Get the gradients and activations\n",
    "gradients_resnet18_gradcam_cifar100 = resnet18_gradcam_cifar100.gradients.detach().cpu()\n",
    "activations_resnet18_gradcam_cifar100 = resnet18_gradcam_cifar100.activations.detach().cpu()\n",
    "\n",
    "gradients_resnet18_gradcam_cifar100_cutout = resnet18_gradcam_cifar100_cutout.gradients.detach().cpu()\n",
    "activations_resnet18_gradcam_cifar100_cutout = resnet18_gradcam_cifar100_cutout.activations.detach().cpu()\n",
    "\n",
    "gradients_resnet18_gradcam_cifar100_da = resnet18_gradcam_cifar100_da.gradients.detach().cpu()\n",
    "activations_resnet18_gradcam_cifar100_da = resnet18_gradcam_cifar100_da.activations.detach().cpu()\n",
    "\n",
    "gradients_resnet18_gradcam_cifar100_da_cutout = resnet18_gradcam_cifar100_da_cutout.gradients.detach().cpu()\n",
    "activations_resnet18_gradcam_cifar100_da_cutout = resnet18_gradcam_cifar100_da_cutout.activations.detach().cpu()\n",
    "\n",
    "\n",
    "# Calculate the weights\n",
    "weights_resnet18_gradcam_cifar100 = gradients_resnet18_gradcam_cifar100.mean(dim=(2, 3), keepdim=True)\n",
    "\n",
    "weights_resnet18_gradcam_cifar100_cutout = gradients_resnet18_gradcam_cifar100_cutout.mean(dim=(2, 3), keepdim=True)\n",
    "\n",
    "weights_resnet18_gradcam_cifar100_da = gradients_resnet18_gradcam_cifar100_da.mean(dim=(2, 3), keepdim=True)\n",
    "\n",
    "weights_resnet18_gradcam_cifar100_da_cutout = gradients_resnet18_gradcam_cifar100_da_cutout.mean(dim=(2, 3), keepdim=True)\n",
    "\n",
    "# Calculate the weighted sum of activations (Grad-CAM)\n",
    "cam_resnet18_gradcam_cifar100 = (weights_resnet18_gradcam_cifar100 * activations_resnet18_gradcam_cifar100).sum(dim=1, keepdim=True)\n",
    "cam_resnet18_gradcam_cifar100 = F.relu(cam_resnet18_gradcam_cifar100)  # apply ReLU to the heatmap\n",
    "cam_resnet18_gradcam_cifar100 = F.interpolate(cam_resnet18_gradcam_cifar100, size=(32, 32), mode='bilinear', align_corners=False)\n",
    "cam_resnet18_gradcam_cifar100 = cam_resnet18_gradcam_cifar100.squeeze().numpy()\n",
    "\n",
    "cam_resnet18_gradcam_cifar100_cutout = (weights_resnet18_gradcam_cifar100_cutout * activations_resnet18_gradcam_cifar100_cutout).sum(dim=1, keepdim=True)\n",
    "cam_resnet18_gradcam_cifar100_cutout = F.relu(cam_resnet18_gradcam_cifar100_cutout)  # apply ReLU to the heatmap\n",
    "cam_resnet18_gradcam_cifar100_cutout = F.interpolate(cam_resnet18_gradcam_cifar100_cutout, size=(32, 32), mode='bilinear', align_corners=False)\n",
    "cam_resnet18_gradcam_cifar100_cutout = cam_resnet18_gradcam_cifar100_cutout.squeeze().numpy()\n",
    "\n",
    "cam_resnet18_gradcam_cifar100_da = (weights_resnet18_gradcam_cifar100_da * activations_resnet18_gradcam_cifar100_da).sum(dim=1, keepdim=True)\n",
    "cam_resnet18_gradcam_cifar100_da = F.relu(cam_resnet18_gradcam_cifar100_da)  # apply ReLU to the heatmap\n",
    "cam_resnet18_gradcam_cifar100_da = F.interpolate(cam_resnet18_gradcam_cifar100_da, size=(32, 32), mode='bilinear', align_corners=False)\n",
    "cam_resnet18_gradcam_cifar100_da = cam_resnet18_gradcam_cifar100_da.squeeze().numpy()\n",
    "\n",
    "cam_resnet18_gradcam_cifar100_da_cutout = (weights_resnet18_gradcam_cifar100_da_cutout * activations_resnet18_gradcam_cifar100_da_cutout).sum(dim=1, keepdim=True)\n",
    "cam_resnet18_gradcam_cifar100_da_cutout = F.relu(cam_resnet18_gradcam_cifar100_da_cutout)  # apply ReLU to the heatmap\n",
    "cam_resnet18_gradcam_cifar100_da_cutout = F.interpolate(cam_resnet18_gradcam_cifar100_da_cutout, size=(32, 32), mode='bilinear', align_corners=False)\n",
    "cam_resnet18_gradcam_cifar100_da_cutout = cam_resnet18_gradcam_cifar100_da_cutout.squeeze().numpy()\n",
    "\n",
    "\n",
    "# Normalize the heatmap\n",
    "cam_resnet18_gradcam_cifar100 -= cam_resnet18_gradcam_cifar100.min()\n",
    "cam_resnet18_gradcam_cifar100 /= cam_resnet18_gradcam_cifar100.max()\n",
    "\n",
    "cam_resnet18_gradcam_cifar100_cutout -= cam_resnet18_gradcam_cifar100_cutout.min()\n",
    "cam_resnet18_gradcam_cifar100_cutout /= cam_resnet18_gradcam_cifar100_cutout.max()\n",
    "\n",
    "cam_resnet18_gradcam_cifar100_da -= cam_resnet18_gradcam_cifar100_da.min()\n",
    "cam_resnet18_gradcam_cifar100_da /= cam_resnet18_gradcam_cifar100_da.max()\n",
    "\n",
    "cam_resnet18_gradcam_cifar100_da_cutout -= cam_resnet18_gradcam_cifar100_da_cutout.min()\n",
    "cam_resnet18_gradcam_cifar100_da_cutout /= cam_resnet18_gradcam_cifar100_da_cutout.max()\n",
    "\n",
    "# Since the images from the dataloader are normalized, you have to denormalize them before plotting\n",
    "mean = torch.tensor([0.485, 0.456, 0.406])\n",
    "std = torch.tensor([0.229, 0.224, 0.225])\n",
    "img = images.squeeze().detach().cpu() * std[..., None, None] + mean[..., None, None]\n",
    "img = img.permute(1, 2, 0).numpy()\n",
    "\n",
    "# Superimpose the heatmap onto the original image\n",
    "heatmap_resnet18_gradcam_cifar100 = cv2.applyColorMap(np.uint8(255 * cam_resnet18_gradcam_cifar100), cv2.COLORMAP_JET)\n",
    "heatmap_resnet18_gradcam_cifar100 = cv2.cvtColor(heatmap_resnet18_gradcam_cifar100, cv2.COLOR_BGR2RGB)\n",
    "superimposed_img_resnet18_gradcam_cifar100 = heatmap_resnet18_gradcam_cifar100 * 0.4 + img * 255\n",
    "\n",
    "heatmap_resnet18_gradcam_cifar100_cutout = cv2.applyColorMap(np.uint8(255 * cam_resnet18_gradcam_cifar100_cutout), cv2.COLORMAP_JET)\n",
    "heatmap_resnet18_gradcam_cifar100_cutout = cv2.cvtColor(heatmap_resnet18_gradcam_cifar100_cutout, cv2.COLOR_BGR2RGB)\n",
    "superimposed_img_resnet18_gradcam_cifar100_cutout = heatmap_resnet18_gradcam_cifar100_cutout * 0.4 + img * 255\n",
    "\n",
    "heatmap_resnet18_gradcam_cifar100_da = cv2.applyColorMap(np.uint8(255 * cam_resnet18_gradcam_cifar100_da), cv2.COLORMAP_JET)\n",
    "heatmap_resnet18_gradcam_cifar100_da = cv2.cvtColor(heatmap_resnet18_gradcam_cifar100_da, cv2.COLOR_BGR2RGB)\n",
    "superimposed_img_resnet18_gradcam_cifar100_da = heatmap_resnet18_gradcam_cifar100_da * 0.4 + img * 255\n",
    "\n",
    "heatmap_resnet18_gradcam_cifar100_da_cutout = cv2.applyColorMap(np.uint8(255 * cam_resnet18_gradcam_cifar100_da_cutout), cv2.COLORMAP_JET)\n",
    "heatmap_resnet18_gradcam_cifar100_da_cutout = cv2.cvtColor(heatmap_resnet18_gradcam_cifar100_da_cutout, cv2.COLOR_BGR2RGB)\n",
    "superimposed_img_resnet18_gradcam_cifar100_da_cutout = heatmap_resnet18_gradcam_cifar100_da_cutout * 0.4 + img * 255\n",
    "\n",
    "class_label = str(labels.item())\n",
    "\n",
    "# Display the original image and the Grad-CAM\n",
    "fig, ax = plt.subplots(nrows=1, ncols=5, figsize=(20, 4))\n",
    "\n",
    "ax[0].imshow(img)\n",
    "ax[0].set_title('(Class: ' + cifar100_classes[int(class_label)] + ')')\n",
    "ax[0].axis('off')\n",
    "ax[1].imshow(superimposed_img_resnet18_gradcam_cifar100 / 255)\n",
    "ax[1].set_title('Pred: ' +predicted_class_resnet18_gradcam_cifar100)\n",
    "ax[1].axis('off')\n",
    "ax[2].imshow(superimposed_img_resnet18_gradcam_cifar100_cutout / 255)\n",
    "ax[2].set_title('Pred: ' +predicted_class_resnet18_gradcam_cifar100)\n",
    "ax[2].axis('off')\n",
    "ax[3].imshow(superimposed_img_resnet18_gradcam_cifar100_da / 255)\n",
    "ax[3].set_title('Pred: ' +predicted_class_resnet18_gradcam_cifar100_da)\n",
    "ax[3].axis('off')\n",
    "ax[4].imshow(superimposed_img_resnet18_gradcam_cifar100_da_cutout / 255)\n",
    "ax[4].set_title('Pred: ' +predicted_class_resnet18_gradcam_cifar100_da_cutout)\n",
    "ax[4].axis('off')\n",
    "\n",
    "# Adjust the vertical position of the suptitle to bring it closer to the subplots.\n",
    "fig.suptitle(\"Original Image - Grad-CAM -  Grad-CAM with Cutout - Grad-CAM with Data Augmentation - Grad-CAM with Cutout & Data Augmentation\", y=1.1) \n",
    "\n",
    "# Automatically adjust subplot params for better layout.\n",
    "plt.tight_layout()\n",
    "\n",
    "plt.show()\n",
    "\n"
   ],
   "id": "d949d659-2bf7-4cc8-b664-37b9bb4d001d"
  },
  {
   "cell_type": "markdown",
   "metadata": {},
   "source": [
    "Now you can try to load your image, preprocess it and convert it into a PyTorch tensor. Choose an image that is in the CIFAR-10 classes (airplanes, cars, birds, cats, deer, dogs, frogs, horses, ships, and trucks). The preprocessing steps should be the same as the ones you used for training your model. Let’s say you have an image `image.jpeg`:"
   ],
   "id": "55d676c6-08ee-4ee0-93f7-03ac296403dd"
  },
  {
   "cell_type": "code",
   "execution_count": null,
   "metadata": {},
   "outputs": [],
   "source": [
    "# Load the image\n",
    "image_path = \"image.jpeg\"\n",
    "image = Image.open(current_path + image_path)\n",
    "\n",
    "# Define the transformations: resize, to tensor, normalize (replace the mean and std with values you used for training)\n",
    "preprocess = transforms.Compose([\n",
    "    transforms.Resize((32, 32)),\n",
    "    transforms.ToTensor(),\n",
    "    transforms.Normalize(mean=[0.485, 0.456, 0.406], std=[0.229, 0.224, 0.225])\n",
    "])\n",
    "\n",
    "# Preprocess the image\n",
    "input_tensor = preprocess(image)\n",
    "input_tensor = input_tensor.unsqueeze(0)  # add batch dimension.  C,H,W => B,C,H,W"
   ],
   "id": "c355da0a-826c-4b5d-a3fa-b9dd6e34f03e"
  },
  {
   "cell_type": "markdown",
   "metadata": {},
   "source": [
    "Apply Grad-CAM"
   ],
   "id": "5286d533-81f2-418e-ae17-d36760d9388a"
  },
  {
   "cell_type": "code",
   "execution_count": null,
   "metadata": {},
   "outputs": [],
   "source": [
    "# Forward pass\n",
    "resnet18_gradcam_cifar100.zero_grad()\n",
    "output_resnet18_gradcam_cifar100 = resnet18_gradcam_cifar100(input_tensor)\n",
    "\n",
    "resnet18_gradcam_cifar100_cutout.zero_grad()\n",
    "output_resnet18_gradcam_cifar100_cutout = resnet18_gradcam_cifar100_cutout(input_tensor)\n",
    "\n",
    "resnet18_gradcam_cifar100_da.zero_grad()\n",
    "output_resnet18_gradcam_cifar100_da = resnet18_gradcam_cifar100_da(input_tensor)\n",
    "\n",
    "resnet18_gradcam_cifar100_da_cutout.zero_grad()\n",
    "output_resnet18_gradcam_cifar100_da_cutout = resnet18_gradcam_cifar100_da_cutout(input_tensor)\n",
    "\n",
    "# Get the index of the max log-probability\n",
    "target_resnet18_gradcam_cifar100 = output_resnet18_gradcam_cifar100.argmax(1)\n",
    "output_resnet18_gradcam_cifar100.max().backward()\n",
    "\n",
    "target_resnet18_gradcam_cifar100_cutout = output_resnet18_gradcam_cifar100_cutout.argmax(1)\n",
    "output_resnet18_gradcam_cifar100_cutout.max().backward()\n",
    "\n",
    "target_resnet18_gradcam_cifar100_da = output_resnet18_gradcam_cifar100_da.argmax(1)\n",
    "output_resnet18_gradcam_cifar100_da.max().backward()\n",
    "\n",
    "target_resnet18_gradcam_cifar100_da_cutout = output_resnet18_gradcam_cifar100_da_cutout.argmax(1)\n",
    "output_resnet18_gradcam_cifar100_da_cutout.max().backward()\n",
    "\n",
    "# Map the predicted class indices to the class labels\n",
    "predicted_class_resnet18_gradcam_cifar100 = cifar100_classes[target_resnet18_gradcam_cifar100.item()]\n",
    "predicted_class_resnet18_gradcam_cifar100 = cifar100_classes[target_resnet18_gradcam_cifar100_cutout.item()]\n",
    "predicted_class_resnet18_gradcam_cifar100_da = cifar100_classes[target_resnet18_gradcam_cifar100_da.item()]\n",
    "predicted_class_resnet18_gradcam_cifar100_da_cutout = cifar100_classes[target_resnet18_gradcam_cifar100_da_cutout.item()]\n",
    "\n",
    "\n",
    "# Get the gradients and activations\n",
    "gradients_resnet18_gradcam_cifar100 = resnet18_gradcam_cifar100.gradients.detach().cpu()\n",
    "activations_resnet18_gradcam_cifar100 = resnet18_gradcam_cifar100.activations.detach().cpu()\n",
    "\n",
    "gradients_resnet18_gradcam_cifar100_cutout = resnet18_gradcam_cifar100_cutout.gradients.detach().cpu()\n",
    "activations_resnet18_gradcam_cifar100_cutout = resnet18_gradcam_cifar100_cutout.activations.detach().cpu()\n",
    "\n",
    "gradients_resnet18_gradcam_cifar100_da = resnet18_gradcam_cifar100_da.gradients.detach().cpu()\n",
    "activations_resnet18_gradcam_cifar100_da = resnet18_gradcam_cifar100_da.activations.detach().cpu()\n",
    "\n",
    "gradients_resnet18_gradcam_cifar100_da_cutout = resnet18_gradcam_cifar100_da_cutout.gradients.detach().cpu()\n",
    "activations_resnet18_gradcam_cifar100_da_cutout = resnet18_gradcam_cifar100_da_cutout.activations.detach().cpu()\n",
    "\n",
    "\n",
    "# Calculate the weights\n",
    "weights_resnet18_gradcam_cifar100 = gradients_resnet18_gradcam_cifar100.mean(dim=(2, 3), keepdim=True)\n",
    "\n",
    "weights_resnet18_gradcam_cifar100_cutout = gradients_resnet18_gradcam_cifar100_cutout.mean(dim=(2, 3), keepdim=True)\n",
    "\n",
    "weights_resnet18_gradcam_cifar100_da = gradients_resnet18_gradcam_cifar100_da.mean(dim=(2, 3), keepdim=True)\n",
    "\n",
    "weights_resnet18_gradcam_cifar100_da_cutout = gradients_resnet18_gradcam_cifar100_da_cutout.mean(dim=(2, 3), keepdim=True)\n",
    "\n",
    "# Calculate the weighted sum of activations (Grad-CAM)\n",
    "cam_resnet18_gradcam_cifar100 = (weights_resnet18_gradcam_cifar100 * activations_resnet18_gradcam_cifar100).sum(dim=1, keepdim=True)\n",
    "cam_resnet18_gradcam_cifar100 = F.relu(cam_resnet18_gradcam_cifar100)  # apply ReLU to the heatmap\n",
    "cam_resnet18_gradcam_cifar100 = F.interpolate(cam_resnet18_gradcam_cifar100, size=(32, 32), mode='bilinear', align_corners=False)\n",
    "cam_resnet18_gradcam_cifar100 = cam_resnet18_gradcam_cifar100.squeeze().numpy()\n",
    "\n",
    "cam_resnet18_gradcam_cifar100_cutout = (weights_resnet18_gradcam_cifar100_cutout * activations_resnet18_gradcam_cifar100_cutout).sum(dim=1, keepdim=True)\n",
    "cam_resnet18_gradcam_cifar100_cutout = F.relu(cam_resnet18_gradcam_cifar100_cutout)  # apply ReLU to the heatmap\n",
    "cam_resnet18_gradcam_cifar100_cutout = F.interpolate(cam_resnet18_gradcam_cifar100_cutout, size=(32, 32), mode='bilinear', align_corners=False)\n",
    "cam_resnet18_gradcam_cifar100_cutout = cam_resnet18_gradcam_cifar100_cutout.squeeze().numpy()\n",
    "\n",
    "cam_resnet18_gradcam_cifar100_da = (weights_resnet18_gradcam_cifar100_da * activations_resnet18_gradcam_cifar100_da).sum(dim=1, keepdim=True)\n",
    "cam_resnet18_gradcam_cifar100_da = F.relu(cam_resnet18_gradcam_cifar100_da)  # apply ReLU to the heatmap\n",
    "cam_resnet18_gradcam_cifar100_da = F.interpolate(cam_resnet18_gradcam_cifar100_da, size=(32, 32), mode='bilinear', align_corners=False)\n",
    "cam_resnet18_gradcam_cifar100_da = cam_resnet18_gradcam_cifar100_da.squeeze().numpy()\n",
    "\n",
    "cam_resnet18_gradcam_cifar100_da_cutout = (weights_resnet18_gradcam_cifar100_da_cutout * activations_resnet18_gradcam_cifar100_da_cutout).sum(dim=1, keepdim=True)\n",
    "cam_resnet18_gradcam_cifar100_da_cutout = F.relu(cam_resnet18_gradcam_cifar100_da_cutout)  # apply ReLU to the heatmap\n",
    "cam_resnet18_gradcam_cifar100_da_cutout = F.interpolate(cam_resnet18_gradcam_cifar100_da_cutout, size=(32, 32), mode='bilinear', align_corners=False)\n",
    "cam_resnet18_gradcam_cifar100_da_cutout = cam_resnet18_gradcam_cifar100_da_cutout.squeeze().numpy()\n",
    "\n",
    "\n",
    "# Normalize the heatmap\n",
    "cam_resnet18_gradcam_cifar100 -= cam_resnet18_gradcam_cifar100.min()\n",
    "cam_resnet18_gradcam_cifar100 /= cam_resnet18_gradcam_cifar100.max()\n",
    "\n",
    "cam_resnet18_gradcam_cifar100_cutout -= cam_resnet18_gradcam_cifar100_cutout.min()\n",
    "cam_resnet18_gradcam_cifar100_cutout /= cam_resnet18_gradcam_cifar100_cutout.max()\n",
    "\n",
    "cam_resnet18_gradcam_cifar100_da -= cam_resnet18_gradcam_cifar100_da.min()\n",
    "cam_resnet18_gradcam_cifar100_da /= cam_resnet18_gradcam_cifar100_da.max()\n",
    "\n",
    "cam_resnet18_gradcam_cifar100_da_cutout -= cam_resnet18_gradcam_cifar100_da_cutout.min()\n",
    "cam_resnet18_gradcam_cifar100_da_cutout /= cam_resnet18_gradcam_cifar100_da_cutout.max()\n",
    "\n",
    "# Since the images from the dataloader are normalized, you have to denormalize them before plotting\n",
    "img = cv2.imread(current_path + image_path)\n",
    "img = cv2.resize(img, (32, 32))\n",
    "img = cv2.cvtColor(img, cv2.COLOR_BGR2RGB)\n",
    "\n",
    "\n",
    "# Superimpose the heatmap onto the original image\n",
    "heatmap_resnet18_gradcam_cifar100 = cv2.applyColorMap(np.uint8(255 * cam_resnet18_gradcam_cifar100), cv2.COLORMAP_JET)\n",
    "heatmap_resnet18_gradcam_cifar100 = cv2.cvtColor(heatmap_resnet18_gradcam_cifar100, cv2.COLOR_BGR2RGB)\n",
    "superimposed_img_resnet18_gradcam_cifar100 = heatmap_resnet18_gradcam_cifar100 * 0.4 + img * 255\n",
    "\n",
    "heatmap_resnet18_gradcam_cifar100_cutout = cv2.applyColorMap(np.uint8(255 * cam_resnet18_gradcam_cifar100_cutout), cv2.COLORMAP_JET)\n",
    "heatmap_resnet18_gradcam_cifar100_cutout = cv2.cvtColor(heatmap_resnet18_gradcam_cifar100_cutout, cv2.COLOR_BGR2RGB)\n",
    "superimposed_img_resnet18_gradcam_cifar100_cutout = heatmap_resnet18_gradcam_cifar100_cutout * 0.4 + img * 255\n",
    "\n",
    "heatmap_resnet18_gradcam_cifar100_da = cv2.applyColorMap(np.uint8(255 * cam_resnet18_gradcam_cifar100_da), cv2.COLORMAP_JET)\n",
    "heatmap_resnet18_gradcam_cifar100_da = cv2.cvtColor(heatmap_resnet18_gradcam_cifar100_da, cv2.COLOR_BGR2RGB)\n",
    "superimposed_img_resnet18_gradcam_cifar100_da = heatmap_resnet18_gradcam_cifar100_da * 0.4 + img * 255\n",
    "\n",
    "heatmap_resnet18_gradcam_cifar100_da_cutout = cv2.applyColorMap(np.uint8(255 * cam_resnet18_gradcam_cifar100_da_cutout), cv2.COLORMAP_JET)\n",
    "heatmap_resnet18_gradcam_cifar100_da_cutout = cv2.cvtColor(heatmap_resnet18_gradcam_cifar100_da_cutout, cv2.COLOR_BGR2RGB)\n",
    "superimposed_img_resnet18_gradcam_cifar100_da_cutout = heatmap_resnet18_gradcam_cifar100_da_cutout * 0.4 + img * 255\n",
    "\n",
    "class_label = str(labels.item())"
   ],
   "id": "cb96524d-0d38-4aae-9eda-eca74cb783e3"
  },
  {
   "cell_type": "markdown",
   "metadata": {},
   "source": [
    "Visualize the image and the Grad-CAM heatmap"
   ],
   "id": "e9ac8d6e-8050-4450-bb59-ecdf8d494eaf"
  },
  {
   "cell_type": "code",
   "execution_count": null,
   "metadata": {},
   "outputs": [],
   "source": [
    "# Display the original image and the Grad-CAM\n",
    "fig, ax = plt.subplots(nrows=1, ncols=5, figsize=(20, 4))\n",
    "\n",
    "ax[0].imshow(img)\n",
    "ax[0].set_title('(Class: ' + cifar100_classes[int(class_label)] + ')')\n",
    "ax[0].axis('off')\n",
    "ax[1].imshow(superimposed_img_resnet18_gradcam_cifar100 / 255)\n",
    "ax[1].set_title('Pred: ' +predicted_class_resnet18_gradcam_cifar100)\n",
    "ax[1].axis('off')\n",
    "ax[2].imshow(superimposed_img_resnet18_gradcam_cifar100_cutout / 255)\n",
    "ax[2].set_title('Pred: ' +predicted_class_resnet18_gradcam_cifar100)\n",
    "ax[2].axis('off')\n",
    "ax[3].imshow(superimposed_img_resnet18_gradcam_cifar100_da / 255)\n",
    "ax[3].set_title('Pred: ' +predicted_class_resnet18_gradcam_cifar100_da)\n",
    "ax[3].axis('off')\n",
    "ax[4].imshow(superimposed_img_resnet18_gradcam_cifar100_da_cutout / 255)\n",
    "ax[4].set_title('Pred: ' +predicted_class_resnet18_gradcam_cifar100_da_cutout)\n",
    "ax[4].axis('off')\n",
    "\n",
    "# Adjust the vertical position of the suptitle to bring it closer to the subplots.\n",
    "fig.suptitle(\"Original Image - Grad-CAM -  Grad-CAM with Cutout - Grad-CAM with Data Augmentation - Grad-CAM with Cutout & Data Augmentation\", y=1.1) \n",
    "\n",
    "# Automatically adjust subplot params for better layout.\n",
    "plt.tight_layout()\n",
    "plt.show()"
   ],
   "id": "9d29d767-5e42-4a2c-a21d-003b400797d7"
  },
  {
   "cell_type": "code",
   "execution_count": null,
   "metadata": {},
   "outputs": [],
   "source": [],
   "id": "8e45a56f-b171-4b0e-91b1-7b5adac2e195"
  },
  {
   "cell_type": "markdown",
   "metadata": {},
   "source": [
    "## 4.3 Implementation Grad-CAM for WideResNet Model"
   ],
   "id": "68efbb69-2a9f-4946-b4f9-00e548ebe833"
  },
  {
   "cell_type": "markdown",
   "metadata": {},
   "source": [
    "This is the code of the WideResNet Architecture and it is the similar to the code we introduced earlier in the section about WideResNet, but we added hook layers. Hook layers are inserted at specific layers of the model to capture the intermediate feature maps. These feature maps represent the learned activations of the model as it processes the input image. GRAD-CAM uses these activations to understand which parts of the image are contributing the most to the final prediction."
   ],
   "id": "19dd3c3c-fea9-4544-8469-e0adb3545079"
  },
  {
   "cell_type": "markdown",
   "metadata": {},
   "source": [
    "### WideResNet Code"
   ],
   "id": "33785618-88ea-401b-bbfe-d686945ff3f7"
  },
  {
   "cell_type": "code",
   "execution_count": null,
   "metadata": {},
   "outputs": [],
   "source": [
    "# WideResNet\n",
    "\n",
    "# From https://github.com/uoguelph-mlrg/Cutout/blob/master/model/wide_resnet.py\n",
    "\n",
    "class BasicBlockWide(nn.Module):\n",
    "    def __init__(self, in_planes, out_planes, stride, dropRate=0.0):\n",
    "        super(BasicBlockWide, self).__init__()\n",
    "        self.bn1 = nn.BatchNorm2d(in_planes)\n",
    "        self.relu1 = nn.ReLU(inplace=True)\n",
    "        self.conv1 = nn.Conv2d(in_planes, out_planes, kernel_size=3, stride=stride,\n",
    "                               padding=1, bias=False)\n",
    "        self.bn2 = nn.BatchNorm2d(out_planes)\n",
    "        self.relu2 = nn.ReLU(inplace=True)\n",
    "        self.conv2 = nn.Conv2d(out_planes, out_planes, kernel_size=3, stride=1,\n",
    "                               padding=1, bias=False)\n",
    "        self.droprate = dropRate\n",
    "        self.equalInOut = (in_planes == out_planes)\n",
    "        self.convShortcut = (not self.equalInOut) and nn.Conv2d(in_planes, out_planes, kernel_size=1, stride=stride,\n",
    "                               padding=0, bias=False) or None\n",
    "    def forward(self, x):\n",
    "        if not self.equalInOut:\n",
    "            x = self.relu1(self.bn1(x))\n",
    "        else:\n",
    "            out = self.relu1(self.bn1(x))\n",
    "        out = self.relu2(self.bn2(self.conv1(out if self.equalInOut else x)))\n",
    "        if self.droprate > 0:\n",
    "            out = F.dropout(out, p=self.droprate, training=self.training)\n",
    "        out = self.conv2(out)\n",
    "        return torch.add(x if self.equalInOut else self.convShortcut(x), out)\n",
    "\n",
    "class NetworkBlock(nn.Module):\n",
    "    def __init__(self, nb_layers, in_planes, out_planes, block, stride, dropRate=0.0):\n",
    "        super(NetworkBlock, self).__init__()\n",
    "        self.layer = self._make_layer(block, in_planes, out_planes, nb_layers, stride, dropRate)\n",
    "    def _make_layer(self, block, in_planes, out_planes, nb_layers, stride, dropRate):\n",
    "        layers = []\n",
    "        for i in range(nb_layers):\n",
    "            layers.append(block(i == 0 and in_planes or out_planes, out_planes, i == 0 and stride or 1, dropRate))\n",
    "        return nn.Sequential(*layers)\n",
    "    def forward(self, x):\n",
    "        return self.layer(x)\n",
    "\n",
    "class WideResNet(nn.Module):\n",
    "    def __init__(self, depth, num_classes, widen_factor=1, dropRate=0.0):\n",
    "        super(WideResNet, self).__init__()\n",
    "        nChannels = [16, 16*widen_factor, 32*widen_factor, 64*widen_factor]\n",
    "        assert((depth - 4) % 6 == 0)\n",
    "        n = (depth - 4) // 6\n",
    "        block = BasicBlockWide\n",
    "        # 1st conv before any network block\n",
    "        self.conv1 = nn.Conv2d(3, nChannels[0], kernel_size=3, stride=1,\n",
    "                               padding=1, bias=False)\n",
    "        # 1st block\n",
    "        self.block1 = NetworkBlock(n, nChannels[0], nChannels[1], block, 1, dropRate)\n",
    "        # 2nd block\n",
    "        self.block2 = NetworkBlock(n, nChannels[1], nChannels[2], block, 2, dropRate)\n",
    "        # 3rd block\n",
    "        self.block3 = NetworkBlock(n, nChannels[2], nChannels[3], block, 2, dropRate)\n",
    "        # global average pooling and classifier\n",
    "        self.bn1 = nn.BatchNorm2d(nChannels[3])\n",
    "        self.relu = nn.ReLU(inplace=True)\n",
    "        self.fc = nn.Linear(nChannels[3], num_classes)\n",
    "        self.nChannels = nChannels[3]\n",
    "\n",
    "        for m in self.modules():\n",
    "            if isinstance(m, nn.Conv2d):\n",
    "                n = m.kernel_size[0] * m.kernel_size[1] * m.out_channels\n",
    "                m.weight.data.normal_(0, math.sqrt(2. / n))\n",
    "            elif isinstance(m, nn.BatchNorm2d):\n",
    "                m.weight.data.fill_(1)\n",
    "                m.bias.data.zero_()\n",
    "            elif isinstance(m, nn.Linear):\n",
    "                m.bias.data.zero_()\n",
    "\n",
    "        # Register hooks for Grad-CAM\n",
    "        self.gradients = None\n",
    "        self.activations = None\n",
    "        self.block3.register_forward_hook(self._store_activations_hook)\n",
    "        self.block3.register_backward_hook(self._store_gradients_hook)\n",
    "\n",
    "    def _store_activations_hook(self, module, input, output):\n",
    "        self.activations = output\n",
    "\n",
    "    def _store_gradients_hook(self, module, grad_input, grad_output):\n",
    "        self.gradients = grad_output[0]\n",
    "\n",
    "    def forward(self, x):\n",
    "        out = self.conv1(x)\n",
    "        out = self.block1(out)\n",
    "        out = self.block2(out)\n",
    "        out = self.block3(out)\n",
    "        out = self.relu(self.bn1(out))\n",
    "\n",
    "        out = F.avg_pool2d(out, 8)\n",
    "        out = out.view(-1, self.nChannels)\n",
    "        out = self.fc(out)\n",
    "        return out"
   ],
   "id": "c6c6e46a-ced0-4db5-a1e8-fa06d32a54fa"
  },
  {
   "cell_type": "markdown",
   "metadata": {},
   "source": [
    "## 4.3.1 Implementation Grad-CAM for WideResNet Model for CIFAR-10"
   ],
   "id": "ca2fb1bc-a7fd-4694-ba7c-a9185e653bd2"
  },
  {
   "cell_type": "code",
   "execution_count": null,
   "metadata": {},
   "outputs": [],
   "source": [
    "\n",
    "wideresnet_gradcam_cifar10 = WideResNet(depth=28, num_classes=10, widen_factor=10, dropRate=0.3)\n",
    "wideresnet_gradcam_cifar10.load_state_dict(torch.load(current_path + \"checkpoints/wideresnet_cifar10.pt\"))\n",
    "wideresnet_gradcam_cifar10.eval()\n",
    "\n",
    "wideresnet_gradcam_cifar10_cutout = WideResNet(depth=28, num_classes=10, widen_factor=10, dropRate=0.3)\n",
    "wideresnet_gradcam_cifar10_cutout.load_state_dict(torch.load(current_path + \"checkpoints/wideresnet_cifar10_cutout.pt\"))\n",
    "wideresnet_gradcam_cifar10_cutout.eval()\n",
    "\n",
    "wideresnet_gradcam_cifar10_da = WideResNet(depth=28, num_classes=10, widen_factor=10, dropRate=0.3)\n",
    "wideresnet_gradcam_cifar10_da.load_state_dict(torch.load(current_path + \"checkpoints/wideresnet_cifar10_da.pt\"))\n",
    "wideresnet_gradcam_cifar10_da.eval()\n",
    "\n",
    "wideresnet_gradcam_cifar10_da_cutout = WideResNet(depth=28, num_classes=10, widen_factor=10, dropRate=0.3)\n",
    "wideresnet_gradcam_cifar10_da_cutout.load_state_dict(torch.load(current_path + \"checkpoints/wideresnet_cifar10_da_cutout.pt\"))\n",
    "wideresnet_gradcam_cifar10_da_cutout.eval()"
   ],
   "id": "c698de1f-9c84-4089-8a39-9344cff56d05"
  },
  {
   "cell_type": "markdown",
   "metadata": {},
   "source": [
    "Let’s try to see the result from the testloader of CIFAR-10 dataset"
   ],
   "id": "470091b3-e408-4abd-830c-5fd3ffc23869"
  },
  {
   "cell_type": "code",
   "execution_count": null,
   "metadata": {},
   "outputs": [],
   "source": [
    "transform_cifar10 = transforms.Compose([\n",
    "    transforms.Resize((32, 32)),\n",
    "    transforms.ToTensor(),\n",
    "    transforms.Normalize(mean=[0.485, 0.456, 0.406], std=[0.229, 0.224, 0.225])\n",
    "])\n",
    "\n",
    "testset_cifar10 = datasets.CIFAR10(root='./data', train=False, download=True, transform=transform_cifar10)\n",
    "testloader_cifar10 = torch.utils.data.DataLoader(testset_cifar10, batch_size=1, shuffle=True, num_workers=2)\n"
   ],
   "id": "150c76e6-14da-4cdd-b931-f0b16381e6da"
  },
  {
   "cell_type": "code",
   "execution_count": null,
   "metadata": {},
   "outputs": [],
   "source": [
    "cifar10_classes = [\n",
    "    \"Airplane\", \"Automobile\", \"Bird\", \"Cat\", \"Deer\",\n",
    "    \"Dog\", \"Frog\", \"Horse\", \"Ship\", \"Truck\"\n",
    "]"
   ],
   "id": "cdbc78b5-3b44-44b9-b6c2-fdb2a541c1d0"
  },
  {
   "cell_type": "code",
   "execution_count": null,
   "metadata": {},
   "outputs": [],
   "source": [
    "# Get a batch from the testloader\n",
    "images, labels = next(iter(testloader_cifar10))\n",
    "input_tensor = images  # As your batch_size is 1, you will have a single image here\n",
    "\n",
    "# Forward pass\n",
    "wideresnet_gradcam_cifar10.zero_grad()\n",
    "output_wideresnet_gradcam_cifar10 = wideresnet_gradcam_cifar10(input_tensor)\n",
    "\n",
    "wideresnet_gradcam_cifar10_cutout.zero_grad()\n",
    "output_wideresnet_gradcam_cifar10_cutout = wideresnet_gradcam_cifar10_cutout(input_tensor)\n",
    "\n",
    "wideresnet_gradcam_cifar10_da.zero_grad()\n",
    "output_wideresnet_gradcam_cifar10_da = wideresnet_gradcam_cifar10_da(input_tensor)\n",
    "\n",
    "wideresnet_gradcam_cifar10_da_cutout.zero_grad()\n",
    "output_wideresnet_gradcam_cifar10_da_cutout = wideresnet_gradcam_cifar10_da_cutout(input_tensor)\n",
    "\n",
    "# Get the index of the max log-probability\n",
    "target_wideresnet_gradcam_cifar10 = output_wideresnet_gradcam_cifar10.argmax(1)\n",
    "output_wideresnet_gradcam_cifar10.max().backward()\n",
    "\n",
    "target_wideresnet_gradcam_cifar10_cutout = output_wideresnet_gradcam_cifar10_cutout.argmax(1)\n",
    "output_wideresnet_gradcam_cifar10_cutout.max().backward()\n",
    "\n",
    "target_wideresnet_gradcam_cifar10_da = output_wideresnet_gradcam_cifar10_da.argmax(1)\n",
    "output_wideresnet_gradcam_cifar10_da.max().backward()\n",
    "\n",
    "target_wideresnet_gradcam_cifar10_da_cutout = output_wideresnet_gradcam_cifar10_da_cutout.argmax(1)\n",
    "output_wideresnet_gradcam_cifar10_da_cutout.max().backward()\n",
    "\n",
    "# Map the predicted class indices to the class labels\n",
    "predicted_class_wideresnet_gradcam_cifar10 = cifar10_classes[target_wideresnet_gradcam_cifar10.item()]\n",
    "predicted_class_wideresnet_gradcam_cifar10 = cifar10_classes[target_wideresnet_gradcam_cifar10_cutout.item()]\n",
    "predicted_class_wideresnet_gradcam_cifar10_da = cifar10_classes[target_wideresnet_gradcam_cifar10_da.item()]\n",
    "predicted_class_wideresnet_gradcam_cifar10_da_cutout = cifar10_classes[target_wideresnet_gradcam_cifar10_da_cutout.item()]\n",
    "\n",
    "\n",
    "# Get the gradients and activations\n",
    "gradients_wideresnet_gradcam_cifar10 = wideresnet_gradcam_cifar10.gradients.detach().cpu()\n",
    "activations_wideresnet_gradcam_cifar10 = wideresnet_gradcam_cifar10.activations.detach().cpu()\n",
    "\n",
    "gradients_wideresnet_gradcam_cifar10_cutout = wideresnet_gradcam_cifar10_cutout.gradients.detach().cpu()\n",
    "activations_wideresnet_gradcam_cifar10_cutout = wideresnet_gradcam_cifar10_cutout.activations.detach().cpu()\n",
    "\n",
    "gradients_wideresnet_gradcam_cifar10_da = wideresnet_gradcam_cifar10_da.gradients.detach().cpu()\n",
    "activations_wideresnet_gradcam_cifar10_da = wideresnet_gradcam_cifar10_da.activations.detach().cpu()\n",
    "\n",
    "gradients_wideresnet_gradcam_cifar10_da_cutout = wideresnet_gradcam_cifar10_da_cutout.gradients.detach().cpu()\n",
    "activations_wideresnet_gradcam_cifar10_da_cutout = wideresnet_gradcam_cifar10_da_cutout.activations.detach().cpu()\n",
    "\n",
    "\n",
    "# Calculate the weights\n",
    "weights_wideresnet_gradcam_cifar10 = gradients_wideresnet_gradcam_cifar10.mean(dim=(2, 3), keepdim=True)\n",
    "\n",
    "weights_wideresnet_gradcam_cifar10_cutout = gradients_wideresnet_gradcam_cifar10_cutout.mean(dim=(2, 3), keepdim=True)\n",
    "\n",
    "weights_wideresnet_gradcam_cifar10_da = gradients_wideresnet_gradcam_cifar10_da.mean(dim=(2, 3), keepdim=True)\n",
    "\n",
    "weights_wideresnet_gradcam_cifar10_da_cutout = gradients_wideresnet_gradcam_cifar10_da_cutout.mean(dim=(2, 3), keepdim=True)\n",
    "\n",
    "# Calculate the weighted sum of activations (Grad-CAM)\n",
    "cam_wideresnet_gradcam_cifar10 = (weights_wideresnet_gradcam_cifar10 * activations_wideresnet_gradcam_cifar10).sum(dim=1, keepdim=True)\n",
    "cam_wideresnet_gradcam_cifar10 = F.relu(cam_wideresnet_gradcam_cifar10)  # apply ReLU to the heatmap\n",
    "cam_wideresnet_gradcam_cifar10 = F.interpolate(cam_wideresnet_gradcam_cifar10, size=(32, 32), mode='bilinear', align_corners=False)\n",
    "cam_wideresnet_gradcam_cifar10 = cam_wideresnet_gradcam_cifar10.squeeze().numpy()\n",
    "\n",
    "cam_wideresnet_gradcam_cifar10_cutout = (weights_wideresnet_gradcam_cifar10_cutout * activations_wideresnet_gradcam_cifar10_cutout).sum(dim=1, keepdim=True)\n",
    "cam_wideresnet_gradcam_cifar10_cutout = F.relu(cam_wideresnet_gradcam_cifar10_cutout)  # apply ReLU to the heatmap\n",
    "cam_wideresnet_gradcam_cifar10_cutout = F.interpolate(cam_wideresnet_gradcam_cifar10_cutout, size=(32, 32), mode='bilinear', align_corners=False)\n",
    "cam_wideresnet_gradcam_cifar10_cutout = cam_wideresnet_gradcam_cifar10_cutout.squeeze().numpy()\n",
    "\n",
    "cam_wideresnet_gradcam_cifar10_da = (weights_wideresnet_gradcam_cifar10_da * activations_wideresnet_gradcam_cifar10_da).sum(dim=1, keepdim=True)\n",
    "cam_wideresnet_gradcam_cifar10_da = F.relu(cam_wideresnet_gradcam_cifar10_da)  # apply ReLU to the heatmap\n",
    "cam_wideresnet_gradcam_cifar10_da = F.interpolate(cam_wideresnet_gradcam_cifar10_da, size=(32, 32), mode='bilinear', align_corners=False)\n",
    "cam_wideresnet_gradcam_cifar10_da = cam_wideresnet_gradcam_cifar10_da.squeeze().numpy()\n",
    "\n",
    "cam_wideresnet_gradcam_cifar10_da_cutout = (weights_wideresnet_gradcam_cifar10_da_cutout * activations_wideresnet_gradcam_cifar10_da_cutout).sum(dim=1, keepdim=True)\n",
    "cam_wideresnet_gradcam_cifar10_da_cutout = F.relu(cam_wideresnet_gradcam_cifar10_da_cutout)  # apply ReLU to the heatmap\n",
    "cam_wideresnet_gradcam_cifar10_da_cutout = F.interpolate(cam_wideresnet_gradcam_cifar10_da_cutout, size=(32, 32), mode='bilinear', align_corners=False)\n",
    "cam_wideresnet_gradcam_cifar10_da_cutout = cam_wideresnet_gradcam_cifar10_da_cutout.squeeze().numpy()\n",
    "\n",
    "\n",
    "# Normalize the heatmap\n",
    "cam_wideresnet_gradcam_cifar10 -= cam_wideresnet_gradcam_cifar10.min()\n",
    "cam_wideresnet_gradcam_cifar10 /= cam_wideresnet_gradcam_cifar10.max()\n",
    "\n",
    "cam_wideresnet_gradcam_cifar10_cutout -= cam_wideresnet_gradcam_cifar10_cutout.min()\n",
    "cam_wideresnet_gradcam_cifar10_cutout /= cam_wideresnet_gradcam_cifar10_cutout.max()\n",
    "\n",
    "cam_wideresnet_gradcam_cifar10_da -= cam_wideresnet_gradcam_cifar10_da.min()\n",
    "cam_wideresnet_gradcam_cifar10_da /= cam_wideresnet_gradcam_cifar10_da.max()\n",
    "\n",
    "cam_wideresnet_gradcam_cifar10_da_cutout -= cam_wideresnet_gradcam_cifar10_da_cutout.min()\n",
    "cam_wideresnet_gradcam_cifar10_da_cutout /= cam_wideresnet_gradcam_cifar10_da_cutout.max()\n",
    "\n",
    "# Since the images from the dataloader are normalized, you have to denormalize them before plotting\n",
    "mean = torch.tensor([0.485, 0.456, 0.406])\n",
    "std = torch.tensor([0.229, 0.224, 0.225])\n",
    "img = images.squeeze().detach().cpu() * std[..., None, None] + mean[..., None, None]\n",
    "img = img.permute(1, 2, 0).numpy()\n",
    "\n",
    "# Superimpose the heatmap onto the original image\n",
    "heatmap_wideresnet_gradcam_cifar10 = cv2.applyColorMap(np.uint8(255 * cam_wideresnet_gradcam_cifar10), cv2.COLORMAP_JET)\n",
    "heatmap_wideresnet_gradcam_cifar10 = cv2.cvtColor(heatmap_wideresnet_gradcam_cifar10, cv2.COLOR_BGR2RGB)\n",
    "superimposed_img_wideresnet_gradcam_cifar10 = heatmap_wideresnet_gradcam_cifar10 * 0.4 + img * 255\n",
    "\n",
    "heatmap_wideresnet_gradcam_cifar10_cutout = cv2.applyColorMap(np.uint8(255 * cam_wideresnet_gradcam_cifar10_cutout), cv2.COLORMAP_JET)\n",
    "heatmap_wideresnet_gradcam_cifar10_cutout = cv2.cvtColor(heatmap_wideresnet_gradcam_cifar10_cutout, cv2.COLOR_BGR2RGB)\n",
    "superimposed_img_wideresnet_gradcam_cifar10_cutout = heatmap_wideresnet_gradcam_cifar10_cutout * 0.4 + img * 255\n",
    "\n",
    "heatmap_wideresnet_gradcam_cifar10_da = cv2.applyColorMap(np.uint8(255 * cam_wideresnet_gradcam_cifar10_da), cv2.COLORMAP_JET)\n",
    "heatmap_wideresnet_gradcam_cifar10_da = cv2.cvtColor(heatmap_wideresnet_gradcam_cifar10_da, cv2.COLOR_BGR2RGB)\n",
    "superimposed_img_wideresnet_gradcam_cifar10_da = heatmap_wideresnet_gradcam_cifar10_da * 0.4 + img * 255\n",
    "\n",
    "heatmap_wideresnet_gradcam_cifar10_da_cutout = cv2.applyColorMap(np.uint8(255 * cam_wideresnet_gradcam_cifar10_da_cutout), cv2.COLORMAP_JET)\n",
    "heatmap_wideresnet_gradcam_cifar10_da_cutout = cv2.cvtColor(heatmap_wideresnet_gradcam_cifar10_da_cutout, cv2.COLOR_BGR2RGB)\n",
    "superimposed_img_wideresnet_gradcam_cifar10_da_cutout = heatmap_wideresnet_gradcam_cifar10_da_cutout * 0.4 + img * 255\n",
    "\n",
    "class_label = str(labels.item())\n",
    "\n",
    "# Display the original image and the Grad-CAM\n",
    "fig, ax = plt.subplots(nrows=1, ncols=5, figsize=(20, 4))\n",
    "\n",
    "ax[0].imshow(img)\n",
    "ax[0].set_title('(Class: ' + cifar10_classes[int(class_label)] + ')')\n",
    "ax[0].axis('off')\n",
    "ax[1].imshow(superimposed_img_wideresnet_gradcam_cifar10 / 255)\n",
    "ax[1].set_title('Pred: ' + predicted_class_wideresnet_gradcam_cifar10)\n",
    "ax[1].axis('off')\n",
    "ax[2].imshow(superimposed_img_wideresnet_gradcam_cifar10_cutout / 255)\n",
    "ax[2].set_title('Pred: ' +predicted_class_wideresnet_gradcam_cifar10)\n",
    "ax[2].axis('off')\n",
    "ax[3].imshow(superimposed_img_wideresnet_gradcam_cifar10_da / 255)\n",
    "ax[3].set_title('Pred: ' +predicted_class_wideresnet_gradcam_cifar10_da)\n",
    "ax[3].axis('off')\n",
    "ax[4].imshow(superimposed_img_wideresnet_gradcam_cifar10_da_cutout / 255)\n",
    "ax[4].set_title('Pred: ' +predicted_class_wideresnet_gradcam_cifar10_da_cutout)\n",
    "ax[4].axis('off')\n",
    "\n",
    "# Adjust the vertical position of the suptitle to bring it closer to the subplots.\n",
    "fig.suptitle(\"Original Image - Grad-CAM -  Grad-CAM with Cutout - Grad-CAM with Data Augmentation - Grad-CAM with Cutout & Data Augmentation\", y=1.1) \n",
    "\n",
    "# Automatically adjust subplot params for better layout.\n",
    "plt.tight_layout()\n",
    "plt.show()"
   ],
   "id": "8acba862-2a65-45c4-912e-71d3f47dc384"
  },
  {
   "cell_type": "markdown",
   "metadata": {},
   "source": [
    "Now you can try to load your image, preprocess it and convert it into a PyTorch tensor. Choose an image that is in the CIFAR-10 classes (airplanes, cars, birds, cats, deer, dogs, frogs, horses, ships, and trucks). The preprocessing steps should be the same as the ones you used for training your model. Let’s say you have an image `image.jpeg`:"
   ],
   "id": "c8025b8b-ef38-422d-a332-525ea97fe00e"
  },
  {
   "cell_type": "code",
   "execution_count": null,
   "metadata": {},
   "outputs": [],
   "source": [
    "# Load the image\n",
    "image_path = \"image.jpeg\"\n",
    "image = Image.open(current_path + image_path)\n",
    "\n",
    "# Define the transformations: resize, to tensor, normalize (replace the mean and std with values you used for training)\n",
    "preprocess = transforms.Compose([\n",
    "    transforms.Resize((32, 32)),\n",
    "    transforms.ToTensor(),\n",
    "    transforms.Normalize(mean=[0.485, 0.456, 0.406], std=[0.229, 0.224, 0.225])\n",
    "])\n",
    "\n",
    "# Preprocess the image\n",
    "input_tensor = preprocess(image)\n",
    "input_tensor = input_tensor.unsqueeze(0)  # add batch dimension.  C,H,W => B,C,H,W"
   ],
   "id": "50fb5fb2-6534-4c84-b7da-a86f524527e0"
  },
  {
   "cell_type": "markdown",
   "metadata": {},
   "source": [
    "Apply Grad-CAM"
   ],
   "id": "fab51c15-079e-4f33-87c3-4f4b9ccef86d"
  },
  {
   "cell_type": "code",
   "execution_count": null,
   "metadata": {},
   "outputs": [],
   "source": [
    "# Forward pass\n",
    "wideresnet_gradcam_cifar10.zero_grad()\n",
    "output_wideresnet_gradcam_cifar10 = wideresnet_gradcam_cifar10(input_tensor)\n",
    "\n",
    "wideresnet_gradcam_cifar10_cutout.zero_grad()\n",
    "output_wideresnet_gradcam_cifar10_cutout = wideresnet_gradcam_cifar10_cutout(input_tensor)\n",
    "\n",
    "wideresnet_gradcam_cifar10_da.zero_grad()\n",
    "output_wideresnet_gradcam_cifar10_da = wideresnet_gradcam_cifar10_da(input_tensor)\n",
    "\n",
    "wideresnet_gradcam_cifar10_da_cutout.zero_grad()\n",
    "output_wideresnet_gradcam_cifar10_da_cutout = wideresnet_gradcam_cifar10_da_cutout(input_tensor)\n",
    "\n",
    "# Get the index of the max log-probability\n",
    "target_wideresnet_gradcam_cifar10 = output_wideresnet_gradcam_cifar10.argmax(1)\n",
    "output_wideresnet_gradcam_cifar10.max().backward()\n",
    "\n",
    "target_wideresnet_gradcam_cifar10_cutout = output_wideresnet_gradcam_cifar10_cutout.argmax(1)\n",
    "output_wideresnet_gradcam_cifar10_cutout.max().backward()\n",
    "\n",
    "target_wideresnet_gradcam_cifar10_da = output_wideresnet_gradcam_cifar10_da.argmax(1)\n",
    "output_wideresnet_gradcam_cifar10_da.max().backward()\n",
    "\n",
    "target_wideresnet_gradcam_cifar10_da_cutout = output_wideresnet_gradcam_cifar10_da_cutout.argmax(1)\n",
    "output_wideresnet_gradcam_cifar10_da_cutout.max().backward()\n",
    "\n",
    "# Map the predicted class indices to the class labels\n",
    "predicted_class_wideresnet_gradcam_cifar10 = cifar10_classes[target_wideresnet_gradcam_cifar10.item()]\n",
    "predicted_class_wideresnet_gradcam_cifar10 = cifar10_classes[target_wideresnet_gradcam_cifar10_cutout.item()]\n",
    "predicted_class_wideresnet_gradcam_cifar10_da = cifar10_classes[target_wideresnet_gradcam_cifar10_da.item()]\n",
    "predicted_class_wideresnet_gradcam_cifar10_da_cutout = cifar10_classes[target_wideresnet_gradcam_cifar10_da_cutout.item()]\n",
    "\n",
    "\n",
    "# Get the gradients and activations\n",
    "gradients_wideresnet_gradcam_cifar10 = wideresnet_gradcam_cifar10.gradients.detach().cpu()\n",
    "activations_wideresnet_gradcam_cifar10 = wideresnet_gradcam_cifar10.activations.detach().cpu()\n",
    "\n",
    "gradients_wideresnet_gradcam_cifar10_cutout = wideresnet_gradcam_cifar10_cutout.gradients.detach().cpu()\n",
    "activations_wideresnet_gradcam_cifar10_cutout = wideresnet_gradcam_cifar10_cutout.activations.detach().cpu()\n",
    "\n",
    "gradients_wideresnet_gradcam_cifar10_da = wideresnet_gradcam_cifar10_da.gradients.detach().cpu()\n",
    "activations_wideresnet_gradcam_cifar10_da = wideresnet_gradcam_cifar10_da.activations.detach().cpu()\n",
    "\n",
    "gradients_wideresnet_gradcam_cifar10_da_cutout = wideresnet_gradcam_cifar10_da_cutout.gradients.detach().cpu()\n",
    "activations_wideresnet_gradcam_cifar10_da_cutout = wideresnet_gradcam_cifar10_da_cutout.activations.detach().cpu()\n",
    "\n",
    "\n",
    "# Calculate the weights\n",
    "weights_wideresnet_gradcam_cifar10 = gradients_wideresnet_gradcam_cifar10.mean(dim=(2, 3), keepdim=True)\n",
    "\n",
    "weights_wideresnet_gradcam_cifar10_cutout = gradients_wideresnet_gradcam_cifar10_cutout.mean(dim=(2, 3), keepdim=True)\n",
    "\n",
    "weights_wideresnet_gradcam_cifar10_da = gradients_wideresnet_gradcam_cifar10_da.mean(dim=(2, 3), keepdim=True)\n",
    "\n",
    "weights_wideresnet_gradcam_cifar10_da_cutout = gradients_wideresnet_gradcam_cifar10_da_cutout.mean(dim=(2, 3), keepdim=True)\n",
    "\n",
    "# Calculate the weighted sum of activations (Grad-CAM)\n",
    "cam_wideresnet_gradcam_cifar10 = (weights_wideresnet_gradcam_cifar10 * activations_wideresnet_gradcam_cifar10).sum(dim=1, keepdim=True)\n",
    "cam_wideresnet_gradcam_cifar10 = F.relu(cam_wideresnet_gradcam_cifar10)  # apply ReLU to the heatmap\n",
    "cam_wideresnet_gradcam_cifar10 = F.interpolate(cam_wideresnet_gradcam_cifar10, size=(32, 32), mode='bilinear', align_corners=False)\n",
    "cam_wideresnet_gradcam_cifar10 = cam_wideresnet_gradcam_cifar10.squeeze().numpy()\n",
    "\n",
    "cam_wideresnet_gradcam_cifar10_cutout = (weights_wideresnet_gradcam_cifar10_cutout * activations_wideresnet_gradcam_cifar10_cutout).sum(dim=1, keepdim=True)\n",
    "cam_wideresnet_gradcam_cifar10_cutout = F.relu(cam_wideresnet_gradcam_cifar10_cutout)  # apply ReLU to the heatmap\n",
    "cam_wideresnet_gradcam_cifar10_cutout = F.interpolate(cam_wideresnet_gradcam_cifar10_cutout, size=(32, 32), mode='bilinear', align_corners=False)\n",
    "cam_wideresnet_gradcam_cifar10_cutout = cam_wideresnet_gradcam_cifar10_cutout.squeeze().numpy()\n",
    "\n",
    "cam_wideresnet_gradcam_cifar10_da = (weights_wideresnet_gradcam_cifar10_da * activations_wideresnet_gradcam_cifar10_da).sum(dim=1, keepdim=True)\n",
    "cam_wideresnet_gradcam_cifar10_da = F.relu(cam_wideresnet_gradcam_cifar10_da)  # apply ReLU to the heatmap\n",
    "cam_wideresnet_gradcam_cifar10_da = F.interpolate(cam_wideresnet_gradcam_cifar10_da, size=(32, 32), mode='bilinear', align_corners=False)\n",
    "cam_wideresnet_gradcam_cifar10_da = cam_wideresnet_gradcam_cifar10_da.squeeze().numpy()\n",
    "\n",
    "cam_wideresnet_gradcam_cifar10_da_cutout = (weights_wideresnet_gradcam_cifar10_da_cutout * activations_wideresnet_gradcam_cifar10_da_cutout).sum(dim=1, keepdim=True)\n",
    "cam_wideresnet_gradcam_cifar10_da_cutout = F.relu(cam_wideresnet_gradcam_cifar10_da_cutout)  # apply ReLU to the heatmap\n",
    "cam_wideresnet_gradcam_cifar10_da_cutout = F.interpolate(cam_wideresnet_gradcam_cifar10_da_cutout, size=(32, 32), mode='bilinear', align_corners=False)\n",
    "cam_wideresnet_gradcam_cifar10_da_cutout = cam_wideresnet_gradcam_cifar10_da_cutout.squeeze().numpy()\n",
    "\n",
    "\n",
    "# Normalize the heatmap\n",
    "cam_wideresnet_gradcam_cifar10 -= cam_wideresnet_gradcam_cifar10.min()\n",
    "cam_wideresnet_gradcam_cifar10 /= cam_wideresnet_gradcam_cifar10.max()\n",
    "\n",
    "cam_wideresnet_gradcam_cifar10_cutout -= cam_wideresnet_gradcam_cifar10_cutout.min()\n",
    "cam_wideresnet_gradcam_cifar10_cutout /= cam_wideresnet_gradcam_cifar10_cutout.max()\n",
    "\n",
    "cam_wideresnet_gradcam_cifar10_da -= cam_wideresnet_gradcam_cifar10_da.min()\n",
    "cam_wideresnet_gradcam_cifar10_da /= cam_wideresnet_gradcam_cifar10_da.max()\n",
    "\n",
    "cam_wideresnet_gradcam_cifar10_da_cutout -= cam_wideresnet_gradcam_cifar10_da_cutout.min()\n",
    "cam_wideresnet_gradcam_cifar10_da_cutout /= cam_wideresnet_gradcam_cifar10_da_cutout.max()\n",
    "\n",
    "# Load the original image\n",
    "img = cv2.imread(current_path + image_path)\n",
    "img = cv2.resize(img, (32, 32))\n",
    "img = cv2.cvtColor(img, cv2.COLOR_BGR2RGB)\n",
    "\n",
    "# Superimpose the heatmap onto the original image\n",
    "heatmap_wideresnet_gradcam_cifar10 = cv2.applyColorMap(np.uint8(255 * cam_wideresnet_gradcam_cifar10), cv2.COLORMAP_JET)\n",
    "heatmap_wideresnet_gradcam_cifar10 = cv2.cvtColor(heatmap_wideresnet_gradcam_cifar10, cv2.COLOR_BGR2RGB)\n",
    "superimposed_img_wideresnet_gradcam_cifar10 = heatmap_wideresnet_gradcam_cifar10 * 0.4 + img * 255\n",
    "\n",
    "heatmap_wideresnet_gradcam_cifar10_cutout = cv2.applyColorMap(np.uint8(255 * cam_wideresnet_gradcam_cifar10_cutout), cv2.COLORMAP_JET)\n",
    "heatmap_wideresnet_gradcam_cifar10_cutout = cv2.cvtColor(heatmap_wideresnet_gradcam_cifar10_cutout, cv2.COLOR_BGR2RGB)\n",
    "superimposed_img_wideresnet_gradcam_cifar10_cutout = heatmap_wideresnet_gradcam_cifar10_cutout * 0.4 + img * 255\n",
    "\n",
    "heatmap_wideresnet_gradcam_cifar10_da = cv2.applyColorMap(np.uint8(255 * cam_wideresnet_gradcam_cifar10_da), cv2.COLORMAP_JET)\n",
    "heatmap_wideresnet_gradcam_cifar10_da = cv2.cvtColor(heatmap_wideresnet_gradcam_cifar10_da, cv2.COLOR_BGR2RGB)\n",
    "superimposed_img_wideresnet_gradcam_cifar10_da = heatmap_wideresnet_gradcam_cifar10_da * 0.4 + img * 255\n",
    "\n",
    "heatmap_wideresnet_gradcam_cifar10_da_cutout = cv2.applyColorMap(np.uint8(255 * cam_wideresnet_gradcam_cifar10_da_cutout), cv2.COLORMAP_JET)\n",
    "heatmap_wideresnet_gradcam_cifar10_da_cutout = cv2.cvtColor(heatmap_wideresnet_gradcam_cifar10_da_cutout, cv2.COLOR_BGR2RGB)\n",
    "superimposed_img_wideresnet_gradcam_cifar10_da_cutout = heatmap_wideresnet_gradcam_cifar10_da_cutout * 0.4 + img * 255\n",
    "\n",
    "class_label = str(labels.item())\n",
    "\n",
    "# Display the original image and the Grad-CAM\n",
    "fig, ax = plt.subplots(nrows=1, ncols=5, figsize=(20, 4))\n",
    "\n",
    "ax[0].imshow(img)\n",
    "ax[0].set_title('(Class: ' + cifar10_classes[int(class_label)] + ')')\n",
    "ax[0].axis('off')\n",
    "ax[1].imshow(superimposed_img_wideresnet_gradcam_cifar10 / 255)\n",
    "ax[1].set_title('Pred: ' + predicted_class_wideresnet_gradcam_cifar10)\n",
    "ax[1].axis('off')\n",
    "ax[2].imshow(superimposed_img_wideresnet_gradcam_cifar10_cutout / 255)\n",
    "ax[2].set_title('Pred: ' +predicted_class_wideresnet_gradcam_cifar10)\n",
    "ax[2].axis('off')\n",
    "ax[3].imshow(superimposed_img_wideresnet_gradcam_cifar10_da / 255)\n",
    "ax[3].set_title('Pred: ' +predicted_class_wideresnet_gradcam_cifar10_da)\n",
    "ax[3].axis('off')\n",
    "ax[4].imshow(superimposed_img_wideresnet_gradcam_cifar10_da_cutout / 255)\n",
    "ax[4].set_title('Pred: ' +predicted_class_wideresnet_gradcam_cifar10_da_cutout)\n",
    "ax[4].axis('off')\n",
    "\n",
    "# Adjust the vertical position of the suptitle to bring it closer to the subplots.\n",
    "fig.suptitle(\"Original Image - Grad-CAM -  Grad-CAM with Cutout - Grad-CAM with Data Augmentation - Grad-CAM with Cutout & Data Augmentation\", y=1.1) \n",
    "\n",
    "# Automatically adjust subplot params for better layout.\n",
    "plt.tight_layout()\n",
    "\n",
    "plt.show()"
   ],
   "id": "c79f67f5-f25b-4eda-8f0b-f18d04e9d45a"
  },
  {
   "cell_type": "markdown",
   "metadata": {},
   "source": [
    "## 4.3.2 Implementation Grad-CAM for WideResNet Model for CIFAR-100"
   ],
   "id": "dcf1dd34-1b7d-4a13-b5d2-620c77b4fb4b"
  },
  {
   "cell_type": "code",
   "execution_count": null,
   "metadata": {},
   "outputs": [],
   "source": [
    "\n",
    "wideresnet_gradcam_cifar100 = WideResNet(num_classes=100)\n",
    "wideresnet_gradcam_cifar100.load_state_dict(torch.load(current_path + \"checkpoints/wideresnet_cifar100.pt\"))\n",
    "wideresnet_gradcam_cifar100.eval()\n",
    "\n",
    "wideresnet_gradcam_cifar100_cutout = WideResNet(num_classes=100)\n",
    "wideresnet_gradcam_cifar100_cutout.load_state_dict(torch.load(current_path + \"checkpoints/wideresnet_cifar100_cutout.pt\"))\n",
    "wideresnet_gradcam_cifar100_cutout.eval()\n",
    "\n",
    "wideresnet_gradcam_cifar100_da = WideResNet(num_classes=100)\n",
    "wideresnet_gradcam_cifar100_da.load_state_dict(torch.load(current_path + \"checkpoints/wideresnet_cifar100_da.pt\"))\n",
    "wideresnet_gradcam_cifar100_da.eval()\n",
    "\n",
    "wideresnet_gradcam_cifar100_da_cutout = WideResNet(num_classes=100)\n",
    "wideresnet_gradcam_cifar100_da_cutout.load_state_dict(torch.load(current_path + \"checkpoints/wideresnet_cifar100_da_cutout.pt\"))\n",
    "wideresnet_gradcam_cifar100_da_cutout.eval()"
   ],
   "id": "5e606d7a-9e1d-4c43-be24-d98c37b33aa4"
  },
  {
   "cell_type": "markdown",
   "metadata": {},
   "source": [
    "Let’s try to see the result from the testloader of CIFAR-10 dataset"
   ],
   "id": "b03529d1-49e4-4856-bde8-7dcba1aade78"
  },
  {
   "cell_type": "code",
   "execution_count": null,
   "metadata": {},
   "outputs": [],
   "source": [
    "transform_cifar100 = transforms.Compose([\n",
    "    transforms.Resize((32, 32)),\n",
    "    transforms.ToTensor(),\n",
    "    transforms.Normalize(mean=[0.485, 0.456, 0.406], std=[0.229, 0.224, 0.225])\n",
    "])\n",
    "\n",
    "testset_cifar100 = datasets.CIFAR100(root='./data', train=False, download=True, transform=transform_cifar100)\n",
    "testloader_cifar100 = torch.utils.data.DataLoader(testset_cifar100, batch_size=1, shuffle=True, num_workers=2)\n"
   ],
   "id": "354d9a9a-a05c-4741-ada3-22168c4b01b9"
  },
  {
   "cell_type": "code",
   "execution_count": null,
   "metadata": {},
   "outputs": [],
   "source": [
    "cifar100_classes = [\n",
    "    \"Apple\", \"Aquarium fish\", \"Baby\", \"Bear\", \"Beaver\", \"Bed\", \"Bee\", \"Beetle\", \n",
    "    \"Bicycle\", \"Bottle\", \"Bowl\", \"Boy\", \"Bridge\", \"Bus\", \"Butterfly\", \"Camel\", \n",
    "    \"Can\", \"Castle\", \"Caterpillar\", \"Cattle\", \"Chair\", \"Chimpanzee\", \"Clock\", \n",
    "    \"Cloud\", \"Cockroach\", \"Couch\", \"Crab\", \"Crocodile\", \"Cup\", \"Dinosaur\", \n",
    "    \"Dolphin\", \"Elephant\", \"Flatfish\", \"Forest\", \"Fox\", \"Girl\", \"Hamster\", \n",
    "    \"House\", \"Kangaroo\", \"Computer keyboard\", \"Lamp\", \"Lawn-mower\", \"Leopard\", \"Lion\",\n",
    "    \"Lizard\", \"Lobster\", \"Man\", \"Maple tree\", \"Motorcycle\", \"Mountain\", \"Mouse\",\n",
    "    \"Mushrooms\", \"Oak tree\", \"Oranges\", \"Orchids\", \"Otter\", \"Palm tree\", \"Pears\",\n",
    "    \"Pickup truck\", \"Pine tree\", \"Plain\", \"Plates\", \"Poppies\", \"Porcupine\",\n",
    "    \"Possum\", \"Rabbit\", \"Raccoon\", \"Ray\", \"Road\", \"Rocket\", \"Roses\", \"Sea\", \"Seal\",\n",
    "    \"Shark\", \"Shrew\", \"Skunk\", \"Skyscraper\", \"Snail\", \"Snake\", \"Spider\", \"Squirrel\",\n",
    "    \"Streetcar\", \"Sunflowers\", \"Sweet peppers\", \"Table\", \"Tank\", \"Telephone\", \"Television\", \n",
    "    \"Tiger\", \"Tractor\", \"Train\", \"Trout\", \"Tulips\", \"Turtle\", \"Wardrobe\", \"Whale\", \n",
    "    \"Willow tree\", \"Wolf\", \"Woman\", \"Worm\"\n",
    "]\n"
   ],
   "id": "cfcd2884-e3c0-482f-a18d-5c6fd5ded2b0"
  },
  {
   "cell_type": "code",
   "execution_count": null,
   "metadata": {},
   "outputs": [],
   "source": [
    "# Get a batch from the testloader\n",
    "images, labels = next(iter(testloader_cifar100))\n",
    "input_tensor = images  # As your batch_size is 1, you will have a single image here\n",
    "\n",
    "# Forward pass\n",
    "wideresnet_gradcam_cifar100.zero_grad()\n",
    "output_wideresnet_gradcam_cifar100 = wideresnet_gradcam_cifar100(input_tensor)\n",
    "\n",
    "wideresnet_gradcam_cifar100_cutout.zero_grad()\n",
    "output_wideresnet_gradcam_cifar100_cutout = wideresnet_gradcam_cifar100_cutout(input_tensor)\n",
    "\n",
    "wideresnet_gradcam_cifar100_da.zero_grad()\n",
    "output_wideresnet_gradcam_cifar100_da = wideresnet_gradcam_cifar100_da(input_tensor)\n",
    "\n",
    "wideresnet_gradcam_cifar100_da_cutout.zero_grad()\n",
    "output_wideresnet_gradcam_cifar100_da_cutout = wideresnet_gradcam_cifar100_da_cutout(input_tensor)\n",
    "\n",
    "# Get the index of the max log-probability\n",
    "target_wideresnet_gradcam_cifar100 = output_wideresnet_gradcam_cifar100.argmax(1)\n",
    "output_wideresnet_gradcam_cifar100.max().backward()\n",
    "\n",
    "target_wideresnet_gradcam_cifar100_cutout = output_wideresnet_gradcam_cifar100_cutout.argmax(1)\n",
    "output_wideresnet_gradcam_cifar100_cutout.max().backward()\n",
    "\n",
    "target_wideresnet_gradcam_cifar100_da = output_wideresnet_gradcam_cifar100_da.argmax(1)\n",
    "output_wideresnet_gradcam_cifar100_da.max().backward()\n",
    "\n",
    "target_wideresnet_gradcam_cifar100_da_cutout = output_wideresnet_gradcam_cifar100_da_cutout.argmax(1)\n",
    "output_wideresnet_gradcam_cifar100_da_cutout.max().backward()\n",
    "\n",
    "# Map the predicted class indices to the class labels\n",
    "predicted_class_wideresnet_gradcam_cifar100 = cifar100_classes[target_wideresnet_gradcam_cifar100.item()]\n",
    "predicted_class_wideresnet_gradcam_cifar100 = cifar100_classes[target_wideresnet_gradcam_cifar100_cutout.item()]\n",
    "predicted_class_wideresnet_gradcam_cifar100_da = cifar100_classes[target_wideresnet_gradcam_cifar100_da.item()]\n",
    "predicted_class_wideresnet_gradcam_cifar100_da_cutout = cifar100_classes[target_wideresnet_gradcam_cifar100_da_cutout.item()]\n",
    "\n",
    "\n",
    "# Get the gradients and activations\n",
    "gradients_wideresnet_gradcam_cifar100 = wideresnet_gradcam_cifar100.gradients.detach().cpu()\n",
    "activations_wideresnet_gradcam_cifar100 = wideresnet_gradcam_cifar100.activations.detach().cpu()\n",
    "\n",
    "gradients_wideresnet_gradcam_cifar100_cutout = wideresnet_gradcam_cifar100_cutout.gradients.detach().cpu()\n",
    "activations_wideresnet_gradcam_cifar100_cutout = wideresnet_gradcam_cifar100_cutout.activations.detach().cpu()\n",
    "\n",
    "gradients_wideresnet_gradcam_cifar100_da = wideresnet_gradcam_cifar100_da.gradients.detach().cpu()\n",
    "activations_wideresnet_gradcam_cifar100_da = wideresnet_gradcam_cifar100_da.activations.detach().cpu()\n",
    "\n",
    "gradients_wideresnet_gradcam_cifar100_da_cutout = wideresnet_gradcam_cifar100_da_cutout.gradients.detach().cpu()\n",
    "activations_wideresnet_gradcam_cifar100_da_cutout = wideresnet_gradcam_cifar100_da_cutout.activations.detach().cpu()\n",
    "\n",
    "\n",
    "# Calculate the weights\n",
    "weights_wideresnet_gradcam_cifar100 = gradients_wideresnet_gradcam_cifar100.mean(dim=(2, 3), keepdim=True)\n",
    "\n",
    "weights_wideresnet_gradcam_cifar100_cutout = gradients_wideresnet_gradcam_cifar100_cutout.mean(dim=(2, 3), keepdim=True)\n",
    "\n",
    "weights_wideresnet_gradcam_cifar100_da = gradients_wideresnet_gradcam_cifar100_da.mean(dim=(2, 3), keepdim=True)\n",
    "\n",
    "weights_wideresnet_gradcam_cifar100_da_cutout = gradients_wideresnet_gradcam_cifar100_da_cutout.mean(dim=(2, 3), keepdim=True)\n",
    "\n",
    "# Calculate the weighted sum of activations (Grad-CAM)\n",
    "cam_wideresnet_gradcam_cifar100 = (weights_wideresnet_gradcam_cifar100 * activations_wideresnet_gradcam_cifar100).sum(dim=1, keepdim=True)\n",
    "cam_wideresnet_gradcam_cifar100 = F.relu(cam_wideresnet_gradcam_cifar100)  # apply ReLU to the heatmap\n",
    "cam_wideresnet_gradcam_cifar100 = F.interpolate(cam_wideresnet_gradcam_cifar100, size=(32, 32), mode='bilinear', align_corners=False)\n",
    "cam_wideresnet_gradcam_cifar100 = cam_wideresnet_gradcam_cifar100.squeeze().numpy()\n",
    "\n",
    "cam_wideresnet_gradcam_cifar100_cutout = (weights_wideresnet_gradcam_cifar100_cutout * activations_wideresnet_gradcam_cifar100_cutout).sum(dim=1, keepdim=True)\n",
    "cam_wideresnet_gradcam_cifar100_cutout = F.relu(cam_wideresnet_gradcam_cifar100_cutout)  # apply ReLU to the heatmap\n",
    "cam_wideresnet_gradcam_cifar100_cutout = F.interpolate(cam_wideresnet_gradcam_cifar100_cutout, size=(32, 32), mode='bilinear', align_corners=False)\n",
    "cam_wideresnet_gradcam_cifar100_cutout = cam_wideresnet_gradcam_cifar100_cutout.squeeze().numpy()\n",
    "\n",
    "cam_wideresnet_gradcam_cifar100_da = (weights_wideresnet_gradcam_cifar100_da * activations_wideresnet_gradcam_cifar100_da).sum(dim=1, keepdim=True)\n",
    "cam_wideresnet_gradcam_cifar100_da = F.relu(cam_wideresnet_gradcam_cifar100_da)  # apply ReLU to the heatmap\n",
    "cam_wideresnet_gradcam_cifar100_da = F.interpolate(cam_wideresnet_gradcam_cifar100_da, size=(32, 32), mode='bilinear', align_corners=False)\n",
    "cam_wideresnet_gradcam_cifar100_da = cam_wideresnet_gradcam_cifar100_da.squeeze().numpy()\n",
    "\n",
    "cam_wideresnet_gradcam_cifar100_da_cutout = (weights_wideresnet_gradcam_cifar100_da_cutout * activations_wideresnet_gradcam_cifar100_da_cutout).sum(dim=1, keepdim=True)\n",
    "cam_wideresnet_gradcam_cifar100_da_cutout = F.relu(cam_wideresnet_gradcam_cifar100_da_cutout)  # apply ReLU to the heatmap\n",
    "cam_wideresnet_gradcam_cifar100_da_cutout = F.interpolate(cam_wideresnet_gradcam_cifar100_da_cutout, size=(32, 32), mode='bilinear', align_corners=False)\n",
    "cam_wideresnet_gradcam_cifar100_da_cutout = cam_wideresnet_gradcam_cifar100_da_cutout.squeeze().numpy()\n",
    "\n",
    "\n",
    "# Normalize the heatmap\n",
    "cam_wideresnet_gradcam_cifar100 -= cam_wideresnet_gradcam_cifar100.min()\n",
    "cam_wideresnet_gradcam_cifar100 /= cam_wideresnet_gradcam_cifar100.max()\n",
    "\n",
    "cam_wideresnet_gradcam_cifar100_cutout -= cam_wideresnet_gradcam_cifar100_cutout.min()\n",
    "cam_wideresnet_gradcam_cifar100_cutout /= cam_wideresnet_gradcam_cifar100_cutout.max()\n",
    "\n",
    "cam_wideresnet_gradcam_cifar100_da -= cam_wideresnet_gradcam_cifar100_da.min()\n",
    "cam_wideresnet_gradcam_cifar100_da /= cam_wideresnet_gradcam_cifar100_da.max()\n",
    "\n",
    "cam_wideresnet_gradcam_cifar100_da_cutout -= cam_wideresnet_gradcam_cifar100_da_cutout.min()\n",
    "cam_wideresnet_gradcam_cifar100_da_cutout /= cam_wideresnet_gradcam_cifar100_da_cutout.max()\n",
    "\n",
    "# Since the images from the dataloader are normalized, you have to denormalize them before plotting\n",
    "mean = torch.tensor([0.485, 0.456, 0.406])\n",
    "std = torch.tensor([0.229, 0.224, 0.225])\n",
    "img = images.squeeze().detach().cpu() * std[..., None, None] + mean[..., None, None]\n",
    "img = img.permute(1, 2, 0).numpy()\n",
    "\n",
    "# Superimpose the heatmap onto the original image\n",
    "heatmap_wideresnet_gradcam_cifar100 = cv2.applyColorMap(np.uint8(255 * cam_wideresnet_gradcam_cifar100), cv2.COLORMAP_JET)\n",
    "heatmap_wideresnet_gradcam_cifar100 = cv2.cvtColor(heatmap_wideresnet_gradcam_cifar100, cv2.COLOR_BGR2RGB)\n",
    "superimposed_img_wideresnet_gradcam_cifar100 = heatmap_wideresnet_gradcam_cifar100 * 0.4 + img * 255\n",
    "\n",
    "heatmap_wideresnet_gradcam_cifar100_cutout = cv2.applyColorMap(np.uint8(255 * cam_wideresnet_gradcam_cifar100_cutout), cv2.COLORMAP_JET)\n",
    "heatmap_wideresnet_gradcam_cifar100_cutout = cv2.cvtColor(heatmap_wideresnet_gradcam_cifar100_cutout, cv2.COLOR_BGR2RGB)\n",
    "superimposed_img_wideresnet_gradcam_cifar100_cutout = heatmap_wideresnet_gradcam_cifar100_cutout * 0.4 + img * 255\n",
    "\n",
    "heatmap_wideresnet_gradcam_cifar100_da = cv2.applyColorMap(np.uint8(255 * cam_wideresnet_gradcam_cifar100_da), cv2.COLORMAP_JET)\n",
    "heatmap_wideresnet_gradcam_cifar100_da = cv2.cvtColor(heatmap_wideresnet_gradcam_cifar100_da, cv2.COLOR_BGR2RGB)\n",
    "superimposed_img_wideresnet_gradcam_cifar100_da = heatmap_wideresnet_gradcam_cifar100_da * 0.4 + img * 255\n",
    "\n",
    "heatmap_wideresnet_gradcam_cifar100_da_cutout = cv2.applyColorMap(np.uint8(255 * cam_wideresnet_gradcam_cifar100_da_cutout), cv2.COLORMAP_JET)\n",
    "heatmap_wideresnet_gradcam_cifar100_da_cutout = cv2.cvtColor(heatmap_wideresnet_gradcam_cifar100_da_cutout, cv2.COLOR_BGR2RGB)\n",
    "superimposed_img_wideresnet_gradcam_cifar100_da_cutout = heatmap_wideresnet_gradcam_cifar100_da_cutout * 0.4 + img * 255\n",
    "\n",
    "class_label = str(labels.item())\n",
    "\n",
    "# Display the original image and the Grad-CAM\n",
    "fig, ax = plt.subplots(nrows=1, ncols=5, figsize=(20, 4))\n",
    "\n",
    "ax[0].imshow(img)\n",
    "ax[0].set_title('(Class: ' + cifar100_classes[int(class_label)] + ')')\n",
    "ax[0].axis('off')\n",
    "ax[1].imshow(superimposed_img_wideresnet_gradcam_cifar100 / 255)\n",
    "ax[1].set_title('Pred: ' +predicted_class_wideresnet_gradcam_cifar100)\n",
    "ax[1].axis('off')\n",
    "ax[2].imshow(superimposed_img_wideresnet_gradcam_cifar100_cutout / 255)\n",
    "ax[2].set_title('Pred: ' +predicted_class_wideresnet_gradcam_cifar100)\n",
    "ax[2].axis('off')\n",
    "ax[3].imshow(superimposed_img_wideresnet_gradcam_cifar100_da / 255)\n",
    "ax[3].set_title('Pred: ' +predicted_class_wideresnet_gradcam_cifar100_da)\n",
    "ax[3].axis('off')\n",
    "ax[4].imshow(superimposed_img_wideresnet_gradcam_cifar100_da_cutout / 255)\n",
    "ax[4].set_title('Pred: ' +predicted_class_wideresnet_gradcam_cifar100_da_cutout)\n",
    "ax[4].axis('off')\n",
    "\n",
    "# Adjust the vertical position of the suptitle to bring it closer to the subplots.\n",
    "fig.suptitle(\"Original Image - Grad-CAM -  Grad-CAM with Cutout - Grad-CAM with Data Augmentation - Grad-CAM with Cutout & Data Augmentation\", y=1.1) \n",
    "\n",
    "# Automatically adjust subplot params for better layout.\n",
    "plt.tight_layout()\n",
    "\n",
    "plt.show()\n",
    "\n"
   ],
   "id": "9b7b4be2-0476-4b20-9ab2-fdb84c6157a3"
  },
  {
   "cell_type": "markdown",
   "metadata": {},
   "source": [
    "Now you can try to load your image, preprocess it and convert it into a PyTorch tensor. Choose an image that is in the CIFAR-10 classes (airplanes, cars, birds, cats, deer, dogs, frogs, horses, ships, and trucks). The preprocessing steps should be the same as the ones you used for training your model. Let’s say you have an image `image.jpeg`:"
   ],
   "id": "6354a441-38bd-4458-b5f1-ea92b5f8deff"
  },
  {
   "cell_type": "code",
   "execution_count": null,
   "metadata": {},
   "outputs": [],
   "source": [
    "# Load the image\n",
    "image_path = \"image.jpeg\"\n",
    "image = Image.open(current_path + image_path)\n",
    "\n",
    "# Define the transformations: resize, to tensor, normalize (replace the mean and std with values you used for training)\n",
    "preprocess = transforms.Compose([\n",
    "    transforms.Resize((32, 32)),\n",
    "    transforms.ToTensor(),\n",
    "    transforms.Normalize(mean=[0.485, 0.456, 0.406], std=[0.229, 0.224, 0.225])\n",
    "])\n",
    "\n",
    "# Preprocess the image\n",
    "input_tensor = preprocess(image)\n",
    "input_tensor = input_tensor.unsqueeze(0)  # add batch dimension.  C,H,W => B,C,H,W"
   ],
   "id": "e2d03b1b-f29b-4278-bb53-955912acfbe6"
  },
  {
   "cell_type": "markdown",
   "metadata": {},
   "source": [
    "Apply Grad-CAM"
   ],
   "id": "539ab7a8-f1cd-43d8-8ba4-bc2907046497"
  },
  {
   "cell_type": "code",
   "execution_count": null,
   "metadata": {},
   "outputs": [],
   "source": [
    "# Forward pass\n",
    "wideresnet_gradcam_cifar100.zero_grad()\n",
    "output_wideresnet_gradcam_cifar100 = wideresnet_gradcam_cifar100(input_tensor)\n",
    "\n",
    "wideresnet_gradcam_cifar100_cutout.zero_grad()\n",
    "output_wideresnet_gradcam_cifar100_cutout = wideresnet_gradcam_cifar100_cutout(input_tensor)\n",
    "\n",
    "wideresnet_gradcam_cifar100_da.zero_grad()\n",
    "output_wideresnet_gradcam_cifar100_da = wideresnet_gradcam_cifar100_da(input_tensor)\n",
    "\n",
    "wideresnet_gradcam_cifar100_da_cutout.zero_grad()\n",
    "output_wideresnet_gradcam_cifar100_da_cutout = wideresnet_gradcam_cifar100_da_cutout(input_tensor)\n",
    "\n",
    "# Get the index of the max log-probability\n",
    "target_wideresnet_gradcam_cifar100 = output_wideresnet_gradcam_cifar100.argmax(1)\n",
    "output_wideresnet_gradcam_cifar100.max().backward()\n",
    "\n",
    "target_wideresnet_gradcam_cifar100_cutout = output_wideresnet_gradcam_cifar100_cutout.argmax(1)\n",
    "output_wideresnet_gradcam_cifar100_cutout.max().backward()\n",
    "\n",
    "target_wideresnet_gradcam_cifar100_da = output_wideresnet_gradcam_cifar100_da.argmax(1)\n",
    "output_wideresnet_gradcam_cifar100_da.max().backward()\n",
    "\n",
    "target_wideresnet_gradcam_cifar100_da_cutout = output_wideresnet_gradcam_cifar100_da_cutout.argmax(1)\n",
    "output_wideresnet_gradcam_cifar100_da_cutout.max().backward()\n",
    "\n",
    "# Map the predicted class indices to the class labels\n",
    "predicted_class_wideresnet_gradcam_cifar100 = cifar100_classes[target_wideresnet_gradcam_cifar100.item()]\n",
    "predicted_class_wideresnet_gradcam_cifar100 = cifar100_classes[target_wideresnet_gradcam_cifar100_cutout.item()]\n",
    "predicted_class_wideresnet_gradcam_cifar100_da = cifar100_classes[target_wideresnet_gradcam_cifar100_da.item()]\n",
    "predicted_class_wideresnet_gradcam_cifar100_da_cutout = cifar100_classes[target_wideresnet_gradcam_cifar100_da_cutout.item()]\n",
    "\n",
    "\n",
    "# Get the gradients and activations\n",
    "gradients_wideresnet_gradcam_cifar100 = wideresnet_gradcam_cifar100.gradients.detach().cpu()\n",
    "activations_wideresnet_gradcam_cifar100 = wideresnet_gradcam_cifar100.activations.detach().cpu()\n",
    "\n",
    "gradients_wideresnet_gradcam_cifar100_cutout = wideresnet_gradcam_cifar100_cutout.gradients.detach().cpu()\n",
    "activations_wideresnet_gradcam_cifar100_cutout = wideresnet_gradcam_cifar100_cutout.activations.detach().cpu()\n",
    "\n",
    "gradients_wideresnet_gradcam_cifar100_da = wideresnet_gradcam_cifar100_da.gradients.detach().cpu()\n",
    "activations_wideresnet_gradcam_cifar100_da = wideresnet_gradcam_cifar100_da.activations.detach().cpu()\n",
    "\n",
    "gradients_wideresnet_gradcam_cifar100_da_cutout = wideresnet_gradcam_cifar100_da_cutout.gradients.detach().cpu()\n",
    "activations_wideresnet_gradcam_cifar100_da_cutout = wideresnet_gradcam_cifar100_da_cutout.activations.detach().cpu()\n",
    "\n",
    "\n",
    "# Calculate the weights\n",
    "weights_wideresnet_gradcam_cifar100 = gradients_wideresnet_gradcam_cifar100.mean(dim=(2, 3), keepdim=True)\n",
    "\n",
    "weights_wideresnet_gradcam_cifar100_cutout = gradients_wideresnet_gradcam_cifar100_cutout.mean(dim=(2, 3), keepdim=True)\n",
    "\n",
    "weights_wideresnet_gradcam_cifar100_da = gradients_wideresnet_gradcam_cifar100_da.mean(dim=(2, 3), keepdim=True)\n",
    "\n",
    "weights_wideresnet_gradcam_cifar100_da_cutout = gradients_wideresnet_gradcam_cifar100_da_cutout.mean(dim=(2, 3), keepdim=True)\n",
    "\n",
    "# Calculate the weighted sum of activations (Grad-CAM)\n",
    "cam_wideresnet_gradcam_cifar100 = (weights_wideresnet_gradcam_cifar100 * activations_wideresnet_gradcam_cifar100).sum(dim=1, keepdim=True)\n",
    "cam_wideresnet_gradcam_cifar100 = F.relu(cam_wideresnet_gradcam_cifar100)  # apply ReLU to the heatmap\n",
    "cam_wideresnet_gradcam_cifar100 = F.interpolate(cam_wideresnet_gradcam_cifar100, size=(32, 32), mode='bilinear', align_corners=False)\n",
    "cam_wideresnet_gradcam_cifar100 = cam_wideresnet_gradcam_cifar100.squeeze().numpy()\n",
    "\n",
    "cam_wideresnet_gradcam_cifar100_cutout = (weights_wideresnet_gradcam_cifar100_cutout * activations_wideresnet_gradcam_cifar100_cutout).sum(dim=1, keepdim=True)\n",
    "cam_wideresnet_gradcam_cifar100_cutout = F.relu(cam_wideresnet_gradcam_cifar100_cutout)  # apply ReLU to the heatmap\n",
    "cam_wideresnet_gradcam_cifar100_cutout = F.interpolate(cam_wideresnet_gradcam_cifar100_cutout, size=(32, 32), mode='bilinear', align_corners=False)\n",
    "cam_wideresnet_gradcam_cifar100_cutout = cam_wideresnet_gradcam_cifar100_cutout.squeeze().numpy()\n",
    "\n",
    "cam_wideresnet_gradcam_cifar100_da = (weights_wideresnet_gradcam_cifar100_da * activations_wideresnet_gradcam_cifar100_da).sum(dim=1, keepdim=True)\n",
    "cam_wideresnet_gradcam_cifar100_da = F.relu(cam_wideresnet_gradcam_cifar100_da)  # apply ReLU to the heatmap\n",
    "cam_wideresnet_gradcam_cifar100_da = F.interpolate(cam_wideresnet_gradcam_cifar100_da, size=(32, 32), mode='bilinear', align_corners=False)\n",
    "cam_wideresnet_gradcam_cifar100_da = cam_wideresnet_gradcam_cifar100_da.squeeze().numpy()\n",
    "\n",
    "cam_wideresnet_gradcam_cifar100_da_cutout = (weights_wideresnet_gradcam_cifar100_da_cutout * activations_wideresnet_gradcam_cifar100_da_cutout).sum(dim=1, keepdim=True)\n",
    "cam_wideresnet_gradcam_cifar100_da_cutout = F.relu(cam_wideresnet_gradcam_cifar100_da_cutout)  # apply ReLU to the heatmap\n",
    "cam_wideresnet_gradcam_cifar100_da_cutout = F.interpolate(cam_wideresnet_gradcam_cifar100_da_cutout, size=(32, 32), mode='bilinear', align_corners=False)\n",
    "cam_wideresnet_gradcam_cifar100_da_cutout = cam_wideresnet_gradcam_cifar100_da_cutout.squeeze().numpy()\n",
    "\n",
    "\n",
    "# Normalize the heatmap\n",
    "cam_wideresnet_gradcam_cifar100 -= cam_wideresnet_gradcam_cifar100.min()\n",
    "cam_wideresnet_gradcam_cifar100 /= cam_wideresnet_gradcam_cifar100.max()\n",
    "\n",
    "cam_wideresnet_gradcam_cifar100_cutout -= cam_wideresnet_gradcam_cifar100_cutout.min()\n",
    "cam_wideresnet_gradcam_cifar100_cutout /= cam_wideresnet_gradcam_cifar100_cutout.max()\n",
    "\n",
    "cam_wideresnet_gradcam_cifar100_da -= cam_wideresnet_gradcam_cifar100_da.min()\n",
    "cam_wideresnet_gradcam_cifar100_da /= cam_wideresnet_gradcam_cifar100_da.max()\n",
    "\n",
    "cam_wideresnet_gradcam_cifar100_da_cutout -= cam_wideresnet_gradcam_cifar100_da_cutout.min()\n",
    "cam_wideresnet_gradcam_cifar100_da_cutout /= cam_wideresnet_gradcam_cifar100_da_cutout.max()\n",
    "\n",
    "# Since the images from the dataloader are normalized, you have to denormalize them before plotting\n",
    "img = cv2.imread(current_path + image_path)\n",
    "img = cv2.resize(img, (32, 32))\n",
    "img = cv2.cvtColor(img, cv2.COLOR_BGR2RGB)\n",
    "\n",
    "\n",
    "# Superimpose the heatmap onto the original image\n",
    "heatmap_wideresnet_gradcam_cifar100 = cv2.applyColorMap(np.uint8(255 * cam_wideresnet_gradcam_cifar100), cv2.COLORMAP_JET)\n",
    "heatmap_wideresnet_gradcam_cifar100 = cv2.cvtColor(heatmap_wideresnet_gradcam_cifar100, cv2.COLOR_BGR2RGB)\n",
    "superimposed_img_wideresnet_gradcam_cifar100 = heatmap_wideresnet_gradcam_cifar100 * 0.4 + img * 255\n",
    "\n",
    "heatmap_wideresnet_gradcam_cifar100_cutout = cv2.applyColorMap(np.uint8(255 * cam_wideresnet_gradcam_cifar100_cutout), cv2.COLORMAP_JET)\n",
    "heatmap_wideresnet_gradcam_cifar100_cutout = cv2.cvtColor(heatmap_wideresnet_gradcam_cifar100_cutout, cv2.COLOR_BGR2RGB)\n",
    "superimposed_img_wideresnet_gradcam_cifar100_cutout = heatmap_wideresnet_gradcam_cifar100_cutout * 0.4 + img * 255\n",
    "\n",
    "heatmap_wideresnet_gradcam_cifar100_da = cv2.applyColorMap(np.uint8(255 * cam_wideresnet_gradcam_cifar100_da), cv2.COLORMAP_JET)\n",
    "heatmap_wideresnet_gradcam_cifar100_da = cv2.cvtColor(heatmap_wideresnet_gradcam_cifar100_da, cv2.COLOR_BGR2RGB)\n",
    "superimposed_img_wideresnet_gradcam_cifar100_da = heatmap_wideresnet_gradcam_cifar100_da * 0.4 + img * 255\n",
    "\n",
    "heatmap_wideresnet_gradcam_cifar100_da_cutout = cv2.applyColorMap(np.uint8(255 * cam_wideresnet_gradcam_cifar100_da_cutout), cv2.COLORMAP_JET)\n",
    "heatmap_wideresnet_gradcam_cifar100_da_cutout = cv2.cvtColor(heatmap_wideresnet_gradcam_cifar100_da_cutout, cv2.COLOR_BGR2RGB)\n",
    "superimposed_img_wideresnet_gradcam_cifar100_da_cutout = heatmap_wideresnet_gradcam_cifar100_da_cutout * 0.4 + img * 255\n",
    "\n",
    "class_label = str(labels.item())"
   ],
   "id": "69c21241-9f06-4346-bbc2-66eb0e8f0aa0"
  },
  {
   "cell_type": "markdown",
   "metadata": {},
   "source": [
    "Visualize the image and the Grad-CAM heatmap"
   ],
   "id": "00fe19e2-a8a1-4005-b210-69714340bdca"
  },
  {
   "cell_type": "code",
   "execution_count": null,
   "metadata": {},
   "outputs": [],
   "source": [
    "# Display the original image and the Grad-CAM\n",
    "fig, ax = plt.subplots(nrows=1, ncols=5)\n",
    "\n",
    "ax[0].imshow(img)\n",
    "ax[0].set_title('(Class: ' + cifar100_classes[int(class_label)] + ')')\n",
    "ax[0].axis('off')\n",
    "ax[1].imshow(superimposed_img_wideresnet_gradcam_cifar100 / 255)\n",
    "ax[1].set_title('Pred: ' +predicted_class_wideresnet_gradcam_cifar100)\n",
    "ax[1].axis('off')\n",
    "ax[2].imshow(superimposed_img_wideresnet_gradcam_cifar100_cutout / 255)\n",
    "ax[2].set_title(predicted_class_wideresnet_gradcam_cifar100)\n",
    "ax[2].axis('off')\n",
    "ax[3].imshow(superimposed_img_wideresnet_gradcam_cifar100_da / 255)\n",
    "ax[3].set_title('Pred: ' +predicted_class_wideresnet_gradcam_cifar100_da)\n",
    "ax[3].axis('off')\n",
    "ax[4].imshow(superimposed_img_wideresnet_gradcam_cifar100_da_cutout / 255)\n",
    "ax[4].set_title('Pred: ' +predicted_class_wideresnet_gradcam_cifar100_da_cutout)\n",
    "ax[4].axis('off')\n",
    "\n",
    "# Adjust the vertical position of the suptitle to bring it closer to the subplots.\n",
    "fig.suptitle(\"Original Image - Grad-CAM -  Grad-CAM with Cutout - Grad-CAM with Data Augmentation - Grad-CAM with Cutout & Data Augmentation\", y=1.1) \n",
    "\n",
    "# Automatically adjust subplot params for better layout.\n",
    "plt.tight_layout()\n",
    "\n",
    "plt.show()"
   ],
   "id": "410669e0-f8f3-4380-911e-568dfe791f52"
  }
 ],
 "nbformat": 4,
 "nbformat_minor": 5,
 "metadata": {}
}

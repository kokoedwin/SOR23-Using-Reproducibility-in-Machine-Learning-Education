{
 "cells": [
  {
   "cell_type": "markdown",
   "metadata": {},
   "source": [
    "# 02. ResNet"
   ],
   "id": "28925059-b29d-44a4-90f2-9eb1c06f0d27"
  },
  {
   "cell_type": "markdown",
   "metadata": {},
   "source": [
    "Note: for faster training, use Runtime \\> Change Runtime Type to run this notebook on a GPU."
   ],
   "id": "9b896f12-2581-4f0a-8639-dd4519eca862"
  },
  {
   "cell_type": "markdown",
   "metadata": {},
   "source": [
    "In the Cutout paper, the authors claim that:\n",
    "\n",
    "1.  Cutout improves the robustness and overall performance of convolutional neural networks.\n",
    "2.  Cutout can be used in conjunction with existing forms of data augmentation and other regularizers to further improve model performance.\n",
    "\n",
    "In this section, we will evaluate these claims using a ResNet model. For the ResNet model, the specific quantitative claims are given in the following table:\n",
    "\n",
    "Test error (%, flip/translation augmentation, mean/std normalization, mean of 5 runs) and “+” indicates standard data augmentation (mirror + crop)\n",
    "\n",
    "| **Network**       | **CIFAR-10** | **CIFAR-10+** | **CIFAR-100** | **CIFAR-100+** |\n",
    "|-------------|--------------|----------------|--------------|----------------|\n",
    "| ResNet18          | 10.63 ± 0.26 | 4.72 ± 0.21   | 36.68 ± 0.57  | 22.46 ± 0.31   |\n",
    "| ResNet18 + cutout | 9.31 ± 0.18  | 3.99 ± 0.13   | 34.98 ± 0.29  | 21.96 ± 0.24   |\n",
    "\n",
    "The provided table displays the results of experiments conducted on the CIFAR-10 and CIFAR-100 datasets using the ResNet18 architecture, revealing the impact of standard and cutout data augmentation techniques. The “CIFAR-10+” and “CIFAR-100+” labels indicate the use of standard data augmentation, which involves mirror and crop techniques.\n",
    "\n",
    "In the results table provided in the original paper, we have included confidence intervals to provide a comprehensive view of the outcomes. It’s important to note that in our case, due to computational constraints, we have trained and evaluated the model only once, whereas the original authors conducted multiple runs. Consequently, while our numerical outcomes may not precisely match their averaged values, we are interested in assessing whether our results fall within the specified confidence intervals. This approach allows us to gauge the consistency and reliability of our findings with respect to the reported results.\n",
    "\n",
    "With the use of standard data augmentation on CIFAR-10, the ResNet18 model’s test error is significantly reduced from 14.04% to 5.72%. Further enhancement is achieved when cutout augmentation is applied, bringing down the error to 4.86%. A similar pattern is observed in the case of the CIFAR-100 dataset, where standard augmentation reduces the ResNet18 model’s test error from 40.13% to 24.36%. Upon applying cutout augmentation, a slight further reduction in error to 23.9% is noted.\n",
    "\n",
    "These findings emphasize the efficacy of both standard and cutout data augmentation techniques in enhancing the model’s performance, evidenced by the reduction in test error rates on both CIFAR-10 and CIFAR-100 datasets. The results also highlight that the impact of data augmentation can vary based on the complexity of the dataset, illustrated by the differing rates of error reduction between CIFAR-10 and CIFAR-100."
   ],
   "id": "6d523fdc-ec68-492c-8251-19fe18c8bbee"
  },
  {
   "cell_type": "markdown",
   "metadata": {},
   "source": [
    "## Import Library"
   ],
   "id": "fa30dcdf-cc47-4175-a210-864fe9928da1"
  },
  {
   "cell_type": "code",
   "execution_count": null,
   "metadata": {},
   "outputs": [],
   "source": [
    "import torch\n",
    "import torch.nn as nn\n",
    "import torch.nn.functional as F\n",
    "from torch.autograd import Variable\n",
    "import torch.backends.cudnn as cudnn\n",
    "from torch.optim.lr_scheduler import MultiStepLR\n",
    "from torchvision import datasets, transforms\n",
    "import numpy as np\n",
    "import os\n",
    "from tqdm import tqdm"
   ],
   "id": "19d63695-a7c1-4e55-a500-ba84136d4f96"
  },
  {
   "cell_type": "markdown",
   "metadata": {},
   "source": [
    "Check Cuda GPU availability and set seed number"
   ],
   "id": "43cfe9ca-3c16-4b4a-91bf-b339cb11c115"
  },
  {
   "cell_type": "code",
   "execution_count": null,
   "metadata": {},
   "outputs": [],
   "source": [
    "cuda = torch.cuda.is_available()\n",
    "print(cuda)\n",
    "cudnn.benchmark = True  # Should make training should go faster for large models\n",
    "\n",
    "seed = 1\n",
    "torch.manual_seed(seed)\n",
    "np.random.seed(seed)"
   ],
   "id": "d3b73ec2-f8a8-4ec9-8128-a95789c3deb9"
  },
  {
   "cell_type": "markdown",
   "metadata": {},
   "source": [
    "If you are using Google Colab, here’s a step-by-step how to connect with your google drive:\n",
    "\n",
    "1.  On the left sidebar of the Colab notebook interface, you will see a folder icon with the Google Drive logo. Click on this folder icon to open the file explorer.\n",
    "\n",
    "2.  If you haven’t connected your Google Drive to Colab yet, it will prompt you to do so. Click the “Mount Drive” button to connect your Google Drive to Colab.\n",
    "\n",
    "3.  Once your Google Drive is mounted, you can use the file explorer to navigate to the file you want to open. Click on the folders to explore the contents of your Google Drive.\n",
    "\n",
    "4.  When you find the file you want to open, click the three dots next to the name of the file in the file explorer. From the options that appear, choose “Copy path.” This action will copy the full path of the file to your clipboard. Paste the copy path into the ‘current_path’ below."
   ],
   "id": "5b709069-1519-411e-8987-39aae6ae6db3"
  },
  {
   "cell_type": "code",
   "execution_count": null,
   "metadata": {},
   "outputs": [],
   "source": [
    "current_path =\"./\""
   ],
   "id": "589be899-eae0-4919-8fa9-41085bb0572e"
  },
  {
   "cell_type": "markdown",
   "metadata": {},
   "source": [
    "This code block is used for creating a directory named ‘checkpoints’. This directory will be used to store the weights of our models, which are crucial for both preserving our progress during model training and for future use of the trained models.\n",
    "\n",
    "Creating such a directory and regularly saving model weights is a good practice in machine learning, as it ensures that you can resume your work from where you left off, should the training process be interrupted."
   ],
   "id": "67ffef32-31f9-404a-b808-d7d3d98d60a2"
  },
  {
   "cell_type": "code",
   "execution_count": null,
   "metadata": {},
   "outputs": [],
   "source": [
    "# Create file names 'checkpoints' to save the weight of the models\n",
    "if not os.path.exists(current_path + 'checkpoints'):\n",
    "    os.makedirs(current_path + 'checkpoints')"
   ],
   "id": "4f70d802-c292-4211-8dc6-509786e3d76d"
  },
  {
   "cell_type": "markdown",
   "metadata": {},
   "source": [
    "## 2.1 Implementation Code"
   ],
   "id": "d9ef61d2-a182-46c4-94df-a09ff51da768"
  },
  {
   "cell_type": "markdown",
   "metadata": {},
   "source": [
    "### 2.1.1 ResNet Code"
   ],
   "id": "e5cc92a2-2f58-4a5a-a33c-14baaa6510b3"
  },
  {
   "cell_type": "code",
   "execution_count": null,
   "metadata": {},
   "outputs": [],
   "source": [
    "# ResNet\n",
    "# From https://github.com/uoguelph-mlrg/Cutout/blob/master/model/resnet.py\n",
    "# ResNet\n",
    "# From https://github.com/uoguelph-mlrg/Cutout/blob/master/model/resnet.py\n",
    "\n",
    "def conv3x3(in_planes, out_planes, stride=1):\n",
    "    return nn.Conv2d(in_planes, out_planes, kernel_size=3, stride=stride, \n",
    "                     padding=1, bias=False)\n",
    "\n",
    "\n",
    "class BasicBlock(nn.Module):\n",
    "    expansion = 1\n",
    "\n",
    "    def __init__(self, in_planes, planes, stride=1):\n",
    "        super(BasicBlock, self).__init__()\n",
    "        self.conv1 = conv3x3(in_planes, planes, stride)\n",
    "        self.bn1 = nn.BatchNorm2d(planes)\n",
    "        self.conv2 = conv3x3(planes, planes)\n",
    "        self.bn2 = nn.BatchNorm2d(planes)\n",
    "\n",
    "        self.shortcut = nn.Sequential()\n",
    "        if stride != 1 or in_planes != self.expansion*planes:\n",
    "            self.shortcut = nn.Sequential(\n",
    "                nn.Conv2d(in_planes, self.expansion*planes, kernel_size=1, \n",
    "                          stride=stride, bias=False),\n",
    "                nn.BatchNorm2d(self.expansion*planes)\n",
    "            )\n",
    "\n",
    "    def forward(self, x):\n",
    "        out = F.relu(self.bn1(self.conv1(x)))\n",
    "        out = self.bn2(self.conv2(out))\n",
    "        out += self.shortcut(x)\n",
    "        out = F.relu(out)\n",
    "        return out\n",
    "\n",
    "\n",
    "class Bottleneck(nn.Module):\n",
    "    expansion = 4\n",
    "\n",
    "    def __init__(self, in_planes, planes, stride=1):\n",
    "        super(Bottleneck, self).__init__()\n",
    "        self.conv1 = nn.Conv2d(in_planes, planes, kernel_size=1, bias=False)\n",
    "        self.bn1 = nn.BatchNorm2d(planes)\n",
    "        self.conv2 = nn.Conv2d(planes, planes, kernel_size=3, stride=stride, \n",
    "                               padding=1, bias=False)\n",
    "        self.bn2 = nn.BatchNorm2d(planes)\n",
    "        self.conv3 = nn.Conv2d(planes, self.expansion*planes, kernel_size=1, \n",
    "                               bias=False)\n",
    "        self.bn3 = nn.BatchNorm2d(self.expansion*planes)\n",
    "\n",
    "        self.shortcut = nn.Sequential()\n",
    "        if stride != 1 or in_planes != self.expansion*planes:\n",
    "            self.shortcut = nn.Sequential(\n",
    "                nn.Conv2d(in_planes, self.expansion*planes, kernel_size=1, \n",
    "                          stride=stride, bias=False),\n",
    "                nn.BatchNorm2d(self.expansion*planes)\n",
    "            )\n",
    "\n",
    "    def forward(self, x):\n",
    "        out = F.relu(self.bn1(self.conv1(x)))\n",
    "        out = F.relu(self.bn2(self.conv2(out)))\n",
    "        out = self.bn3(self.conv3(out))\n",
    "        out += self.shortcut(x)\n",
    "        out = F.relu(out)\n",
    "        return out\n",
    "\n",
    "\n",
    "class ResNet(nn.Module):\n",
    "    def __init__(self, block, num_blocks, num_classes=10):\n",
    "        super(ResNet, self).__init__()\n",
    "        self.in_planes = 64\n",
    "\n",
    "        self.conv1 = conv3x3(3,64)\n",
    "        self.bn1 = nn.BatchNorm2d(64)\n",
    "        self.layer1 = self._make_layer(block, 64, num_blocks[0], stride=1)\n",
    "        self.layer2 = self._make_layer(block, 128, num_blocks[1], stride=2)\n",
    "        self.layer3 = self._make_layer(block, 256, num_blocks[2], stride=2)\n",
    "        self.layer4 = self._make_layer(block, 512, num_blocks[3], stride=2)\n",
    "        self.linear = nn.Linear(512*block.expansion, num_classes)\n",
    "\n",
    "    def _make_layer(self, block, planes, num_blocks, stride):\n",
    "        strides = [stride] + [1]*(num_blocks-1)\n",
    "        layers = []\n",
    "        for stride in strides:\n",
    "            layers.append(block(self.in_planes, planes, stride))\n",
    "            self.in_planes = planes * block.expansion\n",
    "        return nn.Sequential(*layers)\n",
    "\n",
    "    def forward(self, x):\n",
    "        out = F.relu(self.bn1(self.conv1(x)))\n",
    "        out = self.layer1(out)\n",
    "        out = self.layer2(out)\n",
    "        out = self.layer3(out)\n",
    "        out = self.layer4(out)\n",
    "        out = F.avg_pool2d(out, 4)\n",
    "        out = out.view(out.size(0), -1)\n",
    "        out = self.linear(out)\n",
    "        return out\n",
    "\n",
    "\n",
    "def ResNet18(num_classes=10):\n",
    "    return ResNet(BasicBlock, [2,2,2,2], num_classes)\n",
    "\n"
   ],
   "id": "cfdefa36-9002-4c8b-bba4-16730ccfe548"
  },
  {
   "cell_type": "markdown",
   "metadata": {},
   "source": [
    "### 2.1.2. Model Evaluate Test Code\n",
    "\n",
    "This function evaluates the performance of the model on a given data loader (loader). It sets the model to evaluation mode (eval), calculates the accuracy on the dataset, and returns the validation accuracy. It then switches the model back to training mode (train) before returning the validation accuracy."
   ],
   "id": "334b1d82-88d7-40a2-8d43-2d09c9129563"
  },
  {
   "cell_type": "code",
   "execution_count": null,
   "metadata": {},
   "outputs": [],
   "source": [
    "def test(loader, cnn):\n",
    "    cnn.eval()    # Change model to 'eval' mode (BN uses moving mean/var).\n",
    "    correct = 0.\n",
    "    total = 0.\n",
    "    for images, labels in loader:\n",
    "        images = images.cuda()\n",
    "        labels = labels.cuda()\n",
    "\n",
    "        with torch.no_grad():\n",
    "            pred = cnn(images)\n",
    "\n",
    "        pred = torch.max(pred.data, 1)[1]\n",
    "        total += labels.size(0)\n",
    "        correct += (pred == labels).sum().item()\n",
    "\n",
    "    val_acc = correct / total\n",
    "    cnn.train()\n",
    "    return val_acc"
   ],
   "id": "b9c5bd53-0008-4d17-9a0b-894da67f654a"
  },
  {
   "cell_type": "markdown",
   "metadata": {},
   "source": [
    "## 2.2 Training ResNet-18 in CIFAR-10"
   ],
   "id": "53ed5f62-59a4-48f7-9c33-ab7a59aacf53"
  },
  {
   "cell_type": "markdown",
   "metadata": {},
   "source": [
    "### 2.2.1. Training ResNet-18 in CF10 without Cutout"
   ],
   "id": "f767d000-c469-4e6c-977a-b64fd814be0f"
  },
  {
   "cell_type": "markdown",
   "metadata": {},
   "source": [
    "Image Processing for CIFAR-10 without Cutout"
   ],
   "id": "dd810159-b284-4e08-be02-067055dc9fa2"
  },
  {
   "cell_type": "code",
   "execution_count": null,
   "metadata": {},
   "outputs": [],
   "source": [
    "# Image Preprocessing\n",
    "normalize_image_cifar10 = transforms.Normalize(mean=[x / 255.0 for x in \n",
    " [125.3, 123.0, 113.9]], \n",
    "std=[x / 255.0 for x in [63.0, 62.1, 66.7]])\n",
    "\n",
    "train_transform_cifar10 = transforms.Compose([])\n",
    "\n",
    "train_transform_cifar10.transforms.append(transforms.ToTensor())\n",
    "train_transform_cifar10.transforms.append(normalize_image_cifar10)\n",
    "\n",
    "\n",
    "\n",
    "test_transform_cifar10 = transforms.Compose([\n",
    "    transforms.ToTensor(),\n",
    "    normalize_image_cifar10])"
   ],
   "id": "92291d3d-3d27-4b76-9b5b-39c3d691aae7"
  },
  {
   "cell_type": "markdown",
   "metadata": {},
   "source": [
    "Import the dataset of CIFAR-10 without Cutout"
   ],
   "id": "fc52e423-98a2-4055-9d32-38c783940842"
  },
  {
   "cell_type": "code",
   "execution_count": null,
   "metadata": {},
   "outputs": [],
   "source": [
    "train_dataset_cifar10 = datasets.CIFAR10(root=current_path + 'data/',\n",
    "                                     train=True,\n",
    "                                     transform=train_transform_cifar10,\n",
    "                                     download=True)\n",
    "\n",
    "test_dataset_cifar10 = datasets.CIFAR10(root=current_path + 'data/',\n",
    "                                    train=False,\n",
    "                                    transform=test_transform_cifar10,\n",
    "                                    download=True)"
   ],
   "id": "367770e5-ea9a-48fd-bfb0-a211cdfdc1fe"
  },
  {
   "cell_type": "markdown",
   "metadata": {},
   "source": [
    "Create Dataset of CIFAR-10 without Cutout as Dataloader"
   ],
   "id": "af36e2f5-291d-4109-b23a-6ca98defdb50"
  },
  {
   "cell_type": "code",
   "execution_count": null,
   "metadata": {},
   "outputs": [],
   "source": [
    "# Data Loader (Input Pipeline)\n",
    "batch_size_cifar10 = 128\n",
    "train_loader_cifar10 = torch.utils.data.DataLoader(dataset=train_dataset_cifar10,\n",
    "                                           batch_size=batch_size_cifar10,\n",
    "                                           shuffle=True,\n",
    "                                           pin_memory=True,\n",
    "                                           num_workers=2)\n",
    "\n",
    "test_loader_cifar10 = torch.utils.data.DataLoader(dataset=test_dataset_cifar10,\n",
    "                                          batch_size=batch_size_cifar10,\n",
    "                                          shuffle=False,\n",
    "                                          pin_memory=True,\n",
    "                                          num_workers=2)"
   ],
   "id": "af3ac38c-270c-40b5-9d5d-6df12a64d47a"
  },
  {
   "cell_type": "markdown",
   "metadata": {},
   "source": [
    "Define the model of ResNet for CIFAR-10 without Cutout"
   ],
   "id": "471f9e3b-126a-4789-8bb8-aea661b1eb45"
  },
  {
   "cell_type": "markdown",
   "metadata": {},
   "source": [
    "This code block sets up the machine learning model, loss function, optimizer, and learning rate scheduler."
   ],
   "id": "51e88cf4-1159-4d8f-929e-432da2338ee5"
  },
  {
   "cell_type": "code",
   "execution_count": null,
   "metadata": {},
   "outputs": [],
   "source": [
    "#file_name will be the used for the name of the file of weight of the model and also the result\n",
    "file_name_resnet18_cifar10 = \"resnet18_cifar10\"\n",
    "\n",
    "num_classes_cifar10 = 10\n",
    "resnet18_cifar10 = ResNet18(num_classes=num_classes_cifar10)\n",
    "\n",
    "\n",
    "resnet18_cifar10 = resnet18_cifar10.cuda()\n",
    "learning_rate_resnet18_cifar10 = 0.1\n",
    "criterion_resnet18_cifar10 = nn.CrossEntropyLoss().cuda()\n",
    "cnn_optimizer_resnet18_cifar10 = torch.optim.SGD(resnet18_cifar10.parameters(), lr=learning_rate_resnet18_cifar10,\n",
    "                                momentum=0.9, nesterov=True, weight_decay=5e-4)\n",
    "scheduler_resnet18_cifar10 = MultiStepLR(cnn_optimizer_resnet18_cifar10, milestones=[60, 120, 160], gamma=0.2)"
   ],
   "id": "be82fb17-ea5a-4eda-9b23-71fa56c41dcd"
  },
  {
   "cell_type": "markdown",
   "metadata": {},
   "source": [
    "Training ResNet-18 for CIFAR-10 without Cutout"
   ],
   "id": "f9df738b-31a9-4a79-a56f-fa6422735c6f"
  },
  {
   "cell_type": "markdown",
   "metadata": {},
   "source": [
    "This code runs the training loop for the chosen machine learning model over a specified number of epochs. Each epoch involves a forward pass, loss computation, backpropagation, and parameter updates. It also calculates and displays the training accuracy and cross-entropy loss. At the end of each epoch, the model’s performance is evaluated on the test set, and the results are logged and saved."
   ],
   "id": "a5aea225-4526-45f5-9d5c-7ba4368eb529"
  },
  {
   "cell_type": "code",
   "execution_count": null,
   "metadata": {},
   "outputs": [],
   "source": [
    "epochs = 200\n",
    "for epoch in range(epochs):\n",
    "\n",
    "    xentropy_loss_avg = 0.\n",
    "    correct = 0.\n",
    "    total = 0.\n",
    "\n",
    "    progress_bar = tqdm(train_loader_cifar10)\n",
    "    for i, (images, labels) in enumerate(progress_bar):\n",
    "        progress_bar.set_description('Epoch ' + str(epoch))\n",
    "\n",
    "        images = images.cuda()\n",
    "        labels = labels.cuda()\n",
    "\n",
    "        resnet18_cifar10.zero_grad()\n",
    "        pred = resnet18_cifar10(images)\n",
    "\n",
    "        xentropy_loss = criterion_resnet18_cifar10(pred, labels)\n",
    "        xentropy_loss.backward()\n",
    "        cnn_optimizer_resnet18_cifar10.step()\n",
    "\n",
    "        xentropy_loss_avg += xentropy_loss.item()\n",
    "\n",
    "        # Calculate running average of accuracy\n",
    "        pred = torch.max(pred.data, 1)[1]\n",
    "        total += labels.size(0)\n",
    "        correct += (pred == labels.data).sum().item()\n",
    "        accuracy = correct / total\n",
    "\n",
    "        progress_bar.set_postfix(\n",
    "            xentropy='%.3f' % (xentropy_loss_avg / (i + 1)),\n",
    "            acc='%.3f' % accuracy)\n",
    "\n",
    "    test_accr_resnet18_cifar10 = test(test_loader_cifar10, resnet18_cifar10)\n",
    "    tqdm.write('test_acc: %.3f' % (test_accr_resnet18_cifar10))\n",
    "\n",
    "    scheduler_resnet18_cifar10.step()    \n",
    "\n",
    "    \n",
    "torch.save(resnet18_cifar10.state_dict(), current_path + 'checkpoints/' + file_name_resnet18_cifar10 + '.pt')\n",
    "\n",
    "\n",
    "final_test_acc_resnet18_cifar10 = (1 - test(test_loader_cifar10, resnet18_cifar10))*100\n",
    "print('Test error rates (%) on ResNet-18 without Cutout for Test CIFAR-10 Dataset: %.3f' % (final_test_acc_resnet18_cifar10))"
   ],
   "id": "318b3388-6794-4f7a-a606-c20e7a937be3"
  },
  {
   "cell_type": "markdown",
   "metadata": {},
   "source": [
    "### 2.2.2. Training ResNet-18 in CF10 with Cutout"
   ],
   "id": "d0a0cd3f-4f8c-4979-a6c1-c006d458d3d6"
  },
  {
   "cell_type": "markdown",
   "metadata": {},
   "source": [
    "Cutout Code"
   ],
   "id": "e67da6db-9159-4e05-9600-b7c6296a23d8"
  },
  {
   "cell_type": "markdown",
   "metadata": {},
   "source": [
    "This is the code to do Cutout and it is the same code we introduced earlier in the section about Cutout"
   ],
   "id": "a48d8bd3-2b3a-4b8d-af33-81f3e2d44bab"
  },
  {
   "cell_type": "code",
   "execution_count": null,
   "metadata": {},
   "outputs": [],
   "source": [
    "# Source Code from https://github.com/uoguelph-mlrg/Cutout/blob/master/util/cutout.py\n",
    "class Cutout(object):\n",
    "    \"\"\"Randomly mask out one or more patches from an image.\n",
    "\n",
    "    Args:\n",
    "        n_holes (int): Number of patches to cut out of each image.\n",
    "        length (int): The length (in pixels) of each square patch.\n",
    "    \"\"\"\n",
    "    def __init__(self, n_holes, length):\n",
    "        self.n_holes = n_holes\n",
    "        self.length = length\n",
    "\n",
    "    def __call__(self, img):\n",
    "        \"\"\"\n",
    "        Args:\n",
    "            img (Tensor): Tensor image of size (C, H, W).\n",
    "        Returns:\n",
    "            Tensor: Image with n_holes of dimension length x length cut out of it.\n",
    "        \"\"\"\n",
    "        h = img.size(1)\n",
    "        w = img.size(2)\n",
    "\n",
    "        mask = np.ones((h, w), np.float32)\n",
    "\n",
    "        for n in range(self.n_holes):\n",
    "            y = np.random.randint(h)\n",
    "            x = np.random.randint(w)\n",
    "\n",
    "            y1 = np.clip(y - self.length // 2, 0, h)\n",
    "            y2 = np.clip(y + self.length // 2, 0, h)\n",
    "            x1 = np.clip(x - self.length // 2, 0, w)\n",
    "            x2 = np.clip(x + self.length // 2, 0, w)\n",
    "\n",
    "            mask[y1: y2, x1: x2] = 0.\n",
    "\n",
    "        mask = torch.from_numpy(mask)\n",
    "        mask = mask.expand_as(img)\n",
    "        img = img * mask\n",
    "\n",
    "        return img"
   ],
   "id": "ea32ba18-6937-4a80-b727-9ce40e06ef15"
  },
  {
   "cell_type": "markdown",
   "metadata": {},
   "source": [
    "Image Processing for CIFAR-10 with Cutout"
   ],
   "id": "06b2c7f9-c21a-4410-ae40-134b38469ae0"
  },
  {
   "cell_type": "code",
   "execution_count": null,
   "metadata": {},
   "outputs": [],
   "source": [
    "# Image Preprocessing\n",
    "\n",
    "normalize_image_cifar10 =transforms.Normalize(mean=[x / 255.0 for x in \n",
    " [125.3, 123.0, 113.9]], \n",
    "std=[x / 255.0 for x in [63.0, 62.1, 66.7]])\n",
    "\n",
    "train_transform_cifar10_cutout = transforms.Compose([])\n",
    "\n",
    "train_transform_cifar10_cutout.transforms.append(transforms.ToTensor())\n",
    "train_transform_cifar10_cutout.transforms.append(normalize_image_cifar10)\n",
    "\n",
    "#Add Cutout to the image transformer pipeline\n",
    "n_holes_cifar10 = 1\n",
    "length_cifar10 = 16\n",
    "train_transform_cifar10_cutout.transforms.append(Cutout(n_holes=n_holes_cifar10, length=length_cifar10))\n",
    "\n",
    "\n",
    "test_transform_cifar10 = transforms.Compose([\n",
    "    transforms.ToTensor(),\n",
    "    normalize_image_cifar10])"
   ],
   "id": "59f3a657-6d76-43c8-9f38-866a12229b33"
  },
  {
   "cell_type": "markdown",
   "metadata": {},
   "source": [
    "Import the dataset of CIFAR-10 with Cutout"
   ],
   "id": "87e9b09b-0514-46db-8fdb-0417386a6ade"
  },
  {
   "cell_type": "code",
   "execution_count": null,
   "metadata": {},
   "outputs": [],
   "source": [
    "train_dataset_cifar10_cutout = datasets.CIFAR10(root=current_path + 'data/',\n",
    "                                     train=True,\n",
    "                                     transform=train_transform_cifar10_cutout,\n",
    "                                     download=True)\n",
    "\n",
    "test_dataset_cifar10 = datasets.CIFAR10(root=current_path + 'data/',\n",
    "                                    train=False,\n",
    "                                    transform=test_transform_cifar10,\n",
    "                                    download=True)"
   ],
   "id": "69a3ba6b-520d-425f-b4f8-2d72896386e3"
  },
  {
   "cell_type": "markdown",
   "metadata": {},
   "source": [
    "Create Dataset of CIFAR-10 with Cutout as Dataloader"
   ],
   "id": "5f2fa4a2-3018-48d5-ad77-4589a4e07c06"
  },
  {
   "cell_type": "code",
   "execution_count": null,
   "metadata": {},
   "outputs": [],
   "source": [
    "# Data Loader (Input Pipeline)\n",
    "batch_size_cifar10_cutout = 128\n",
    "train_loader_cifar10_cutout = torch.utils.data.DataLoader(dataset=train_dataset_cifar10_cutout,\n",
    "                                           batch_size=batch_size_cifar10_cutout,\n",
    "                                           shuffle=True,\n",
    "                                           pin_memory=True,\n",
    "                                           num_workers=2)\n",
    "\n",
    "test_loader_cifar10 = torch.utils.data.DataLoader(dataset=test_dataset_cifar10,\n",
    "                                          batch_size=batch_size_cifar10_cutout,\n",
    "                                          shuffle=False,\n",
    "                                          pin_memory=True,\n",
    "                                          num_workers=2)"
   ],
   "id": "e0b01950-1083-456c-a369-cfd56dc88276"
  },
  {
   "cell_type": "markdown",
   "metadata": {},
   "source": [
    "Define the model of ResNet for CIFAR-10 with Cutout"
   ],
   "id": "0fabda95-f4a1-4cc9-aff5-d61187ebf0c1"
  },
  {
   "cell_type": "markdown",
   "metadata": {},
   "source": [
    "This code block sets up the machine learning model, loss function, optimizer, and learning rate scheduler."
   ],
   "id": "9158b55d-c1f4-43b8-8fad-4720abcba046"
  },
  {
   "cell_type": "code",
   "execution_count": null,
   "metadata": {},
   "outputs": [],
   "source": [
    "#file_name will be the used for the name of the file of weight of the model and also the result\n",
    "file_name_resnet18_cifar10_cutout = \"resnet18_cifar10_cutout\"\n",
    "\n",
    "num_classes_cifar10 = 10\n",
    "resnet18_cifar10_cutout = ResNet18(num_classes=num_classes_cifar10)\n",
    "\n",
    "\n",
    "resnet18_cifar10_cutout = resnet18_cifar10_cutout.cuda()\n",
    "learning_rate_resnet18_cifar10_cutout = 0.1\n",
    "criterion_resnet18_cifar10_cutout = nn.CrossEntropyLoss().cuda()\n",
    "cnn_optimizer_resnet18_cifar10_cutout = torch.optim.SGD(resnet18_cifar10_cutout.parameters(),\n",
    "            lr=learning_rate_resnet18_cifar10_cutout, \n",
    "            momentum=0.9,nesterov=True, weight_decay=5e-4)\n",
    "scheduler_resnet18_cifar10_cutout = MultiStepLR(cnn_optimizer_resnet18_cifar10_cutout, milestones=[60, 120, 160], gamma=0.2)"
   ],
   "id": "8722628c-e17b-4ea6-bd64-affc5d65f697"
  },
  {
   "cell_type": "markdown",
   "metadata": {},
   "source": [
    "Training ResNet-18 for CIFAR-10 with Cutout"
   ],
   "id": "f4c3be50-844e-4b73-a21b-2f7d5814dd59"
  },
  {
   "cell_type": "markdown",
   "metadata": {},
   "source": [
    "This code runs the training loop for the chosen machine learning model over a specified number of epochs. Each epoch involves a forward pass, loss computation, backpropagation, and parameter updates. It also calculates and displays the training accuracy and cross-entropy loss. At the end of each epoch, the model’s performance is evaluated on the test set, and the results are logged and saved."
   ],
   "id": "794fca4c-3d85-4323-a50b-c34e782a569e"
  },
  {
   "cell_type": "code",
   "execution_count": null,
   "metadata": {},
   "outputs": [],
   "source": [
    "epochs = 200\n",
    "for epoch in range(epochs):\n",
    "\n",
    "    xentropy_loss_avg = 0.\n",
    "    correct = 0.\n",
    "    total = 0.\n",
    "\n",
    "    progress_bar = tqdm(train_loader_cifar10_cutout)\n",
    "    for i, (images, labels) in enumerate(progress_bar):\n",
    "        progress_bar.set_description('Epoch ' + str(epoch))\n",
    "\n",
    "        images = images.cuda()\n",
    "        labels = labels.cuda()\n",
    "\n",
    "        resnet18_cifar10_cutout.zero_grad()\n",
    "        pred = resnet18_cifar10_cutout(images)\n",
    "\n",
    "        xentropy_loss = criterion_resnet18_cifar10_cutout(pred, labels)\n",
    "        xentropy_loss.backward()\n",
    "        cnn_optimizer_resnet18_cifar10_cutout.step()\n",
    "\n",
    "        xentropy_loss_avg += xentropy_loss.item()\n",
    "\n",
    "        # Calculate running average of accuracy\n",
    "        pred = torch.max(pred.data, 1)[1]\n",
    "        total += labels.size(0)\n",
    "        correct += (pred == labels.data).sum().item()\n",
    "        accuracy = correct / total\n",
    "\n",
    "        progress_bar.set_postfix(\n",
    "            xentropy='%.3f' % (xentropy_loss_avg / (i + 1)),\n",
    "            acc='%.3f' % accuracy)\n",
    "\n",
    "    test_acc_cifar10 = test(test_loader_cifar10,resnet18_cifar10_cutout)\n",
    "    tqdm.write('test_acc: %.3f' % (test_acc_cifar10))\n",
    "    scheduler_resnet18_cifar10_cutout.step()     \n",
    "torch.save(resnet18_cifar10_cutout.state_dict(), current_path + 'checkpoints/' + file_name_resnet18_cifar10_cutout + '.pt')\n",
    "\n",
    "\n",
    "final_test_acc_resnet18_cifar10_cutout = (1 - test(test_loader_cifar10,resnet18_cifar10_cutout))*100\n",
    "print('Test error rates (%) on ResNet-18 using Cutout for CIFAR-10 Test Dataset: %.3f' % (final_test_acc_resnet18_cifar10_cutout))"
   ],
   "id": "45c5db19-9272-4681-8b2d-212b11b80991"
  },
  {
   "cell_type": "markdown",
   "metadata": {},
   "source": [
    "### 2.2.3. Training ResNet-18 in CF10 with Data Augmentation"
   ],
   "id": "d8b564da-f7f4-494f-8f1e-c2f2290e7989"
  },
  {
   "cell_type": "markdown",
   "metadata": {},
   "source": [
    "Image Processing for CIFAR-10 with Data Augmentation"
   ],
   "id": "a0df8f51-be1c-4310-9d0e-04ff6d8d0f16"
  },
  {
   "cell_type": "code",
   "execution_count": null,
   "metadata": {},
   "outputs": [],
   "source": [
    "# Image Preprocessing\n",
    "\n",
    "normalize_image_cifar10 = transforms.Normalize(mean=[x / 255.0 for x in \n",
    " [125.3, 123.0, 113.9]], \n",
    "std=[x / 255.0 for x in [63.0, 62.1, 66.7]])\n",
    "\n",
    "train_transform_cifar10_da = transforms.Compose([])\n",
    "train_transform_cifar10_da.transforms.append(transforms.RandomCrop(32, padding=4))\n",
    "train_transform_cifar10_da.transforms.append(transforms.RandomHorizontalFlip())\n",
    "train_transform_cifar10_da.transforms.append(transforms.ToTensor())\n",
    "train_transform_cifar10_da.transforms.append(normalize_image_cifar10)\n",
    "\n",
    "\n",
    "test_transform_cifar10 = transforms.Compose([\n",
    "    transforms.ToTensor(),\n",
    "    normalize_image_cifar10])"
   ],
   "id": "63347a5f-0136-404f-b283-26104eaefe37"
  },
  {
   "cell_type": "markdown",
   "metadata": {},
   "source": [
    "Import the dataset of CIFAR-10 with Data Augmentation"
   ],
   "id": "3e709acf-b39d-4a8c-a583-ba813b4b0951"
  },
  {
   "cell_type": "code",
   "execution_count": null,
   "metadata": {},
   "outputs": [],
   "source": [
    "train_dataset_cifar10_da = datasets.CIFAR10(root=current_path + 'data/',\n",
    "                                     train=True,\n",
    "                                     transform=train_transform_cifar10_da,\n",
    "                                     download=True)\n",
    "\n",
    "test_dataset_cifar10 = datasets.CIFAR10(root=current_path + 'data/',\n",
    "                                    train=False,\n",
    "                                    transform=test_transform_cifar10,\n",
    "                                    download=True)"
   ],
   "id": "7510b776-a50a-445a-8096-cc9c61afb577"
  },
  {
   "cell_type": "markdown",
   "metadata": {},
   "source": [
    "Create Dataset of CIFAR-10 with Data Augmentation as Dataloader"
   ],
   "id": "065fe8b1-4440-4f65-9e4b-ad1c48fc7714"
  },
  {
   "cell_type": "code",
   "execution_count": null,
   "metadata": {},
   "outputs": [],
   "source": [
    "# Data Loader (Input Pipeline)\n",
    "batch_size_cifar10_da = 128\n",
    "train_loader_cifar10_da = torch.utils.data.DataLoader(dataset=train_dataset_cifar10_da,\n",
    "                                           batch_size=batch_size_cifar10_da,\n",
    "                                           shuffle=True,\n",
    "                                           pin_memory=True,\n",
    "                                           num_workers=2)\n",
    "\n",
    "test_loader_cifar10 = torch.utils.data.DataLoader(dataset=test_dataset_cifar10,\n",
    "                                          batch_size=batch_size_cifar10_da,\n",
    "                                          shuffle=False,\n",
    "                                          pin_memory=True,\n",
    "                                          num_workers=2)"
   ],
   "id": "cecf9b8b-48ba-4da9-ace9-8ad80f823d4e"
  },
  {
   "cell_type": "markdown",
   "metadata": {},
   "source": [
    "Define the model of ResNet for CIFAR-10 with Data Augmentation"
   ],
   "id": "1720e872-2a08-4681-80d2-2381e4506df0"
  },
  {
   "cell_type": "markdown",
   "metadata": {},
   "source": [
    "This code block sets up the machine learning model, loss function, optimizer, and learning rate scheduler."
   ],
   "id": "2aca7f1a-3191-4832-a8b9-23c3c81fcfc7"
  },
  {
   "cell_type": "code",
   "execution_count": null,
   "metadata": {},
   "outputs": [],
   "source": [
    "#file_name will be the used for the name of the file of weight of the model and also the result\n",
    "file_name_resnet18_cifar10_da = \"resnet18_cifar10_da\"\n",
    "\n",
    "num_classes_cifar10 = 10\n",
    "resnet18_cifar10_da = ResNet18(num_classes=num_classes_cifar10)\n",
    "\n",
    "\n",
    "resnet18_cifar10_da = resnet18_cifar10_da.cuda()\n",
    "learning_rate_resnet18_cifar10_da = 0.1\n",
    "criterion_resnet18_cifar10_da = nn.CrossEntropyLoss().cuda()\n",
    "cnn_optimizer_resnet18_cifar10_da = torch.optim.SGD(resnet18_cifar10_da.parameters(), lr=learning_rate_resnet18_cifar10_da,\n",
    "                                momentum=0.9, nesterov=True, weight_decay=5e-4)\n",
    "scheduler_resnet18_cifar10_da = MultiStepLR(cnn_optimizer_resnet18_cifar10_da, milestones=[60, 120, 160], gamma=0.2)"
   ],
   "id": "0945d914-4582-4541-948e-44ba4cfe629c"
  },
  {
   "cell_type": "markdown",
   "metadata": {},
   "source": [
    "Training ResNet-18 for CIFAR-10 with Data Augmentation"
   ],
   "id": "0815259d-7d2b-4daa-8b54-9c12ee892f94"
  },
  {
   "cell_type": "markdown",
   "metadata": {},
   "source": [
    "This code runs the training loop for the chosen machine learning model over a specified number of epochs. Each epoch involves a forward pass, loss computation, backpropagation, and parameter updates. It also calculates and displays the training accuracy and cross-entropy loss. At the end of each epoch, the model’s performance is evaluated on the test set, and the results are logged and saved."
   ],
   "id": "680852c4-4df3-4839-a1a5-5db540ecc857"
  },
  {
   "cell_type": "code",
   "execution_count": null,
   "metadata": {},
   "outputs": [],
   "source": [
    "epochs = 200\n",
    "for epoch in range(epochs):\n",
    "\n",
    "    xentropy_loss_avg = 0.\n",
    "    correct = 0.\n",
    "    total = 0.\n",
    "\n",
    "    progress_bar = tqdm(train_loader_cifar10_da)\n",
    "    for i, (images, labels) in enumerate(progress_bar):\n",
    "        progress_bar.set_description('Epoch ' + str(epoch))\n",
    "\n",
    "        images = images.cuda()\n",
    "        labels = labels.cuda()\n",
    "\n",
    "        resnet18_cifar10_da.zero_grad()\n",
    "        pred = resnet18_cifar10_da(images)\n",
    "\n",
    "        xentropy_loss = criterion_resnet18_cifar10_da(pred, labels)\n",
    "        xentropy_loss.backward()\n",
    "        cnn_optimizer_resnet18_cifar10_da.step()\n",
    "\n",
    "        xentropy_loss_avg += xentropy_loss.item()\n",
    "\n",
    "        # Calculate running average of accuracy\n",
    "        pred = torch.max(pred.data, 1)[1]\n",
    "        total += labels.size(0)\n",
    "        correct += (pred == labels.data).sum().item()\n",
    "        accuracy = correct / total\n",
    "\n",
    "        progress_bar.set_postfix(\n",
    "            xentropy='%.3f' % (xentropy_loss_avg / (i + 1)),\n",
    "            acc='%.3f' % accuracy)\n",
    "\n",
    "    test_acc_resnet18_cifar10_da = test(test_loader_cifar10,resnet18_cifar10_da)\n",
    "    tqdm.write('test_acc: %.3f' % (test_acc_resnet18_cifar10_da))\n",
    "    scheduler_resnet18_cifar10_da.step()     \n",
    "torch.save(resnet18_cifar10_da.state_dict(), current_path + 'checkpoints/' + file_name_resnet18_cifar10_da + '.pt')\n",
    "\n",
    "\n",
    "final_test_acc_resnet18_cifar10_da = (1 - test(test_loader_cifar10,resnet18_cifar10_da))*100\n",
    "print('Test error rates (%) on ResNet-18 using Data Augmentation for CIFAR-10 Test Dataset: %.3f' % (final_test_acc_resnet18_cifar10_da))"
   ],
   "id": "2b5ceb2d-ea77-4d56-8e96-9f2fb42be3d7"
  },
  {
   "cell_type": "markdown",
   "metadata": {},
   "source": [
    "### 2.2.4. Training ResNet-18 in CF10 with Data Augmentation and Cutout"
   ],
   "id": "bc6f8d0f-9e9b-4615-a8ea-be3f2217a154"
  },
  {
   "cell_type": "markdown",
   "metadata": {},
   "source": [
    "Image Processing for CIFAR-10 with Data Augmentation and Cutout"
   ],
   "id": "1c71ca65-8b51-441d-9838-bc243f1ef40e"
  },
  {
   "cell_type": "code",
   "execution_count": null,
   "metadata": {},
   "outputs": [],
   "source": [
    "# Image Preprocessing\n",
    "\n",
    "normalize_image_cifar10 = transforms.Normalize(mean=[x / 255.0 for x in \n",
    " [125.3, 123.0, 113.9]], \n",
    "std=[x / 255.0 for x in [63.0, 62.1, 66.7]])\n",
    "\n",
    "train_transform_cifar10_da_co = transforms.Compose([])\n",
    "train_transform_cifar10_da_co.transforms.append(transforms.RandomCrop(32, padding=4))\n",
    "train_transform_cifar10_da_co.transforms.append(transforms.RandomHorizontalFlip())\n",
    "train_transform_cifar10_da_co.transforms.append(transforms.ToTensor())\n",
    "train_transform_cifar10_da_co.transforms.append(normalize_image_cifar10)\n",
    "\n",
    "#Add Cutout to the image transformer pipeline\n",
    "n_holes_cifar10_da_co = 1\n",
    "length_cifar10_da_co = 16\n",
    "train_transform_cifar10_da_co.transforms.append(Cutout(n_holes=n_holes_cifar10_da_co, length=length_cifar10_da_co))\n",
    "\n",
    "\n",
    "test_transform_cifar10 = transforms.Compose([\n",
    "    transforms.ToTensor(),\n",
    "    normalize_image_cifar10])"
   ],
   "id": "7a3539be-1e74-454b-8b45-00ef76c1a305"
  },
  {
   "cell_type": "markdown",
   "metadata": {},
   "source": [
    "Import the dataset of CIFAR-10 with Data Augmentation and Cutout"
   ],
   "id": "68ce9377-b35e-4fc0-9c50-2ff7df30bd0f"
  },
  {
   "cell_type": "code",
   "execution_count": null,
   "metadata": {},
   "outputs": [],
   "source": [
    "train_dataset_cifar10_da_co = datasets.CIFAR10(root=current_path + 'data/',\n",
    "                                     train=True,\n",
    "                                     transform=train_transform_cifar10_da_co,\n",
    "                                     download=True)\n",
    "\n",
    "test_dataset_cifar10 = datasets.CIFAR10(root=current_path + 'data/',\n",
    "                                    train=False,\n",
    "                                    transform=test_transform_cifar10,\n",
    "                                    download=True)"
   ],
   "id": "16562273-d00b-45b7-b194-75d314b5ff06"
  },
  {
   "cell_type": "markdown",
   "metadata": {},
   "source": [
    "Create Dataset of CIFAR-10 with Data Augmentation and Cutout as Dataloader"
   ],
   "id": "f485432e-a6b5-47e2-8860-277a0f106a9b"
  },
  {
   "cell_type": "code",
   "execution_count": null,
   "metadata": {},
   "outputs": [],
   "source": [
    "# Data Loader (Input Pipeline)\n",
    "batch_size_cifar10_da_co = 128\n",
    "train_loader_cifar10_da_co = torch.utils.data.DataLoader(dataset=train_dataset_cifar10_da_co,\n",
    "                                           batch_size=batch_size_cifar10_da_co,\n",
    "                                           shuffle=True,\n",
    "                                           pin_memory=True,\n",
    "                                           num_workers=2)\n",
    "\n",
    "test_loader_cifar10 = torch.utils.data.DataLoader(dataset=test_dataset_cifar10,\n",
    "                                          batch_size=batch_size_cifar10_da_co,\n",
    "                                          shuffle=False,\n",
    "                                          pin_memory=True,\n",
    "                                          num_workers=2)"
   ],
   "id": "be44cbfe-8a0a-4171-88a0-2f1010d8fb8b"
  },
  {
   "cell_type": "markdown",
   "metadata": {},
   "source": [
    "Define the model of ResNet for CIFAR-10 with Data Augmentation and Cutout"
   ],
   "id": "f1b41646-262a-4b2d-bd51-e2b9398b726c"
  },
  {
   "cell_type": "markdown",
   "metadata": {},
   "source": [
    "This code block sets up the machine learning model, loss function, optimizer, and learning rate scheduler."
   ],
   "id": "42f694fb-ce69-4995-8344-bc69ae4cf8cd"
  },
  {
   "cell_type": "code",
   "execution_count": null,
   "metadata": {},
   "outputs": [],
   "source": [
    "#file_name will be the used for the name of the file of weight of the model and also the result\n",
    "file_name_resnet18_cifar10_da_cutout = \"resnet18_cifar10_da_cutout\"\n",
    "\n",
    "num_classes_cifar10 = 10\n",
    "resnet18_cifar10_da_cutout = ResNet18(num_classes=num_classes_cifar10)\n",
    "\n",
    "\n",
    "resnet18_cifar10_da_cutout = resnet18_cifar10_da_cutout.cuda()\n",
    "learning_rate_cifar10_da_cutout = 0.1\n",
    "criterion_cifar10_da_cutout = nn.CrossEntropyLoss().cuda()\n",
    "cnn_optimizer_cifar10_da_cutout = torch.optim.SGD(resnet18_cifar10_da_cutout.parameters(), lr=learning_rate_cifar10_da_cutout,\n",
    "                                momentum=0.9, nesterov=True, weight_decay=5e-4)\n",
    "scheduler_cifar10_da_cutout = MultiStepLR(cnn_optimizer_cifar10_da_cutout, milestones=[60, 120, 160], gamma=0.2)"
   ],
   "id": "699fe2ac-8dc2-4da8-be9b-a5263cba766d"
  },
  {
   "cell_type": "markdown",
   "metadata": {},
   "source": [
    "Training ResNet-18 for CIFAR-10 with Data Augmentation and Cutout"
   ],
   "id": "568a79ea-857f-413f-986d-080e37b36de6"
  },
  {
   "cell_type": "markdown",
   "metadata": {},
   "source": [
    "This code runs the training loop for the chosen machine learning model over a specified number of epochs. Each epoch involves a forward pass, loss computation, backpropagation, and parameter updates. It also calculates and displays the training accuracy and cross-entropy loss. At the end of each epoch, the model’s performance is evaluated on the test set, and the results are logged and saved."
   ],
   "id": "24656996-f386-4504-9e95-b4866bf8c719"
  },
  {
   "cell_type": "code",
   "execution_count": null,
   "metadata": {},
   "outputs": [],
   "source": [
    "epochs = 200\n",
    "for epoch in range(epochs):\n",
    "\n",
    "    xentropy_loss_avg = 0.\n",
    "    correct = 0.\n",
    "    total = 0.\n",
    "\n",
    "    progress_bar = tqdm(train_loader_cifar10_da_co)\n",
    "    for i, (images, labels) in enumerate(progress_bar):\n",
    "        progress_bar.set_description('Epoch ' + str(epoch))\n",
    "\n",
    "        images = images.cuda()\n",
    "        labels = labels.cuda()\n",
    "\n",
    "        resnet18_cifar10_da_cutout.zero_grad()\n",
    "        pred = resnet18_cifar10_da_cutout(images)\n",
    "\n",
    "        xentropy_loss = criterion_cifar10_da_cutout(pred, labels)\n",
    "        xentropy_loss.backward()\n",
    "        cnn_optimizer_cifar10_da_cutout.step()\n",
    "\n",
    "        xentropy_loss_avg += xentropy_loss.item()\n",
    "\n",
    "        # Calculate running average of accuracy\n",
    "        pred = torch.max(pred.data, 1)[1]\n",
    "        total += labels.size(0)\n",
    "        correct += (pred == labels.data).sum().item()\n",
    "        accuracy = correct / total\n",
    "\n",
    "        progress_bar.set_postfix(\n",
    "            xentropy='%.3f' % (xentropy_loss_avg / (i + 1)),\n",
    "            acc='%.3f' % accuracy)\n",
    "\n",
    "    test_acc_cifar10_da_cutout = test(test_loader_cifar10,resnet18_cifar10_da_cutout)\n",
    "    tqdm.write('test_acc: %.3f' % (test_acc_cifar10_da_cutout))\n",
    "    scheduler_cifar10_da_cutout.step()     \n",
    "torch.save(resnet18_cifar10_da_cutout.state_dict(), current_path + 'checkpoints/' + file_name_resnet18_cifar10_da_cutout + '.pt')\n",
    "\n",
    "\n",
    "final_test_acc_resnet18_cifar10_da_cutout = (1 - test(test_loader_cifar10,resnet18_cifar10_da_cutout))*100\n",
    "print('Test error rates (%) on ResNet-18 using Data Augmentation and  Cutout for CIFAR-10 Test Dataset: %.3f' % (final_test_acc_resnet18_cifar10_da_cutout))"
   ],
   "id": "6319a49a-1a23-4957-ae0c-435c0f581084"
  },
  {
   "cell_type": "code",
   "execution_count": null,
   "metadata": {},
   "outputs": [],
   "source": [
    "print('Test error rates (%) on ResNet-18 without Cutout for Test CIFAR-10 Dataset: %.3f' % (final_test_acc_resnet18_cifar10))\n",
    "print('Test error rates (%) on ResNet-18 using Cutout for CIFAR-10 Test Dataset: %.3f' % (final_test_acc_resnet18_cifar10_cutout))\n",
    "print('Test error rates (%) on ResNet-18 using Data Augmentation for CIFAR-10 Test Dataset: %.3f' % (final_test_acc_resnet18_cifar10_da))\n",
    "print('Test error rates (%) on ResNet-18 using Data Augmentation and  Cutout for CIFAR-10 Test Dataset: %.3f' % (final_test_acc_resnet18_cifar10_da_cutout))"
   ],
   "id": "f0af1129-8772-4b63-b30c-47e09d0cdf55"
  },
  {
   "cell_type": "markdown",
   "metadata": {},
   "source": [
    "## 2.3 Training ResNet-18 in CIFAR-100"
   ],
   "id": "08f82614-97e1-44e9-986c-878331cdb5f0"
  },
  {
   "cell_type": "markdown",
   "metadata": {},
   "source": [
    "### 2.3.1. Training ResNet-18 in CF100 without Cutout"
   ],
   "id": "454ede74-cf4e-42b3-bbb3-cfc132452065"
  },
  {
   "cell_type": "markdown",
   "metadata": {},
   "source": [
    "Image Processing for CIFAR-100 without Cutout"
   ],
   "id": "c40376c3-c7ae-4e30-9d81-d2540983a0f0"
  },
  {
   "cell_type": "code",
   "execution_count": null,
   "metadata": {},
   "outputs": [],
   "source": [
    "# Image Preprocessing\n",
    "\n",
    "normalize_image_cifar100 = transforms.Normalize(mean=[x / 255.0 for x in \n",
    " [125.3, 123.0, 113.9]], \n",
    "std=[x / 255.0 for x in [63.0, 62.1, 66.7]])\n",
    "\n",
    "train_transform_cifar100 = transforms.Compose([])\n",
    "\n",
    "train_transform_cifar100.transforms.append(transforms.ToTensor())\n",
    "train_transform_cifar100.transforms.append(normalize_image_cifar100)\n",
    "\n",
    "\n",
    "\n",
    "test_transform_cifar100 = transforms.Compose([\n",
    "    transforms.ToTensor(),\n",
    "    normalize_image_cifar100])"
   ],
   "id": "14d8e56f-d26d-4a10-a169-c6914fbc601c"
  },
  {
   "cell_type": "markdown",
   "metadata": {},
   "source": [
    "Import the dataset of CIFAR-100 without Cutout"
   ],
   "id": "bfecf1cc-abd5-4cca-9ea3-31b53cd82a66"
  },
  {
   "cell_type": "code",
   "execution_count": null,
   "metadata": {},
   "outputs": [],
   "source": [
    "train_dataset_cifar100 = datasets.CIFAR100(root=current_path + 'data/',\n",
    "                                     train=True,\n",
    "                                     transform=train_transform_cifar100,\n",
    "                                     download=True)\n",
    "\n",
    "test_dataset_cifar100 = datasets.CIFAR100(root=current_path + 'data/',\n",
    "                                    train=False,\n",
    "                                    transform=test_transform_cifar100,\n",
    "                                    download=True)"
   ],
   "id": "650e0ae7-81e8-40cc-82aa-d3ae420a32e5"
  },
  {
   "cell_type": "markdown",
   "metadata": {},
   "source": [
    "Create Dataset of CIFAR-100 without Cutout as Dataloader"
   ],
   "id": "cdaa6c9c-629e-42e3-9dbe-0724d5c04687"
  },
  {
   "cell_type": "code",
   "execution_count": null,
   "metadata": {},
   "outputs": [],
   "source": [
    "# Data Loader (Input Pipeline)\n",
    "batch_size_cifar100 = 128\n",
    "train_loader_cifar100 = torch.utils.data.DataLoader(dataset=train_dataset_cifar100,\n",
    "                                           batch_size=batch_size_cifar100,\n",
    "                                           shuffle=True,\n",
    "                                           pin_memory=True,\n",
    "                                           num_workers=2)\n",
    "\n",
    "test_loader_cifar100 = torch.utils.data.DataLoader(dataset=test_dataset_cifar100,\n",
    "                                          batch_size=batch_size_cifar100,\n",
    "                                          shuffle=False,\n",
    "                                          pin_memory=True,\n",
    "                                          num_workers=2)"
   ],
   "id": "a21b05f9-ecec-4641-92d8-75024358885b"
  },
  {
   "cell_type": "markdown",
   "metadata": {},
   "source": [
    "Define the model of ResNet for CIFAR-100"
   ],
   "id": "3ecacb13-158c-47e9-8a29-48589d875e9a"
  },
  {
   "cell_type": "markdown",
   "metadata": {},
   "source": [
    "This code block sets up the machine learning model, loss function, optimizer, and learning rate scheduler."
   ],
   "id": "5ed2e9b2-29d4-4c2c-b339-be85057939a1"
  },
  {
   "cell_type": "code",
   "execution_count": null,
   "metadata": {},
   "outputs": [],
   "source": [
    "#file_name will be the used for the name of the file of weight of the model and also the result\n",
    "file_name_resnet18_cifar100 = \"resnet18_cifar100\"\n",
    "\n",
    "num_classes_cifar100 = 100\n",
    "resnet18_cifar100 = ResNet18(num_classes=num_classes_cifar100)\n",
    "\n",
    "\n",
    "resnet18_cifar100 = resnet18_cifar100.cuda()\n",
    "learning_rate_resnet18_cifar100 = 0.1\n",
    "criterion_resnet18_cifar100 = nn.CrossEntropyLoss().cuda()\n",
    "cnn_optimizer_resnet18_cifar100 = torch.optim.SGD(resnet18_cifar100.parameters(), lr=learning_rate_resnet18_cifar100,\n",
    "                                momentum=0.9, nesterov=True, weight_decay=5e-4)\n",
    "scheduler_resnet18_cifar100 = MultiStepLR(cnn_optimizer_resnet18_cifar100, milestones=[60, 120, 160], gamma=0.2)"
   ],
   "id": "ba404245-71e1-4c60-85fc-564dd0c93708"
  },
  {
   "cell_type": "markdown",
   "metadata": {},
   "source": [
    "Training ResNet-18 for CIFAR-100 without Cutout"
   ],
   "id": "f42e19a8-7323-43e3-9137-10b026afd474"
  },
  {
   "cell_type": "markdown",
   "metadata": {},
   "source": [
    "This code runs the training loop for the chosen machine learning model over a specified number of epochs. Each epoch involves a forward pass, loss computation, backpropagation, and parameter updates. It also calculates and displays the training accuracy and cross-entropy loss. At the end of each epoch, the model’s performance is evaluated on the test set, and the results are logged and saved."
   ],
   "id": "a60c610c-c2f8-4dc2-b5ca-6855a2077475"
  },
  {
   "cell_type": "code",
   "execution_count": null,
   "metadata": {},
   "outputs": [],
   "source": [
    "epochs = 200\n",
    "for epoch in range(epochs):\n",
    "\n",
    "    xentropy_loss_avg = 0.\n",
    "    correct = 0.\n",
    "    total = 0.\n",
    "\n",
    "    progress_bar = tqdm(train_loader_cifar100)\n",
    "    for i, (images, labels) in enumerate(progress_bar):\n",
    "        progress_bar.set_description('Epoch ' + str(epoch))\n",
    "\n",
    "        images = images.cuda()\n",
    "        labels = labels.cuda()\n",
    "\n",
    "        resnet18_cifar100.zero_grad()\n",
    "        pred = resnet18_cifar100(images)\n",
    "\n",
    "        xentropy_loss = criterion_resnet18_cifar100(pred, labels)\n",
    "        xentropy_loss.backward()\n",
    "        cnn_optimizer_resnet18_cifar100.step()\n",
    "\n",
    "        xentropy_loss_avg += xentropy_loss.item()\n",
    "\n",
    "        # Calculate running average of accuracy\n",
    "        pred = torch.max(pred.data, 1)[1]\n",
    "        total += labels.size(0)\n",
    "        correct += (pred == labels.data).sum().item()\n",
    "        accuracy = correct / total\n",
    "\n",
    "        progress_bar.set_postfix(\n",
    "            xentropy='%.3f' % (xentropy_loss_avg / (i + 1)),\n",
    "            acc='%.3f' % accuracy)\n",
    "\n",
    "    test_accr_resnet18_cifar100 = test(test_loader_cifar100, resnet18_cifar100)\n",
    "    tqdm.write('test_acc: %.3f' % (test_accr_resnet18_cifar100))\n",
    "\n",
    "    scheduler_resnet18_cifar100.step()   \n",
    "    \n",
    "torch.save(resnet18_cifar100.state_dict(), current_path + 'checkpoints/' + file_name_resnet18_cifar100 + '.pt')\n",
    "\n",
    "\n",
    "final_test_acc_resnet18_cifar100 = (1 - test(test_loader_cifar100, resnet18_cifar100))*100\n",
    "print('Test error rates (%) on ResNet-18 without Cutout for Test CIFAR-100 Dataset: %.3f' % (final_test_acc_resnet18_cifar100))"
   ],
   "id": "c1443255-b92d-4cfe-889b-f5e39ab5361a"
  },
  {
   "cell_type": "markdown",
   "metadata": {},
   "source": [
    "### 2.2.2. Training ResNet-18 in CF100 with Cutout"
   ],
   "id": "26ba52f9-4161-4834-a4a3-24a15128f263"
  },
  {
   "cell_type": "markdown",
   "metadata": {},
   "source": [
    "Image Processing for CIFAR-100 with Cutout"
   ],
   "id": "3abc572d-f440-46a1-8a6c-9ae27fd83991"
  },
  {
   "cell_type": "code",
   "execution_count": null,
   "metadata": {},
   "outputs": [],
   "source": [
    "# Image Preprocessing\n",
    "\n",
    "normalize_image_cifar100 = transforms.Normalize(mean=[x / 255.0 for x in \n",
    " [125.3, 123.0, 113.9]], \n",
    "std=[x / 255.0 for x in [63.0, 62.1, 66.7]])\n",
    "\n",
    "train_transform_cifar100_cutout = transforms.Compose([])\n",
    "\n",
    "train_transform_cifar100_cutout.transforms.append(transforms.ToTensor())\n",
    "train_transform_cifar100_cutout.transforms.append(normalize_image_cifar100)\n",
    "\n",
    "#Add Cutout to the image transformer pipeline\n",
    "n_holes_cifar100 = 1\n",
    "length_cifar100 = 8\n",
    "train_transform_cifar100_cutout.transforms.append(Cutout(n_holes=n_holes_cifar100, length=length_cifar100))\n",
    "\n",
    "\n",
    "test_transform_cifar100 = transforms.Compose([\n",
    "    transforms.ToTensor(),\n",
    "    normalize_image_cifar100])"
   ],
   "id": "16b90de1-3d01-44cc-97b7-31aa3d48a491"
  },
  {
   "cell_type": "markdown",
   "metadata": {},
   "source": [
    "Import the dataset of CIFAR-100 with Cutout"
   ],
   "id": "a38bac57-cf0e-4a3a-986b-abf730b6f7c1"
  },
  {
   "cell_type": "code",
   "execution_count": null,
   "metadata": {},
   "outputs": [],
   "source": [
    "train_dataset_cifar100_cutout = datasets.CIFAR100(root=current_path + 'data/',\n",
    "                                     train=True,\n",
    "                                     transform=train_transform_cifar100_cutout,\n",
    "                                     download=True)\n",
    "\n",
    "test_dataset_cifar100 = datasets.CIFAR100(root=current_path + 'data/',\n",
    "                                    train=False,\n",
    "                                    transform=test_transform_cifar100,\n",
    "                                    download=True)"
   ],
   "id": "e46fb5ba-7f97-4b48-8274-d4c0cac9eadb"
  },
  {
   "cell_type": "markdown",
   "metadata": {},
   "source": [
    "Create Dataset of CIFAR-100 with Cutout as Dataloader"
   ],
   "id": "fd3f6e5c-c373-4fe5-92f0-ebff33102423"
  },
  {
   "cell_type": "code",
   "execution_count": null,
   "metadata": {},
   "outputs": [],
   "source": [
    "# Data Loader (Input Pipeline)\n",
    "batch_size_cifar100_cutout = 128\n",
    "train_loader_cifar100_cutout = torch.utils.data.DataLoader(dataset=train_dataset_cifar100_cutout,\n",
    "                                           batch_size=batch_size_cifar100_cutout,\n",
    "                                           shuffle=True,\n",
    "                                           pin_memory=True,\n",
    "                                           num_workers=2)\n",
    "\n",
    "test_loader_cifar100 = torch.utils.data.DataLoader(dataset=test_dataset_cifar100,\n",
    "                                          batch_size=batch_size_cifar100_cutout,\n",
    "                                          shuffle=False,\n",
    "                                          pin_memory=True,\n",
    "                                          num_workers=2)"
   ],
   "id": "5f3a72c6-8011-4b68-9b0d-efa8f02fd7c4"
  },
  {
   "cell_type": "markdown",
   "metadata": {},
   "source": [
    "Define the model of ResNet for CIFAR-100 with Cutout"
   ],
   "id": "b36f9aa2-a0d2-4a37-9321-e1b9de04b1f9"
  },
  {
   "cell_type": "markdown",
   "metadata": {},
   "source": [
    "This code block sets up the machine learning model, loss function, optimizer, and learning rate scheduler."
   ],
   "id": "3a670c0f-ddba-418f-bf29-ba4bb9019db6"
  },
  {
   "cell_type": "code",
   "execution_count": null,
   "metadata": {},
   "outputs": [],
   "source": [
    "#file_name will be the used for the name of the file of weight of the model and also the result\n",
    "file_name_resnet18_cifar100_cutout = \"resnet18_cifar100_cutout\"\n",
    "\n",
    "num_classes_cifar100 = 100\n",
    "resnet18_cifar100_cutout = ResNet18(num_classes=num_classes_cifar100)\n",
    "\n",
    "\n",
    "resnet18_cifar100_cutout = resnet18_cifar100_cutout.cuda()\n",
    "learning_rate_resnet18_cifar100_cutout = 0.1\n",
    "criterion_resnet18_cifar100_cutout = nn.CrossEntropyLoss().cuda()\n",
    "cnn_optimizer_resnet18_cifar100_cutout = torch.optim.SGD(resnet18_cifar100_cutout.parameters(), lr=learning_rate_resnet18_cifar100_cutout,\n",
    "                                momentum=0.9, nesterov=True, weight_decay=5e-4)\n",
    "scheduler_resnet18_cifar100_cutout = MultiStepLR(cnn_optimizer_resnet18_cifar100_cutout, milestones=[60, 120, 160], gamma=0.2)"
   ],
   "id": "1c4c59fc-00e4-4b28-aebf-f61dc3cb19ac"
  },
  {
   "cell_type": "markdown",
   "metadata": {},
   "source": [
    "Training ResNet-18 for CIFAR-100 with Cutout"
   ],
   "id": "d7210e79-f7e1-4744-bd6a-64d119cfd944"
  },
  {
   "cell_type": "markdown",
   "metadata": {},
   "source": [
    "This code runs the training loop for the chosen machine learning model over a specified number of epochs. Each epoch involves a forward pass, loss computation, backpropagation, and parameter updates. It also calculates and displays the training accuracy and cross-entropy loss. At the end of each epoch, the model’s performance is evaluated on the test set, and the results are logged and saved."
   ],
   "id": "b7e0ff61-1330-4e53-b841-dcec0902f218"
  },
  {
   "cell_type": "code",
   "execution_count": null,
   "metadata": {},
   "outputs": [],
   "source": [
    "epochs = 200\n",
    "for epoch in range(epochs):\n",
    "\n",
    "    xentropy_loss_avg = 0.\n",
    "    correct = 0.\n",
    "    total = 0.\n",
    "\n",
    "    progress_bar = tqdm(train_loader_cifar100_cutout)\n",
    "    for i, (images, labels) in enumerate(progress_bar):\n",
    "        progress_bar.set_description('Epoch ' + str(epoch))\n",
    "\n",
    "        images = images.cuda()\n",
    "        labels = labels.cuda()\n",
    "\n",
    "        resnet18_cifar100_cutout.zero_grad()\n",
    "        pred = resnet18_cifar100_cutout(images)\n",
    "\n",
    "        xentropy_loss = criterion_resnet18_cifar100_cutout(pred, labels)\n",
    "        xentropy_loss.backward()\n",
    "        cnn_optimizer_resnet18_cifar100_cutout.step()\n",
    "\n",
    "        xentropy_loss_avg += xentropy_loss.item()\n",
    "\n",
    "        # Calculate running average of accuracy\n",
    "        pred = torch.max(pred.data, 1)[1]\n",
    "        total += labels.size(0)\n",
    "        correct += (pred == labels.data).sum().item()\n",
    "        accuracy = correct / total\n",
    "\n",
    "        progress_bar.set_postfix(\n",
    "            xentropy='%.3f' % (xentropy_loss_avg / (i + 1)),\n",
    "            acc='%.3f' % accuracy)\n",
    "\n",
    "    test_acc_cifar100 = test(test_loader_cifar100,resnet18_cifar100_cutout)\n",
    "    tqdm.write('test_acc: %.3f' % (test_acc_cifar100))\n",
    "    scheduler_resnet18_cifar100_cutout.step()     \n",
    "torch.save(resnet18_cifar100_cutout.state_dict(), current_path + 'checkpoints/' + file_name_resnet18_cifar100_cutout + '.pt')\n",
    "\n",
    "\n",
    "final_test_acc_resnet18_cifar100_cutout = (1 - test(test_loader_cifar100,resnet18_cifar100_cutout))*100\n",
    "print('Test error rates (%) on ResNet-18 using Cutout for CIFAR-100 Test Dataset: %.3f' % (final_test_acc_resnet18_cifar100_cutout))"
   ],
   "id": "8bea9d01-db72-4463-b76c-e1b70fbfd29e"
  },
  {
   "cell_type": "markdown",
   "metadata": {},
   "source": [
    "### 2.2.3. Training ResNet-18 in CF100 with Data Augmentation"
   ],
   "id": "6104adb8-0fcf-47d4-8ee1-157caef66eff"
  },
  {
   "cell_type": "markdown",
   "metadata": {},
   "source": [
    "Image Processing for CIFAR-100 with Data Augmentation"
   ],
   "id": "9b2e66fe-06fc-4f38-977d-5656162fbd5a"
  },
  {
   "cell_type": "code",
   "execution_count": null,
   "metadata": {},
   "outputs": [],
   "source": [
    "# Image Preprocessing\n",
    "\n",
    "normalize_image_cifar100 = transforms.Normalize(mean=[x / 255.0 for x in \n",
    " [125.3, 123.0, 113.9]], \n",
    "std=[x / 255.0 for x in [63.0, 62.1, 66.7]])\n",
    "\n",
    "train_transform_cifar100_da = transforms.Compose([])\n",
    "train_transform_cifar100_da.transforms.append(transforms.RandomCrop(32, padding=4))\n",
    "train_transform_cifar100_da.transforms.append(transforms.RandomHorizontalFlip())\n",
    "train_transform_cifar100_da.transforms.append(transforms.ToTensor())\n",
    "train_transform_cifar100_da.transforms.append(normalize_image_cifar100)\n",
    "\n",
    "\n",
    "test_transform_cifar100 = transforms.Compose([\n",
    "    transforms.ToTensor(),\n",
    "    normalize_image_cifar100])"
   ],
   "id": "f44e7b87-cb9f-467e-be21-68a7d1af464d"
  },
  {
   "cell_type": "markdown",
   "metadata": {},
   "source": [
    "Import the dataset of CIFAR-100 with Data Augmentation"
   ],
   "id": "bce6c191-566f-4bd9-b23b-458c635c5809"
  },
  {
   "cell_type": "code",
   "execution_count": null,
   "metadata": {},
   "outputs": [],
   "source": [
    "train_dataset_cifar100_da = datasets.CIFAR100(root=current_path + 'data/',\n",
    "                                     train=True,\n",
    "                                     transform=train_transform_cifar100_da,\n",
    "                                     download=True)\n",
    "\n",
    "test_dataset_cifar100 = datasets.CIFAR100(root=current_path + 'data/',\n",
    "                                    train=False,\n",
    "                                    transform=test_transform_cifar100,\n",
    "                                    download=True)"
   ],
   "id": "fca5c82a-415d-47c7-963d-0cd267709aa7"
  },
  {
   "cell_type": "markdown",
   "metadata": {},
   "source": [
    "Create Dataset of CIFAR-100 with Data Augmentation as Dataloader"
   ],
   "id": "c1bbc8c2-5756-496a-97f4-a424316898b5"
  },
  {
   "cell_type": "code",
   "execution_count": null,
   "metadata": {},
   "outputs": [],
   "source": [
    "# Data Loader (Input Pipeline)\n",
    "batch_size_cifar100_da = 128\n",
    "train_loader_cifar100_da = torch.utils.data.DataLoader(dataset=train_dataset_cifar100_da,\n",
    "                                           batch_size=batch_size_cifar100_da,\n",
    "                                           shuffle=True,\n",
    "                                           pin_memory=True,\n",
    "                                           num_workers=2)\n",
    "\n",
    "test_loader_cifar100 = torch.utils.data.DataLoader(dataset=test_dataset_cifar100,\n",
    "                                          batch_size=batch_size_cifar100_da,\n",
    "                                          shuffle=False,\n",
    "                                          pin_memory=True,\n",
    "                                          num_workers=2)"
   ],
   "id": "edbbd195-6150-4457-8ac2-f35dcf9dff9d"
  },
  {
   "cell_type": "markdown",
   "metadata": {},
   "source": [
    "Define the model of ResNet for CIFAR-100 with Data Augmentation"
   ],
   "id": "997c9c99-4d5c-428e-a747-9bda2cfb2e05"
  },
  {
   "cell_type": "markdown",
   "metadata": {},
   "source": [
    "This code block sets up the machine learning model, loss function, optimizer, and learning rate scheduler."
   ],
   "id": "2028f2db-6cb0-4fb2-90d7-580cbb6490be"
  },
  {
   "cell_type": "code",
   "execution_count": null,
   "metadata": {},
   "outputs": [],
   "source": [
    "#file_name will be the used for the name of the file of weight of the model and also the result\n",
    "file_name_resnet18_cifar100_da = \"resnet18_cifar100_da\"\n",
    "\n",
    "num_classes_cifar100 = 100\n",
    "resnet18_cifar100_da = ResNet18(num_classes=num_classes_cifar100)\n",
    "\n",
    "\n",
    "resnet18_cifar100_da = resnet18_cifar100_da.cuda()\n",
    "learning_rate_resnet18_cifar100_da = 0.1\n",
    "criterion_resnet18_cifar100_da = nn.CrossEntropyLoss().cuda()\n",
    "cnn_optimizer_resnet18_cifar100_da = torch.optim.SGD(resnet18_cifar100_da.parameters(), lr=learning_rate_resnet18_cifar100_da,\n",
    "                                momentum=0.9, nesterov=True, weight_decay=5e-4)\n",
    "scheduler_resnet18_cifar100_da = MultiStepLR(cnn_optimizer_resnet18_cifar100_da, milestones=[60, 120, 160], gamma=0.2)"
   ],
   "id": "575dd1de-1320-4277-b71e-1d08cfc4aef3"
  },
  {
   "cell_type": "markdown",
   "metadata": {},
   "source": [
    "Training ResNet-18 for CIFAR-100 with Data Augmentation"
   ],
   "id": "80bc6c4c-724c-4d9a-9fd3-b1fcf0042907"
  },
  {
   "cell_type": "markdown",
   "metadata": {},
   "source": [
    "This code runs the training loop for the chosen machine learning model over a specified number of epochs. Each epoch involves a forward pass, loss computation, backpropagation, and parameter updates. It also calculates and displays the training accuracy and cross-entropy loss. At the end of each epoch, the model’s performance is evaluated on the test set, and the results are logged and saved."
   ],
   "id": "83822730-a9dc-4686-8ce5-bb4bee110b3b"
  },
  {
   "cell_type": "code",
   "execution_count": null,
   "metadata": {},
   "outputs": [],
   "source": [
    "epochs = 200\n",
    "for epoch in range(epochs):\n",
    "\n",
    "    xentropy_loss_avg = 0.\n",
    "    correct = 0.\n",
    "    total = 0.\n",
    "\n",
    "    progress_bar = tqdm(train_loader_cifar100_da)\n",
    "    for i, (images, labels) in enumerate(progress_bar):\n",
    "        progress_bar.set_description('Epoch ' + str(epoch))\n",
    "\n",
    "        images = images.cuda()\n",
    "        labels = labels.cuda()\n",
    "\n",
    "        resnet18_cifar100_da.zero_grad()\n",
    "        pred = resnet18_cifar100_da(images)\n",
    "\n",
    "        xentropy_loss = criterion_resnet18_cifar100_da(pred, labels)\n",
    "        xentropy_loss.backward()\n",
    "        cnn_optimizer_resnet18_cifar100_da.step()\n",
    "\n",
    "        xentropy_loss_avg += xentropy_loss.item()\n",
    "\n",
    "        # Calculate running average of accuracy\n",
    "        pred = torch.max(pred.data, 1)[1]\n",
    "        total += labels.size(0)\n",
    "        correct += (pred == labels.data).sum().item()\n",
    "        accuracy = correct / total\n",
    "\n",
    "        progress_bar.set_postfix(\n",
    "            xentropy='%.3f' % (xentropy_loss_avg / (i + 1)),\n",
    "            acc='%.3f' % accuracy)\n",
    "\n",
    "    test_acc_resnet18_cifar100_da = test(test_loader_cifar100,resnet18_cifar100_da)\n",
    "    tqdm.write('test_acc: %.3f' % (test_acc_resnet18_cifar100_da))\n",
    "    scheduler_resnet18_cifar100_da.step()     \n",
    "torch.save(resnet18_cifar100_da.state_dict(), current_path + 'checkpoints/' + file_name_resnet18_cifar100_da + '.pt')\n",
    "\n",
    "\n",
    "final_test_acc_resnet18_cifar100_da = (1 - test(test_loader_cifar100,resnet18_cifar100_da))*100\n",
    "print('Test error rates (%) on ResNet-18 using Data Augmentation for CIFAR-100 Test Dataset: %.3f' % (final_test_acc_resnet18_cifar100_da))"
   ],
   "id": "ab030f8c-4ae3-4760-8330-9b2b7a71ad14"
  },
  {
   "cell_type": "markdown",
   "metadata": {},
   "source": [
    "### 2.2.4. Training ResNet-18 in CF100 with Data Augmentation and Cutout"
   ],
   "id": "16b9ba3a-1400-42ba-8570-345a81f4ba3b"
  },
  {
   "cell_type": "markdown",
   "metadata": {},
   "source": [
    "Image Processing for CIFAR-100 with Data Augmentation and Cutout"
   ],
   "id": "079fd315-bd99-4043-958f-3414f09a2c04"
  },
  {
   "cell_type": "code",
   "execution_count": null,
   "metadata": {},
   "outputs": [],
   "source": [
    "# Image Preprocessing\n",
    "\n",
    "normalize_image_cifar100 = transforms.Normalize(mean=[x / 255.0 for x in \n",
    " [125.3, 123.0, 113.9]], \n",
    "std=[x / 255.0 for x in [63.0, 62.1, 66.7]])\n",
    "\n",
    "train_transform_cifar100_da_co = transforms.Compose([])\n",
    "train_transform_cifar100_da_co.transforms.append(transforms.RandomCrop(32, padding=4))\n",
    "train_transform_cifar100_da_co.transforms.append(transforms.RandomHorizontalFlip())\n",
    "train_transform_cifar100_da_co.transforms.append(transforms.ToTensor())\n",
    "train_transform_cifar100_da_co.transforms.append(normalize_image_cifar100)\n",
    "\n",
    "#Add Cutout to the image transformer pipeline\n",
    "n_holes_cifar100_da_co = 1\n",
    "length_cifar100_da_co = 8\n",
    "train_transform_cifar100_da_co.transforms.append(Cutout(n_holes=n_holes_cifar100_da_co, length=length_cifar100_da_co))\n",
    "\n",
    "\n",
    "test_transform_cifar100 = transforms.Compose([\n",
    "    transforms.ToTensor(),\n",
    "    normalize_image_cifar100])"
   ],
   "id": "40c7107d-0fee-488c-8b36-9742c00018de"
  },
  {
   "cell_type": "markdown",
   "metadata": {},
   "source": [
    "Import the dataset of CIFAR-100 with Data Augmentation and Cutout"
   ],
   "id": "b606bfb2-9324-4db0-b96b-803d9eb61d76"
  },
  {
   "cell_type": "code",
   "execution_count": null,
   "metadata": {},
   "outputs": [],
   "source": [
    "train_dataset_cifar100_da_co = datasets.CIFAR100(root=current_path + 'data/',\n",
    "                                     train=True,\n",
    "                                     transform=train_transform_cifar100_da_co,\n",
    "                                     download=True)\n",
    "\n",
    "test_dataset_cifar100 = datasets.CIFAR100(root=current_path + 'data/',\n",
    "                                    train=False,\n",
    "                                    transform=test_transform_cifar100,\n",
    "                                    download=True)"
   ],
   "id": "6e0e23d6-1fd5-4e70-a852-1d31be53a826"
  },
  {
   "cell_type": "markdown",
   "metadata": {},
   "source": [
    "Create Dataset of CIFAR-100 with Data Augmentation and Cutout as Dataloader"
   ],
   "id": "767a43b5-be3f-4c00-a17d-033d587cf51e"
  },
  {
   "cell_type": "code",
   "execution_count": null,
   "metadata": {},
   "outputs": [],
   "source": [
    "# Data Loader (Input Pipeline)\n",
    "batch_size_cifar100_da_co = 128\n",
    "train_loader_cifar100_da_co = torch.utils.data.DataLoader(dataset=train_dataset_cifar100_da_co,\n",
    "                                           batch_size=batch_size_cifar100_da_co,\n",
    "                                           shuffle=True,\n",
    "                                           pin_memory=True,\n",
    "                                           num_workers=2)\n",
    "\n",
    "test_loader_cifar100 = torch.utils.data.DataLoader(dataset=test_dataset_cifar100,\n",
    "                                          batch_size=batch_size_cifar100_da_co,\n",
    "                                          shuffle=False,\n",
    "                                          pin_memory=True,\n",
    "                                          num_workers=2)"
   ],
   "id": "79e83979-80e5-477d-b109-96052cadbe2d"
  },
  {
   "cell_type": "markdown",
   "metadata": {},
   "source": [
    "Define the model of ResNet for CIFAR-100 with Data Augmentation and Cutout"
   ],
   "id": "9ead0f66-fcc2-4d8f-9342-04fe7851bfe8"
  },
  {
   "cell_type": "markdown",
   "metadata": {},
   "source": [
    "This code block sets up the machine learning model, loss function, optimizer, and learning rate scheduler."
   ],
   "id": "5f5a2309-37c5-413c-a08e-cd310e43fd8b"
  },
  {
   "cell_type": "code",
   "execution_count": null,
   "metadata": {},
   "outputs": [],
   "source": [
    "#file_name will be the used for the name of the file of weight of the model and also the result\n",
    "file_name_resnet18_cifar100_da_cutout = \"resnet18_cifar100_da_cutout\"\n",
    "\n",
    "num_classes_cifar100 = 100\n",
    "resnet18_cifar100_da_cutout = ResNet18(num_classes=num_classes_cifar100)\n",
    "\n",
    "\n",
    "resnet18_cifar100_da_cutout = resnet18_cifar100_da_cutout.cuda()\n",
    "learning_rate_cifar100_da_cutout = 0.1\n",
    "criterion_cifar100_da_cutout = nn.CrossEntropyLoss().cuda()\n",
    "cnn_optimizer_cifar100_da_cutout = torch.optim.SGD(resnet18_cifar100_da_cutout.parameters(), lr=learning_rate_cifar100_da_cutout,\n",
    "                                momentum=0.9, nesterov=True, weight_decay=5e-4)\n",
    "scheduler_cifar100_da_cutout = MultiStepLR(cnn_optimizer_cifar100_da_cutout, milestones=[60, 120, 160], gamma=0.2)"
   ],
   "id": "c65399a8-bd11-417d-a033-3a2a282596a4"
  },
  {
   "cell_type": "markdown",
   "metadata": {},
   "source": [
    "Training ResNet-18 for CIFAR-100 with Data Augmentation and Cutout"
   ],
   "id": "0e9975d2-c186-4ad0-b365-877cbb9d96fa"
  },
  {
   "cell_type": "markdown",
   "metadata": {},
   "source": [
    "This code runs the training loop for the chosen machine learning model over a specified number of epochs. Each epoch involves a forward pass, loss computation, backpropagation, and parameter updates. It also calculates and displays the training accuracy and cross-entropy loss. At the end of each epoch, the model’s performance is evaluated on the test set, and the results are logged and saved."
   ],
   "id": "2342119e-7d88-4fbb-8c93-8731a697ea83"
  },
  {
   "cell_type": "code",
   "execution_count": null,
   "metadata": {},
   "outputs": [],
   "source": [
    "epochs = 200\n",
    "for epoch in range(epochs):\n",
    "\n",
    "    xentropy_loss_avg = 0.\n",
    "    correct = 0.\n",
    "    total = 0.\n",
    "\n",
    "    progress_bar = tqdm(train_loader_cifar100_da_co)\n",
    "    for i, (images, labels) in enumerate(progress_bar):\n",
    "        progress_bar.set_description('Epoch ' + str(epoch))\n",
    "\n",
    "        images = images.cuda()\n",
    "        labels = labels.cuda()\n",
    "\n",
    "        resnet18_cifar100_da_cutout.zero_grad()\n",
    "        pred = resnet18_cifar100_da_cutout(images)\n",
    "\n",
    "        xentropy_loss = criterion_cifar100_da_cutout(pred, labels)\n",
    "        xentropy_loss.backward()\n",
    "        cnn_optimizer_cifar100_da_cutout.step()\n",
    "\n",
    "        xentropy_loss_avg += xentropy_loss.item()\n",
    "\n",
    "        # Calculate running average of accuracy\n",
    "        pred = torch.max(pred.data, 1)[1]\n",
    "        total += labels.size(0)\n",
    "        correct += (pred == labels.data).sum().item()\n",
    "        accuracy = correct / total\n",
    "\n",
    "        progress_bar.set_postfix(\n",
    "            xentropy='%.3f' % (xentropy_loss_avg / (i + 1)),\n",
    "            acc='%.3f' % accuracy)\n",
    "\n",
    "    test_acc_cifar100_da_cutout = test(test_loader_cifar100,resnet18_cifar100_da_cutout)\n",
    "    tqdm.write('test_acc: %.3f' % (test_acc_cifar100_da_cutout))\n",
    "    scheduler_cifar100_da_cutout.step()     \n",
    "torch.save(resnet18_cifar100_da_cutout.state_dict(),current_path +  'checkpoints/' + file_name_resnet18_cifar100_da_cutout + '.pt')\n",
    "\n",
    "\n",
    "final_test_acc_resnet18_cifar100_da_cutout = (1 - test(test_loader_cifar100,resnet18_cifar100_da_cutout))*100\n",
    "print('Test error rates (%) on ResNet-18 using Data Augmentation and  Cutout for CIFAR-100 Test Dataset: %.3f' % (final_test_acc_resnet18_cifar100_da_cutout))"
   ],
   "id": "59a4cd42-004d-4f79-9e9e-0cce78d7bfde"
  },
  {
   "cell_type": "code",
   "execution_count": null,
   "metadata": {},
   "outputs": [],
   "source": [
    "print('Test error rates (%) on ResNet-18 without Cutout for Test CIFAR-100 Dataset: %.3f' % (final_test_acc_resnet18_cifar100))\n",
    "print('Test error rates (%) on ResNet-18 using Cutout for CIFAR-100 Test Dataset: %.3f' % (final_test_acc_resnet18_cifar100_cutout))\n",
    "print('Test error rates (%) on ResNet-18 using Data Augmentation for CIFAR-100 Test Dataset: %.3f' % (final_test_acc_resnet18_cifar100_da))\n",
    "print('Test error rates (%) on ResNet-18 using Data Augmentation and  Cutout for CIFAR-100 Test Dataset: %.3f' % (final_test_acc_resnet18_cifar100_da_cutout))"
   ],
   "id": "8d44b611-d35a-48e3-9d45-7d1c0927f4dd"
  }
 ],
 "nbformat": 4,
 "nbformat_minor": 5,
 "metadata": {}
}

{
 "cells": [
  {
   "cell_type": "code",
   "execution_count": null,
   "metadata": {},
   "outputs": [],
   "source": [
    "import torch\n",
    "import torchvision\n",
    "import torchvision.transforms as transforms\n",
    "import torch.nn as nn\n",
    "import torch.nn.functional as F\n",
    "from torch.autograd import Variable\n",
    "import torch.backends.cudnn as cudnn\n",
    "from torch.optim.lr_scheduler import MultiStepLR\n",
    "from torchvision.utils import make_grid\n",
    "from torchvision import datasets, transforms\n",
    "import cv2\n",
    "\n",
    "\n",
    "import math\n",
    "import numpy as np\n",
    "import csv\n",
    "from PIL import Image\n",
    "import matplotlib.pyplot as plt\n",
    "import pdb\n",
    "import argparse\n",
    "from tqdm import tqdm\n",
    "import os\n"
   ],
   "id": "79b5d919-0953-4392-9943-1d4424538313"
  },
  {
   "cell_type": "code",
   "execution_count": null,
   "metadata": {},
   "outputs": [],
   "source": [
    "# note: This notebook has been developed and tested for pytorch \n",
    "print(torch. __version__)"
   ],
   "id": "d09bf925-dc5d-4acb-916b-a44562d32280"
  },
  {
   "cell_type": "markdown",
   "metadata": {},
   "source": [
    "# Cutout data augmentation\n",
    "\n",
    "In this notebook, we will reproduce the results of the paper\n",
    "\n",
    "> DeVries, T. and Taylor, G.W., 2017. Improved regularization of convolutional neural networks with Cutout. arXiv preprint [arXiv:1708.04552](https://arxiv.org/abs/1708.04552).\n",
    "\n",
    "We will use the author’s implementation of their technique, from <https://github.com/uoguelph-mlrg/Cutout>, which is licensed under an Educational Community License version 2.0."
   ],
   "id": "0b998296-a608-4e4c-a73d-16f632daa80e"
  },
  {
   "cell_type": "markdown",
   "metadata": {},
   "source": [
    "## 1. Learning outcomes\n",
    "\n",
    "After working through this notebook, you should be able to:\n",
    "\n",
    "-   Describe how Cutout works as a regularization technique,\n",
    "-   Enumerate specific claims (both quantitative claims, qualitative claims, and claims about the underlying mechanism behind a result) from the Cutout paper,\n",
    "-   Execute experiments (following the given procedure) to try and validate each claim about Cutout data augmentation,\n",
    "-   Evaluate whether your own result matches quantitative claims in the Cutout paper (i.e. whether it is within the confidence intervals for each reported numeric result),\n",
    "-   Evaluate whether your own result validates qualitative claims in the Cutout paper,\n",
    "-   Evaluate whether your own results support the author’s claim about the underlying mechanism behind the result."
   ],
   "id": "84851a08-dc47-4e42-8e7e-43c593c3382d"
  },
  {
   "cell_type": "markdown",
   "metadata": {},
   "source": [
    "# If you’re using Google Colab, make sure to set up the runtime environment properly.\n",
    "\n",
    "# Follow these steps to ensure a smooth experience:\n",
    "\n",
    "-   Step 1: Click on the “Runtime” menu at the top of the Colab interface.\n",
    "\n",
    "-   Step 2: Select “Change runtime type” from the dropdown menu.\n",
    "\n",
    "-   Step 3: In the “Runtime type” section, choose the desired hardware accelerator.\n",
    "\n",
    "    -     In these experiments, we are going to use \"GPU\" as it speeds up computations.\n",
    "\n",
    "Step 4: Click “Save” to apply the changes.\n",
    "\n",
    "Once you’ve set up the runtime, you’re ready to run the code cells in the notebook!"
   ],
   "id": "489fb9f8-a25c-48c5-9b57-5aa67468baa9"
  },
  {
   "cell_type": "markdown",
   "metadata": {},
   "source": [
    "### For everyone using Google Colab to run these experiments\n",
    "\n",
    "If you are using Google Colab, here’s a step-by-step how to connect with your google drive:\n",
    "\n",
    "1.  On the left sidebar of the Colab notebook interface, you will see a folder icon with the Google Drive logo. Click on this folder icon to open the file explorer.\n",
    "\n",
    "2.  If you haven’t connected your Google Drive to Colab yet, it will prompt you to do so. Click the “Mount Drive” button to connect your Google Drive to Colab.\n",
    "\n",
    "3.  Once your Google Drive is mounted, you can use the file explorer to navigate to the file you want to open. Click on the folders to explore the contents of your Google Drive.\n",
    "\n",
    "4.  When you find the file you want to open, click the three dots next to the name of the file in the file explorer. From the options that appear, choose “Copy path.” This action will copy the full path of the file to your clipboard. Paste the copy path into the ‘current_path’ below."
   ],
   "id": "c91b0c54-4a93-4f19-92da-a656693a5fee"
  },
  {
   "cell_type": "code",
   "execution_count": null,
   "metadata": {},
   "outputs": [],
   "source": [
    "current_path =\"./\""
   ],
   "id": "a314cbc6-893e-4e99-b8c7-d909679eb772"
  },
  {
   "cell_type": "markdown",
   "metadata": {},
   "source": [
    "To see how it works, in the following cell, you will upload an image of your choice to this workspace. To prevent any distortion due to resizing, it is advised to use an image that is approximately square in shape, as we will be resizing the image to a square format (100x100 pixels) later on:\n",
    "\n",
    "To see how Cutout works, let’s upload an image and apply Cutout to it. Follow these steps to upload an image in this Google Colab notebook:\n",
    "\n",
    "1.  Click on the folder icon in the left sidebar to open the ‘Files’ tab.\n",
    "2.  Click the ‘Upload to session storage’ button (the icon looks like a file with an up arrow).\n",
    "3.  Select the image file from your local machine that you want to upload.\n",
    "4.  Wait for the upload to finish. The uploaded file should now appear in the ‘Files’ tab. After the image is uploaded, we can use Python code to load it into our notebook and apply the Cutout augmentation\n",
    "\n",
    "If you are using Chameleon, here are the steps:\n",
    "\n",
    "1.  Click on the upload icon in the left sidebar.\n",
    "2.  Select the image file from your local machine that you want to upload.\n",
    "3.  Wait for the upload to finish. The uploaded file should now appear in the ‘Files’ tab. After the image is uploaded, we can use Python code to load it into our notebook and apply the Cutout augmentation to the image."
   ],
   "id": "87a45310-0a8f-4ac0-a27a-398a56921438"
  },
  {
   "cell_type": "markdown",
   "metadata": {},
   "source": [
    "In the sections that follow, we will identify and evaluate claims from the original Cutout paper:\n",
    "\n",
    "1.  Cutout improves the robustness and overall performance of convolutional neural networks.\n",
    "2.  Cutout can be used in conjunction with existing forms of data augmentation and other regularizers to further improve model performance.\n",
    "3.  Cutout aimed to remove maximally activated features in order to encourage the network to consider less prominent features"
   ],
   "id": "b173b255-dcf7-45a5-8263-5a4d2c2fa2cd"
  }
 ],
 "nbformat": 4,
 "nbformat_minor": 5,
 "metadata": {}
}

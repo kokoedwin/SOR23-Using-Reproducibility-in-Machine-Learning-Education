{
 "cells": [
  {
   "cell_type": "markdown",
   "metadata": {},
   "source": [
    "## 2. Cutout as a regularization technique\n",
    "\n",
    "This Jupyter notebook is designed to illustrate the implementation and usage of the Cutout data augmentation technique in deep learning, specifically in the context of Convolutional Neural Networks (CNNs)."
   ],
   "id": "0dc8f271-10a5-4dc3-8f0d-38b5c696c113"
  },
  {
   "cell_type": "markdown",
   "metadata": {},
   "source": [
    "Cutout is a regularization and data augmentation technique for convolutional neural networks (CNNs). It involves randomly masking out square regions of input during training. This helps to improve the robustness and overall performance of CNNs by encouraging the network to better utilize the full context of the image, rather than relying on the presence of a small set of specific visual features.\n",
    "\n",
    "Cutout is computationally efficient as it can be applied during data loading in parallel with the main training task. It can be used in conjunction with existing forms of data augmentation and other regularizers to further improve model performance.\n",
    "\n",
    "The technique has been evaluated with state-of-the-art architectures on popular image recognition datasets such as CIFAR-10, CIFAR-100, and SVHN, often achieving state-of-the-art or near state-of-the-art results."
   ],
   "id": "c27c7855-586d-4e57-8a27-7e8848476204"
  },
  {
   "cell_type": "markdown",
   "metadata": {},
   "source": [
    "### Implementation of Cutout"
   ],
   "id": "eaf5683c-9696-46b4-af94-16c8f20881ff"
  },
  {
   "cell_type": "code",
   "execution_count": null,
   "metadata": {},
   "outputs": [],
   "source": [
    "# Import necessary libraries\n",
    "from torchvision.transforms import RandomHorizontalFlip, RandomCrop, ColorJitter\n",
    "import numpy as np\n",
    "import torch\n",
    "from PIL import Image\n",
    "from torchvision import transforms\n",
    "import matplotlib.pyplot as plt"
   ],
   "id": "27b27e10-d90a-4cd5-8a29-c459f28068ef"
  },
  {
   "cell_type": "markdown",
   "metadata": {},
   "source": [
    "In the following cells, we will see how Cutout works when applied to a sample image.\n",
    "\n",
    "<!-- To do: explain the code with reference to section 3.2. Implementation Details -->\n",
    "\n",
    "In the code provided above, we see a Python class named Cutout defined. This class is designed to apply the Cutout data augmentation technique to an image. Below is an explanation of the class and its methods:\n",
    "\n",
    "-   The Cutout class is initialized with two parameters:\n",
    "\n",
    "    -   `n_holes`: the number of patches to cut out of each image.\n",
    "    -   `length`: the length (in pixels) of each square patch.\n",
    "\n",
    "-   The `__call__` method implements the Cutout technique. This method takes as input a tensor `img` representing an image, and returns the same image with `n_holes` number of patches of dimension `length` x `length` cut out of it.\n",
    "\n",
    "Here’s a step-by-step explanation of what’s happening inside the `__call__` method:\n",
    "\n",
    "1.  The method first retrieves the height h and width w of the input image.\n",
    "\n",
    "2.  A mask is then initialized as a 2D numpy array of ones with the same dimensions as the input image.\n",
    "\n",
    "3.  The method then enters a loop which runs for n_holes iterations. In each iteration:\n",
    "\n",
    "    -   A pair of coordinates y and x are randomly selected within the height and width of the image.\n",
    "\n",
    "    -   The method then calculates the coordinates of a square patch around the (y, x) coordinate. The patch has a length of length pixels, and the method ensures that the patch doesn’t fall outside the image by using the np.clip function.\n",
    "\n",
    "    -   The corresponding area in the mask is set to zero.\n",
    "\n",
    "4.  The mask is then converted to a PyTorch tensor and expanded to the same number of channels as the input image.\n",
    "\n",
    "5.  Finally, the method applies the mask to the input image, effectively setting the pixels in the masked regions to zero, and returns the result.\n",
    "\n",
    "Remember to import necessary libraries like numpy (np) and PyTorch (torch) before running this class definition. The class Cutout can then be used as part of your data augmentation pipeline when training your models.\n",
    "\n",
    "The Cutout code we are using comes from this specific file in the original GitHub repository: \\[https://github.com/uoguelph-mlrg/Cutout/blob/master/util/cutout.py\\]."
   ],
   "id": "7fa11344-18e5-4167-8cef-541c025cb3e9"
  },
  {
   "cell_type": "code",
   "execution_count": null,
   "metadata": {},
   "outputs": [],
   "source": [
    "# Source Code from \n",
    "# https://github.com/uoguelph-mlrg/Cutout/blob/master/util/cutout.py\n",
    "class Cutout(object):\n",
    "    \"\"\"Randomly mask out one or more patches from an image.\n",
    "\n",
    "    Args:\n",
    "        n_holes (int): Number of patches to cut out of each image.\n",
    "        length (int): The length (in pixels) of each square patch.\n",
    "    \"\"\"\n",
    "    def __init__(self, n_holes, length):\n",
    "        self.n_holes = n_holes\n",
    "        self.length = length\n",
    "\n",
    "    def __call__(self, img):\n",
    "        \"\"\"\n",
    "        Args:\n",
    "            img (Tensor): Tensor image of size (C, H, W).\n",
    "        Returns:\n",
    "            Tensor: Image with n_holes of dimension length x length cut out of it.\n",
    "        \"\"\"\n",
    "        h = img.size(1)\n",
    "        w = img.size(2)\n",
    "\n",
    "        mask = np.ones((h, w), np.float32)\n",
    "\n",
    "        for n in range(self.n_holes):\n",
    "            y = np.random.randint(h)\n",
    "            x = np.random.randint(w)\n",
    "\n",
    "            y1 = np.clip(y - self.length // 2, 0, h)\n",
    "            y2 = np.clip(y + self.length // 2, 0, h)\n",
    "            x1 = np.clip(x - self.length // 2, 0, w)\n",
    "            x2 = np.clip(x + self.length // 2, 0, w)\n",
    "\n",
    "            mask[y1: y2, x1: x2] = 0.\n",
    "\n",
    "        mask = torch.from_numpy(mask)\n",
    "        mask = mask.expand_as(img)\n",
    "        img = img * mask\n",
    "\n",
    "        return img"
   ],
   "id": "00304daf-983b-496b-9194-7f7e8225e48d"
  },
  {
   "cell_type": "markdown",
   "metadata": {},
   "source": [
    "To see how it works, in the following cell, you will upload an image of your choice to this workspace. To prevent any distortion due to resizing, it is advised to use an image that is approximately square in shape, as we will be resizing the image to a square format (100x100 pixels) later on:\n",
    "\n",
    "To see how Cutout works, let’s upload an image and apply Cutout to it. Follow these steps to upload an image in this Google Colab notebook:\n",
    "\n",
    "1.  Click on the folder icon in the left sidebar to open the ‘Files’ tab.\n",
    "2.  Click the ‘Upload to session storage’ button (the icon looks like a file with an up arrow).\n",
    "3.  Select the image file from your local machine that you want to upload.\n",
    "4.  Wait for the upload to finish. The uploaded file should now appear in the ‘Files’ tab. After the image is uploaded, we can use Python code to load it into our notebook and apply the Cutout augmentation\n",
    "\n",
    "If you are using Chameleon, here are the steps:\n",
    "\n",
    "1.  Click on the upload icon in the left sidebar.\n",
    "2.  Select the image file from your local machine that you want to upload.\n",
    "3.  Wait for the upload to finish. The uploaded file should now appear in the ‘Files’ tab. After the image is uploaded, we can use Python code to load it into our notebook and apply the Cutout augmentation to the image."
   ],
   "id": "0474181e-1078-4349-b6ec-5aa987f0fb79"
  },
  {
   "cell_type": "code",
   "execution_count": null,
   "metadata": {},
   "outputs": [],
   "source": [
    "# TODO: Replace 'sample.png' with the filename of your own image. \n",
    "# If your image is inside a directory, include the directory's name in the path.\n",
    "img = Image.open(current_path + 'sample.png')\n",
    "\n",
    "# Resize the image to 100x100\n",
    "img = img.resize((100, 100))"
   ],
   "id": "70a9aacf-b341-43fd-a569-c1e97b5c4b8d"
  },
  {
   "cell_type": "markdown",
   "metadata": {},
   "source": [
    "Then, the following cell will display your image directly, without any data augmentation:"
   ],
   "id": "fe75b095-4ac3-4a22-a6c6-257f9839a39f"
  },
  {
   "cell_type": "code",
   "execution_count": null,
   "metadata": {},
   "outputs": [],
   "source": [
    "# Convert the image to a PyTorch tensor\n",
    "img_tensor = transforms.ToTensor()(img)\n",
    "\n",
    "# Display the original image\n",
    "plt.figure(figsize=(6,6))\n",
    "plt.imshow(img_tensor.permute(1, 2, 0))\n",
    "plt.show()"
   ],
   "id": "9337b9ba-9a17-4dc4-a246-725b1ff4cde2"
  },
  {
   "cell_type": "markdown",
   "metadata": {},
   "source": [
    "and the next cell will display your image with Cutout applied:"
   ],
   "id": "3995bab8-3447-4a93-a78e-878e4fd0b53e"
  },
  {
   "cell_type": "code",
   "execution_count": null,
   "metadata": {},
   "outputs": [],
   "source": [
    "# Create a Cutout object\n",
    "cutout_obj = Cutout(n_holes=1, length=50)\n",
    "\n",
    "# Apply Cutout to the image\n",
    "img_tensor_Cutout = cutout_obj(img_tensor)\n",
    "\n",
    "# Convert the tensor back to an image for visualization\n",
    "img_Cutout = transforms.ToPILImage()(img_tensor_Cutout)\n",
    "\n",
    "# Display the image with Cutout applied\n",
    "plt.figure(figsize=(6,6))\n",
    "plt.imshow(img_tensor_Cutout.permute(1, 2, 0))\n",
    "plt.show()"
   ],
   "id": "42f500ce-bc49-4e58-ad06-a47cd54c1820"
  },
  {
   "cell_type": "markdown",
   "metadata": {},
   "source": [
    "Things to try:\n",
    "\n",
    "-   You can re-run the cell above several times to see how the occlusion is randomly placed in a different position each time.\n",
    "-   You can try changing the `length` parameter in the cell above, and re-running, to see how the size of the occlusion can change.\n",
    "-   You can try changing the `n_holes` parameter in the cell above, and re-running, to see how the number of occlusions can change."
   ],
   "id": "4f8cfa41-43d5-490a-ae17-51ebfaa98a65"
  },
  {
   "cell_type": "code",
   "execution_count": null,
   "metadata": {},
   "outputs": [],
   "source": [
    " #TODO: Set the number of patches (\"holes\") to cut out of the image.\n",
    "n_holes = \n",
    "\n",
    "#TODO: Set the size (length of a side) of each patch.\n",
    "length = \n",
    "\n",
    "\n",
    "# Create a Cutout object\n",
    "Cutout = Cutout(n_holes, length)\n",
    "\n",
    "# Apply Cutout to the image\n",
    "img_tensor_Cutout = Cutout(img_tensor)\n",
    "\n",
    "# Convert the tensor back to an image for visualization\n",
    "img_Cutout = transforms.ToPILImage()(img_tensor_Cutout)\n",
    "\n",
    "# Display the image with Cutout applied\n",
    "plt.figure(figsize=(6,6))\n",
    "plt.imshow(img_tensor_Cutout.permute(1, 2, 0))\n",
    "plt.show()"
   ],
   "id": "51e50100-0aeb-401e-88dc-27876945d7d2"
  },
  {
   "cell_type": "markdown",
   "metadata": {},
   "source": [
    "Cutout was introduced as an alternative to two closely related techniques:\n",
    "\n",
    "-   Data Augmentation for Images: Data augmentation is a strategy used to increase the diversity of the data available for training models, without actually collecting new data. For image data, this could include operations like rotation, scaling, cropping, flipping, and adding noise. The goal is to make the model more robust by allowing it to see more variations of the data.\n",
    "\n",
    "-   Dropout in Convolutional Neural Networks: Dropout is a regularization technique for reducing overfitting in neural networks. During training, some number of layer outputs are randomly ignored or “dropped out”. This has the effect of making the layer look-like and be treated-like a layer with a different number of nodes and connectivity to the prior layer. In effect, dropout simulates ensembling a large number of neural networks with different architectures, which makes the model more robust."
   ],
   "id": "e3f9fdb4-1c13-4629-97b9-dbcf51e37797"
  },
  {
   "cell_type": "markdown",
   "metadata": {},
   "source": [
    "In the following code snippet, we demonstrate some “standard” data augmentation techniques commonly used in image preprocessing. These techniques include random horizontal flipping, random cropping, and color jittering (random variation in brightness, contrast, saturation, and hue). The augmented image is then displayed alongside the original image for comparison."
   ],
   "id": "8aa99486-bdb6-423a-986e-79d175f67fdd"
  },
  {
   "cell_type": "code",
   "execution_count": null,
   "metadata": {},
   "outputs": [],
   "source": [
    "# Define standard data augmentation techniques\n",
    "transforms_data_augmentation = transforms.Compose([\n",
    "    RandomHorizontalFlip(),\n",
    "    RandomCrop(size=(100, 100), padding=4),\n",
    "    ColorJitter(brightness=0.2, contrast=0.2, saturation=0.2, hue=0.1),\n",
    "])\n",
    "\n",
    "# Apply transformations to the image\n",
    "augmented_img = transforms_data_augmentation(img)\n",
    "\n",
    "# Display the original and augmented image\n",
    "fig, ax = plt.subplots(1, 2, figsize=(10, 5))\n",
    "ax[0].imshow(img)\n",
    "ax[0].set_title('Original Image')\n",
    "ax[1].imshow(augmented_img)\n",
    "ax[1].set_title('Augmented Image')\n",
    "plt.show()"
   ],
   "id": "79777d03-4d6d-43db-8c92-ae8e915eafbb"
  }
 ],
 "nbformat": 4,
 "nbformat_minor": 5,
 "metadata": {}
}

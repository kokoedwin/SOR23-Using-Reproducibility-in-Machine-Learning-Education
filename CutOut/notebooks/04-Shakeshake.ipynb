{
 "cells": [
  {
   "cell_type": "markdown",
   "metadata": {},
   "source": [
    "### ShakeShake"
   ],
   "id": "c5ac562e-b51d-4474-974a-51fe30d92af8"
  },
  {
   "cell_type": "markdown",
   "metadata": {},
   "source": [
    "Shake-shake regularization model implementation from https://github.com/xgastaldi/shake-shake\n",
    "\n",
    "Note: for faster training, use Runtime \\> Change Runtime Type to run this notebook on a GPU."
   ],
   "id": "9444e767-85dc-4ad0-8962-f170cec8ccd6"
  },
  {
   "cell_type": "markdown",
   "metadata": {},
   "source": [
    "::: {.cell .markdown}\n",
    "\n",
    "In the Cutout paper, the authors claim that:\n",
    "\n",
    "1.  Cutout improves the robustness and overall performance of convolutional neural networks.\n",
    "2.  Cutout can be used in conjunction with existing forms of data augmentation and other regularizers to further improve model performance.\n",
    "\n",
    "In this section, we will evaluate these claims using a WideResNet model. For the WideResNet model, the specific quantitative claims are given in the following table:"
   ],
   "id": "d7570a14-91b8-4ba2-b41f-d4c6f9ac3c91"
  }
 ],
 "nbformat": 4,
 "nbformat_minor": 5,
 "metadata": {}
}
